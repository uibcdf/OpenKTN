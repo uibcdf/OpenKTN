{
 "cells": [
  {
   "cell_type": "code",
   "execution_count": 1,
   "metadata": {},
   "outputs": [],
   "source": [
    "%load_ext autoreload\n",
    "%autoreload 2"
   ]
  },
  {
   "cell_type": "code",
   "execution_count": 2,
   "metadata": {},
   "outputs": [],
   "source": [
    "import openktn as okn\n",
    "from simtk.unit import kelvin, picoseconds"
   ]
  },
  {
   "cell_type": "markdown",
   "metadata": {},
   "source": [
    "# The Kinetic Transition Network"
   ]
  },
  {
   "cell_type": "code",
   "execution_count": 3,
   "metadata": {},
   "outputs": [],
   "source": [
    "series=['A','A','B','C','C','A','D','A','C','B','C','C','A','A','D']"
   ]
  },
  {
   "cell_type": "code",
   "execution_count": 12,
   "metadata": {},
   "outputs": [
    {
     "name": "stdout",
     "output_type": "stream",
     "text": [
      "A --> A\n",
      "A --> B\n",
      "B --> C\n",
      "C --> C\n",
      "C --> A\n",
      "A --> D\n",
      "D --> A\n",
      "A --> C\n",
      "C --> B\n",
      "B --> C\n",
      "C --> C\n",
      "C --> A\n",
      "A --> A\n",
      "A --> D\n"
     ]
    }
   ],
   "source": [
    "for current_state, next_state in zip(series[:-1],series[1:]):\n",
    "    print('{} --> {}'.format(current_state, next_state))"
   ]
  },
  {
   "cell_type": "code",
   "execution_count": 5,
   "metadata": {},
   "outputs": [],
   "source": [
    "net = okn.KTN()\n",
    "\n",
    "for current_state, next_state in zip(series[:-1],series[1:]):\n",
    "    okn.add_transition(net, origin=current_state, end=next_state, weight=1)"
   ]
  },
  {
   "cell_type": "code",
   "execution_count": 15,
   "metadata": {},
   "outputs": [
    {
     "data": {
      "text/html": [
       "<style  type=\"text/css\" >\n",
       "</style><table id=\"T_2a02eb38_2057_11eb_b2c8_3b2222338546\" ><thead>    <tr>        <th class=\"col_heading level0 col0\" >form</th>        <th class=\"col_heading level0 col1\" >n_microstates</th>        <th class=\"col_heading level0 col2\" >n_transitions</th>        <th class=\"col_heading level0 col3\" >weight</th>        <th class=\"col_heading level0 col4\" >symmetrized</th>        <th class=\"col_heading level0 col5\" >temperature</th>        <th class=\"col_heading level0 col6\" >time_step</th>    </tr></thead><tbody>\n",
       "                <tr>\n",
       "                                <td id=\"T_2a02eb38_2057_11eb_b2c8_3b2222338546row0_col0\" class=\"data row0 col0\" >pandas.KineticTransitionNetwork</td>\n",
       "                        <td id=\"T_2a02eb38_2057_11eb_b2c8_3b2222338546row0_col1\" class=\"data row0 col1\" >4</td>\n",
       "                        <td id=\"T_2a02eb38_2057_11eb_b2c8_3b2222338546row0_col2\" class=\"data row0 col2\" >9</td>\n",
       "                        <td id=\"T_2a02eb38_2057_11eb_b2c8_3b2222338546row0_col3\" class=\"data row0 col3\" >14</td>\n",
       "                        <td id=\"T_2a02eb38_2057_11eb_b2c8_3b2222338546row0_col4\" class=\"data row0 col4\" >False</td>\n",
       "                        <td id=\"T_2a02eb38_2057_11eb_b2c8_3b2222338546row0_col5\" class=\"data row0 col5\" >0.0 K</td>\n",
       "                        <td id=\"T_2a02eb38_2057_11eb_b2c8_3b2222338546row0_col6\" class=\"data row0 col6\" >0.0 ns</td>\n",
       "            </tr>\n",
       "    </tbody></table>"
      ],
      "text/plain": [
       "<pandas.io.formats.style.Styler at 0x7f6d9de4d950>"
      ]
     },
     "execution_count": 15,
     "metadata": {},
     "output_type": "execute_result"
    }
   ],
   "source": [
    "okn.info(net)"
   ]
  },
  {
   "cell_type": "code",
   "execution_count": 16,
   "metadata": {},
   "outputs": [
    {
     "data": {
      "text/html": [
       "<style  type=\"text/css\" >\n",
       "</style><table id=\"T_3ab51730_2057_11eb_b2c8_3b2222338546\" ><thead>    <tr>        <th class=\"col_heading level0 col0\" >index</th>        <th class=\"col_heading level0 col1\" >name</th>        <th class=\"col_heading level0 col2\" >weight</th>        <th class=\"col_heading level0 col3\" >probability</th>        <th class=\"col_heading level0 col4\" >out_degree</th>        <th class=\"col_heading level0 col5\" >in_degree</th>    </tr></thead><tbody>\n",
       "                <tr>\n",
       "                                <td id=\"T_3ab51730_2057_11eb_b2c8_3b2222338546row0_col0\" class=\"data row0 col0\" >0</td>\n",
       "                        <td id=\"T_3ab51730_2057_11eb_b2c8_3b2222338546row0_col1\" class=\"data row0 col1\" >A</td>\n",
       "                        <td id=\"T_3ab51730_2057_11eb_b2c8_3b2222338546row0_col2\" class=\"data row0 col2\" >0.000000</td>\n",
       "                        <td id=\"T_3ab51730_2057_11eb_b2c8_3b2222338546row0_col3\" class=\"data row0 col3\" >0.000000</td>\n",
       "                        <td id=\"T_3ab51730_2057_11eb_b2c8_3b2222338546row0_col4\" class=\"data row0 col4\" >4</td>\n",
       "                        <td id=\"T_3ab51730_2057_11eb_b2c8_3b2222338546row0_col5\" class=\"data row0 col5\" >3</td>\n",
       "            </tr>\n",
       "            <tr>\n",
       "                                <td id=\"T_3ab51730_2057_11eb_b2c8_3b2222338546row1_col0\" class=\"data row1 col0\" >1</td>\n",
       "                        <td id=\"T_3ab51730_2057_11eb_b2c8_3b2222338546row1_col1\" class=\"data row1 col1\" >B</td>\n",
       "                        <td id=\"T_3ab51730_2057_11eb_b2c8_3b2222338546row1_col2\" class=\"data row1 col2\" >0.000000</td>\n",
       "                        <td id=\"T_3ab51730_2057_11eb_b2c8_3b2222338546row1_col3\" class=\"data row1 col3\" >0.000000</td>\n",
       "                        <td id=\"T_3ab51730_2057_11eb_b2c8_3b2222338546row1_col4\" class=\"data row1 col4\" >1</td>\n",
       "                        <td id=\"T_3ab51730_2057_11eb_b2c8_3b2222338546row1_col5\" class=\"data row1 col5\" >2</td>\n",
       "            </tr>\n",
       "            <tr>\n",
       "                                <td id=\"T_3ab51730_2057_11eb_b2c8_3b2222338546row2_col0\" class=\"data row2 col0\" >2</td>\n",
       "                        <td id=\"T_3ab51730_2057_11eb_b2c8_3b2222338546row2_col1\" class=\"data row2 col1\" >C</td>\n",
       "                        <td id=\"T_3ab51730_2057_11eb_b2c8_3b2222338546row2_col2\" class=\"data row2 col2\" >0.000000</td>\n",
       "                        <td id=\"T_3ab51730_2057_11eb_b2c8_3b2222338546row2_col3\" class=\"data row2 col3\" >0.000000</td>\n",
       "                        <td id=\"T_3ab51730_2057_11eb_b2c8_3b2222338546row2_col4\" class=\"data row2 col4\" >3</td>\n",
       "                        <td id=\"T_3ab51730_2057_11eb_b2c8_3b2222338546row2_col5\" class=\"data row2 col5\" >3</td>\n",
       "            </tr>\n",
       "            <tr>\n",
       "                                <td id=\"T_3ab51730_2057_11eb_b2c8_3b2222338546row3_col0\" class=\"data row3 col0\" >3</td>\n",
       "                        <td id=\"T_3ab51730_2057_11eb_b2c8_3b2222338546row3_col1\" class=\"data row3 col1\" >D</td>\n",
       "                        <td id=\"T_3ab51730_2057_11eb_b2c8_3b2222338546row3_col2\" class=\"data row3 col2\" >0.000000</td>\n",
       "                        <td id=\"T_3ab51730_2057_11eb_b2c8_3b2222338546row3_col3\" class=\"data row3 col3\" >0.000000</td>\n",
       "                        <td id=\"T_3ab51730_2057_11eb_b2c8_3b2222338546row3_col4\" class=\"data row3 col4\" >1</td>\n",
       "                        <td id=\"T_3ab51730_2057_11eb_b2c8_3b2222338546row3_col5\" class=\"data row3 col5\" >1</td>\n",
       "            </tr>\n",
       "    </tbody></table>"
      ],
      "text/plain": [
       "<pandas.io.formats.style.Styler at 0x7f6d9dabef90>"
      ]
     },
     "execution_count": 16,
     "metadata": {},
     "output_type": "execute_result"
    }
   ],
   "source": [
    "okn.info(net, target='microstate')"
   ]
  },
  {
   "cell_type": "code",
   "execution_count": 17,
   "metadata": {},
   "outputs": [
    {
     "data": {
      "text/html": [
       "<style  type=\"text/css\" >\n",
       "</style><table id=\"T_465d110a_2057_11eb_b2c8_3b2222338546\" ><thead>    <tr>        <th class=\"col_heading level0 col0\" >index</th>        <th class=\"col_heading level0 col1\" >origin</th>        <th class=\"col_heading level0 col2\" >end</th>        <th class=\"col_heading level0 col3\" >weight</th>        <th class=\"col_heading level0 col4\" >probability</th>        <th class=\"col_heading level0 col5\" >symmetrized</th>    </tr></thead><tbody>\n",
       "                <tr>\n",
       "                                <td id=\"T_465d110a_2057_11eb_b2c8_3b2222338546row0_col0\" class=\"data row0 col0\" >0</td>\n",
       "                        <td id=\"T_465d110a_2057_11eb_b2c8_3b2222338546row0_col1\" class=\"data row0 col1\" >A</td>\n",
       "                        <td id=\"T_465d110a_2057_11eb_b2c8_3b2222338546row0_col2\" class=\"data row0 col2\" >A</td>\n",
       "                        <td id=\"T_465d110a_2057_11eb_b2c8_3b2222338546row0_col3\" class=\"data row0 col3\" >2</td>\n",
       "                        <td id=\"T_465d110a_2057_11eb_b2c8_3b2222338546row0_col4\" class=\"data row0 col4\" >0.000000</td>\n",
       "                        <td id=\"T_465d110a_2057_11eb_b2c8_3b2222338546row0_col5\" class=\"data row0 col5\" >False</td>\n",
       "            </tr>\n",
       "            <tr>\n",
       "                                <td id=\"T_465d110a_2057_11eb_b2c8_3b2222338546row1_col0\" class=\"data row1 col0\" >1</td>\n",
       "                        <td id=\"T_465d110a_2057_11eb_b2c8_3b2222338546row1_col1\" class=\"data row1 col1\" >A</td>\n",
       "                        <td id=\"T_465d110a_2057_11eb_b2c8_3b2222338546row1_col2\" class=\"data row1 col2\" >B</td>\n",
       "                        <td id=\"T_465d110a_2057_11eb_b2c8_3b2222338546row1_col3\" class=\"data row1 col3\" >1</td>\n",
       "                        <td id=\"T_465d110a_2057_11eb_b2c8_3b2222338546row1_col4\" class=\"data row1 col4\" >0.000000</td>\n",
       "                        <td id=\"T_465d110a_2057_11eb_b2c8_3b2222338546row1_col5\" class=\"data row1 col5\" >False</td>\n",
       "            </tr>\n",
       "            <tr>\n",
       "                                <td id=\"T_465d110a_2057_11eb_b2c8_3b2222338546row2_col0\" class=\"data row2 col0\" >2</td>\n",
       "                        <td id=\"T_465d110a_2057_11eb_b2c8_3b2222338546row2_col1\" class=\"data row2 col1\" >B</td>\n",
       "                        <td id=\"T_465d110a_2057_11eb_b2c8_3b2222338546row2_col2\" class=\"data row2 col2\" >C</td>\n",
       "                        <td id=\"T_465d110a_2057_11eb_b2c8_3b2222338546row2_col3\" class=\"data row2 col3\" >2</td>\n",
       "                        <td id=\"T_465d110a_2057_11eb_b2c8_3b2222338546row2_col4\" class=\"data row2 col4\" >0.000000</td>\n",
       "                        <td id=\"T_465d110a_2057_11eb_b2c8_3b2222338546row2_col5\" class=\"data row2 col5\" >False</td>\n",
       "            </tr>\n",
       "            <tr>\n",
       "                                <td id=\"T_465d110a_2057_11eb_b2c8_3b2222338546row3_col0\" class=\"data row3 col0\" >3</td>\n",
       "                        <td id=\"T_465d110a_2057_11eb_b2c8_3b2222338546row3_col1\" class=\"data row3 col1\" >C</td>\n",
       "                        <td id=\"T_465d110a_2057_11eb_b2c8_3b2222338546row3_col2\" class=\"data row3 col2\" >C</td>\n",
       "                        <td id=\"T_465d110a_2057_11eb_b2c8_3b2222338546row3_col3\" class=\"data row3 col3\" >2</td>\n",
       "                        <td id=\"T_465d110a_2057_11eb_b2c8_3b2222338546row3_col4\" class=\"data row3 col4\" >0.000000</td>\n",
       "                        <td id=\"T_465d110a_2057_11eb_b2c8_3b2222338546row3_col5\" class=\"data row3 col5\" >False</td>\n",
       "            </tr>\n",
       "            <tr>\n",
       "                                <td id=\"T_465d110a_2057_11eb_b2c8_3b2222338546row4_col0\" class=\"data row4 col0\" >4</td>\n",
       "                        <td id=\"T_465d110a_2057_11eb_b2c8_3b2222338546row4_col1\" class=\"data row4 col1\" >C</td>\n",
       "                        <td id=\"T_465d110a_2057_11eb_b2c8_3b2222338546row4_col2\" class=\"data row4 col2\" >A</td>\n",
       "                        <td id=\"T_465d110a_2057_11eb_b2c8_3b2222338546row4_col3\" class=\"data row4 col3\" >2</td>\n",
       "                        <td id=\"T_465d110a_2057_11eb_b2c8_3b2222338546row4_col4\" class=\"data row4 col4\" >0.000000</td>\n",
       "                        <td id=\"T_465d110a_2057_11eb_b2c8_3b2222338546row4_col5\" class=\"data row4 col5\" >False</td>\n",
       "            </tr>\n",
       "            <tr>\n",
       "                                <td id=\"T_465d110a_2057_11eb_b2c8_3b2222338546row5_col0\" class=\"data row5 col0\" >5</td>\n",
       "                        <td id=\"T_465d110a_2057_11eb_b2c8_3b2222338546row5_col1\" class=\"data row5 col1\" >A</td>\n",
       "                        <td id=\"T_465d110a_2057_11eb_b2c8_3b2222338546row5_col2\" class=\"data row5 col2\" >D</td>\n",
       "                        <td id=\"T_465d110a_2057_11eb_b2c8_3b2222338546row5_col3\" class=\"data row5 col3\" >2</td>\n",
       "                        <td id=\"T_465d110a_2057_11eb_b2c8_3b2222338546row5_col4\" class=\"data row5 col4\" >0.000000</td>\n",
       "                        <td id=\"T_465d110a_2057_11eb_b2c8_3b2222338546row5_col5\" class=\"data row5 col5\" >False</td>\n",
       "            </tr>\n",
       "            <tr>\n",
       "                                <td id=\"T_465d110a_2057_11eb_b2c8_3b2222338546row6_col0\" class=\"data row6 col0\" >6</td>\n",
       "                        <td id=\"T_465d110a_2057_11eb_b2c8_3b2222338546row6_col1\" class=\"data row6 col1\" >D</td>\n",
       "                        <td id=\"T_465d110a_2057_11eb_b2c8_3b2222338546row6_col2\" class=\"data row6 col2\" >A</td>\n",
       "                        <td id=\"T_465d110a_2057_11eb_b2c8_3b2222338546row6_col3\" class=\"data row6 col3\" >1</td>\n",
       "                        <td id=\"T_465d110a_2057_11eb_b2c8_3b2222338546row6_col4\" class=\"data row6 col4\" >0.000000</td>\n",
       "                        <td id=\"T_465d110a_2057_11eb_b2c8_3b2222338546row6_col5\" class=\"data row6 col5\" >False</td>\n",
       "            </tr>\n",
       "            <tr>\n",
       "                                <td id=\"T_465d110a_2057_11eb_b2c8_3b2222338546row7_col0\" class=\"data row7 col0\" >7</td>\n",
       "                        <td id=\"T_465d110a_2057_11eb_b2c8_3b2222338546row7_col1\" class=\"data row7 col1\" >A</td>\n",
       "                        <td id=\"T_465d110a_2057_11eb_b2c8_3b2222338546row7_col2\" class=\"data row7 col2\" >C</td>\n",
       "                        <td id=\"T_465d110a_2057_11eb_b2c8_3b2222338546row7_col3\" class=\"data row7 col3\" >1</td>\n",
       "                        <td id=\"T_465d110a_2057_11eb_b2c8_3b2222338546row7_col4\" class=\"data row7 col4\" >0.000000</td>\n",
       "                        <td id=\"T_465d110a_2057_11eb_b2c8_3b2222338546row7_col5\" class=\"data row7 col5\" >False</td>\n",
       "            </tr>\n",
       "            <tr>\n",
       "                                <td id=\"T_465d110a_2057_11eb_b2c8_3b2222338546row8_col0\" class=\"data row8 col0\" >8</td>\n",
       "                        <td id=\"T_465d110a_2057_11eb_b2c8_3b2222338546row8_col1\" class=\"data row8 col1\" >C</td>\n",
       "                        <td id=\"T_465d110a_2057_11eb_b2c8_3b2222338546row8_col2\" class=\"data row8 col2\" >B</td>\n",
       "                        <td id=\"T_465d110a_2057_11eb_b2c8_3b2222338546row8_col3\" class=\"data row8 col3\" >1</td>\n",
       "                        <td id=\"T_465d110a_2057_11eb_b2c8_3b2222338546row8_col4\" class=\"data row8 col4\" >0.000000</td>\n",
       "                        <td id=\"T_465d110a_2057_11eb_b2c8_3b2222338546row8_col5\" class=\"data row8 col5\" >False</td>\n",
       "            </tr>\n",
       "    </tbody></table>"
      ],
      "text/plain": [
       "<pandas.io.formats.style.Styler at 0x7f6d9d73b950>"
      ]
     },
     "execution_count": 17,
     "metadata": {},
     "output_type": "execute_result"
    }
   ],
   "source": [
    "okn.info(net, target='transition')"
   ]
  },
  {
   "cell_type": "code",
   "execution_count": 19,
   "metadata": {},
   "outputs": [],
   "source": [
    "okn.update_microstates_weights(net)\n",
    "okn.update_probabilities(net)"
   ]
  },
  {
   "cell_type": "code",
   "execution_count": 20,
   "metadata": {},
   "outputs": [
    {
     "data": {
      "text/html": [
       "<style  type=\"text/css\" >\n",
       "</style><table id=\"T_aa61b46c_2057_11eb_b2c8_3b2222338546\" ><thead>    <tr>        <th class=\"col_heading level0 col0\" >index</th>        <th class=\"col_heading level0 col1\" >name</th>        <th class=\"col_heading level0 col2\" >weight</th>        <th class=\"col_heading level0 col3\" >probability</th>        <th class=\"col_heading level0 col4\" >out_degree</th>        <th class=\"col_heading level0 col5\" >in_degree</th>    </tr></thead><tbody>\n",
       "                <tr>\n",
       "                                <td id=\"T_aa61b46c_2057_11eb_b2c8_3b2222338546row0_col0\" class=\"data row0 col0\" >0</td>\n",
       "                        <td id=\"T_aa61b46c_2057_11eb_b2c8_3b2222338546row0_col1\" class=\"data row0 col1\" >A</td>\n",
       "                        <td id=\"T_aa61b46c_2057_11eb_b2c8_3b2222338546row0_col2\" class=\"data row0 col2\" >6</td>\n",
       "                        <td id=\"T_aa61b46c_2057_11eb_b2c8_3b2222338546row0_col3\" class=\"data row0 col3\" >0.428571</td>\n",
       "                        <td id=\"T_aa61b46c_2057_11eb_b2c8_3b2222338546row0_col4\" class=\"data row0 col4\" >4</td>\n",
       "                        <td id=\"T_aa61b46c_2057_11eb_b2c8_3b2222338546row0_col5\" class=\"data row0 col5\" >3</td>\n",
       "            </tr>\n",
       "            <tr>\n",
       "                                <td id=\"T_aa61b46c_2057_11eb_b2c8_3b2222338546row1_col0\" class=\"data row1 col0\" >1</td>\n",
       "                        <td id=\"T_aa61b46c_2057_11eb_b2c8_3b2222338546row1_col1\" class=\"data row1 col1\" >B</td>\n",
       "                        <td id=\"T_aa61b46c_2057_11eb_b2c8_3b2222338546row1_col2\" class=\"data row1 col2\" >2</td>\n",
       "                        <td id=\"T_aa61b46c_2057_11eb_b2c8_3b2222338546row1_col3\" class=\"data row1 col3\" >0.142857</td>\n",
       "                        <td id=\"T_aa61b46c_2057_11eb_b2c8_3b2222338546row1_col4\" class=\"data row1 col4\" >1</td>\n",
       "                        <td id=\"T_aa61b46c_2057_11eb_b2c8_3b2222338546row1_col5\" class=\"data row1 col5\" >2</td>\n",
       "            </tr>\n",
       "            <tr>\n",
       "                                <td id=\"T_aa61b46c_2057_11eb_b2c8_3b2222338546row2_col0\" class=\"data row2 col0\" >2</td>\n",
       "                        <td id=\"T_aa61b46c_2057_11eb_b2c8_3b2222338546row2_col1\" class=\"data row2 col1\" >C</td>\n",
       "                        <td id=\"T_aa61b46c_2057_11eb_b2c8_3b2222338546row2_col2\" class=\"data row2 col2\" >5</td>\n",
       "                        <td id=\"T_aa61b46c_2057_11eb_b2c8_3b2222338546row2_col3\" class=\"data row2 col3\" >0.357143</td>\n",
       "                        <td id=\"T_aa61b46c_2057_11eb_b2c8_3b2222338546row2_col4\" class=\"data row2 col4\" >3</td>\n",
       "                        <td id=\"T_aa61b46c_2057_11eb_b2c8_3b2222338546row2_col5\" class=\"data row2 col5\" >3</td>\n",
       "            </tr>\n",
       "            <tr>\n",
       "                                <td id=\"T_aa61b46c_2057_11eb_b2c8_3b2222338546row3_col0\" class=\"data row3 col0\" >3</td>\n",
       "                        <td id=\"T_aa61b46c_2057_11eb_b2c8_3b2222338546row3_col1\" class=\"data row3 col1\" >D</td>\n",
       "                        <td id=\"T_aa61b46c_2057_11eb_b2c8_3b2222338546row3_col2\" class=\"data row3 col2\" >1</td>\n",
       "                        <td id=\"T_aa61b46c_2057_11eb_b2c8_3b2222338546row3_col3\" class=\"data row3 col3\" >0.071429</td>\n",
       "                        <td id=\"T_aa61b46c_2057_11eb_b2c8_3b2222338546row3_col4\" class=\"data row3 col4\" >1</td>\n",
       "                        <td id=\"T_aa61b46c_2057_11eb_b2c8_3b2222338546row3_col5\" class=\"data row3 col5\" >1</td>\n",
       "            </tr>\n",
       "    </tbody></table>"
      ],
      "text/plain": [
       "<pandas.io.formats.style.Styler at 0x7f6d9c9181d0>"
      ]
     },
     "execution_count": 20,
     "metadata": {},
     "output_type": "execute_result"
    }
   ],
   "source": [
    "okn.info(net, target='microstate')"
   ]
  },
  {
   "cell_type": "code",
   "execution_count": 21,
   "metadata": {},
   "outputs": [
    {
     "data": {
      "text/html": [
       "<style  type=\"text/css\" >\n",
       "</style><table id=\"T_b0e8d4fa_2057_11eb_b2c8_3b2222338546\" ><thead>    <tr>        <th class=\"col_heading level0 col0\" >index</th>        <th class=\"col_heading level0 col1\" >origin</th>        <th class=\"col_heading level0 col2\" >end</th>        <th class=\"col_heading level0 col3\" >weight</th>        <th class=\"col_heading level0 col4\" >probability</th>        <th class=\"col_heading level0 col5\" >symmetrized</th>    </tr></thead><tbody>\n",
       "                <tr>\n",
       "                                <td id=\"T_b0e8d4fa_2057_11eb_b2c8_3b2222338546row0_col0\" class=\"data row0 col0\" >0</td>\n",
       "                        <td id=\"T_b0e8d4fa_2057_11eb_b2c8_3b2222338546row0_col1\" class=\"data row0 col1\" >A</td>\n",
       "                        <td id=\"T_b0e8d4fa_2057_11eb_b2c8_3b2222338546row0_col2\" class=\"data row0 col2\" >A</td>\n",
       "                        <td id=\"T_b0e8d4fa_2057_11eb_b2c8_3b2222338546row0_col3\" class=\"data row0 col3\" >2</td>\n",
       "                        <td id=\"T_b0e8d4fa_2057_11eb_b2c8_3b2222338546row0_col4\" class=\"data row0 col4\" >0.333333</td>\n",
       "                        <td id=\"T_b0e8d4fa_2057_11eb_b2c8_3b2222338546row0_col5\" class=\"data row0 col5\" >False</td>\n",
       "            </tr>\n",
       "            <tr>\n",
       "                                <td id=\"T_b0e8d4fa_2057_11eb_b2c8_3b2222338546row1_col0\" class=\"data row1 col0\" >1</td>\n",
       "                        <td id=\"T_b0e8d4fa_2057_11eb_b2c8_3b2222338546row1_col1\" class=\"data row1 col1\" >A</td>\n",
       "                        <td id=\"T_b0e8d4fa_2057_11eb_b2c8_3b2222338546row1_col2\" class=\"data row1 col2\" >B</td>\n",
       "                        <td id=\"T_b0e8d4fa_2057_11eb_b2c8_3b2222338546row1_col3\" class=\"data row1 col3\" >1</td>\n",
       "                        <td id=\"T_b0e8d4fa_2057_11eb_b2c8_3b2222338546row1_col4\" class=\"data row1 col4\" >0.166667</td>\n",
       "                        <td id=\"T_b0e8d4fa_2057_11eb_b2c8_3b2222338546row1_col5\" class=\"data row1 col5\" >False</td>\n",
       "            </tr>\n",
       "            <tr>\n",
       "                                <td id=\"T_b0e8d4fa_2057_11eb_b2c8_3b2222338546row2_col0\" class=\"data row2 col0\" >2</td>\n",
       "                        <td id=\"T_b0e8d4fa_2057_11eb_b2c8_3b2222338546row2_col1\" class=\"data row2 col1\" >B</td>\n",
       "                        <td id=\"T_b0e8d4fa_2057_11eb_b2c8_3b2222338546row2_col2\" class=\"data row2 col2\" >C</td>\n",
       "                        <td id=\"T_b0e8d4fa_2057_11eb_b2c8_3b2222338546row2_col3\" class=\"data row2 col3\" >2</td>\n",
       "                        <td id=\"T_b0e8d4fa_2057_11eb_b2c8_3b2222338546row2_col4\" class=\"data row2 col4\" >1.000000</td>\n",
       "                        <td id=\"T_b0e8d4fa_2057_11eb_b2c8_3b2222338546row2_col5\" class=\"data row2 col5\" >False</td>\n",
       "            </tr>\n",
       "            <tr>\n",
       "                                <td id=\"T_b0e8d4fa_2057_11eb_b2c8_3b2222338546row3_col0\" class=\"data row3 col0\" >3</td>\n",
       "                        <td id=\"T_b0e8d4fa_2057_11eb_b2c8_3b2222338546row3_col1\" class=\"data row3 col1\" >C</td>\n",
       "                        <td id=\"T_b0e8d4fa_2057_11eb_b2c8_3b2222338546row3_col2\" class=\"data row3 col2\" >C</td>\n",
       "                        <td id=\"T_b0e8d4fa_2057_11eb_b2c8_3b2222338546row3_col3\" class=\"data row3 col3\" >2</td>\n",
       "                        <td id=\"T_b0e8d4fa_2057_11eb_b2c8_3b2222338546row3_col4\" class=\"data row3 col4\" >0.400000</td>\n",
       "                        <td id=\"T_b0e8d4fa_2057_11eb_b2c8_3b2222338546row3_col5\" class=\"data row3 col5\" >False</td>\n",
       "            </tr>\n",
       "            <tr>\n",
       "                                <td id=\"T_b0e8d4fa_2057_11eb_b2c8_3b2222338546row4_col0\" class=\"data row4 col0\" >4</td>\n",
       "                        <td id=\"T_b0e8d4fa_2057_11eb_b2c8_3b2222338546row4_col1\" class=\"data row4 col1\" >C</td>\n",
       "                        <td id=\"T_b0e8d4fa_2057_11eb_b2c8_3b2222338546row4_col2\" class=\"data row4 col2\" >A</td>\n",
       "                        <td id=\"T_b0e8d4fa_2057_11eb_b2c8_3b2222338546row4_col3\" class=\"data row4 col3\" >2</td>\n",
       "                        <td id=\"T_b0e8d4fa_2057_11eb_b2c8_3b2222338546row4_col4\" class=\"data row4 col4\" >0.400000</td>\n",
       "                        <td id=\"T_b0e8d4fa_2057_11eb_b2c8_3b2222338546row4_col5\" class=\"data row4 col5\" >False</td>\n",
       "            </tr>\n",
       "            <tr>\n",
       "                                <td id=\"T_b0e8d4fa_2057_11eb_b2c8_3b2222338546row5_col0\" class=\"data row5 col0\" >5</td>\n",
       "                        <td id=\"T_b0e8d4fa_2057_11eb_b2c8_3b2222338546row5_col1\" class=\"data row5 col1\" >A</td>\n",
       "                        <td id=\"T_b0e8d4fa_2057_11eb_b2c8_3b2222338546row5_col2\" class=\"data row5 col2\" >D</td>\n",
       "                        <td id=\"T_b0e8d4fa_2057_11eb_b2c8_3b2222338546row5_col3\" class=\"data row5 col3\" >2</td>\n",
       "                        <td id=\"T_b0e8d4fa_2057_11eb_b2c8_3b2222338546row5_col4\" class=\"data row5 col4\" >0.333333</td>\n",
       "                        <td id=\"T_b0e8d4fa_2057_11eb_b2c8_3b2222338546row5_col5\" class=\"data row5 col5\" >False</td>\n",
       "            </tr>\n",
       "            <tr>\n",
       "                                <td id=\"T_b0e8d4fa_2057_11eb_b2c8_3b2222338546row6_col0\" class=\"data row6 col0\" >6</td>\n",
       "                        <td id=\"T_b0e8d4fa_2057_11eb_b2c8_3b2222338546row6_col1\" class=\"data row6 col1\" >D</td>\n",
       "                        <td id=\"T_b0e8d4fa_2057_11eb_b2c8_3b2222338546row6_col2\" class=\"data row6 col2\" >A</td>\n",
       "                        <td id=\"T_b0e8d4fa_2057_11eb_b2c8_3b2222338546row6_col3\" class=\"data row6 col3\" >1</td>\n",
       "                        <td id=\"T_b0e8d4fa_2057_11eb_b2c8_3b2222338546row6_col4\" class=\"data row6 col4\" >1.000000</td>\n",
       "                        <td id=\"T_b0e8d4fa_2057_11eb_b2c8_3b2222338546row6_col5\" class=\"data row6 col5\" >False</td>\n",
       "            </tr>\n",
       "            <tr>\n",
       "                                <td id=\"T_b0e8d4fa_2057_11eb_b2c8_3b2222338546row7_col0\" class=\"data row7 col0\" >7</td>\n",
       "                        <td id=\"T_b0e8d4fa_2057_11eb_b2c8_3b2222338546row7_col1\" class=\"data row7 col1\" >A</td>\n",
       "                        <td id=\"T_b0e8d4fa_2057_11eb_b2c8_3b2222338546row7_col2\" class=\"data row7 col2\" >C</td>\n",
       "                        <td id=\"T_b0e8d4fa_2057_11eb_b2c8_3b2222338546row7_col3\" class=\"data row7 col3\" >1</td>\n",
       "                        <td id=\"T_b0e8d4fa_2057_11eb_b2c8_3b2222338546row7_col4\" class=\"data row7 col4\" >0.166667</td>\n",
       "                        <td id=\"T_b0e8d4fa_2057_11eb_b2c8_3b2222338546row7_col5\" class=\"data row7 col5\" >False</td>\n",
       "            </tr>\n",
       "            <tr>\n",
       "                                <td id=\"T_b0e8d4fa_2057_11eb_b2c8_3b2222338546row8_col0\" class=\"data row8 col0\" >8</td>\n",
       "                        <td id=\"T_b0e8d4fa_2057_11eb_b2c8_3b2222338546row8_col1\" class=\"data row8 col1\" >C</td>\n",
       "                        <td id=\"T_b0e8d4fa_2057_11eb_b2c8_3b2222338546row8_col2\" class=\"data row8 col2\" >B</td>\n",
       "                        <td id=\"T_b0e8d4fa_2057_11eb_b2c8_3b2222338546row8_col3\" class=\"data row8 col3\" >1</td>\n",
       "                        <td id=\"T_b0e8d4fa_2057_11eb_b2c8_3b2222338546row8_col4\" class=\"data row8 col4\" >0.200000</td>\n",
       "                        <td id=\"T_b0e8d4fa_2057_11eb_b2c8_3b2222338546row8_col5\" class=\"data row8 col5\" >False</td>\n",
       "            </tr>\n",
       "    </tbody></table>"
      ],
      "text/plain": [
       "<pandas.io.formats.style.Styler at 0x7f6d9c888b50>"
      ]
     },
     "execution_count": 21,
     "metadata": {},
     "output_type": "execute_result"
    }
   ],
   "source": [
    "okn.info(net, target='transition')"
   ]
  },
  {
   "cell_type": "code",
   "execution_count": 22,
   "metadata": {},
   "outputs": [],
   "source": [
    "okn.symmetrize(net)"
   ]
  },
  {
   "cell_type": "code",
   "execution_count": 23,
   "metadata": {},
   "outputs": [
    {
     "data": {
      "text/html": [
       "<style  type=\"text/css\" >\n",
       "</style><table id=\"T_ec892e24_2057_11eb_b2c8_3b2222338546\" ><thead>    <tr>        <th class=\"col_heading level0 col0\" >form</th>        <th class=\"col_heading level0 col1\" >n_microstates</th>        <th class=\"col_heading level0 col2\" >n_transitions</th>        <th class=\"col_heading level0 col3\" >weight</th>        <th class=\"col_heading level0 col4\" >symmetrized</th>        <th class=\"col_heading level0 col5\" >temperature</th>        <th class=\"col_heading level0 col6\" >time_step</th>    </tr></thead><tbody>\n",
       "                <tr>\n",
       "                                <td id=\"T_ec892e24_2057_11eb_b2c8_3b2222338546row0_col0\" class=\"data row0 col0\" >pandas.KineticTransitionNetwork</td>\n",
       "                        <td id=\"T_ec892e24_2057_11eb_b2c8_3b2222338546row0_col1\" class=\"data row0 col1\" >4</td>\n",
       "                        <td id=\"T_ec892e24_2057_11eb_b2c8_3b2222338546row0_col2\" class=\"data row0 col2\" >11</td>\n",
       "                        <td id=\"T_ec892e24_2057_11eb_b2c8_3b2222338546row0_col3\" class=\"data row0 col3\" >14.000000</td>\n",
       "                        <td id=\"T_ec892e24_2057_11eb_b2c8_3b2222338546row0_col4\" class=\"data row0 col4\" >True</td>\n",
       "                        <td id=\"T_ec892e24_2057_11eb_b2c8_3b2222338546row0_col5\" class=\"data row0 col5\" >0.0 K</td>\n",
       "                        <td id=\"T_ec892e24_2057_11eb_b2c8_3b2222338546row0_col6\" class=\"data row0 col6\" >0.0 ns</td>\n",
       "            </tr>\n",
       "    </tbody></table>"
      ],
      "text/plain": [
       "<pandas.io.formats.style.Styler at 0x7f6d9db35ad0>"
      ]
     },
     "execution_count": 23,
     "metadata": {},
     "output_type": "execute_result"
    }
   ],
   "source": [
    "okn.info(net, target='network')"
   ]
  },
  {
   "cell_type": "code",
   "execution_count": 24,
   "metadata": {},
   "outputs": [
    {
     "data": {
      "text/html": [
       "<style  type=\"text/css\" >\n",
       "</style><table id=\"T_f53ebe8a_2057_11eb_b2c8_3b2222338546\" ><thead>    <tr>        <th class=\"col_heading level0 col0\" >index</th>        <th class=\"col_heading level0 col1\" >name</th>        <th class=\"col_heading level0 col2\" >weight</th>        <th class=\"col_heading level0 col3\" >probability</th>        <th class=\"col_heading level0 col4\" >degree</th>    </tr></thead><tbody>\n",
       "                <tr>\n",
       "                                <td id=\"T_f53ebe8a_2057_11eb_b2c8_3b2222338546row0_col0\" class=\"data row0 col0\" >0</td>\n",
       "                        <td id=\"T_f53ebe8a_2057_11eb_b2c8_3b2222338546row0_col1\" class=\"data row0 col1\" >A</td>\n",
       "                        <td id=\"T_f53ebe8a_2057_11eb_b2c8_3b2222338546row0_col2\" class=\"data row0 col2\" >5.500000</td>\n",
       "                        <td id=\"T_f53ebe8a_2057_11eb_b2c8_3b2222338546row0_col3\" class=\"data row0 col3\" >0.392857</td>\n",
       "                        <td id=\"T_f53ebe8a_2057_11eb_b2c8_3b2222338546row0_col4\" class=\"data row0 col4\" >5</td>\n",
       "            </tr>\n",
       "            <tr>\n",
       "                                <td id=\"T_f53ebe8a_2057_11eb_b2c8_3b2222338546row1_col0\" class=\"data row1 col0\" >1</td>\n",
       "                        <td id=\"T_f53ebe8a_2057_11eb_b2c8_3b2222338546row1_col1\" class=\"data row1 col1\" >B</td>\n",
       "                        <td id=\"T_f53ebe8a_2057_11eb_b2c8_3b2222338546row1_col2\" class=\"data row1 col2\" >2.000000</td>\n",
       "                        <td id=\"T_f53ebe8a_2057_11eb_b2c8_3b2222338546row1_col3\" class=\"data row1 col3\" >0.142857</td>\n",
       "                        <td id=\"T_f53ebe8a_2057_11eb_b2c8_3b2222338546row1_col4\" class=\"data row1 col4\" >2</td>\n",
       "            </tr>\n",
       "            <tr>\n",
       "                                <td id=\"T_f53ebe8a_2057_11eb_b2c8_3b2222338546row2_col0\" class=\"data row2 col0\" >2</td>\n",
       "                        <td id=\"T_f53ebe8a_2057_11eb_b2c8_3b2222338546row2_col1\" class=\"data row2 col1\" >C</td>\n",
       "                        <td id=\"T_f53ebe8a_2057_11eb_b2c8_3b2222338546row2_col2\" class=\"data row2 col2\" >5.000000</td>\n",
       "                        <td id=\"T_f53ebe8a_2057_11eb_b2c8_3b2222338546row2_col3\" class=\"data row2 col3\" >0.357143</td>\n",
       "                        <td id=\"T_f53ebe8a_2057_11eb_b2c8_3b2222338546row2_col4\" class=\"data row2 col4\" >3</td>\n",
       "            </tr>\n",
       "            <tr>\n",
       "                                <td id=\"T_f53ebe8a_2057_11eb_b2c8_3b2222338546row3_col0\" class=\"data row3 col0\" >3</td>\n",
       "                        <td id=\"T_f53ebe8a_2057_11eb_b2c8_3b2222338546row3_col1\" class=\"data row3 col1\" >D</td>\n",
       "                        <td id=\"T_f53ebe8a_2057_11eb_b2c8_3b2222338546row3_col2\" class=\"data row3 col2\" >1.500000</td>\n",
       "                        <td id=\"T_f53ebe8a_2057_11eb_b2c8_3b2222338546row3_col3\" class=\"data row3 col3\" >0.107143</td>\n",
       "                        <td id=\"T_f53ebe8a_2057_11eb_b2c8_3b2222338546row3_col4\" class=\"data row3 col4\" >1</td>\n",
       "            </tr>\n",
       "    </tbody></table>"
      ],
      "text/plain": [
       "<pandas.io.formats.style.Styler at 0x7f6d9c967a90>"
      ]
     },
     "execution_count": 24,
     "metadata": {},
     "output_type": "execute_result"
    }
   ],
   "source": [
    "okn.info(net, target='microstate')"
   ]
  },
  {
   "cell_type": "code",
   "execution_count": 25,
   "metadata": {},
   "outputs": [
    {
     "data": {
      "text/html": [
       "<style  type=\"text/css\" >\n",
       "</style><table id=\"T_0bf88bd8_2058_11eb_b2c8_3b2222338546\" ><thead>    <tr>        <th class=\"col_heading level0 col0\" >index</th>        <th class=\"col_heading level0 col1\" >origin</th>        <th class=\"col_heading level0 col2\" >end</th>        <th class=\"col_heading level0 col3\" >weight</th>        <th class=\"col_heading level0 col4\" >probability</th>        <th class=\"col_heading level0 col5\" >symmetrized</th>    </tr></thead><tbody>\n",
       "                <tr>\n",
       "                                <td id=\"T_0bf88bd8_2058_11eb_b2c8_3b2222338546row0_col0\" class=\"data row0 col0\" >0</td>\n",
       "                        <td id=\"T_0bf88bd8_2058_11eb_b2c8_3b2222338546row0_col1\" class=\"data row0 col1\" >A</td>\n",
       "                        <td id=\"T_0bf88bd8_2058_11eb_b2c8_3b2222338546row0_col2\" class=\"data row0 col2\" >A</td>\n",
       "                        <td id=\"T_0bf88bd8_2058_11eb_b2c8_3b2222338546row0_col3\" class=\"data row0 col3\" >1.000000</td>\n",
       "                        <td id=\"T_0bf88bd8_2058_11eb_b2c8_3b2222338546row0_col4\" class=\"data row0 col4\" >0.181818</td>\n",
       "                        <td id=\"T_0bf88bd8_2058_11eb_b2c8_3b2222338546row0_col5\" class=\"data row0 col5\" >True</td>\n",
       "            </tr>\n",
       "            <tr>\n",
       "                                <td id=\"T_0bf88bd8_2058_11eb_b2c8_3b2222338546row1_col0\" class=\"data row1 col0\" >1</td>\n",
       "                        <td id=\"T_0bf88bd8_2058_11eb_b2c8_3b2222338546row1_col1\" class=\"data row1 col1\" >A</td>\n",
       "                        <td id=\"T_0bf88bd8_2058_11eb_b2c8_3b2222338546row1_col2\" class=\"data row1 col2\" >B</td>\n",
       "                        <td id=\"T_0bf88bd8_2058_11eb_b2c8_3b2222338546row1_col3\" class=\"data row1 col3\" >0.500000</td>\n",
       "                        <td id=\"T_0bf88bd8_2058_11eb_b2c8_3b2222338546row1_col4\" class=\"data row1 col4\" >0.090909</td>\n",
       "                        <td id=\"T_0bf88bd8_2058_11eb_b2c8_3b2222338546row1_col5\" class=\"data row1 col5\" >True</td>\n",
       "            </tr>\n",
       "            <tr>\n",
       "                                <td id=\"T_0bf88bd8_2058_11eb_b2c8_3b2222338546row2_col0\" class=\"data row2 col0\" >2</td>\n",
       "                        <td id=\"T_0bf88bd8_2058_11eb_b2c8_3b2222338546row2_col1\" class=\"data row2 col1\" >B</td>\n",
       "                        <td id=\"T_0bf88bd8_2058_11eb_b2c8_3b2222338546row2_col2\" class=\"data row2 col2\" >C</td>\n",
       "                        <td id=\"T_0bf88bd8_2058_11eb_b2c8_3b2222338546row2_col3\" class=\"data row2 col3\" >1.500000</td>\n",
       "                        <td id=\"T_0bf88bd8_2058_11eb_b2c8_3b2222338546row2_col4\" class=\"data row2 col4\" >0.750000</td>\n",
       "                        <td id=\"T_0bf88bd8_2058_11eb_b2c8_3b2222338546row2_col5\" class=\"data row2 col5\" >True</td>\n",
       "            </tr>\n",
       "            <tr>\n",
       "                                <td id=\"T_0bf88bd8_2058_11eb_b2c8_3b2222338546row3_col0\" class=\"data row3 col0\" >3</td>\n",
       "                        <td id=\"T_0bf88bd8_2058_11eb_b2c8_3b2222338546row3_col1\" class=\"data row3 col1\" >C</td>\n",
       "                        <td id=\"T_0bf88bd8_2058_11eb_b2c8_3b2222338546row3_col2\" class=\"data row3 col2\" >C</td>\n",
       "                        <td id=\"T_0bf88bd8_2058_11eb_b2c8_3b2222338546row3_col3\" class=\"data row3 col3\" >2.000000</td>\n",
       "                        <td id=\"T_0bf88bd8_2058_11eb_b2c8_3b2222338546row3_col4\" class=\"data row3 col4\" >0.400000</td>\n",
       "                        <td id=\"T_0bf88bd8_2058_11eb_b2c8_3b2222338546row3_col5\" class=\"data row3 col5\" >True</td>\n",
       "            </tr>\n",
       "            <tr>\n",
       "                                <td id=\"T_0bf88bd8_2058_11eb_b2c8_3b2222338546row4_col0\" class=\"data row4 col0\" >4</td>\n",
       "                        <td id=\"T_0bf88bd8_2058_11eb_b2c8_3b2222338546row4_col1\" class=\"data row4 col1\" >C</td>\n",
       "                        <td id=\"T_0bf88bd8_2058_11eb_b2c8_3b2222338546row4_col2\" class=\"data row4 col2\" >A</td>\n",
       "                        <td id=\"T_0bf88bd8_2058_11eb_b2c8_3b2222338546row4_col3\" class=\"data row4 col3\" >1.500000</td>\n",
       "                        <td id=\"T_0bf88bd8_2058_11eb_b2c8_3b2222338546row4_col4\" class=\"data row4 col4\" >0.300000</td>\n",
       "                        <td id=\"T_0bf88bd8_2058_11eb_b2c8_3b2222338546row4_col5\" class=\"data row4 col5\" >True</td>\n",
       "            </tr>\n",
       "            <tr>\n",
       "                                <td id=\"T_0bf88bd8_2058_11eb_b2c8_3b2222338546row5_col0\" class=\"data row5 col0\" >5</td>\n",
       "                        <td id=\"T_0bf88bd8_2058_11eb_b2c8_3b2222338546row5_col1\" class=\"data row5 col1\" >A</td>\n",
       "                        <td id=\"T_0bf88bd8_2058_11eb_b2c8_3b2222338546row5_col2\" class=\"data row5 col2\" >D</td>\n",
       "                        <td id=\"T_0bf88bd8_2058_11eb_b2c8_3b2222338546row5_col3\" class=\"data row5 col3\" >1.500000</td>\n",
       "                        <td id=\"T_0bf88bd8_2058_11eb_b2c8_3b2222338546row5_col4\" class=\"data row5 col4\" >0.272727</td>\n",
       "                        <td id=\"T_0bf88bd8_2058_11eb_b2c8_3b2222338546row5_col5\" class=\"data row5 col5\" >True</td>\n",
       "            </tr>\n",
       "            <tr>\n",
       "                                <td id=\"T_0bf88bd8_2058_11eb_b2c8_3b2222338546row6_col0\" class=\"data row6 col0\" >6</td>\n",
       "                        <td id=\"T_0bf88bd8_2058_11eb_b2c8_3b2222338546row6_col1\" class=\"data row6 col1\" >D</td>\n",
       "                        <td id=\"T_0bf88bd8_2058_11eb_b2c8_3b2222338546row6_col2\" class=\"data row6 col2\" >A</td>\n",
       "                        <td id=\"T_0bf88bd8_2058_11eb_b2c8_3b2222338546row6_col3\" class=\"data row6 col3\" >1.500000</td>\n",
       "                        <td id=\"T_0bf88bd8_2058_11eb_b2c8_3b2222338546row6_col4\" class=\"data row6 col4\" >1.000000</td>\n",
       "                        <td id=\"T_0bf88bd8_2058_11eb_b2c8_3b2222338546row6_col5\" class=\"data row6 col5\" >True</td>\n",
       "            </tr>\n",
       "            <tr>\n",
       "                                <td id=\"T_0bf88bd8_2058_11eb_b2c8_3b2222338546row7_col0\" class=\"data row7 col0\" >7</td>\n",
       "                        <td id=\"T_0bf88bd8_2058_11eb_b2c8_3b2222338546row7_col1\" class=\"data row7 col1\" >A</td>\n",
       "                        <td id=\"T_0bf88bd8_2058_11eb_b2c8_3b2222338546row7_col2\" class=\"data row7 col2\" >C</td>\n",
       "                        <td id=\"T_0bf88bd8_2058_11eb_b2c8_3b2222338546row7_col3\" class=\"data row7 col3\" >1.500000</td>\n",
       "                        <td id=\"T_0bf88bd8_2058_11eb_b2c8_3b2222338546row7_col4\" class=\"data row7 col4\" >0.272727</td>\n",
       "                        <td id=\"T_0bf88bd8_2058_11eb_b2c8_3b2222338546row7_col5\" class=\"data row7 col5\" >True</td>\n",
       "            </tr>\n",
       "            <tr>\n",
       "                                <td id=\"T_0bf88bd8_2058_11eb_b2c8_3b2222338546row8_col0\" class=\"data row8 col0\" >8</td>\n",
       "                        <td id=\"T_0bf88bd8_2058_11eb_b2c8_3b2222338546row8_col1\" class=\"data row8 col1\" >C</td>\n",
       "                        <td id=\"T_0bf88bd8_2058_11eb_b2c8_3b2222338546row8_col2\" class=\"data row8 col2\" >B</td>\n",
       "                        <td id=\"T_0bf88bd8_2058_11eb_b2c8_3b2222338546row8_col3\" class=\"data row8 col3\" >1.500000</td>\n",
       "                        <td id=\"T_0bf88bd8_2058_11eb_b2c8_3b2222338546row8_col4\" class=\"data row8 col4\" >0.300000</td>\n",
       "                        <td id=\"T_0bf88bd8_2058_11eb_b2c8_3b2222338546row8_col5\" class=\"data row8 col5\" >True</td>\n",
       "            </tr>\n",
       "            <tr>\n",
       "                                <td id=\"T_0bf88bd8_2058_11eb_b2c8_3b2222338546row9_col0\" class=\"data row9 col0\" >9</td>\n",
       "                        <td id=\"T_0bf88bd8_2058_11eb_b2c8_3b2222338546row9_col1\" class=\"data row9 col1\" >A</td>\n",
       "                        <td id=\"T_0bf88bd8_2058_11eb_b2c8_3b2222338546row9_col2\" class=\"data row9 col2\" >A</td>\n",
       "                        <td id=\"T_0bf88bd8_2058_11eb_b2c8_3b2222338546row9_col3\" class=\"data row9 col3\" >1.000000</td>\n",
       "                        <td id=\"T_0bf88bd8_2058_11eb_b2c8_3b2222338546row9_col4\" class=\"data row9 col4\" >0.181818</td>\n",
       "                        <td id=\"T_0bf88bd8_2058_11eb_b2c8_3b2222338546row9_col5\" class=\"data row9 col5\" >True</td>\n",
       "            </tr>\n",
       "            <tr>\n",
       "                                <td id=\"T_0bf88bd8_2058_11eb_b2c8_3b2222338546row10_col0\" class=\"data row10 col0\" >10</td>\n",
       "                        <td id=\"T_0bf88bd8_2058_11eb_b2c8_3b2222338546row10_col1\" class=\"data row10 col1\" >B</td>\n",
       "                        <td id=\"T_0bf88bd8_2058_11eb_b2c8_3b2222338546row10_col2\" class=\"data row10 col2\" >A</td>\n",
       "                        <td id=\"T_0bf88bd8_2058_11eb_b2c8_3b2222338546row10_col3\" class=\"data row10 col3\" >0.500000</td>\n",
       "                        <td id=\"T_0bf88bd8_2058_11eb_b2c8_3b2222338546row10_col4\" class=\"data row10 col4\" >0.250000</td>\n",
       "                        <td id=\"T_0bf88bd8_2058_11eb_b2c8_3b2222338546row10_col5\" class=\"data row10 col5\" >True</td>\n",
       "            </tr>\n",
       "    </tbody></table>"
      ],
      "text/plain": [
       "<pandas.io.formats.style.Styler at 0x7f6d9c967a50>"
      ]
     },
     "execution_count": 25,
     "metadata": {},
     "output_type": "execute_result"
    }
   ],
   "source": [
    "okn.info(net, target='transition')"
   ]
  },
  {
   "cell_type": "code",
   "execution_count": 26,
   "metadata": {},
   "outputs": [],
   "source": [
    "series1=['A','A','B','C','C','A','D','A','C','B','C','C','A','A','D']\n",
    "series2=['E','F','F','G','F','F','E','E','J','E','J','E','F','G','F']"
   ]
  },
  {
   "cell_type": "code",
   "execution_count": 27,
   "metadata": {},
   "outputs": [],
   "source": [
    "net = okn.series_to_ktn([series1, series2])"
   ]
  },
  {
   "cell_type": "code",
   "execution_count": 28,
   "metadata": {},
   "outputs": [
    {
     "data": {
      "text/html": [
       "<style  type=\"text/css\" >\n",
       "</style><table id=\"T_f34476d2_2058_11eb_b2c8_3b2222338546\" ><thead>    <tr>        <th class=\"col_heading level0 col0\" >form</th>        <th class=\"col_heading level0 col1\" >n_microstates</th>        <th class=\"col_heading level0 col2\" >n_transitions</th>        <th class=\"col_heading level0 col3\" >weight</th>        <th class=\"col_heading level0 col4\" >symmetrized</th>        <th class=\"col_heading level0 col5\" >temperature</th>        <th class=\"col_heading level0 col6\" >time_step</th>    </tr></thead><tbody>\n",
       "                <tr>\n",
       "                                <td id=\"T_f34476d2_2058_11eb_b2c8_3b2222338546row0_col0\" class=\"data row0 col0\" >pandas.KineticTransitionNetwork</td>\n",
       "                        <td id=\"T_f34476d2_2058_11eb_b2c8_3b2222338546row0_col1\" class=\"data row0 col1\" >8</td>\n",
       "                        <td id=\"T_f34476d2_2058_11eb_b2c8_3b2222338546row0_col2\" class=\"data row0 col2\" >17</td>\n",
       "                        <td id=\"T_f34476d2_2058_11eb_b2c8_3b2222338546row0_col3\" class=\"data row0 col3\" >28.000000</td>\n",
       "                        <td id=\"T_f34476d2_2058_11eb_b2c8_3b2222338546row0_col4\" class=\"data row0 col4\" >False</td>\n",
       "                        <td id=\"T_f34476d2_2058_11eb_b2c8_3b2222338546row0_col5\" class=\"data row0 col5\" >None</td>\n",
       "                        <td id=\"T_f34476d2_2058_11eb_b2c8_3b2222338546row0_col6\" class=\"data row0 col6\" >None</td>\n",
       "            </tr>\n",
       "    </tbody></table>"
      ],
      "text/plain": [
       "<pandas.io.formats.style.Styler at 0x7f6dc53adbd0>"
      ]
     },
     "execution_count": 28,
     "metadata": {},
     "output_type": "execute_result"
    }
   ],
   "source": [
    "okn.info(net)"
   ]
  },
  {
   "cell_type": "code",
   "execution_count": 29,
   "metadata": {},
   "outputs": [],
   "source": [
    "components = okn.components(net)"
   ]
  },
  {
   "cell_type": "code",
   "execution_count": 30,
   "metadata": {},
   "outputs": [
    {
     "data": {
      "text/plain": [
       "[{'A', 'B', 'C', 'D'}, {'E', 'F', 'G', 'J'}]"
      ]
     },
     "execution_count": 30,
     "metadata": {},
     "output_type": "execute_result"
    }
   ],
   "source": [
    "components"
   ]
  },
  {
   "cell_type": "code",
   "execution_count": 31,
   "metadata": {},
   "outputs": [
    {
     "data": {
      "text/html": [
       "<style  type=\"text/css\" >\n",
       "</style><table id=\"T_16d808d4_2059_11eb_b2c8_3b2222338546\" ><thead>    <tr>        <th class=\"col_heading level0 col0\" >form</th>        <th class=\"col_heading level0 col1\" >n_microstates</th>        <th class=\"col_heading level0 col2\" >n_transitions</th>        <th class=\"col_heading level0 col3\" >n_components</th>        <th class=\"col_heading level0 col4\" >weight</th>        <th class=\"col_heading level0 col5\" >symmetrized</th>        <th class=\"col_heading level0 col6\" >temperature</th>        <th class=\"col_heading level0 col7\" >time_step</th>    </tr></thead><tbody>\n",
       "                <tr>\n",
       "                                <td id=\"T_16d808d4_2059_11eb_b2c8_3b2222338546row0_col0\" class=\"data row0 col0\" >pandas.KineticTransitionNetwork</td>\n",
       "                        <td id=\"T_16d808d4_2059_11eb_b2c8_3b2222338546row0_col1\" class=\"data row0 col1\" >8</td>\n",
       "                        <td id=\"T_16d808d4_2059_11eb_b2c8_3b2222338546row0_col2\" class=\"data row0 col2\" >17</td>\n",
       "                        <td id=\"T_16d808d4_2059_11eb_b2c8_3b2222338546row0_col3\" class=\"data row0 col3\" >2</td>\n",
       "                        <td id=\"T_16d808d4_2059_11eb_b2c8_3b2222338546row0_col4\" class=\"data row0 col4\" >28.000000</td>\n",
       "                        <td id=\"T_16d808d4_2059_11eb_b2c8_3b2222338546row0_col5\" class=\"data row0 col5\" >False</td>\n",
       "                        <td id=\"T_16d808d4_2059_11eb_b2c8_3b2222338546row0_col6\" class=\"data row0 col6\" >None</td>\n",
       "                        <td id=\"T_16d808d4_2059_11eb_b2c8_3b2222338546row0_col7\" class=\"data row0 col7\" >None</td>\n",
       "            </tr>\n",
       "    </tbody></table>"
      ],
      "text/plain": [
       "<pandas.io.formats.style.Styler at 0x7f6d988277d0>"
      ]
     },
     "execution_count": 31,
     "metadata": {},
     "output_type": "execute_result"
    }
   ],
   "source": [
    "okn.info(net)"
   ]
  },
  {
   "cell_type": "code",
   "execution_count": 32,
   "metadata": {},
   "outputs": [
    {
     "data": {
      "text/html": [
       "<style  type=\"text/css\" >\n",
       "</style><table id=\"T_2816da4e_2059_11eb_b2c8_3b2222338546\" ><thead>    <tr>        <th class=\"col_heading level0 col0\" >index</th>        <th class=\"col_heading level0 col1\" >name</th>        <th class=\"col_heading level0 col2\" >weight</th>        <th class=\"col_heading level0 col3\" >probability</th>        <th class=\"col_heading level0 col4\" >out_degree</th>        <th class=\"col_heading level0 col5\" >in_degree</th>        <th class=\"col_heading level0 col6\" >component</th>    </tr></thead><tbody>\n",
       "                <tr>\n",
       "                                <td id=\"T_2816da4e_2059_11eb_b2c8_3b2222338546row0_col0\" class=\"data row0 col0\" >0</td>\n",
       "                        <td id=\"T_2816da4e_2059_11eb_b2c8_3b2222338546row0_col1\" class=\"data row0 col1\" >A</td>\n",
       "                        <td id=\"T_2816da4e_2059_11eb_b2c8_3b2222338546row0_col2\" class=\"data row0 col2\" >6.000000</td>\n",
       "                        <td id=\"T_2816da4e_2059_11eb_b2c8_3b2222338546row0_col3\" class=\"data row0 col3\" >0.214286</td>\n",
       "                        <td id=\"T_2816da4e_2059_11eb_b2c8_3b2222338546row0_col4\" class=\"data row0 col4\" >4</td>\n",
       "                        <td id=\"T_2816da4e_2059_11eb_b2c8_3b2222338546row0_col5\" class=\"data row0 col5\" >3</td>\n",
       "                        <td id=\"T_2816da4e_2059_11eb_b2c8_3b2222338546row0_col6\" class=\"data row0 col6\" >A</td>\n",
       "            </tr>\n",
       "            <tr>\n",
       "                                <td id=\"T_2816da4e_2059_11eb_b2c8_3b2222338546row1_col0\" class=\"data row1 col0\" >1</td>\n",
       "                        <td id=\"T_2816da4e_2059_11eb_b2c8_3b2222338546row1_col1\" class=\"data row1 col1\" >B</td>\n",
       "                        <td id=\"T_2816da4e_2059_11eb_b2c8_3b2222338546row1_col2\" class=\"data row1 col2\" >2.000000</td>\n",
       "                        <td id=\"T_2816da4e_2059_11eb_b2c8_3b2222338546row1_col3\" class=\"data row1 col3\" >0.071429</td>\n",
       "                        <td id=\"T_2816da4e_2059_11eb_b2c8_3b2222338546row1_col4\" class=\"data row1 col4\" >1</td>\n",
       "                        <td id=\"T_2816da4e_2059_11eb_b2c8_3b2222338546row1_col5\" class=\"data row1 col5\" >2</td>\n",
       "                        <td id=\"T_2816da4e_2059_11eb_b2c8_3b2222338546row1_col6\" class=\"data row1 col6\" >A</td>\n",
       "            </tr>\n",
       "            <tr>\n",
       "                                <td id=\"T_2816da4e_2059_11eb_b2c8_3b2222338546row2_col0\" class=\"data row2 col0\" >2</td>\n",
       "                        <td id=\"T_2816da4e_2059_11eb_b2c8_3b2222338546row2_col1\" class=\"data row2 col1\" >C</td>\n",
       "                        <td id=\"T_2816da4e_2059_11eb_b2c8_3b2222338546row2_col2\" class=\"data row2 col2\" >5.000000</td>\n",
       "                        <td id=\"T_2816da4e_2059_11eb_b2c8_3b2222338546row2_col3\" class=\"data row2 col3\" >0.178571</td>\n",
       "                        <td id=\"T_2816da4e_2059_11eb_b2c8_3b2222338546row2_col4\" class=\"data row2 col4\" >3</td>\n",
       "                        <td id=\"T_2816da4e_2059_11eb_b2c8_3b2222338546row2_col5\" class=\"data row2 col5\" >3</td>\n",
       "                        <td id=\"T_2816da4e_2059_11eb_b2c8_3b2222338546row2_col6\" class=\"data row2 col6\" >A</td>\n",
       "            </tr>\n",
       "            <tr>\n",
       "                                <td id=\"T_2816da4e_2059_11eb_b2c8_3b2222338546row3_col0\" class=\"data row3 col0\" >3</td>\n",
       "                        <td id=\"T_2816da4e_2059_11eb_b2c8_3b2222338546row3_col1\" class=\"data row3 col1\" >D</td>\n",
       "                        <td id=\"T_2816da4e_2059_11eb_b2c8_3b2222338546row3_col2\" class=\"data row3 col2\" >1.000000</td>\n",
       "                        <td id=\"T_2816da4e_2059_11eb_b2c8_3b2222338546row3_col3\" class=\"data row3 col3\" >0.035714</td>\n",
       "                        <td id=\"T_2816da4e_2059_11eb_b2c8_3b2222338546row3_col4\" class=\"data row3 col4\" >1</td>\n",
       "                        <td id=\"T_2816da4e_2059_11eb_b2c8_3b2222338546row3_col5\" class=\"data row3 col5\" >1</td>\n",
       "                        <td id=\"T_2816da4e_2059_11eb_b2c8_3b2222338546row3_col6\" class=\"data row3 col6\" >A</td>\n",
       "            </tr>\n",
       "            <tr>\n",
       "                                <td id=\"T_2816da4e_2059_11eb_b2c8_3b2222338546row4_col0\" class=\"data row4 col0\" >4</td>\n",
       "                        <td id=\"T_2816da4e_2059_11eb_b2c8_3b2222338546row4_col1\" class=\"data row4 col1\" >E</td>\n",
       "                        <td id=\"T_2816da4e_2059_11eb_b2c8_3b2222338546row4_col2\" class=\"data row4 col2\" >5.000000</td>\n",
       "                        <td id=\"T_2816da4e_2059_11eb_b2c8_3b2222338546row4_col3\" class=\"data row4 col3\" >0.178571</td>\n",
       "                        <td id=\"T_2816da4e_2059_11eb_b2c8_3b2222338546row4_col4\" class=\"data row4 col4\" >3</td>\n",
       "                        <td id=\"T_2816da4e_2059_11eb_b2c8_3b2222338546row4_col5\" class=\"data row4 col5\" >3</td>\n",
       "                        <td id=\"T_2816da4e_2059_11eb_b2c8_3b2222338546row4_col6\" class=\"data row4 col6\" >E</td>\n",
       "            </tr>\n",
       "            <tr>\n",
       "                                <td id=\"T_2816da4e_2059_11eb_b2c8_3b2222338546row5_col0\" class=\"data row5 col0\" >5</td>\n",
       "                        <td id=\"T_2816da4e_2059_11eb_b2c8_3b2222338546row5_col1\" class=\"data row5 col1\" >F</td>\n",
       "                        <td id=\"T_2816da4e_2059_11eb_b2c8_3b2222338546row5_col2\" class=\"data row5 col2\" >5.000000</td>\n",
       "                        <td id=\"T_2816da4e_2059_11eb_b2c8_3b2222338546row5_col3\" class=\"data row5 col3\" >0.178571</td>\n",
       "                        <td id=\"T_2816da4e_2059_11eb_b2c8_3b2222338546row5_col4\" class=\"data row5 col4\" >3</td>\n",
       "                        <td id=\"T_2816da4e_2059_11eb_b2c8_3b2222338546row5_col5\" class=\"data row5 col5\" >3</td>\n",
       "                        <td id=\"T_2816da4e_2059_11eb_b2c8_3b2222338546row5_col6\" class=\"data row5 col6\" >E</td>\n",
       "            </tr>\n",
       "            <tr>\n",
       "                                <td id=\"T_2816da4e_2059_11eb_b2c8_3b2222338546row6_col0\" class=\"data row6 col0\" >6</td>\n",
       "                        <td id=\"T_2816da4e_2059_11eb_b2c8_3b2222338546row6_col1\" class=\"data row6 col1\" >G</td>\n",
       "                        <td id=\"T_2816da4e_2059_11eb_b2c8_3b2222338546row6_col2\" class=\"data row6 col2\" >2.000000</td>\n",
       "                        <td id=\"T_2816da4e_2059_11eb_b2c8_3b2222338546row6_col3\" class=\"data row6 col3\" >0.071429</td>\n",
       "                        <td id=\"T_2816da4e_2059_11eb_b2c8_3b2222338546row6_col4\" class=\"data row6 col4\" >1</td>\n",
       "                        <td id=\"T_2816da4e_2059_11eb_b2c8_3b2222338546row6_col5\" class=\"data row6 col5\" >1</td>\n",
       "                        <td id=\"T_2816da4e_2059_11eb_b2c8_3b2222338546row6_col6\" class=\"data row6 col6\" >E</td>\n",
       "            </tr>\n",
       "            <tr>\n",
       "                                <td id=\"T_2816da4e_2059_11eb_b2c8_3b2222338546row7_col0\" class=\"data row7 col0\" >7</td>\n",
       "                        <td id=\"T_2816da4e_2059_11eb_b2c8_3b2222338546row7_col1\" class=\"data row7 col1\" >J</td>\n",
       "                        <td id=\"T_2816da4e_2059_11eb_b2c8_3b2222338546row7_col2\" class=\"data row7 col2\" >2.000000</td>\n",
       "                        <td id=\"T_2816da4e_2059_11eb_b2c8_3b2222338546row7_col3\" class=\"data row7 col3\" >0.071429</td>\n",
       "                        <td id=\"T_2816da4e_2059_11eb_b2c8_3b2222338546row7_col4\" class=\"data row7 col4\" >1</td>\n",
       "                        <td id=\"T_2816da4e_2059_11eb_b2c8_3b2222338546row7_col5\" class=\"data row7 col5\" >1</td>\n",
       "                        <td id=\"T_2816da4e_2059_11eb_b2c8_3b2222338546row7_col6\" class=\"data row7 col6\" >E</td>\n",
       "            </tr>\n",
       "    </tbody></table>"
      ],
      "text/plain": [
       "<pandas.io.formats.style.Styler at 0x7f6d9c9180d0>"
      ]
     },
     "execution_count": 32,
     "metadata": {},
     "output_type": "execute_result"
    }
   ],
   "source": [
    "okn.info(net, target='microstate')"
   ]
  }
 ],
 "metadata": {
  "kernelspec": {
   "display_name": "Python 3",
   "language": "python",
   "name": "python3"
  },
  "language_info": {
   "codemirror_mode": {
    "name": "ipython",
    "version": 3
   },
   "file_extension": ".py",
   "mimetype": "text/x-python",
   "name": "python",
   "nbconvert_exporter": "python",
   "pygments_lexer": "ipython3",
   "version": "3.7.7"
  }
 },
 "nbformat": 4,
 "nbformat_minor": 4
}
