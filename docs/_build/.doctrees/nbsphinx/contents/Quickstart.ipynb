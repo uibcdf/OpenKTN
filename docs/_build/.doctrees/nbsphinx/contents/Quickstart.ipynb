{
 "cells": [
  {
   "cell_type": "markdown",
   "metadata": {},
   "source": [
    "# Quick Guide\n",
    "\n",
    "Import the multitool library:"
   ]
  },
  {
   "cell_type": "code",
   "execution_count": 1,
   "metadata": {
    "execution": {
     "iopub.execute_input": "2020-11-06T18:56:20.977797Z",
     "iopub.status.busy": "2020-11-06T18:56:20.977040Z",
     "iopub.status.idle": "2020-11-06T18:56:21.291203Z",
     "shell.execute_reply": "2020-11-06T18:56:21.292089Z"
    }
   },
   "outputs": [],
   "source": [
    "import openktn as okn"
   ]
  },
  {
   "cell_type": "code",
   "execution_count": null,
   "metadata": {},
   "outputs": [],
   "source": []
  }
 ],
 "metadata": {
  "kernelspec": {
   "display_name": "Python 3",
   "language": "python",
   "name": "python3"
  },
  "language_info": {
   "codemirror_mode": {
    "name": "ipython",
    "version": 3
   },
   "file_extension": ".py",
   "mimetype": "text/x-python",
   "name": "python",
   "nbconvert_exporter": "python",
   "pygments_lexer": "ipython3",
   "version": "3.7.9"
  }
 },
 "nbformat": 4,
 "nbformat_minor": 4
}
