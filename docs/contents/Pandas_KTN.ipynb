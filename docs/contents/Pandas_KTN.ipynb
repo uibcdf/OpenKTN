{
 "cells": [
  {
   "cell_type": "code",
   "execution_count": 1,
   "metadata": {},
   "outputs": [],
   "source": [
    "%load_ext autoreload\n",
    "%autoreload 2"
   ]
  },
  {
   "cell_type": "code",
   "execution_count": 2,
   "metadata": {},
   "outputs": [],
   "source": [
    "import openktn as okn\n",
    "from simtk.unit import kelvin, picoseconds"
   ]
  },
  {
   "cell_type": "markdown",
   "metadata": {},
   "source": [
    "# Pandas Kinetic Transition Network"
   ]
  },
  {
   "cell_type": "code",
   "execution_count": 3,
   "metadata": {},
   "outputs": [],
   "source": [
    "net = okn.kinetic_transition_network(form='pandas.KineticTransitionNetwork',\n",
    "                                    temperature=300.0*kelvin, time_step=10*picoseconds)"
   ]
  },
  {
   "cell_type": "code",
   "execution_count": 4,
   "metadata": {},
   "outputs": [
    {
     "data": {
      "text/html": [
       "<style  type=\"text/css\" >\n",
       "</style><table id=\"T_63464e00_1c04_11eb_9eec_13df02a35920\" ><thead>    <tr>        <th class=\"col_heading level0 col0\" >form</th>        <th class=\"col_heading level0 col1\" >n_microstates</th>        <th class=\"col_heading level0 col2\" >n_transitions</th>        <th class=\"col_heading level0 col3\" >weight</th>        <th class=\"col_heading level0 col4\" >symmetrized</th>        <th class=\"col_heading level0 col5\" >temperature</th>        <th class=\"col_heading level0 col6\" >time_step</th>    </tr></thead><tbody>\n",
       "                <tr>\n",
       "                                <td id=\"T_63464e00_1c04_11eb_9eec_13df02a35920row0_col0\" class=\"data row0 col0\" >pandas.KineticTransitionNetwork</td>\n",
       "                        <td id=\"T_63464e00_1c04_11eb_9eec_13df02a35920row0_col1\" class=\"data row0 col1\" >0</td>\n",
       "                        <td id=\"T_63464e00_1c04_11eb_9eec_13df02a35920row0_col2\" class=\"data row0 col2\" >0</td>\n",
       "                        <td id=\"T_63464e00_1c04_11eb_9eec_13df02a35920row0_col3\" class=\"data row0 col3\" >0</td>\n",
       "                        <td id=\"T_63464e00_1c04_11eb_9eec_13df02a35920row0_col4\" class=\"data row0 col4\" >True</td>\n",
       "                        <td id=\"T_63464e00_1c04_11eb_9eec_13df02a35920row0_col5\" class=\"data row0 col5\" >300.0 K</td>\n",
       "                        <td id=\"T_63464e00_1c04_11eb_9eec_13df02a35920row0_col6\" class=\"data row0 col6\" >10 ps</td>\n",
       "            </tr>\n",
       "    </tbody></table>"
      ],
      "text/plain": [
       "<pandas.io.formats.style.Styler at 0x7ffa1c762e90>"
      ]
     },
     "execution_count": 4,
     "metadata": {},
     "output_type": "execute_result"
    }
   ],
   "source": [
    "okn.info(net)"
   ]
  },
  {
   "cell_type": "code",
   "execution_count": 5,
   "metadata": {},
   "outputs": [],
   "source": [
    "okn.add_microstate(net)"
   ]
  },
  {
   "cell_type": "code",
   "execution_count": 6,
   "metadata": {},
   "outputs": [
    {
     "data": {
      "text/html": [
       "<style  type=\"text/css\" >\n",
       "</style><table id=\"T_63464e01_1c04_11eb_9eec_13df02a35920\" ><thead>    <tr>        <th class=\"col_heading level0 col0\" >index</th>        <th class=\"col_heading level0 col1\" >name</th>        <th class=\"col_heading level0 col2\" >weight</th>        <th class=\"col_heading level0 col3\" >probability</th>        <th class=\"col_heading level0 col4\" >degree</th>    </tr></thead><tbody>\n",
       "                <tr>\n",
       "                                <td id=\"T_63464e01_1c04_11eb_9eec_13df02a35920row0_col0\" class=\"data row0 col0\" >0</td>\n",
       "                        <td id=\"T_63464e01_1c04_11eb_9eec_13df02a35920row0_col1\" class=\"data row0 col1\" >0</td>\n",
       "                        <td id=\"T_63464e01_1c04_11eb_9eec_13df02a35920row0_col2\" class=\"data row0 col2\" >0.000000</td>\n",
       "                        <td id=\"T_63464e01_1c04_11eb_9eec_13df02a35920row0_col3\" class=\"data row0 col3\" >0.000000</td>\n",
       "                        <td id=\"T_63464e01_1c04_11eb_9eec_13df02a35920row0_col4\" class=\"data row0 col4\" >0</td>\n",
       "            </tr>\n",
       "    </tbody></table>"
      ],
      "text/plain": [
       "<pandas.io.formats.style.Styler at 0x7ffa1c749910>"
      ]
     },
     "execution_count": 6,
     "metadata": {},
     "output_type": "execute_result"
    }
   ],
   "source": [
    "okn.info(net, target='microstate')"
   ]
  },
  {
   "cell_type": "code",
   "execution_count": 7,
   "metadata": {},
   "outputs": [],
   "source": [
    "okn.add_microstate(net, name='A')"
   ]
  },
  {
   "cell_type": "code",
   "execution_count": 8,
   "metadata": {},
   "outputs": [
    {
     "data": {
      "text/html": [
       "<style  type=\"text/css\" >\n",
       "</style><table id=\"T_64771c1e_1c04_11eb_9eec_13df02a35920\" ><thead>    <tr>        <th class=\"col_heading level0 col0\" >index</th>        <th class=\"col_heading level0 col1\" >name</th>        <th class=\"col_heading level0 col2\" >weight</th>        <th class=\"col_heading level0 col3\" >probability</th>        <th class=\"col_heading level0 col4\" >degree</th>    </tr></thead><tbody>\n",
       "                <tr>\n",
       "                                <td id=\"T_64771c1e_1c04_11eb_9eec_13df02a35920row0_col0\" class=\"data row0 col0\" >0</td>\n",
       "                        <td id=\"T_64771c1e_1c04_11eb_9eec_13df02a35920row0_col1\" class=\"data row0 col1\" >0</td>\n",
       "                        <td id=\"T_64771c1e_1c04_11eb_9eec_13df02a35920row0_col2\" class=\"data row0 col2\" >0.000000</td>\n",
       "                        <td id=\"T_64771c1e_1c04_11eb_9eec_13df02a35920row0_col3\" class=\"data row0 col3\" >0.000000</td>\n",
       "                        <td id=\"T_64771c1e_1c04_11eb_9eec_13df02a35920row0_col4\" class=\"data row0 col4\" >0</td>\n",
       "            </tr>\n",
       "            <tr>\n",
       "                                <td id=\"T_64771c1e_1c04_11eb_9eec_13df02a35920row1_col0\" class=\"data row1 col0\" >1</td>\n",
       "                        <td id=\"T_64771c1e_1c04_11eb_9eec_13df02a35920row1_col1\" class=\"data row1 col1\" >A</td>\n",
       "                        <td id=\"T_64771c1e_1c04_11eb_9eec_13df02a35920row1_col2\" class=\"data row1 col2\" >0.000000</td>\n",
       "                        <td id=\"T_64771c1e_1c04_11eb_9eec_13df02a35920row1_col3\" class=\"data row1 col3\" >0.000000</td>\n",
       "                        <td id=\"T_64771c1e_1c04_11eb_9eec_13df02a35920row1_col4\" class=\"data row1 col4\" >0</td>\n",
       "            </tr>\n",
       "    </tbody></table>"
      ],
      "text/plain": [
       "<pandas.io.formats.style.Styler at 0x7ff9e561e590>"
      ]
     },
     "execution_count": 8,
     "metadata": {},
     "output_type": "execute_result"
    }
   ],
   "source": [
    "okn.info(net, target='microstate')"
   ]
  },
  {
   "cell_type": "code",
   "execution_count": 9,
   "metadata": {},
   "outputs": [],
   "source": [
    "okn.add_microstate(net, index=4)"
   ]
  },
  {
   "cell_type": "code",
   "execution_count": 10,
   "metadata": {},
   "outputs": [
    {
     "data": {
      "text/html": [
       "<style  type=\"text/css\" >\n",
       "</style><table id=\"T_64771c1f_1c04_11eb_9eec_13df02a35920\" ><thead>    <tr>        <th class=\"col_heading level0 col0\" >index</th>        <th class=\"col_heading level0 col1\" >name</th>        <th class=\"col_heading level0 col2\" >weight</th>        <th class=\"col_heading level0 col3\" >probability</th>        <th class=\"col_heading level0 col4\" >degree</th>    </tr></thead><tbody>\n",
       "                <tr>\n",
       "                                <td id=\"T_64771c1f_1c04_11eb_9eec_13df02a35920row0_col0\" class=\"data row0 col0\" >0</td>\n",
       "                        <td id=\"T_64771c1f_1c04_11eb_9eec_13df02a35920row0_col1\" class=\"data row0 col1\" >0</td>\n",
       "                        <td id=\"T_64771c1f_1c04_11eb_9eec_13df02a35920row0_col2\" class=\"data row0 col2\" >0.000000</td>\n",
       "                        <td id=\"T_64771c1f_1c04_11eb_9eec_13df02a35920row0_col3\" class=\"data row0 col3\" >0.000000</td>\n",
       "                        <td id=\"T_64771c1f_1c04_11eb_9eec_13df02a35920row0_col4\" class=\"data row0 col4\" >0</td>\n",
       "            </tr>\n",
       "            <tr>\n",
       "                                <td id=\"T_64771c1f_1c04_11eb_9eec_13df02a35920row1_col0\" class=\"data row1 col0\" >1</td>\n",
       "                        <td id=\"T_64771c1f_1c04_11eb_9eec_13df02a35920row1_col1\" class=\"data row1 col1\" >A</td>\n",
       "                        <td id=\"T_64771c1f_1c04_11eb_9eec_13df02a35920row1_col2\" class=\"data row1 col2\" >0.000000</td>\n",
       "                        <td id=\"T_64771c1f_1c04_11eb_9eec_13df02a35920row1_col3\" class=\"data row1 col3\" >0.000000</td>\n",
       "                        <td id=\"T_64771c1f_1c04_11eb_9eec_13df02a35920row1_col4\" class=\"data row1 col4\" >0</td>\n",
       "            </tr>\n",
       "            <tr>\n",
       "                                <td id=\"T_64771c1f_1c04_11eb_9eec_13df02a35920row2_col0\" class=\"data row2 col0\" >2</td>\n",
       "                        <td id=\"T_64771c1f_1c04_11eb_9eec_13df02a35920row2_col1\" class=\"data row2 col1\" >2</td>\n",
       "                        <td id=\"T_64771c1f_1c04_11eb_9eec_13df02a35920row2_col2\" class=\"data row2 col2\" >0.000000</td>\n",
       "                        <td id=\"T_64771c1f_1c04_11eb_9eec_13df02a35920row2_col3\" class=\"data row2 col3\" >0.000000</td>\n",
       "                        <td id=\"T_64771c1f_1c04_11eb_9eec_13df02a35920row2_col4\" class=\"data row2 col4\" >0</td>\n",
       "            </tr>\n",
       "            <tr>\n",
       "                                <td id=\"T_64771c1f_1c04_11eb_9eec_13df02a35920row3_col0\" class=\"data row3 col0\" >3</td>\n",
       "                        <td id=\"T_64771c1f_1c04_11eb_9eec_13df02a35920row3_col1\" class=\"data row3 col1\" >3</td>\n",
       "                        <td id=\"T_64771c1f_1c04_11eb_9eec_13df02a35920row3_col2\" class=\"data row3 col2\" >0.000000</td>\n",
       "                        <td id=\"T_64771c1f_1c04_11eb_9eec_13df02a35920row3_col3\" class=\"data row3 col3\" >0.000000</td>\n",
       "                        <td id=\"T_64771c1f_1c04_11eb_9eec_13df02a35920row3_col4\" class=\"data row3 col4\" >0</td>\n",
       "            </tr>\n",
       "            <tr>\n",
       "                                <td id=\"T_64771c1f_1c04_11eb_9eec_13df02a35920row4_col0\" class=\"data row4 col0\" >4</td>\n",
       "                        <td id=\"T_64771c1f_1c04_11eb_9eec_13df02a35920row4_col1\" class=\"data row4 col1\" >4</td>\n",
       "                        <td id=\"T_64771c1f_1c04_11eb_9eec_13df02a35920row4_col2\" class=\"data row4 col2\" >0.000000</td>\n",
       "                        <td id=\"T_64771c1f_1c04_11eb_9eec_13df02a35920row4_col3\" class=\"data row4 col3\" >0.000000</td>\n",
       "                        <td id=\"T_64771c1f_1c04_11eb_9eec_13df02a35920row4_col4\" class=\"data row4 col4\" >0</td>\n",
       "            </tr>\n",
       "    </tbody></table>"
      ],
      "text/plain": [
       "<pandas.io.formats.style.Styler at 0x7ff9e561e3d0>"
      ]
     },
     "execution_count": 10,
     "metadata": {},
     "output_type": "execute_result"
    }
   ],
   "source": [
    "okn.info(net, target='microstate')"
   ]
  },
  {
   "cell_type": "code",
   "execution_count": 11,
   "metadata": {},
   "outputs": [],
   "source": [
    "okn.add_transition(net, origin='A', end=3, weight=1.0)"
   ]
  },
  {
   "cell_type": "code",
   "execution_count": 12,
   "metadata": {},
   "outputs": [
    {
     "data": {
      "text/html": [
       "<div>\n",
       "<style scoped>\n",
       "    .dataframe tbody tr th:only-of-type {\n",
       "        vertical-align: middle;\n",
       "    }\n",
       "\n",
       "    .dataframe tbody tr th {\n",
       "        vertical-align: top;\n",
       "    }\n",
       "\n",
       "    .dataframe thead th {\n",
       "        text-align: right;\n",
       "    }\n",
       "</style>\n",
       "<table border=\"1\" class=\"dataframe\">\n",
       "  <thead>\n",
       "    <tr style=\"text-align: right;\">\n",
       "      <th></th>\n",
       "      <th>index</th>\n",
       "      <th>origin_index</th>\n",
       "      <th>end_index</th>\n",
       "      <th>weight</th>\n",
       "      <th>probability</th>\n",
       "      <th>symmetrized</th>\n",
       "    </tr>\n",
       "  </thead>\n",
       "  <tbody>\n",
       "    <tr>\n",
       "      <th>0</th>\n",
       "      <td>0</td>\n",
       "      <td>1</td>\n",
       "      <td>3</td>\n",
       "      <td>1</td>\n",
       "      <td>0</td>\n",
       "      <td>False</td>\n",
       "    </tr>\n",
       "  </tbody>\n",
       "</table>\n",
       "</div>"
      ],
      "text/plain": [
       "  index origin_index end_index weight probability symmetrized\n",
       "0     0            1         3      1           0       False"
      ]
     },
     "execution_count": 12,
     "metadata": {},
     "output_type": "execute_result"
    }
   ],
   "source": [
    "net.transitions"
   ]
  },
  {
   "cell_type": "code",
   "execution_count": 13,
   "metadata": {},
   "outputs": [
    {
     "data": {
      "text/html": [
       "<style  type=\"text/css\" >\n",
       "</style><table id=\"T_660900ce_1c04_11eb_9eec_13df02a35920\" ><thead>    <tr>        <th class=\"col_heading level0 col0\" >form</th>        <th class=\"col_heading level0 col1\" >n_microstates</th>        <th class=\"col_heading level0 col2\" >n_transitions</th>        <th class=\"col_heading level0 col3\" >weight</th>        <th class=\"col_heading level0 col4\" >symmetrized</th>        <th class=\"col_heading level0 col5\" >temperature</th>        <th class=\"col_heading level0 col6\" >time_step</th>    </tr></thead><tbody>\n",
       "                <tr>\n",
       "                                <td id=\"T_660900ce_1c04_11eb_9eec_13df02a35920row0_col0\" class=\"data row0 col0\" >pandas.KineticTransitionNetwork</td>\n",
       "                        <td id=\"T_660900ce_1c04_11eb_9eec_13df02a35920row0_col1\" class=\"data row0 col1\" >5</td>\n",
       "                        <td id=\"T_660900ce_1c04_11eb_9eec_13df02a35920row0_col2\" class=\"data row0 col2\" >1</td>\n",
       "                        <td id=\"T_660900ce_1c04_11eb_9eec_13df02a35920row0_col3\" class=\"data row0 col3\" >1.000000</td>\n",
       "                        <td id=\"T_660900ce_1c04_11eb_9eec_13df02a35920row0_col4\" class=\"data row0 col4\" >False</td>\n",
       "                        <td id=\"T_660900ce_1c04_11eb_9eec_13df02a35920row0_col5\" class=\"data row0 col5\" >300.0 K</td>\n",
       "                        <td id=\"T_660900ce_1c04_11eb_9eec_13df02a35920row0_col6\" class=\"data row0 col6\" >10 ps</td>\n",
       "            </tr>\n",
       "    </tbody></table>"
      ],
      "text/plain": [
       "<pandas.io.formats.style.Styler at 0x7ff9e75a19d0>"
      ]
     },
     "execution_count": 13,
     "metadata": {},
     "output_type": "execute_result"
    }
   ],
   "source": [
    "okn.info(net)"
   ]
  },
  {
   "cell_type": "code",
   "execution_count": 14,
   "metadata": {},
   "outputs": [
    {
     "data": {
      "text/html": [
       "<style  type=\"text/css\" >\n",
       "</style><table id=\"T_660900cf_1c04_11eb_9eec_13df02a35920\" ><thead>    <tr>        <th class=\"col_heading level0 col0\" >index</th>        <th class=\"col_heading level0 col1\" >name</th>        <th class=\"col_heading level0 col2\" >weight</th>        <th class=\"col_heading level0 col3\" >probability</th>        <th class=\"col_heading level0 col4\" >out_degree</th>        <th class=\"col_heading level0 col5\" >in_degree</th>    </tr></thead><tbody>\n",
       "                <tr>\n",
       "                                <td id=\"T_660900cf_1c04_11eb_9eec_13df02a35920row0_col0\" class=\"data row0 col0\" >0</td>\n",
       "                        <td id=\"T_660900cf_1c04_11eb_9eec_13df02a35920row0_col1\" class=\"data row0 col1\" >0</td>\n",
       "                        <td id=\"T_660900cf_1c04_11eb_9eec_13df02a35920row0_col2\" class=\"data row0 col2\" >0.000000</td>\n",
       "                        <td id=\"T_660900cf_1c04_11eb_9eec_13df02a35920row0_col3\" class=\"data row0 col3\" >0.000000</td>\n",
       "                        <td id=\"T_660900cf_1c04_11eb_9eec_13df02a35920row0_col4\" class=\"data row0 col4\" >0</td>\n",
       "                        <td id=\"T_660900cf_1c04_11eb_9eec_13df02a35920row0_col5\" class=\"data row0 col5\" >0</td>\n",
       "            </tr>\n",
       "            <tr>\n",
       "                                <td id=\"T_660900cf_1c04_11eb_9eec_13df02a35920row1_col0\" class=\"data row1 col0\" >1</td>\n",
       "                        <td id=\"T_660900cf_1c04_11eb_9eec_13df02a35920row1_col1\" class=\"data row1 col1\" >A</td>\n",
       "                        <td id=\"T_660900cf_1c04_11eb_9eec_13df02a35920row1_col2\" class=\"data row1 col2\" >1.000000</td>\n",
       "                        <td id=\"T_660900cf_1c04_11eb_9eec_13df02a35920row1_col3\" class=\"data row1 col3\" >0.000000</td>\n",
       "                        <td id=\"T_660900cf_1c04_11eb_9eec_13df02a35920row1_col4\" class=\"data row1 col4\" >1</td>\n",
       "                        <td id=\"T_660900cf_1c04_11eb_9eec_13df02a35920row1_col5\" class=\"data row1 col5\" >0</td>\n",
       "            </tr>\n",
       "            <tr>\n",
       "                                <td id=\"T_660900cf_1c04_11eb_9eec_13df02a35920row2_col0\" class=\"data row2 col0\" >2</td>\n",
       "                        <td id=\"T_660900cf_1c04_11eb_9eec_13df02a35920row2_col1\" class=\"data row2 col1\" >2</td>\n",
       "                        <td id=\"T_660900cf_1c04_11eb_9eec_13df02a35920row2_col2\" class=\"data row2 col2\" >0.000000</td>\n",
       "                        <td id=\"T_660900cf_1c04_11eb_9eec_13df02a35920row2_col3\" class=\"data row2 col3\" >0.000000</td>\n",
       "                        <td id=\"T_660900cf_1c04_11eb_9eec_13df02a35920row2_col4\" class=\"data row2 col4\" >0</td>\n",
       "                        <td id=\"T_660900cf_1c04_11eb_9eec_13df02a35920row2_col5\" class=\"data row2 col5\" >0</td>\n",
       "            </tr>\n",
       "            <tr>\n",
       "                                <td id=\"T_660900cf_1c04_11eb_9eec_13df02a35920row3_col0\" class=\"data row3 col0\" >3</td>\n",
       "                        <td id=\"T_660900cf_1c04_11eb_9eec_13df02a35920row3_col1\" class=\"data row3 col1\" >3</td>\n",
       "                        <td id=\"T_660900cf_1c04_11eb_9eec_13df02a35920row3_col2\" class=\"data row3 col2\" >0.000000</td>\n",
       "                        <td id=\"T_660900cf_1c04_11eb_9eec_13df02a35920row3_col3\" class=\"data row3 col3\" >0.000000</td>\n",
       "                        <td id=\"T_660900cf_1c04_11eb_9eec_13df02a35920row3_col4\" class=\"data row3 col4\" >0</td>\n",
       "                        <td id=\"T_660900cf_1c04_11eb_9eec_13df02a35920row3_col5\" class=\"data row3 col5\" >1</td>\n",
       "            </tr>\n",
       "            <tr>\n",
       "                                <td id=\"T_660900cf_1c04_11eb_9eec_13df02a35920row4_col0\" class=\"data row4 col0\" >4</td>\n",
       "                        <td id=\"T_660900cf_1c04_11eb_9eec_13df02a35920row4_col1\" class=\"data row4 col1\" >4</td>\n",
       "                        <td id=\"T_660900cf_1c04_11eb_9eec_13df02a35920row4_col2\" class=\"data row4 col2\" >0.000000</td>\n",
       "                        <td id=\"T_660900cf_1c04_11eb_9eec_13df02a35920row4_col3\" class=\"data row4 col3\" >0.000000</td>\n",
       "                        <td id=\"T_660900cf_1c04_11eb_9eec_13df02a35920row4_col4\" class=\"data row4 col4\" >0</td>\n",
       "                        <td id=\"T_660900cf_1c04_11eb_9eec_13df02a35920row4_col5\" class=\"data row4 col5\" >0</td>\n",
       "            </tr>\n",
       "    </tbody></table>"
      ],
      "text/plain": [
       "<pandas.io.formats.style.Styler at 0x7ff9e560be50>"
      ]
     },
     "execution_count": 14,
     "metadata": {},
     "output_type": "execute_result"
    }
   ],
   "source": [
    "okn.info(net, target='microstate')"
   ]
  },
  {
   "cell_type": "code",
   "execution_count": 15,
   "metadata": {},
   "outputs": [
    {
     "data": {
      "text/html": [
       "<style  type=\"text/css\" >\n",
       "</style><table id=\"T_69b01564_1c04_11eb_9eec_13df02a35920\" ><thead>    <tr>        <th class=\"col_heading level0 col0\" >index</th>        <th class=\"col_heading level0 col1\" >origin_index</th>        <th class=\"col_heading level0 col2\" >end_index</th>        <th class=\"col_heading level0 col3\" >weight</th>        <th class=\"col_heading level0 col4\" >probability</th>        <th class=\"col_heading level0 col5\" >symmetrized</th>    </tr></thead><tbody>\n",
       "                <tr>\n",
       "                                <td id=\"T_69b01564_1c04_11eb_9eec_13df02a35920row0_col0\" class=\"data row0 col0\" >0</td>\n",
       "                        <td id=\"T_69b01564_1c04_11eb_9eec_13df02a35920row0_col1\" class=\"data row0 col1\" >1</td>\n",
       "                        <td id=\"T_69b01564_1c04_11eb_9eec_13df02a35920row0_col2\" class=\"data row0 col2\" >3</td>\n",
       "                        <td id=\"T_69b01564_1c04_11eb_9eec_13df02a35920row0_col3\" class=\"data row0 col3\" >1.000000</td>\n",
       "                        <td id=\"T_69b01564_1c04_11eb_9eec_13df02a35920row0_col4\" class=\"data row0 col4\" >0.000000</td>\n",
       "                        <td id=\"T_69b01564_1c04_11eb_9eec_13df02a35920row0_col5\" class=\"data row0 col5\" >False</td>\n",
       "            </tr>\n",
       "    </tbody></table>"
      ],
      "text/plain": [
       "<pandas.io.formats.style.Styler at 0x7ff9e560bcd0>"
      ]
     },
     "execution_count": 15,
     "metadata": {},
     "output_type": "execute_result"
    }
   ],
   "source": [
    "okn.info(net, target='transition')"
   ]
  },
  {
   "cell_type": "code",
   "execution_count": 16,
   "metadata": {},
   "outputs": [],
   "source": [
    "okn.add_transition(net, origin=0, end=2, weight=4.0, origin_index=True, end_index=True)"
   ]
  },
  {
   "cell_type": "code",
   "execution_count": 17,
   "metadata": {},
   "outputs": [
    {
     "data": {
      "text/html": [
       "<style  type=\"text/css\" >\n",
       "</style><table id=\"T_69b01565_1c04_11eb_9eec_13df02a35920\" ><thead>    <tr>        <th class=\"col_heading level0 col0\" >index</th>        <th class=\"col_heading level0 col1\" >origin_index</th>        <th class=\"col_heading level0 col2\" >end_index</th>        <th class=\"col_heading level0 col3\" >weight</th>        <th class=\"col_heading level0 col4\" >probability</th>        <th class=\"col_heading level0 col5\" >symmetrized</th>    </tr></thead><tbody>\n",
       "                <tr>\n",
       "                                <td id=\"T_69b01565_1c04_11eb_9eec_13df02a35920row0_col0\" class=\"data row0 col0\" >0</td>\n",
       "                        <td id=\"T_69b01565_1c04_11eb_9eec_13df02a35920row0_col1\" class=\"data row0 col1\" >1</td>\n",
       "                        <td id=\"T_69b01565_1c04_11eb_9eec_13df02a35920row0_col2\" class=\"data row0 col2\" >3</td>\n",
       "                        <td id=\"T_69b01565_1c04_11eb_9eec_13df02a35920row0_col3\" class=\"data row0 col3\" >1.000000</td>\n",
       "                        <td id=\"T_69b01565_1c04_11eb_9eec_13df02a35920row0_col4\" class=\"data row0 col4\" >0.000000</td>\n",
       "                        <td id=\"T_69b01565_1c04_11eb_9eec_13df02a35920row0_col5\" class=\"data row0 col5\" >False</td>\n",
       "            </tr>\n",
       "            <tr>\n",
       "                                <td id=\"T_69b01565_1c04_11eb_9eec_13df02a35920row1_col0\" class=\"data row1 col0\" >1</td>\n",
       "                        <td id=\"T_69b01565_1c04_11eb_9eec_13df02a35920row1_col1\" class=\"data row1 col1\" >0</td>\n",
       "                        <td id=\"T_69b01565_1c04_11eb_9eec_13df02a35920row1_col2\" class=\"data row1 col2\" >2</td>\n",
       "                        <td id=\"T_69b01565_1c04_11eb_9eec_13df02a35920row1_col3\" class=\"data row1 col3\" >4.000000</td>\n",
       "                        <td id=\"T_69b01565_1c04_11eb_9eec_13df02a35920row1_col4\" class=\"data row1 col4\" >0.000000</td>\n",
       "                        <td id=\"T_69b01565_1c04_11eb_9eec_13df02a35920row1_col5\" class=\"data row1 col5\" >False</td>\n",
       "            </tr>\n",
       "    </tbody></table>"
      ],
      "text/plain": [
       "<pandas.io.formats.style.Styler at 0x7ff9e5602ed0>"
      ]
     },
     "execution_count": 17,
     "metadata": {},
     "output_type": "execute_result"
    }
   ],
   "source": [
    "okn.info(net, target='transition')"
   ]
  },
  {
   "cell_type": "code",
   "execution_count": 18,
   "metadata": {},
   "outputs": [
    {
     "data": {
      "text/html": [
       "<div>\n",
       "<style scoped>\n",
       "    .dataframe tbody tr th:only-of-type {\n",
       "        vertical-align: middle;\n",
       "    }\n",
       "\n",
       "    .dataframe tbody tr th {\n",
       "        vertical-align: top;\n",
       "    }\n",
       "\n",
       "    .dataframe thead th {\n",
       "        text-align: right;\n",
       "    }\n",
       "</style>\n",
       "<table border=\"1\" class=\"dataframe\">\n",
       "  <thead>\n",
       "    <tr style=\"text-align: right;\">\n",
       "      <th></th>\n",
       "      <th>index</th>\n",
       "      <th>origin_index</th>\n",
       "      <th>end_index</th>\n",
       "      <th>weight</th>\n",
       "      <th>probability</th>\n",
       "      <th>symmetrized</th>\n",
       "    </tr>\n",
       "  </thead>\n",
       "  <tbody>\n",
       "    <tr>\n",
       "      <th>0</th>\n",
       "      <td>0</td>\n",
       "      <td>1</td>\n",
       "      <td>3</td>\n",
       "      <td>1</td>\n",
       "      <td>0</td>\n",
       "      <td>False</td>\n",
       "    </tr>\n",
       "    <tr>\n",
       "      <th>1</th>\n",
       "      <td>1</td>\n",
       "      <td>0</td>\n",
       "      <td>2</td>\n",
       "      <td>4</td>\n",
       "      <td>0</td>\n",
       "      <td>False</td>\n",
       "    </tr>\n",
       "  </tbody>\n",
       "</table>\n",
       "</div>"
      ],
      "text/plain": [
       "  index origin_index end_index weight probability symmetrized\n",
       "0     0            1         3      1           0       False\n",
       "1     1            0         2      4           0       False"
      ]
     },
     "execution_count": 18,
     "metadata": {},
     "output_type": "execute_result"
    }
   ],
   "source": [
    "net.transitions"
   ]
  },
  {
   "cell_type": "code",
   "execution_count": 19,
   "metadata": {},
   "outputs": [
    {
     "data": {
      "text/html": [
       "<style  type=\"text/css\" >\n",
       "</style><table id=\"T_6b461cac_1c04_11eb_9eec_13df02a35920\" ><thead>    <tr>        <th class=\"col_heading level0 col0\" >form</th>        <th class=\"col_heading level0 col1\" >n_microstates</th>        <th class=\"col_heading level0 col2\" >n_transitions</th>        <th class=\"col_heading level0 col3\" >weight</th>        <th class=\"col_heading level0 col4\" >symmetrized</th>        <th class=\"col_heading level0 col5\" >temperature</th>        <th class=\"col_heading level0 col6\" >time_step</th>    </tr></thead><tbody>\n",
       "                <tr>\n",
       "                                <td id=\"T_6b461cac_1c04_11eb_9eec_13df02a35920row0_col0\" class=\"data row0 col0\" >pandas.KineticTransitionNetwork</td>\n",
       "                        <td id=\"T_6b461cac_1c04_11eb_9eec_13df02a35920row0_col1\" class=\"data row0 col1\" >5</td>\n",
       "                        <td id=\"T_6b461cac_1c04_11eb_9eec_13df02a35920row0_col2\" class=\"data row0 col2\" >2</td>\n",
       "                        <td id=\"T_6b461cac_1c04_11eb_9eec_13df02a35920row0_col3\" class=\"data row0 col3\" >5.000000</td>\n",
       "                        <td id=\"T_6b461cac_1c04_11eb_9eec_13df02a35920row0_col4\" class=\"data row0 col4\" >False</td>\n",
       "                        <td id=\"T_6b461cac_1c04_11eb_9eec_13df02a35920row0_col5\" class=\"data row0 col5\" >300.0 K</td>\n",
       "                        <td id=\"T_6b461cac_1c04_11eb_9eec_13df02a35920row0_col6\" class=\"data row0 col6\" >10 ps</td>\n",
       "            </tr>\n",
       "    </tbody></table>"
      ],
      "text/plain": [
       "<pandas.io.formats.style.Styler at 0x7ff9e554e990>"
      ]
     },
     "execution_count": 19,
     "metadata": {},
     "output_type": "execute_result"
    }
   ],
   "source": [
    "okn.info(net)"
   ]
  },
  {
   "cell_type": "code",
   "execution_count": 20,
   "metadata": {},
   "outputs": [
    {
     "data": {
      "text/html": [
       "<style  type=\"text/css\" >\n",
       "</style><table id=\"T_6b461cad_1c04_11eb_9eec_13df02a35920\" ><thead>    <tr>        <th class=\"col_heading level0 col0\" >index</th>        <th class=\"col_heading level0 col1\" >name</th>        <th class=\"col_heading level0 col2\" >weight</th>        <th class=\"col_heading level0 col3\" >probability</th>        <th class=\"col_heading level0 col4\" >out_degree</th>        <th class=\"col_heading level0 col5\" >in_degree</th>    </tr></thead><tbody>\n",
       "                <tr>\n",
       "                                <td id=\"T_6b461cad_1c04_11eb_9eec_13df02a35920row0_col0\" class=\"data row0 col0\" >0</td>\n",
       "                        <td id=\"T_6b461cad_1c04_11eb_9eec_13df02a35920row0_col1\" class=\"data row0 col1\" >0</td>\n",
       "                        <td id=\"T_6b461cad_1c04_11eb_9eec_13df02a35920row0_col2\" class=\"data row0 col2\" >4.000000</td>\n",
       "                        <td id=\"T_6b461cad_1c04_11eb_9eec_13df02a35920row0_col3\" class=\"data row0 col3\" >0.000000</td>\n",
       "                        <td id=\"T_6b461cad_1c04_11eb_9eec_13df02a35920row0_col4\" class=\"data row0 col4\" >1</td>\n",
       "                        <td id=\"T_6b461cad_1c04_11eb_9eec_13df02a35920row0_col5\" class=\"data row0 col5\" >0</td>\n",
       "            </tr>\n",
       "            <tr>\n",
       "                                <td id=\"T_6b461cad_1c04_11eb_9eec_13df02a35920row1_col0\" class=\"data row1 col0\" >1</td>\n",
       "                        <td id=\"T_6b461cad_1c04_11eb_9eec_13df02a35920row1_col1\" class=\"data row1 col1\" >A</td>\n",
       "                        <td id=\"T_6b461cad_1c04_11eb_9eec_13df02a35920row1_col2\" class=\"data row1 col2\" >1.000000</td>\n",
       "                        <td id=\"T_6b461cad_1c04_11eb_9eec_13df02a35920row1_col3\" class=\"data row1 col3\" >0.000000</td>\n",
       "                        <td id=\"T_6b461cad_1c04_11eb_9eec_13df02a35920row1_col4\" class=\"data row1 col4\" >1</td>\n",
       "                        <td id=\"T_6b461cad_1c04_11eb_9eec_13df02a35920row1_col5\" class=\"data row1 col5\" >0</td>\n",
       "            </tr>\n",
       "            <tr>\n",
       "                                <td id=\"T_6b461cad_1c04_11eb_9eec_13df02a35920row2_col0\" class=\"data row2 col0\" >2</td>\n",
       "                        <td id=\"T_6b461cad_1c04_11eb_9eec_13df02a35920row2_col1\" class=\"data row2 col1\" >2</td>\n",
       "                        <td id=\"T_6b461cad_1c04_11eb_9eec_13df02a35920row2_col2\" class=\"data row2 col2\" >0.000000</td>\n",
       "                        <td id=\"T_6b461cad_1c04_11eb_9eec_13df02a35920row2_col3\" class=\"data row2 col3\" >0.000000</td>\n",
       "                        <td id=\"T_6b461cad_1c04_11eb_9eec_13df02a35920row2_col4\" class=\"data row2 col4\" >0</td>\n",
       "                        <td id=\"T_6b461cad_1c04_11eb_9eec_13df02a35920row2_col5\" class=\"data row2 col5\" >1</td>\n",
       "            </tr>\n",
       "            <tr>\n",
       "                                <td id=\"T_6b461cad_1c04_11eb_9eec_13df02a35920row3_col0\" class=\"data row3 col0\" >3</td>\n",
       "                        <td id=\"T_6b461cad_1c04_11eb_9eec_13df02a35920row3_col1\" class=\"data row3 col1\" >3</td>\n",
       "                        <td id=\"T_6b461cad_1c04_11eb_9eec_13df02a35920row3_col2\" class=\"data row3 col2\" >0.000000</td>\n",
       "                        <td id=\"T_6b461cad_1c04_11eb_9eec_13df02a35920row3_col3\" class=\"data row3 col3\" >0.000000</td>\n",
       "                        <td id=\"T_6b461cad_1c04_11eb_9eec_13df02a35920row3_col4\" class=\"data row3 col4\" >0</td>\n",
       "                        <td id=\"T_6b461cad_1c04_11eb_9eec_13df02a35920row3_col5\" class=\"data row3 col5\" >1</td>\n",
       "            </tr>\n",
       "            <tr>\n",
       "                                <td id=\"T_6b461cad_1c04_11eb_9eec_13df02a35920row4_col0\" class=\"data row4 col0\" >4</td>\n",
       "                        <td id=\"T_6b461cad_1c04_11eb_9eec_13df02a35920row4_col1\" class=\"data row4 col1\" >4</td>\n",
       "                        <td id=\"T_6b461cad_1c04_11eb_9eec_13df02a35920row4_col2\" class=\"data row4 col2\" >0.000000</td>\n",
       "                        <td id=\"T_6b461cad_1c04_11eb_9eec_13df02a35920row4_col3\" class=\"data row4 col3\" >0.000000</td>\n",
       "                        <td id=\"T_6b461cad_1c04_11eb_9eec_13df02a35920row4_col4\" class=\"data row4 col4\" >0</td>\n",
       "                        <td id=\"T_6b461cad_1c04_11eb_9eec_13df02a35920row4_col5\" class=\"data row4 col5\" >0</td>\n",
       "            </tr>\n",
       "    </tbody></table>"
      ],
      "text/plain": [
       "<pandas.io.formats.style.Styler at 0x7ff9e5557350>"
      ]
     },
     "execution_count": 20,
     "metadata": {},
     "output_type": "execute_result"
    }
   ],
   "source": [
    "okn.info(net, target='microstate')"
   ]
  },
  {
   "cell_type": "code",
   "execution_count": 21,
   "metadata": {},
   "outputs": [],
   "source": [
    "okn.update_probabilities(net)"
   ]
  },
  {
   "cell_type": "code",
   "execution_count": 22,
   "metadata": {},
   "outputs": [
    {
     "data": {
      "text/html": [
       "<style  type=\"text/css\" >\n",
       "</style><table id=\"T_6b461cae_1c04_11eb_9eec_13df02a35920\" ><thead>    <tr>        <th class=\"col_heading level0 col0\" >index</th>        <th class=\"col_heading level0 col1\" >name</th>        <th class=\"col_heading level0 col2\" >weight</th>        <th class=\"col_heading level0 col3\" >probability</th>        <th class=\"col_heading level0 col4\" >out_degree</th>        <th class=\"col_heading level0 col5\" >in_degree</th>    </tr></thead><tbody>\n",
       "                <tr>\n",
       "                                <td id=\"T_6b461cae_1c04_11eb_9eec_13df02a35920row0_col0\" class=\"data row0 col0\" >0</td>\n",
       "                        <td id=\"T_6b461cae_1c04_11eb_9eec_13df02a35920row0_col1\" class=\"data row0 col1\" >0</td>\n",
       "                        <td id=\"T_6b461cae_1c04_11eb_9eec_13df02a35920row0_col2\" class=\"data row0 col2\" >4.000000</td>\n",
       "                        <td id=\"T_6b461cae_1c04_11eb_9eec_13df02a35920row0_col3\" class=\"data row0 col3\" >0.800000</td>\n",
       "                        <td id=\"T_6b461cae_1c04_11eb_9eec_13df02a35920row0_col4\" class=\"data row0 col4\" >1</td>\n",
       "                        <td id=\"T_6b461cae_1c04_11eb_9eec_13df02a35920row0_col5\" class=\"data row0 col5\" >0</td>\n",
       "            </tr>\n",
       "            <tr>\n",
       "                                <td id=\"T_6b461cae_1c04_11eb_9eec_13df02a35920row1_col0\" class=\"data row1 col0\" >1</td>\n",
       "                        <td id=\"T_6b461cae_1c04_11eb_9eec_13df02a35920row1_col1\" class=\"data row1 col1\" >A</td>\n",
       "                        <td id=\"T_6b461cae_1c04_11eb_9eec_13df02a35920row1_col2\" class=\"data row1 col2\" >1.000000</td>\n",
       "                        <td id=\"T_6b461cae_1c04_11eb_9eec_13df02a35920row1_col3\" class=\"data row1 col3\" >0.200000</td>\n",
       "                        <td id=\"T_6b461cae_1c04_11eb_9eec_13df02a35920row1_col4\" class=\"data row1 col4\" >1</td>\n",
       "                        <td id=\"T_6b461cae_1c04_11eb_9eec_13df02a35920row1_col5\" class=\"data row1 col5\" >0</td>\n",
       "            </tr>\n",
       "            <tr>\n",
       "                                <td id=\"T_6b461cae_1c04_11eb_9eec_13df02a35920row2_col0\" class=\"data row2 col0\" >2</td>\n",
       "                        <td id=\"T_6b461cae_1c04_11eb_9eec_13df02a35920row2_col1\" class=\"data row2 col1\" >2</td>\n",
       "                        <td id=\"T_6b461cae_1c04_11eb_9eec_13df02a35920row2_col2\" class=\"data row2 col2\" >0.000000</td>\n",
       "                        <td id=\"T_6b461cae_1c04_11eb_9eec_13df02a35920row2_col3\" class=\"data row2 col3\" >0.000000</td>\n",
       "                        <td id=\"T_6b461cae_1c04_11eb_9eec_13df02a35920row2_col4\" class=\"data row2 col4\" >0</td>\n",
       "                        <td id=\"T_6b461cae_1c04_11eb_9eec_13df02a35920row2_col5\" class=\"data row2 col5\" >1</td>\n",
       "            </tr>\n",
       "            <tr>\n",
       "                                <td id=\"T_6b461cae_1c04_11eb_9eec_13df02a35920row3_col0\" class=\"data row3 col0\" >3</td>\n",
       "                        <td id=\"T_6b461cae_1c04_11eb_9eec_13df02a35920row3_col1\" class=\"data row3 col1\" >3</td>\n",
       "                        <td id=\"T_6b461cae_1c04_11eb_9eec_13df02a35920row3_col2\" class=\"data row3 col2\" >0.000000</td>\n",
       "                        <td id=\"T_6b461cae_1c04_11eb_9eec_13df02a35920row3_col3\" class=\"data row3 col3\" >0.000000</td>\n",
       "                        <td id=\"T_6b461cae_1c04_11eb_9eec_13df02a35920row3_col4\" class=\"data row3 col4\" >0</td>\n",
       "                        <td id=\"T_6b461cae_1c04_11eb_9eec_13df02a35920row3_col5\" class=\"data row3 col5\" >1</td>\n",
       "            </tr>\n",
       "            <tr>\n",
       "                                <td id=\"T_6b461cae_1c04_11eb_9eec_13df02a35920row4_col0\" class=\"data row4 col0\" >4</td>\n",
       "                        <td id=\"T_6b461cae_1c04_11eb_9eec_13df02a35920row4_col1\" class=\"data row4 col1\" >4</td>\n",
       "                        <td id=\"T_6b461cae_1c04_11eb_9eec_13df02a35920row4_col2\" class=\"data row4 col2\" >0.000000</td>\n",
       "                        <td id=\"T_6b461cae_1c04_11eb_9eec_13df02a35920row4_col3\" class=\"data row4 col3\" >0.000000</td>\n",
       "                        <td id=\"T_6b461cae_1c04_11eb_9eec_13df02a35920row4_col4\" class=\"data row4 col4\" >0</td>\n",
       "                        <td id=\"T_6b461cae_1c04_11eb_9eec_13df02a35920row4_col5\" class=\"data row4 col5\" >0</td>\n",
       "            </tr>\n",
       "    </tbody></table>"
      ],
      "text/plain": [
       "<pandas.io.formats.style.Styler at 0x7ff9e5557b50>"
      ]
     },
     "execution_count": 22,
     "metadata": {},
     "output_type": "execute_result"
    }
   ],
   "source": [
    "okn.info(net, target='microstate')"
   ]
  },
  {
   "cell_type": "code",
   "execution_count": 23,
   "metadata": {},
   "outputs": [
    {
     "data": {
      "text/html": [
       "<style  type=\"text/css\" >\n",
       "</style><table id=\"T_6b461caf_1c04_11eb_9eec_13df02a35920\" ><thead>    <tr>        <th class=\"col_heading level0 col0\" >index</th>        <th class=\"col_heading level0 col1\" >origin_index</th>        <th class=\"col_heading level0 col2\" >end_index</th>        <th class=\"col_heading level0 col3\" >weight</th>        <th class=\"col_heading level0 col4\" >probability</th>        <th class=\"col_heading level0 col5\" >symmetrized</th>    </tr></thead><tbody>\n",
       "                <tr>\n",
       "                                <td id=\"T_6b461caf_1c04_11eb_9eec_13df02a35920row0_col0\" class=\"data row0 col0\" >0</td>\n",
       "                        <td id=\"T_6b461caf_1c04_11eb_9eec_13df02a35920row0_col1\" class=\"data row0 col1\" >1</td>\n",
       "                        <td id=\"T_6b461caf_1c04_11eb_9eec_13df02a35920row0_col2\" class=\"data row0 col2\" >3</td>\n",
       "                        <td id=\"T_6b461caf_1c04_11eb_9eec_13df02a35920row0_col3\" class=\"data row0 col3\" >1.000000</td>\n",
       "                        <td id=\"T_6b461caf_1c04_11eb_9eec_13df02a35920row0_col4\" class=\"data row0 col4\" >1.000000</td>\n",
       "                        <td id=\"T_6b461caf_1c04_11eb_9eec_13df02a35920row0_col5\" class=\"data row0 col5\" >False</td>\n",
       "            </tr>\n",
       "            <tr>\n",
       "                                <td id=\"T_6b461caf_1c04_11eb_9eec_13df02a35920row1_col0\" class=\"data row1 col0\" >1</td>\n",
       "                        <td id=\"T_6b461caf_1c04_11eb_9eec_13df02a35920row1_col1\" class=\"data row1 col1\" >0</td>\n",
       "                        <td id=\"T_6b461caf_1c04_11eb_9eec_13df02a35920row1_col2\" class=\"data row1 col2\" >2</td>\n",
       "                        <td id=\"T_6b461caf_1c04_11eb_9eec_13df02a35920row1_col3\" class=\"data row1 col3\" >4.000000</td>\n",
       "                        <td id=\"T_6b461caf_1c04_11eb_9eec_13df02a35920row1_col4\" class=\"data row1 col4\" >1.000000</td>\n",
       "                        <td id=\"T_6b461caf_1c04_11eb_9eec_13df02a35920row1_col5\" class=\"data row1 col5\" >False</td>\n",
       "            </tr>\n",
       "    </tbody></table>"
      ],
      "text/plain": [
       "<pandas.io.formats.style.Styler at 0x7ffa1c70b250>"
      ]
     },
     "execution_count": 23,
     "metadata": {},
     "output_type": "execute_result"
    }
   ],
   "source": [
    "okn.info(net, target='transition')"
   ]
  },
  {
   "cell_type": "code",
   "execution_count": 24,
   "metadata": {},
   "outputs": [],
   "source": [
    "okn.symmetrize(net)"
   ]
  },
  {
   "cell_type": "code",
   "execution_count": 25,
   "metadata": {},
   "outputs": [
    {
     "data": {
      "text/html": [
       "<style  type=\"text/css\" >\n",
       "</style><table id=\"T_6d694f40_1c04_11eb_9eec_13df02a35920\" ><thead>    <tr>        <th class=\"col_heading level0 col0\" >index</th>        <th class=\"col_heading level0 col1\" >name</th>        <th class=\"col_heading level0 col2\" >weight</th>        <th class=\"col_heading level0 col3\" >probability</th>        <th class=\"col_heading level0 col4\" >degree</th>    </tr></thead><tbody>\n",
       "                <tr>\n",
       "                                <td id=\"T_6d694f40_1c04_11eb_9eec_13df02a35920row0_col0\" class=\"data row0 col0\" >0</td>\n",
       "                        <td id=\"T_6d694f40_1c04_11eb_9eec_13df02a35920row0_col1\" class=\"data row0 col1\" >0</td>\n",
       "                        <td id=\"T_6d694f40_1c04_11eb_9eec_13df02a35920row0_col2\" class=\"data row0 col2\" >2.000000</td>\n",
       "                        <td id=\"T_6d694f40_1c04_11eb_9eec_13df02a35920row0_col3\" class=\"data row0 col3\" >0.400000</td>\n",
       "                        <td id=\"T_6d694f40_1c04_11eb_9eec_13df02a35920row0_col4\" class=\"data row0 col4\" >1</td>\n",
       "            </tr>\n",
       "            <tr>\n",
       "                                <td id=\"T_6d694f40_1c04_11eb_9eec_13df02a35920row1_col0\" class=\"data row1 col0\" >1</td>\n",
       "                        <td id=\"T_6d694f40_1c04_11eb_9eec_13df02a35920row1_col1\" class=\"data row1 col1\" >A</td>\n",
       "                        <td id=\"T_6d694f40_1c04_11eb_9eec_13df02a35920row1_col2\" class=\"data row1 col2\" >0.500000</td>\n",
       "                        <td id=\"T_6d694f40_1c04_11eb_9eec_13df02a35920row1_col3\" class=\"data row1 col3\" >0.100000</td>\n",
       "                        <td id=\"T_6d694f40_1c04_11eb_9eec_13df02a35920row1_col4\" class=\"data row1 col4\" >1</td>\n",
       "            </tr>\n",
       "            <tr>\n",
       "                                <td id=\"T_6d694f40_1c04_11eb_9eec_13df02a35920row2_col0\" class=\"data row2 col0\" >2</td>\n",
       "                        <td id=\"T_6d694f40_1c04_11eb_9eec_13df02a35920row2_col1\" class=\"data row2 col1\" >2</td>\n",
       "                        <td id=\"T_6d694f40_1c04_11eb_9eec_13df02a35920row2_col2\" class=\"data row2 col2\" >0.500000</td>\n",
       "                        <td id=\"T_6d694f40_1c04_11eb_9eec_13df02a35920row2_col3\" class=\"data row2 col3\" >0.100000</td>\n",
       "                        <td id=\"T_6d694f40_1c04_11eb_9eec_13df02a35920row2_col4\" class=\"data row2 col4\" >1</td>\n",
       "            </tr>\n",
       "            <tr>\n",
       "                                <td id=\"T_6d694f40_1c04_11eb_9eec_13df02a35920row3_col0\" class=\"data row3 col0\" >3</td>\n",
       "                        <td id=\"T_6d694f40_1c04_11eb_9eec_13df02a35920row3_col1\" class=\"data row3 col1\" >3</td>\n",
       "                        <td id=\"T_6d694f40_1c04_11eb_9eec_13df02a35920row3_col2\" class=\"data row3 col2\" >2.000000</td>\n",
       "                        <td id=\"T_6d694f40_1c04_11eb_9eec_13df02a35920row3_col3\" class=\"data row3 col3\" >0.400000</td>\n",
       "                        <td id=\"T_6d694f40_1c04_11eb_9eec_13df02a35920row3_col4\" class=\"data row3 col4\" >1</td>\n",
       "            </tr>\n",
       "            <tr>\n",
       "                                <td id=\"T_6d694f40_1c04_11eb_9eec_13df02a35920row4_col0\" class=\"data row4 col0\" >4</td>\n",
       "                        <td id=\"T_6d694f40_1c04_11eb_9eec_13df02a35920row4_col1\" class=\"data row4 col1\" >4</td>\n",
       "                        <td id=\"T_6d694f40_1c04_11eb_9eec_13df02a35920row4_col2\" class=\"data row4 col2\" >0.000000</td>\n",
       "                        <td id=\"T_6d694f40_1c04_11eb_9eec_13df02a35920row4_col3\" class=\"data row4 col3\" >0.000000</td>\n",
       "                        <td id=\"T_6d694f40_1c04_11eb_9eec_13df02a35920row4_col4\" class=\"data row4 col4\" >0</td>\n",
       "            </tr>\n",
       "    </tbody></table>"
      ],
      "text/plain": [
       "<pandas.io.formats.style.Styler at 0x7ff9e5602c90>"
      ]
     },
     "execution_count": 25,
     "metadata": {},
     "output_type": "execute_result"
    }
   ],
   "source": [
    "okn.info(net, target='microstate')"
   ]
  },
  {
   "cell_type": "code",
   "execution_count": 26,
   "metadata": {},
   "outputs": [
    {
     "data": {
      "text/html": [
       "<style  type=\"text/css\" >\n",
       "</style><table id=\"T_6d694f41_1c04_11eb_9eec_13df02a35920\" ><thead>    <tr>        <th class=\"col_heading level0 col0\" >index</th>        <th class=\"col_heading level0 col1\" >origin_index</th>        <th class=\"col_heading level0 col2\" >end_index</th>        <th class=\"col_heading level0 col3\" >weight</th>        <th class=\"col_heading level0 col4\" >probability</th>        <th class=\"col_heading level0 col5\" >symmetrized</th>    </tr></thead><tbody>\n",
       "                <tr>\n",
       "                                <td id=\"T_6d694f41_1c04_11eb_9eec_13df02a35920row0_col0\" class=\"data row0 col0\" >0</td>\n",
       "                        <td id=\"T_6d694f41_1c04_11eb_9eec_13df02a35920row0_col1\" class=\"data row0 col1\" >1</td>\n",
       "                        <td id=\"T_6d694f41_1c04_11eb_9eec_13df02a35920row0_col2\" class=\"data row0 col2\" >3</td>\n",
       "                        <td id=\"T_6d694f41_1c04_11eb_9eec_13df02a35920row0_col3\" class=\"data row0 col3\" >0.500000</td>\n",
       "                        <td id=\"T_6d694f41_1c04_11eb_9eec_13df02a35920row0_col4\" class=\"data row0 col4\" >1.000000</td>\n",
       "                        <td id=\"T_6d694f41_1c04_11eb_9eec_13df02a35920row0_col5\" class=\"data row0 col5\" >True</td>\n",
       "            </tr>\n",
       "            <tr>\n",
       "                                <td id=\"T_6d694f41_1c04_11eb_9eec_13df02a35920row1_col0\" class=\"data row1 col0\" >1</td>\n",
       "                        <td id=\"T_6d694f41_1c04_11eb_9eec_13df02a35920row1_col1\" class=\"data row1 col1\" >0</td>\n",
       "                        <td id=\"T_6d694f41_1c04_11eb_9eec_13df02a35920row1_col2\" class=\"data row1 col2\" >2</td>\n",
       "                        <td id=\"T_6d694f41_1c04_11eb_9eec_13df02a35920row1_col3\" class=\"data row1 col3\" >2.000000</td>\n",
       "                        <td id=\"T_6d694f41_1c04_11eb_9eec_13df02a35920row1_col4\" class=\"data row1 col4\" >1.000000</td>\n",
       "                        <td id=\"T_6d694f41_1c04_11eb_9eec_13df02a35920row1_col5\" class=\"data row1 col5\" >True</td>\n",
       "            </tr>\n",
       "            <tr>\n",
       "                                <td id=\"T_6d694f41_1c04_11eb_9eec_13df02a35920row2_col0\" class=\"data row2 col0\" >2</td>\n",
       "                        <td id=\"T_6d694f41_1c04_11eb_9eec_13df02a35920row2_col1\" class=\"data row2 col1\" >2</td>\n",
       "                        <td id=\"T_6d694f41_1c04_11eb_9eec_13df02a35920row2_col2\" class=\"data row2 col2\" >0</td>\n",
       "                        <td id=\"T_6d694f41_1c04_11eb_9eec_13df02a35920row2_col3\" class=\"data row2 col3\" >0.500000</td>\n",
       "                        <td id=\"T_6d694f41_1c04_11eb_9eec_13df02a35920row2_col4\" class=\"data row2 col4\" >1.000000</td>\n",
       "                        <td id=\"T_6d694f41_1c04_11eb_9eec_13df02a35920row2_col5\" class=\"data row2 col5\" >True</td>\n",
       "            </tr>\n",
       "            <tr>\n",
       "                                <td id=\"T_6d694f41_1c04_11eb_9eec_13df02a35920row3_col0\" class=\"data row3 col0\" >3</td>\n",
       "                        <td id=\"T_6d694f41_1c04_11eb_9eec_13df02a35920row3_col1\" class=\"data row3 col1\" >3</td>\n",
       "                        <td id=\"T_6d694f41_1c04_11eb_9eec_13df02a35920row3_col2\" class=\"data row3 col2\" >1</td>\n",
       "                        <td id=\"T_6d694f41_1c04_11eb_9eec_13df02a35920row3_col3\" class=\"data row3 col3\" >2.000000</td>\n",
       "                        <td id=\"T_6d694f41_1c04_11eb_9eec_13df02a35920row3_col4\" class=\"data row3 col4\" >1.000000</td>\n",
       "                        <td id=\"T_6d694f41_1c04_11eb_9eec_13df02a35920row3_col5\" class=\"data row3 col5\" >True</td>\n",
       "            </tr>\n",
       "    </tbody></table>"
      ],
      "text/plain": [
       "<pandas.io.formats.style.Styler at 0x7ff9e554e3d0>"
      ]
     },
     "execution_count": 26,
     "metadata": {},
     "output_type": "execute_result"
    }
   ],
   "source": [
    "okn.info(net, target='transition')"
   ]
  },
  {
   "cell_type": "code",
   "execution_count": null,
   "metadata": {},
   "outputs": [],
   "source": []
  }
 ],
 "metadata": {
  "kernelspec": {
   "display_name": "Python 3",
   "language": "python",
   "name": "python3"
  },
  "language_info": {
   "codemirror_mode": {
    "name": "ipython",
    "version": 3
   },
   "file_extension": ".py",
   "mimetype": "text/x-python",
   "name": "python",
   "nbconvert_exporter": "python",
   "pygments_lexer": "ipython3",
   "version": "3.7.8"
  }
 },
 "nbformat": 4,
 "nbformat_minor": 4
}
