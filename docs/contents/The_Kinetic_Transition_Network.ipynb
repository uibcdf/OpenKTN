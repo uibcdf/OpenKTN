{
 "cells": [
  {
   "cell_type": "code",
   "execution_count": 1,
   "metadata": {},
   "outputs": [],
   "source": [
    "%load_ext autoreload\n",
    "%autoreload 2"
   ]
  },
  {
   "cell_type": "code",
   "execution_count": 2,
   "metadata": {},
   "outputs": [],
   "source": [
    "import openktn as okn\n",
    "from simtk.unit import kelvin, picoseconds"
   ]
  },
  {
   "cell_type": "markdown",
   "metadata": {},
   "source": [
    "# The Kinetic Transition Network"
   ]
  },
  {
   "cell_type": "code",
   "execution_count": 5,
   "metadata": {},
   "outputs": [],
   "source": [
    "net = okn.kinetic_transition_network(temperature=300*kelvin, time_step=10*picoseconds)"
   ]
  },
  {
   "cell_type": "code",
   "execution_count": 6,
   "metadata": {},
   "outputs": [
    {
     "data": {
      "text/html": [
       "<style  type=\"text/css\" >\n",
       "</style><table id=\"T_8ae7726e_1974_11eb_bd0e_1739555123de\" ><thead>    <tr>        <th class=\"col_heading level0 col0\" >form</th>        <th class=\"col_heading level0 col1\" >n_microstates</th>        <th class=\"col_heading level0 col2\" >n_transitions</th>        <th class=\"col_heading level0 col3\" >weight</th>        <th class=\"col_heading level0 col4\" >symmetrized</th>        <th class=\"col_heading level0 col5\" >temperature</th>        <th class=\"col_heading level0 col6\" >time_step</th>    </tr></thead><tbody>\n",
       "                <tr>\n",
       "                                <td id=\"T_8ae7726e_1974_11eb_bd0e_1739555123derow0_col0\" class=\"data row0 col0\" >openktn.KineticTransitionNetwork</td>\n",
       "                        <td id=\"T_8ae7726e_1974_11eb_bd0e_1739555123derow0_col1\" class=\"data row0 col1\" >0</td>\n",
       "                        <td id=\"T_8ae7726e_1974_11eb_bd0e_1739555123derow0_col2\" class=\"data row0 col2\" >0</td>\n",
       "                        <td id=\"T_8ae7726e_1974_11eb_bd0e_1739555123derow0_col3\" class=\"data row0 col3\" >0.000000</td>\n",
       "                        <td id=\"T_8ae7726e_1974_11eb_bd0e_1739555123derow0_col4\" class=\"data row0 col4\" >False</td>\n",
       "                        <td id=\"T_8ae7726e_1974_11eb_bd0e_1739555123derow0_col5\" class=\"data row0 col5\" >300 K</td>\n",
       "                        <td id=\"T_8ae7726e_1974_11eb_bd0e_1739555123derow0_col6\" class=\"data row0 col6\" >0.01 ns</td>\n",
       "            </tr>\n",
       "    </tbody></table>"
      ],
      "text/plain": [
       "<pandas.io.formats.style.Styler at 0x7f7768d51d50>"
      ]
     },
     "execution_count": 6,
     "metadata": {},
     "output_type": "execute_result"
    }
   ],
   "source": [
    "okn.info(net)"
   ]
  },
  {
   "cell_type": "code",
   "execution_count": 7,
   "metadata": {},
   "outputs": [],
   "source": [
    "net = okn.kinetic_transition_network(n_microstates=500,temperature=300*kelvin,\n",
    "                                     time_step=10*picoseconds)"
   ]
  },
  {
   "cell_type": "code",
   "execution_count": 8,
   "metadata": {},
   "outputs": [
    {
     "data": {
      "text/html": [
       "<style  type=\"text/css\" >\n",
       "</style><table id=\"T_90e22844_1974_11eb_bd0e_1739555123de\" ><thead>    <tr>        <th class=\"col_heading level0 col0\" >form</th>        <th class=\"col_heading level0 col1\" >n_microstates</th>        <th class=\"col_heading level0 col2\" >n_transitions</th>        <th class=\"col_heading level0 col3\" >weight</th>        <th class=\"col_heading level0 col4\" >symmetrized</th>        <th class=\"col_heading level0 col5\" >temperature</th>        <th class=\"col_heading level0 col6\" >time_step</th>    </tr></thead><tbody>\n",
       "                <tr>\n",
       "                                <td id=\"T_90e22844_1974_11eb_bd0e_1739555123derow0_col0\" class=\"data row0 col0\" >openktn.KineticTransitionNetwork</td>\n",
       "                        <td id=\"T_90e22844_1974_11eb_bd0e_1739555123derow0_col1\" class=\"data row0 col1\" >500</td>\n",
       "                        <td id=\"T_90e22844_1974_11eb_bd0e_1739555123derow0_col2\" class=\"data row0 col2\" >0</td>\n",
       "                        <td id=\"T_90e22844_1974_11eb_bd0e_1739555123derow0_col3\" class=\"data row0 col3\" >0.000000</td>\n",
       "                        <td id=\"T_90e22844_1974_11eb_bd0e_1739555123derow0_col4\" class=\"data row0 col4\" >False</td>\n",
       "                        <td id=\"T_90e22844_1974_11eb_bd0e_1739555123derow0_col5\" class=\"data row0 col5\" >300 K</td>\n",
       "                        <td id=\"T_90e22844_1974_11eb_bd0e_1739555123derow0_col6\" class=\"data row0 col6\" >0.01 ns</td>\n",
       "            </tr>\n",
       "    </tbody></table>"
      ],
      "text/plain": [
       "<pandas.io.formats.style.Styler at 0x7f77693d5450>"
      ]
     },
     "execution_count": 8,
     "metadata": {},
     "output_type": "execute_result"
    }
   ],
   "source": [
    "okn.info(net)"
   ]
  },
  {
   "cell_type": "code",
   "execution_count": 9,
   "metadata": {},
   "outputs": [],
   "source": [
    "net = okn.kinetic_transition_network(form='networkx.DiGraph', temperature=300*kelvin,\n",
    "                                     time_step=10*picoseconds)"
   ]
  },
  {
   "cell_type": "code",
   "execution_count": 10,
   "metadata": {},
   "outputs": [
    {
     "data": {
      "text/html": [
       "<style  type=\"text/css\" >\n",
       "</style><table id=\"T_9b5fc5ba_1974_11eb_bd0e_1739555123de\" ><thead>    <tr>        <th class=\"col_heading level0 col0\" >form</th>        <th class=\"col_heading level0 col1\" >n_microstates</th>        <th class=\"col_heading level0 col2\" >n_transitions</th>        <th class=\"col_heading level0 col3\" >weight</th>        <th class=\"col_heading level0 col4\" >symmetrized</th>        <th class=\"col_heading level0 col5\" >temperature</th>        <th class=\"col_heading level0 col6\" >time_step</th>    </tr></thead><tbody>\n",
       "                <tr>\n",
       "                                <td id=\"T_9b5fc5ba_1974_11eb_bd0e_1739555123derow0_col0\" class=\"data row0 col0\" >networkx.DiGraph</td>\n",
       "                        <td id=\"T_9b5fc5ba_1974_11eb_bd0e_1739555123derow0_col1\" class=\"data row0 col1\" >0</td>\n",
       "                        <td id=\"T_9b5fc5ba_1974_11eb_bd0e_1739555123derow0_col2\" class=\"data row0 col2\" >0</td>\n",
       "                        <td id=\"T_9b5fc5ba_1974_11eb_bd0e_1739555123derow0_col3\" class=\"data row0 col3\" >0.000000</td>\n",
       "                        <td id=\"T_9b5fc5ba_1974_11eb_bd0e_1739555123derow0_col4\" class=\"data row0 col4\" >False</td>\n",
       "                        <td id=\"T_9b5fc5ba_1974_11eb_bd0e_1739555123derow0_col5\" class=\"data row0 col5\" >300 K</td>\n",
       "                        <td id=\"T_9b5fc5ba_1974_11eb_bd0e_1739555123derow0_col6\" class=\"data row0 col6\" >0.01 ns</td>\n",
       "            </tr>\n",
       "    </tbody></table>"
      ],
      "text/plain": [
       "<pandas.io.formats.style.Styler at 0x7f7768d3b190>"
      ]
     },
     "execution_count": 10,
     "metadata": {},
     "output_type": "execute_result"
    }
   ],
   "source": [
    "okn.info(net)"
   ]
  }
 ],
 "metadata": {
  "kernelspec": {
   "display_name": "Python 3",
   "language": "python",
   "name": "python3"
  },
  "language_info": {
   "codemirror_mode": {
    "name": "ipython",
    "version": 3
   },
   "file_extension": ".py",
   "mimetype": "text/x-python",
   "name": "python",
   "nbconvert_exporter": "python",
   "pygments_lexer": "ipython3",
   "version": "3.7.7"
  }
 },
 "nbformat": 4,
 "nbformat_minor": 4
}
