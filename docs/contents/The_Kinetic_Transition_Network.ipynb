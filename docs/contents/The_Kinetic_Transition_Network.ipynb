{
 "cells": [
  {
   "cell_type": "code",
   "execution_count": 1,
   "metadata": {},
   "outputs": [],
   "source": [
    "%load_ext autoreload\n",
    "%autoreload 2"
   ]
  },
  {
   "cell_type": "code",
   "execution_count": 2,
   "metadata": {},
   "outputs": [],
   "source": [
    "import openktn as okn\n",
    "from simtk.unit import kelvin, picoseconds"
   ]
  },
  {
   "cell_type": "markdown",
   "metadata": {},
   "source": [
    "# The Kinetic Transition Network"
   ]
  },
  {
   "cell_type": "markdown",
   "metadata": {},
   "source": [
    "A Markov chain, roughly, is a consecutive series of events (equally spaced in time) where the probability of a specific event only depends on the previous one. For example, imagine that you measure an observable of your experiment every hour, writting down in your notebook the sequence of obtained values:"
   ]
  },
  {
   "cell_type": "code",
   "execution_count": 3,
   "metadata": {},
   "outputs": [],
   "source": [
    "series=['A','A','B','C','C','A','D','A','C','B','C','C','A','A','D']"
   ]
  },
  {
   "cell_type": "markdown",
   "metadata": {},
   "source": [
    "The consecutive pairs of values can be used to calculate the transitions probabilities. In other words, whats the probability of observing the transition to stat 'B' having the system in 'A'. Let see the transitions: "
   ]
  },
  {
   "cell_type": "code",
   "execution_count": 4,
   "metadata": {},
   "outputs": [
    {
     "name": "stdout",
     "output_type": "stream",
     "text": [
      "A --> A\n",
      "A --> B\n",
      "B --> C\n",
      "C --> C\n",
      "C --> A\n",
      "A --> D\n",
      "D --> A\n",
      "A --> C\n",
      "C --> B\n",
      "B --> C\n",
      "C --> C\n",
      "C --> A\n",
      "A --> A\n",
      "A --> D\n"
     ]
    }
   ],
   "source": [
    "for current_state, next_state in zip(series[:-1],series[1:]):\n",
    "    print('{} --> {}'.format(current_state, next_state))"
   ]
  },
  {
   "cell_type": "markdown",
   "metadata": {},
   "source": [
    "We can count the number of times your system went from 'i' to 'j' successsively. Lets name the net number of times a transition appears in a Markov chains as $m_{ij}$:"
   ]
  },
  {
   "cell_type": "code",
   "execution_count": 5,
   "metadata": {},
   "outputs": [],
   "source": [
    "mij={'A':{}, 'B':{}, 'C':{}, 'D':{}}\n",
    "\n",
    "for current_state, next_state in zip(series[:-1],series[1:]):\n",
    "    try:\n",
    "        mij[current_state][next_state]+=1\n",
    "    except:\n",
    "        mij[current_state][next_state]=1"
   ]
  },
  {
   "cell_type": "markdown",
   "metadata": {},
   "source": [
    "Thus, we have that the number of times 'D' was observed right after 'A' is:"
   ]
  },
  {
   "cell_type": "code",
   "execution_count": 6,
   "metadata": {},
   "outputs": [
    {
     "data": {
      "text/plain": [
       "2"
      ]
     },
     "execution_count": 6,
     "metadata": {},
     "output_type": "execute_result"
    }
   ],
   "source": [
    "mij['A']['D']"
   ]
  },
  {
   "cell_type": "markdown",
   "metadata": {},
   "source": [
    "We can also count the number of times a value 'i' was observed at the origin of a transition. Lets call this as $m_i$."
   ]
  },
  {
   "cell_type": "code",
   "execution_count": 7,
   "metadata": {},
   "outputs": [],
   "source": [
    "mi={'A':0, 'B':0, 'C':0, 'D':0}\n",
    "\n",
    "for current_state, next_state in zip(series[:-1],series[1:]):\n",
    "        mi[current_state]+=1"
   ]
  },
  {
   "cell_type": "markdown",
   "metadata": {},
   "source": [
    "The frequence a value 'i' was observed is $m_i$ for all values but the last one in the series. In this case 'D' appears twice in the series but $m_D=1$."
   ]
  },
  {
   "cell_type": "code",
   "execution_count": 8,
   "metadata": {},
   "outputs": [
    {
     "data": {
      "text/plain": [
       "1"
      ]
     },
     "execution_count": 8,
     "metadata": {},
     "output_type": "execute_result"
    }
   ],
   "source": [
    "mi['D']"
   ]
  },
  {
   "cell_type": "markdown",
   "metadata": {},
   "source": [
    "Now that we have all $m_i$ and $m_{ij}$ values, the behaviour observed in our system along 15 consecutive measurements can be enconded as a network. To do so, each state 'i' in the Markov chain is a node in the KTN. A link, or edge, from node $i$ to node $j$ is added to the network if the transition $i \\rightarrow j$ was observed at least once along the chain. This way the new graph is a **directed network**, between $i$ and $j$ two different edges can be defined: $i \\rightarrow j$ and $i \\leftarrow j$.\n",
    "\n",
    "Nodes and edges are then clearly defined given a series of events. Now, we can attach to each element, node or edge, a weight. The value $m_i$ defines the weight of the node $i$, and the value $m_{ij}$ defines the weight of the edge $i \\rightarrow j$. This way, the resultant graph is a **weighted directed graph** known as the kinetic transition network (KTN) obtained from the events chain.\n",
    "\n",
    "Finnally, we can define the weight of the network $M$ as the sum of all nodes' weights, which is the same as summing the weights of all edges in the graph:\n",
    "\n",
    "\\begin{equation}\n",
    "M = \\sum_i {m_i} = \\sum_{ij} m_{ij}\n",
    "\\end{equation}\n",
    "\n",
    "Given that by definition:\n",
    "\n",
    "\\begin{equation}\n",
    "{m_i} = \\sum_{j} {m_{ij}}\n",
    "\\end{equation}"
   ]
  },
  {
   "cell_type": "code",
   "execution_count": 9,
   "metadata": {},
   "outputs": [],
   "source": [
    "net = okn.KTN()\n",
    "\n",
    "for current_state, next_state in zip(series[:-1],series[1:]):\n",
    "    okn.add_transition(net, origin=current_state, end=next_state, weight=1)"
   ]
  },
  {
   "cell_type": "code",
   "execution_count": 10,
   "metadata": {},
   "outputs": [],
   "source": [
    "okn.update_microstates_weights(net)"
   ]
  },
  {
   "cell_type": "code",
   "execution_count": 11,
   "metadata": {},
   "outputs": [
    {
     "data": {
      "text/html": [
       "<style  type=\"text/css\" >\n",
       "</style><table id=\"T_7a2694a4_22d0_11eb_9b07_194e6ae80ec8\" ><thead>    <tr>        <th class=\"col_heading level0 col0\" >form</th>        <th class=\"col_heading level0 col1\" >n_microstates</th>        <th class=\"col_heading level0 col2\" >n_transitions</th>        <th class=\"col_heading level0 col3\" >weight</th>        <th class=\"col_heading level0 col4\" >symmetrized</th>        <th class=\"col_heading level0 col5\" >temperature</th>        <th class=\"col_heading level0 col6\" >time_step</th>    </tr></thead><tbody>\n",
       "                <tr>\n",
       "                                <td id=\"T_7a2694a4_22d0_11eb_9b07_194e6ae80ec8row0_col0\" class=\"data row0 col0\" >pandas.KineticTransitionNetwork</td>\n",
       "                        <td id=\"T_7a2694a4_22d0_11eb_9b07_194e6ae80ec8row0_col1\" class=\"data row0 col1\" >4</td>\n",
       "                        <td id=\"T_7a2694a4_22d0_11eb_9b07_194e6ae80ec8row0_col2\" class=\"data row0 col2\" >9</td>\n",
       "                        <td id=\"T_7a2694a4_22d0_11eb_9b07_194e6ae80ec8row0_col3\" class=\"data row0 col3\" >14</td>\n",
       "                        <td id=\"T_7a2694a4_22d0_11eb_9b07_194e6ae80ec8row0_col4\" class=\"data row0 col4\" >False</td>\n",
       "                        <td id=\"T_7a2694a4_22d0_11eb_9b07_194e6ae80ec8row0_col5\" class=\"data row0 col5\" >0.0 K</td>\n",
       "                        <td id=\"T_7a2694a4_22d0_11eb_9b07_194e6ae80ec8row0_col6\" class=\"data row0 col6\" >0.0 ns</td>\n",
       "            </tr>\n",
       "    </tbody></table>"
      ],
      "text/plain": [
       "<pandas.io.formats.style.Styler at 0x7fc079efc0d0>"
      ]
     },
     "execution_count": 11,
     "metadata": {},
     "output_type": "execute_result"
    }
   ],
   "source": [
    "okn.info(net)"
   ]
  },
  {
   "cell_type": "code",
   "execution_count": 12,
   "metadata": {},
   "outputs": [
    {
     "data": {
      "text/html": [
       "<style  type=\"text/css\" >\n",
       "</style><table id=\"T_7b9942b4_22d0_11eb_9b07_194e6ae80ec8\" ><thead>    <tr>        <th class=\"col_heading level0 col0\" >index</th>        <th class=\"col_heading level0 col1\" >name</th>        <th class=\"col_heading level0 col2\" >weight</th>        <th class=\"col_heading level0 col3\" >probability</th>        <th class=\"col_heading level0 col4\" >out_degree</th>        <th class=\"col_heading level0 col5\" >in_degree</th>    </tr></thead><tbody>\n",
       "                <tr>\n",
       "                                <td id=\"T_7b9942b4_22d0_11eb_9b07_194e6ae80ec8row0_col0\" class=\"data row0 col0\" >0</td>\n",
       "                        <td id=\"T_7b9942b4_22d0_11eb_9b07_194e6ae80ec8row0_col1\" class=\"data row0 col1\" >A</td>\n",
       "                        <td id=\"T_7b9942b4_22d0_11eb_9b07_194e6ae80ec8row0_col2\" class=\"data row0 col2\" >6</td>\n",
       "                        <td id=\"T_7b9942b4_22d0_11eb_9b07_194e6ae80ec8row0_col3\" class=\"data row0 col3\" >0.000000</td>\n",
       "                        <td id=\"T_7b9942b4_22d0_11eb_9b07_194e6ae80ec8row0_col4\" class=\"data row0 col4\" >4</td>\n",
       "                        <td id=\"T_7b9942b4_22d0_11eb_9b07_194e6ae80ec8row0_col5\" class=\"data row0 col5\" >3</td>\n",
       "            </tr>\n",
       "            <tr>\n",
       "                                <td id=\"T_7b9942b4_22d0_11eb_9b07_194e6ae80ec8row1_col0\" class=\"data row1 col0\" >1</td>\n",
       "                        <td id=\"T_7b9942b4_22d0_11eb_9b07_194e6ae80ec8row1_col1\" class=\"data row1 col1\" >B</td>\n",
       "                        <td id=\"T_7b9942b4_22d0_11eb_9b07_194e6ae80ec8row1_col2\" class=\"data row1 col2\" >2</td>\n",
       "                        <td id=\"T_7b9942b4_22d0_11eb_9b07_194e6ae80ec8row1_col3\" class=\"data row1 col3\" >0.000000</td>\n",
       "                        <td id=\"T_7b9942b4_22d0_11eb_9b07_194e6ae80ec8row1_col4\" class=\"data row1 col4\" >1</td>\n",
       "                        <td id=\"T_7b9942b4_22d0_11eb_9b07_194e6ae80ec8row1_col5\" class=\"data row1 col5\" >2</td>\n",
       "            </tr>\n",
       "            <tr>\n",
       "                                <td id=\"T_7b9942b4_22d0_11eb_9b07_194e6ae80ec8row2_col0\" class=\"data row2 col0\" >2</td>\n",
       "                        <td id=\"T_7b9942b4_22d0_11eb_9b07_194e6ae80ec8row2_col1\" class=\"data row2 col1\" >C</td>\n",
       "                        <td id=\"T_7b9942b4_22d0_11eb_9b07_194e6ae80ec8row2_col2\" class=\"data row2 col2\" >5</td>\n",
       "                        <td id=\"T_7b9942b4_22d0_11eb_9b07_194e6ae80ec8row2_col3\" class=\"data row2 col3\" >0.000000</td>\n",
       "                        <td id=\"T_7b9942b4_22d0_11eb_9b07_194e6ae80ec8row2_col4\" class=\"data row2 col4\" >3</td>\n",
       "                        <td id=\"T_7b9942b4_22d0_11eb_9b07_194e6ae80ec8row2_col5\" class=\"data row2 col5\" >3</td>\n",
       "            </tr>\n",
       "            <tr>\n",
       "                                <td id=\"T_7b9942b4_22d0_11eb_9b07_194e6ae80ec8row3_col0\" class=\"data row3 col0\" >3</td>\n",
       "                        <td id=\"T_7b9942b4_22d0_11eb_9b07_194e6ae80ec8row3_col1\" class=\"data row3 col1\" >D</td>\n",
       "                        <td id=\"T_7b9942b4_22d0_11eb_9b07_194e6ae80ec8row3_col2\" class=\"data row3 col2\" >1</td>\n",
       "                        <td id=\"T_7b9942b4_22d0_11eb_9b07_194e6ae80ec8row3_col3\" class=\"data row3 col3\" >0.000000</td>\n",
       "                        <td id=\"T_7b9942b4_22d0_11eb_9b07_194e6ae80ec8row3_col4\" class=\"data row3 col4\" >1</td>\n",
       "                        <td id=\"T_7b9942b4_22d0_11eb_9b07_194e6ae80ec8row3_col5\" class=\"data row3 col5\" >1</td>\n",
       "            </tr>\n",
       "    </tbody></table>"
      ],
      "text/plain": [
       "<pandas.io.formats.style.Styler at 0x7fc03f9ed650>"
      ]
     },
     "execution_count": 12,
     "metadata": {},
     "output_type": "execute_result"
    }
   ],
   "source": [
    "okn.info(net, target='microstate')"
   ]
  },
  {
   "cell_type": "code",
   "execution_count": 13,
   "metadata": {},
   "outputs": [
    {
     "data": {
      "text/html": [
       "<style  type=\"text/css\" >\n",
       "</style><table id=\"T_7b9942b5_22d0_11eb_9b07_194e6ae80ec8\" ><thead>    <tr>        <th class=\"col_heading level0 col0\" >index</th>        <th class=\"col_heading level0 col1\" >origin</th>        <th class=\"col_heading level0 col2\" >end</th>        <th class=\"col_heading level0 col3\" >weight</th>        <th class=\"col_heading level0 col4\" >probability</th>        <th class=\"col_heading level0 col5\" >symmetrized</th>    </tr></thead><tbody>\n",
       "                <tr>\n",
       "                                <td id=\"T_7b9942b5_22d0_11eb_9b07_194e6ae80ec8row0_col0\" class=\"data row0 col0\" >0</td>\n",
       "                        <td id=\"T_7b9942b5_22d0_11eb_9b07_194e6ae80ec8row0_col1\" class=\"data row0 col1\" >A</td>\n",
       "                        <td id=\"T_7b9942b5_22d0_11eb_9b07_194e6ae80ec8row0_col2\" class=\"data row0 col2\" >A</td>\n",
       "                        <td id=\"T_7b9942b5_22d0_11eb_9b07_194e6ae80ec8row0_col3\" class=\"data row0 col3\" >2</td>\n",
       "                        <td id=\"T_7b9942b5_22d0_11eb_9b07_194e6ae80ec8row0_col4\" class=\"data row0 col4\" >0.000000</td>\n",
       "                        <td id=\"T_7b9942b5_22d0_11eb_9b07_194e6ae80ec8row0_col5\" class=\"data row0 col5\" >False</td>\n",
       "            </tr>\n",
       "            <tr>\n",
       "                                <td id=\"T_7b9942b5_22d0_11eb_9b07_194e6ae80ec8row1_col0\" class=\"data row1 col0\" >1</td>\n",
       "                        <td id=\"T_7b9942b5_22d0_11eb_9b07_194e6ae80ec8row1_col1\" class=\"data row1 col1\" >A</td>\n",
       "                        <td id=\"T_7b9942b5_22d0_11eb_9b07_194e6ae80ec8row1_col2\" class=\"data row1 col2\" >B</td>\n",
       "                        <td id=\"T_7b9942b5_22d0_11eb_9b07_194e6ae80ec8row1_col3\" class=\"data row1 col3\" >1</td>\n",
       "                        <td id=\"T_7b9942b5_22d0_11eb_9b07_194e6ae80ec8row1_col4\" class=\"data row1 col4\" >0.000000</td>\n",
       "                        <td id=\"T_7b9942b5_22d0_11eb_9b07_194e6ae80ec8row1_col5\" class=\"data row1 col5\" >False</td>\n",
       "            </tr>\n",
       "            <tr>\n",
       "                                <td id=\"T_7b9942b5_22d0_11eb_9b07_194e6ae80ec8row2_col0\" class=\"data row2 col0\" >2</td>\n",
       "                        <td id=\"T_7b9942b5_22d0_11eb_9b07_194e6ae80ec8row2_col1\" class=\"data row2 col1\" >B</td>\n",
       "                        <td id=\"T_7b9942b5_22d0_11eb_9b07_194e6ae80ec8row2_col2\" class=\"data row2 col2\" >C</td>\n",
       "                        <td id=\"T_7b9942b5_22d0_11eb_9b07_194e6ae80ec8row2_col3\" class=\"data row2 col3\" >2</td>\n",
       "                        <td id=\"T_7b9942b5_22d0_11eb_9b07_194e6ae80ec8row2_col4\" class=\"data row2 col4\" >0.000000</td>\n",
       "                        <td id=\"T_7b9942b5_22d0_11eb_9b07_194e6ae80ec8row2_col5\" class=\"data row2 col5\" >False</td>\n",
       "            </tr>\n",
       "            <tr>\n",
       "                                <td id=\"T_7b9942b5_22d0_11eb_9b07_194e6ae80ec8row3_col0\" class=\"data row3 col0\" >3</td>\n",
       "                        <td id=\"T_7b9942b5_22d0_11eb_9b07_194e6ae80ec8row3_col1\" class=\"data row3 col1\" >C</td>\n",
       "                        <td id=\"T_7b9942b5_22d0_11eb_9b07_194e6ae80ec8row3_col2\" class=\"data row3 col2\" >C</td>\n",
       "                        <td id=\"T_7b9942b5_22d0_11eb_9b07_194e6ae80ec8row3_col3\" class=\"data row3 col3\" >2</td>\n",
       "                        <td id=\"T_7b9942b5_22d0_11eb_9b07_194e6ae80ec8row3_col4\" class=\"data row3 col4\" >0.000000</td>\n",
       "                        <td id=\"T_7b9942b5_22d0_11eb_9b07_194e6ae80ec8row3_col5\" class=\"data row3 col5\" >False</td>\n",
       "            </tr>\n",
       "            <tr>\n",
       "                                <td id=\"T_7b9942b5_22d0_11eb_9b07_194e6ae80ec8row4_col0\" class=\"data row4 col0\" >4</td>\n",
       "                        <td id=\"T_7b9942b5_22d0_11eb_9b07_194e6ae80ec8row4_col1\" class=\"data row4 col1\" >C</td>\n",
       "                        <td id=\"T_7b9942b5_22d0_11eb_9b07_194e6ae80ec8row4_col2\" class=\"data row4 col2\" >A</td>\n",
       "                        <td id=\"T_7b9942b5_22d0_11eb_9b07_194e6ae80ec8row4_col3\" class=\"data row4 col3\" >2</td>\n",
       "                        <td id=\"T_7b9942b5_22d0_11eb_9b07_194e6ae80ec8row4_col4\" class=\"data row4 col4\" >0.000000</td>\n",
       "                        <td id=\"T_7b9942b5_22d0_11eb_9b07_194e6ae80ec8row4_col5\" class=\"data row4 col5\" >False</td>\n",
       "            </tr>\n",
       "            <tr>\n",
       "                                <td id=\"T_7b9942b5_22d0_11eb_9b07_194e6ae80ec8row5_col0\" class=\"data row5 col0\" >5</td>\n",
       "                        <td id=\"T_7b9942b5_22d0_11eb_9b07_194e6ae80ec8row5_col1\" class=\"data row5 col1\" >A</td>\n",
       "                        <td id=\"T_7b9942b5_22d0_11eb_9b07_194e6ae80ec8row5_col2\" class=\"data row5 col2\" >D</td>\n",
       "                        <td id=\"T_7b9942b5_22d0_11eb_9b07_194e6ae80ec8row5_col3\" class=\"data row5 col3\" >2</td>\n",
       "                        <td id=\"T_7b9942b5_22d0_11eb_9b07_194e6ae80ec8row5_col4\" class=\"data row5 col4\" >0.000000</td>\n",
       "                        <td id=\"T_7b9942b5_22d0_11eb_9b07_194e6ae80ec8row5_col5\" class=\"data row5 col5\" >False</td>\n",
       "            </tr>\n",
       "            <tr>\n",
       "                                <td id=\"T_7b9942b5_22d0_11eb_9b07_194e6ae80ec8row6_col0\" class=\"data row6 col0\" >6</td>\n",
       "                        <td id=\"T_7b9942b5_22d0_11eb_9b07_194e6ae80ec8row6_col1\" class=\"data row6 col1\" >D</td>\n",
       "                        <td id=\"T_7b9942b5_22d0_11eb_9b07_194e6ae80ec8row6_col2\" class=\"data row6 col2\" >A</td>\n",
       "                        <td id=\"T_7b9942b5_22d0_11eb_9b07_194e6ae80ec8row6_col3\" class=\"data row6 col3\" >1</td>\n",
       "                        <td id=\"T_7b9942b5_22d0_11eb_9b07_194e6ae80ec8row6_col4\" class=\"data row6 col4\" >0.000000</td>\n",
       "                        <td id=\"T_7b9942b5_22d0_11eb_9b07_194e6ae80ec8row6_col5\" class=\"data row6 col5\" >False</td>\n",
       "            </tr>\n",
       "            <tr>\n",
       "                                <td id=\"T_7b9942b5_22d0_11eb_9b07_194e6ae80ec8row7_col0\" class=\"data row7 col0\" >7</td>\n",
       "                        <td id=\"T_7b9942b5_22d0_11eb_9b07_194e6ae80ec8row7_col1\" class=\"data row7 col1\" >A</td>\n",
       "                        <td id=\"T_7b9942b5_22d0_11eb_9b07_194e6ae80ec8row7_col2\" class=\"data row7 col2\" >C</td>\n",
       "                        <td id=\"T_7b9942b5_22d0_11eb_9b07_194e6ae80ec8row7_col3\" class=\"data row7 col3\" >1</td>\n",
       "                        <td id=\"T_7b9942b5_22d0_11eb_9b07_194e6ae80ec8row7_col4\" class=\"data row7 col4\" >0.000000</td>\n",
       "                        <td id=\"T_7b9942b5_22d0_11eb_9b07_194e6ae80ec8row7_col5\" class=\"data row7 col5\" >False</td>\n",
       "            </tr>\n",
       "            <tr>\n",
       "                                <td id=\"T_7b9942b5_22d0_11eb_9b07_194e6ae80ec8row8_col0\" class=\"data row8 col0\" >8</td>\n",
       "                        <td id=\"T_7b9942b5_22d0_11eb_9b07_194e6ae80ec8row8_col1\" class=\"data row8 col1\" >C</td>\n",
       "                        <td id=\"T_7b9942b5_22d0_11eb_9b07_194e6ae80ec8row8_col2\" class=\"data row8 col2\" >B</td>\n",
       "                        <td id=\"T_7b9942b5_22d0_11eb_9b07_194e6ae80ec8row8_col3\" class=\"data row8 col3\" >1</td>\n",
       "                        <td id=\"T_7b9942b5_22d0_11eb_9b07_194e6ae80ec8row8_col4\" class=\"data row8 col4\" >0.000000</td>\n",
       "                        <td id=\"T_7b9942b5_22d0_11eb_9b07_194e6ae80ec8row8_col5\" class=\"data row8 col5\" >False</td>\n",
       "            </tr>\n",
       "    </tbody></table>"
      ],
      "text/plain": [
       "<pandas.io.formats.style.Styler at 0x7fc03fa5e910>"
      ]
     },
     "execution_count": 13,
     "metadata": {},
     "output_type": "execute_result"
    }
   ],
   "source": [
    "okn.info(net, target='transition')"
   ]
  },
  {
   "cell_type": "markdown",
   "metadata": {},
   "source": [
    "The weights of the KTN can be redefined as probabilities. This way it is more evident that the KTN is nothing but the representation of a Markov model as a graph:\n",
    "\n",
    "\\begin{equation}\n",
    "p_i = \\frac{m_i}{\\sum_j m_j}\n",
    "\\end{equation}\n",
    "\n",
    "and\n",
    "\n",
    "\\begin{equation}\n",
    "p_{ij} = \\frac{m_{ij}}{\\sum_k m_{ik}}\n",
    "\\end{equation}"
   ]
  },
  {
   "cell_type": "markdown",
   "metadata": {},
   "source": [
    "The weights can be re-written then as $p_{i}$ for the nodes, stationary probabilities for the kinetic model, and as $p_{ij}$ for the edges, transition probabilities."
   ]
  },
  {
   "cell_type": "code",
   "execution_count": 14,
   "metadata": {},
   "outputs": [],
   "source": [
    "okn.update_probabilities(net)"
   ]
  },
  {
   "cell_type": "code",
   "execution_count": 15,
   "metadata": {},
   "outputs": [
    {
     "data": {
      "text/html": [
       "<style  type=\"text/css\" >\n",
       "</style><table id=\"T_7e893628_22d0_11eb_9b07_194e6ae80ec8\" ><thead>    <tr>        <th class=\"col_heading level0 col0\" >form</th>        <th class=\"col_heading level0 col1\" >n_microstates</th>        <th class=\"col_heading level0 col2\" >n_transitions</th>        <th class=\"col_heading level0 col3\" >weight</th>        <th class=\"col_heading level0 col4\" >symmetrized</th>        <th class=\"col_heading level0 col5\" >temperature</th>        <th class=\"col_heading level0 col6\" >time_step</th>    </tr></thead><tbody>\n",
       "                <tr>\n",
       "                                <td id=\"T_7e893628_22d0_11eb_9b07_194e6ae80ec8row0_col0\" class=\"data row0 col0\" >pandas.KineticTransitionNetwork</td>\n",
       "                        <td id=\"T_7e893628_22d0_11eb_9b07_194e6ae80ec8row0_col1\" class=\"data row0 col1\" >4</td>\n",
       "                        <td id=\"T_7e893628_22d0_11eb_9b07_194e6ae80ec8row0_col2\" class=\"data row0 col2\" >9</td>\n",
       "                        <td id=\"T_7e893628_22d0_11eb_9b07_194e6ae80ec8row0_col3\" class=\"data row0 col3\" >14</td>\n",
       "                        <td id=\"T_7e893628_22d0_11eb_9b07_194e6ae80ec8row0_col4\" class=\"data row0 col4\" >False</td>\n",
       "                        <td id=\"T_7e893628_22d0_11eb_9b07_194e6ae80ec8row0_col5\" class=\"data row0 col5\" >0.0 K</td>\n",
       "                        <td id=\"T_7e893628_22d0_11eb_9b07_194e6ae80ec8row0_col6\" class=\"data row0 col6\" >0.0 ns</td>\n",
       "            </tr>\n",
       "    </tbody></table>"
      ],
      "text/plain": [
       "<pandas.io.formats.style.Styler at 0x7fc03f9ed190>"
      ]
     },
     "execution_count": 15,
     "metadata": {},
     "output_type": "execute_result"
    }
   ],
   "source": [
    "okn.info(net, target='network')"
   ]
  },
  {
   "cell_type": "code",
   "execution_count": 16,
   "metadata": {},
   "outputs": [
    {
     "data": {
      "text/html": [
       "<style  type=\"text/css\" >\n",
       "</style><table id=\"T_7e893629_22d0_11eb_9b07_194e6ae80ec8\" ><thead>    <tr>        <th class=\"col_heading level0 col0\" >index</th>        <th class=\"col_heading level0 col1\" >name</th>        <th class=\"col_heading level0 col2\" >weight</th>        <th class=\"col_heading level0 col3\" >probability</th>        <th class=\"col_heading level0 col4\" >out_degree</th>        <th class=\"col_heading level0 col5\" >in_degree</th>    </tr></thead><tbody>\n",
       "                <tr>\n",
       "                                <td id=\"T_7e893629_22d0_11eb_9b07_194e6ae80ec8row0_col0\" class=\"data row0 col0\" >0</td>\n",
       "                        <td id=\"T_7e893629_22d0_11eb_9b07_194e6ae80ec8row0_col1\" class=\"data row0 col1\" >A</td>\n",
       "                        <td id=\"T_7e893629_22d0_11eb_9b07_194e6ae80ec8row0_col2\" class=\"data row0 col2\" >6</td>\n",
       "                        <td id=\"T_7e893629_22d0_11eb_9b07_194e6ae80ec8row0_col3\" class=\"data row0 col3\" >0.428571</td>\n",
       "                        <td id=\"T_7e893629_22d0_11eb_9b07_194e6ae80ec8row0_col4\" class=\"data row0 col4\" >4</td>\n",
       "                        <td id=\"T_7e893629_22d0_11eb_9b07_194e6ae80ec8row0_col5\" class=\"data row0 col5\" >3</td>\n",
       "            </tr>\n",
       "            <tr>\n",
       "                                <td id=\"T_7e893629_22d0_11eb_9b07_194e6ae80ec8row1_col0\" class=\"data row1 col0\" >1</td>\n",
       "                        <td id=\"T_7e893629_22d0_11eb_9b07_194e6ae80ec8row1_col1\" class=\"data row1 col1\" >B</td>\n",
       "                        <td id=\"T_7e893629_22d0_11eb_9b07_194e6ae80ec8row1_col2\" class=\"data row1 col2\" >2</td>\n",
       "                        <td id=\"T_7e893629_22d0_11eb_9b07_194e6ae80ec8row1_col3\" class=\"data row1 col3\" >0.142857</td>\n",
       "                        <td id=\"T_7e893629_22d0_11eb_9b07_194e6ae80ec8row1_col4\" class=\"data row1 col4\" >1</td>\n",
       "                        <td id=\"T_7e893629_22d0_11eb_9b07_194e6ae80ec8row1_col5\" class=\"data row1 col5\" >2</td>\n",
       "            </tr>\n",
       "            <tr>\n",
       "                                <td id=\"T_7e893629_22d0_11eb_9b07_194e6ae80ec8row2_col0\" class=\"data row2 col0\" >2</td>\n",
       "                        <td id=\"T_7e893629_22d0_11eb_9b07_194e6ae80ec8row2_col1\" class=\"data row2 col1\" >C</td>\n",
       "                        <td id=\"T_7e893629_22d0_11eb_9b07_194e6ae80ec8row2_col2\" class=\"data row2 col2\" >5</td>\n",
       "                        <td id=\"T_7e893629_22d0_11eb_9b07_194e6ae80ec8row2_col3\" class=\"data row2 col3\" >0.357143</td>\n",
       "                        <td id=\"T_7e893629_22d0_11eb_9b07_194e6ae80ec8row2_col4\" class=\"data row2 col4\" >3</td>\n",
       "                        <td id=\"T_7e893629_22d0_11eb_9b07_194e6ae80ec8row2_col5\" class=\"data row2 col5\" >3</td>\n",
       "            </tr>\n",
       "            <tr>\n",
       "                                <td id=\"T_7e893629_22d0_11eb_9b07_194e6ae80ec8row3_col0\" class=\"data row3 col0\" >3</td>\n",
       "                        <td id=\"T_7e893629_22d0_11eb_9b07_194e6ae80ec8row3_col1\" class=\"data row3 col1\" >D</td>\n",
       "                        <td id=\"T_7e893629_22d0_11eb_9b07_194e6ae80ec8row3_col2\" class=\"data row3 col2\" >1</td>\n",
       "                        <td id=\"T_7e893629_22d0_11eb_9b07_194e6ae80ec8row3_col3\" class=\"data row3 col3\" >0.071429</td>\n",
       "                        <td id=\"T_7e893629_22d0_11eb_9b07_194e6ae80ec8row3_col4\" class=\"data row3 col4\" >1</td>\n",
       "                        <td id=\"T_7e893629_22d0_11eb_9b07_194e6ae80ec8row3_col5\" class=\"data row3 col5\" >1</td>\n",
       "            </tr>\n",
       "    </tbody></table>"
      ],
      "text/plain": [
       "<pandas.io.formats.style.Styler at 0x7fc03fa266d0>"
      ]
     },
     "execution_count": 16,
     "metadata": {},
     "output_type": "execute_result"
    }
   ],
   "source": [
    "okn.info(net, target='microstate')"
   ]
  },
  {
   "cell_type": "code",
   "execution_count": 17,
   "metadata": {},
   "outputs": [
    {
     "data": {
      "text/html": [
       "<style  type=\"text/css\" >\n",
       "</style><table id=\"T_7e89362a_22d0_11eb_9b07_194e6ae80ec8\" ><thead>    <tr>        <th class=\"col_heading level0 col0\" >index</th>        <th class=\"col_heading level0 col1\" >origin</th>        <th class=\"col_heading level0 col2\" >end</th>        <th class=\"col_heading level0 col3\" >weight</th>        <th class=\"col_heading level0 col4\" >probability</th>        <th class=\"col_heading level0 col5\" >symmetrized</th>    </tr></thead><tbody>\n",
       "                <tr>\n",
       "                                <td id=\"T_7e89362a_22d0_11eb_9b07_194e6ae80ec8row0_col0\" class=\"data row0 col0\" >0</td>\n",
       "                        <td id=\"T_7e89362a_22d0_11eb_9b07_194e6ae80ec8row0_col1\" class=\"data row0 col1\" >A</td>\n",
       "                        <td id=\"T_7e89362a_22d0_11eb_9b07_194e6ae80ec8row0_col2\" class=\"data row0 col2\" >A</td>\n",
       "                        <td id=\"T_7e89362a_22d0_11eb_9b07_194e6ae80ec8row0_col3\" class=\"data row0 col3\" >2</td>\n",
       "                        <td id=\"T_7e89362a_22d0_11eb_9b07_194e6ae80ec8row0_col4\" class=\"data row0 col4\" >0.333333</td>\n",
       "                        <td id=\"T_7e89362a_22d0_11eb_9b07_194e6ae80ec8row0_col5\" class=\"data row0 col5\" >False</td>\n",
       "            </tr>\n",
       "            <tr>\n",
       "                                <td id=\"T_7e89362a_22d0_11eb_9b07_194e6ae80ec8row1_col0\" class=\"data row1 col0\" >1</td>\n",
       "                        <td id=\"T_7e89362a_22d0_11eb_9b07_194e6ae80ec8row1_col1\" class=\"data row1 col1\" >A</td>\n",
       "                        <td id=\"T_7e89362a_22d0_11eb_9b07_194e6ae80ec8row1_col2\" class=\"data row1 col2\" >B</td>\n",
       "                        <td id=\"T_7e89362a_22d0_11eb_9b07_194e6ae80ec8row1_col3\" class=\"data row1 col3\" >1</td>\n",
       "                        <td id=\"T_7e89362a_22d0_11eb_9b07_194e6ae80ec8row1_col4\" class=\"data row1 col4\" >0.166667</td>\n",
       "                        <td id=\"T_7e89362a_22d0_11eb_9b07_194e6ae80ec8row1_col5\" class=\"data row1 col5\" >False</td>\n",
       "            </tr>\n",
       "            <tr>\n",
       "                                <td id=\"T_7e89362a_22d0_11eb_9b07_194e6ae80ec8row2_col0\" class=\"data row2 col0\" >2</td>\n",
       "                        <td id=\"T_7e89362a_22d0_11eb_9b07_194e6ae80ec8row2_col1\" class=\"data row2 col1\" >B</td>\n",
       "                        <td id=\"T_7e89362a_22d0_11eb_9b07_194e6ae80ec8row2_col2\" class=\"data row2 col2\" >C</td>\n",
       "                        <td id=\"T_7e89362a_22d0_11eb_9b07_194e6ae80ec8row2_col3\" class=\"data row2 col3\" >2</td>\n",
       "                        <td id=\"T_7e89362a_22d0_11eb_9b07_194e6ae80ec8row2_col4\" class=\"data row2 col4\" >1.000000</td>\n",
       "                        <td id=\"T_7e89362a_22d0_11eb_9b07_194e6ae80ec8row2_col5\" class=\"data row2 col5\" >False</td>\n",
       "            </tr>\n",
       "            <tr>\n",
       "                                <td id=\"T_7e89362a_22d0_11eb_9b07_194e6ae80ec8row3_col0\" class=\"data row3 col0\" >3</td>\n",
       "                        <td id=\"T_7e89362a_22d0_11eb_9b07_194e6ae80ec8row3_col1\" class=\"data row3 col1\" >C</td>\n",
       "                        <td id=\"T_7e89362a_22d0_11eb_9b07_194e6ae80ec8row3_col2\" class=\"data row3 col2\" >C</td>\n",
       "                        <td id=\"T_7e89362a_22d0_11eb_9b07_194e6ae80ec8row3_col3\" class=\"data row3 col3\" >2</td>\n",
       "                        <td id=\"T_7e89362a_22d0_11eb_9b07_194e6ae80ec8row3_col4\" class=\"data row3 col4\" >0.400000</td>\n",
       "                        <td id=\"T_7e89362a_22d0_11eb_9b07_194e6ae80ec8row3_col5\" class=\"data row3 col5\" >False</td>\n",
       "            </tr>\n",
       "            <tr>\n",
       "                                <td id=\"T_7e89362a_22d0_11eb_9b07_194e6ae80ec8row4_col0\" class=\"data row4 col0\" >4</td>\n",
       "                        <td id=\"T_7e89362a_22d0_11eb_9b07_194e6ae80ec8row4_col1\" class=\"data row4 col1\" >C</td>\n",
       "                        <td id=\"T_7e89362a_22d0_11eb_9b07_194e6ae80ec8row4_col2\" class=\"data row4 col2\" >A</td>\n",
       "                        <td id=\"T_7e89362a_22d0_11eb_9b07_194e6ae80ec8row4_col3\" class=\"data row4 col3\" >2</td>\n",
       "                        <td id=\"T_7e89362a_22d0_11eb_9b07_194e6ae80ec8row4_col4\" class=\"data row4 col4\" >0.400000</td>\n",
       "                        <td id=\"T_7e89362a_22d0_11eb_9b07_194e6ae80ec8row4_col5\" class=\"data row4 col5\" >False</td>\n",
       "            </tr>\n",
       "            <tr>\n",
       "                                <td id=\"T_7e89362a_22d0_11eb_9b07_194e6ae80ec8row5_col0\" class=\"data row5 col0\" >5</td>\n",
       "                        <td id=\"T_7e89362a_22d0_11eb_9b07_194e6ae80ec8row5_col1\" class=\"data row5 col1\" >A</td>\n",
       "                        <td id=\"T_7e89362a_22d0_11eb_9b07_194e6ae80ec8row5_col2\" class=\"data row5 col2\" >D</td>\n",
       "                        <td id=\"T_7e89362a_22d0_11eb_9b07_194e6ae80ec8row5_col3\" class=\"data row5 col3\" >2</td>\n",
       "                        <td id=\"T_7e89362a_22d0_11eb_9b07_194e6ae80ec8row5_col4\" class=\"data row5 col4\" >0.333333</td>\n",
       "                        <td id=\"T_7e89362a_22d0_11eb_9b07_194e6ae80ec8row5_col5\" class=\"data row5 col5\" >False</td>\n",
       "            </tr>\n",
       "            <tr>\n",
       "                                <td id=\"T_7e89362a_22d0_11eb_9b07_194e6ae80ec8row6_col0\" class=\"data row6 col0\" >6</td>\n",
       "                        <td id=\"T_7e89362a_22d0_11eb_9b07_194e6ae80ec8row6_col1\" class=\"data row6 col1\" >D</td>\n",
       "                        <td id=\"T_7e89362a_22d0_11eb_9b07_194e6ae80ec8row6_col2\" class=\"data row6 col2\" >A</td>\n",
       "                        <td id=\"T_7e89362a_22d0_11eb_9b07_194e6ae80ec8row6_col3\" class=\"data row6 col3\" >1</td>\n",
       "                        <td id=\"T_7e89362a_22d0_11eb_9b07_194e6ae80ec8row6_col4\" class=\"data row6 col4\" >1.000000</td>\n",
       "                        <td id=\"T_7e89362a_22d0_11eb_9b07_194e6ae80ec8row6_col5\" class=\"data row6 col5\" >False</td>\n",
       "            </tr>\n",
       "            <tr>\n",
       "                                <td id=\"T_7e89362a_22d0_11eb_9b07_194e6ae80ec8row7_col0\" class=\"data row7 col0\" >7</td>\n",
       "                        <td id=\"T_7e89362a_22d0_11eb_9b07_194e6ae80ec8row7_col1\" class=\"data row7 col1\" >A</td>\n",
       "                        <td id=\"T_7e89362a_22d0_11eb_9b07_194e6ae80ec8row7_col2\" class=\"data row7 col2\" >C</td>\n",
       "                        <td id=\"T_7e89362a_22d0_11eb_9b07_194e6ae80ec8row7_col3\" class=\"data row7 col3\" >1</td>\n",
       "                        <td id=\"T_7e89362a_22d0_11eb_9b07_194e6ae80ec8row7_col4\" class=\"data row7 col4\" >0.166667</td>\n",
       "                        <td id=\"T_7e89362a_22d0_11eb_9b07_194e6ae80ec8row7_col5\" class=\"data row7 col5\" >False</td>\n",
       "            </tr>\n",
       "            <tr>\n",
       "                                <td id=\"T_7e89362a_22d0_11eb_9b07_194e6ae80ec8row8_col0\" class=\"data row8 col0\" >8</td>\n",
       "                        <td id=\"T_7e89362a_22d0_11eb_9b07_194e6ae80ec8row8_col1\" class=\"data row8 col1\" >C</td>\n",
       "                        <td id=\"T_7e89362a_22d0_11eb_9b07_194e6ae80ec8row8_col2\" class=\"data row8 col2\" >B</td>\n",
       "                        <td id=\"T_7e89362a_22d0_11eb_9b07_194e6ae80ec8row8_col3\" class=\"data row8 col3\" >1</td>\n",
       "                        <td id=\"T_7e89362a_22d0_11eb_9b07_194e6ae80ec8row8_col4\" class=\"data row8 col4\" >0.200000</td>\n",
       "                        <td id=\"T_7e89362a_22d0_11eb_9b07_194e6ae80ec8row8_col5\" class=\"data row8 col5\" >False</td>\n",
       "            </tr>\n",
       "    </tbody></table>"
      ],
      "text/plain": [
       "<pandas.io.formats.style.Styler at 0x7fc03fa04e50>"
      ]
     },
     "execution_count": 17,
     "metadata": {},
     "output_type": "execute_result"
    }
   ],
   "source": [
    "okn.info(net, target='transition')"
   ]
  },
  {
   "cell_type": "markdown",
   "metadata": {},
   "source": [
    "If our markov chain is long enough to be ergodic, the same number of times the system was observed going from $i$ to $j$, $m_{ij}$, will be the same number of times for the opposite transition $m_{ji}$ -in equilibrium with an infinite chain-. This symmetricity of the network:\n",
    "\n",
    "\\begin{equation}\n",
    "m_{ij}=m_{ji}\n",
    "\\end{equation}\n",
    "\n",
    "is known as the detailed balance condition in the context of Markov models:\n",
    "\n",
    "\\begin{equation}\n",
    "p_{i} p_{ij} = p_{j} p_{ji}\n",
    "\\end{equation}\n",
    "\n",
    "Thanks to the reformulation:\n",
    "\n",
    "\\begin{equation}\n",
    "m_{ij}=m_{i} p_{ij}=M p_{i} p_{ij}\n",
    "\\end{equation}\n",
    "\n",
    "Obviously, because of limited sampling, our network will never be exactly symmetric. But we can imposse symetrizity keeping the sum of $m_{ij}+m_{ji}$ constant. Lets denote the new edges weights as $\\hat{m}_{ij}$ :\n",
    "\n",
    "\\begin{equation}\n",
    "\\hat{m}_{ij}= \\frac{m_{ij} + m_{ji}}{2}\n",
    "\\end{equation}\n",
    "\n",
    "With the symmetric edges, weights on nodes need to be recalculated. This time the weight of node $i$ is not only equal to the sum of out-going edges, but to the sum of the in-going edges also:\n",
    "\n",
    "\\begin{equation}\n",
    "\\hat{m}_{i}= \\sum_j m_{ij} = \\sum_j m_{ji}\n",
    "\\end{equation}\n",
    "\n",
    "By definition the weight of network does not change after symmetrization:\n",
    "\n",
    "\\begin{equation}\n",
    "\\hat{M}= M\n",
    "\\end{equation}"
   ]
  },
  {
   "cell_type": "code",
   "execution_count": 18,
   "metadata": {},
   "outputs": [],
   "source": [
    "okn.symmetrize(net)"
   ]
  },
  {
   "cell_type": "code",
   "execution_count": 19,
   "metadata": {},
   "outputs": [
    {
     "data": {
      "text/html": [
       "<style  type=\"text/css\" >\n",
       "</style><table id=\"T_80a07a66_22d0_11eb_9b07_194e6ae80ec8\" ><thead>    <tr>        <th class=\"col_heading level0 col0\" >form</th>        <th class=\"col_heading level0 col1\" >n_microstates</th>        <th class=\"col_heading level0 col2\" >n_transitions</th>        <th class=\"col_heading level0 col3\" >weight</th>        <th class=\"col_heading level0 col4\" >symmetrized</th>        <th class=\"col_heading level0 col5\" >temperature</th>        <th class=\"col_heading level0 col6\" >time_step</th>    </tr></thead><tbody>\n",
       "                <tr>\n",
       "                                <td id=\"T_80a07a66_22d0_11eb_9b07_194e6ae80ec8row0_col0\" class=\"data row0 col0\" >pandas.KineticTransitionNetwork</td>\n",
       "                        <td id=\"T_80a07a66_22d0_11eb_9b07_194e6ae80ec8row0_col1\" class=\"data row0 col1\" >4</td>\n",
       "                        <td id=\"T_80a07a66_22d0_11eb_9b07_194e6ae80ec8row0_col2\" class=\"data row0 col2\" >11</td>\n",
       "                        <td id=\"T_80a07a66_22d0_11eb_9b07_194e6ae80ec8row0_col3\" class=\"data row0 col3\" >14.000000</td>\n",
       "                        <td id=\"T_80a07a66_22d0_11eb_9b07_194e6ae80ec8row0_col4\" class=\"data row0 col4\" >True</td>\n",
       "                        <td id=\"T_80a07a66_22d0_11eb_9b07_194e6ae80ec8row0_col5\" class=\"data row0 col5\" >0.0 K</td>\n",
       "                        <td id=\"T_80a07a66_22d0_11eb_9b07_194e6ae80ec8row0_col6\" class=\"data row0 col6\" >0.0 ns</td>\n",
       "            </tr>\n",
       "    </tbody></table>"
      ],
      "text/plain": [
       "<pandas.io.formats.style.Styler at 0x7fc03fa1c650>"
      ]
     },
     "execution_count": 19,
     "metadata": {},
     "output_type": "execute_result"
    }
   ],
   "source": [
    "okn.info(net, target='network')"
   ]
  },
  {
   "cell_type": "code",
   "execution_count": 20,
   "metadata": {},
   "outputs": [
    {
     "data": {
      "text/html": [
       "<style  type=\"text/css\" >\n",
       "</style><table id=\"T_80a07a67_22d0_11eb_9b07_194e6ae80ec8\" ><thead>    <tr>        <th class=\"col_heading level0 col0\" >index</th>        <th class=\"col_heading level0 col1\" >name</th>        <th class=\"col_heading level0 col2\" >weight</th>        <th class=\"col_heading level0 col3\" >probability</th>        <th class=\"col_heading level0 col4\" >degree</th>    </tr></thead><tbody>\n",
       "                <tr>\n",
       "                                <td id=\"T_80a07a67_22d0_11eb_9b07_194e6ae80ec8row0_col0\" class=\"data row0 col0\" >0</td>\n",
       "                        <td id=\"T_80a07a67_22d0_11eb_9b07_194e6ae80ec8row0_col1\" class=\"data row0 col1\" >A</td>\n",
       "                        <td id=\"T_80a07a67_22d0_11eb_9b07_194e6ae80ec8row0_col2\" class=\"data row0 col2\" >5.500000</td>\n",
       "                        <td id=\"T_80a07a67_22d0_11eb_9b07_194e6ae80ec8row0_col3\" class=\"data row0 col3\" >0.392857</td>\n",
       "                        <td id=\"T_80a07a67_22d0_11eb_9b07_194e6ae80ec8row0_col4\" class=\"data row0 col4\" >5</td>\n",
       "            </tr>\n",
       "            <tr>\n",
       "                                <td id=\"T_80a07a67_22d0_11eb_9b07_194e6ae80ec8row1_col0\" class=\"data row1 col0\" >1</td>\n",
       "                        <td id=\"T_80a07a67_22d0_11eb_9b07_194e6ae80ec8row1_col1\" class=\"data row1 col1\" >B</td>\n",
       "                        <td id=\"T_80a07a67_22d0_11eb_9b07_194e6ae80ec8row1_col2\" class=\"data row1 col2\" >2.000000</td>\n",
       "                        <td id=\"T_80a07a67_22d0_11eb_9b07_194e6ae80ec8row1_col3\" class=\"data row1 col3\" >0.142857</td>\n",
       "                        <td id=\"T_80a07a67_22d0_11eb_9b07_194e6ae80ec8row1_col4\" class=\"data row1 col4\" >2</td>\n",
       "            </tr>\n",
       "            <tr>\n",
       "                                <td id=\"T_80a07a67_22d0_11eb_9b07_194e6ae80ec8row2_col0\" class=\"data row2 col0\" >2</td>\n",
       "                        <td id=\"T_80a07a67_22d0_11eb_9b07_194e6ae80ec8row2_col1\" class=\"data row2 col1\" >C</td>\n",
       "                        <td id=\"T_80a07a67_22d0_11eb_9b07_194e6ae80ec8row2_col2\" class=\"data row2 col2\" >5.000000</td>\n",
       "                        <td id=\"T_80a07a67_22d0_11eb_9b07_194e6ae80ec8row2_col3\" class=\"data row2 col3\" >0.357143</td>\n",
       "                        <td id=\"T_80a07a67_22d0_11eb_9b07_194e6ae80ec8row2_col4\" class=\"data row2 col4\" >3</td>\n",
       "            </tr>\n",
       "            <tr>\n",
       "                                <td id=\"T_80a07a67_22d0_11eb_9b07_194e6ae80ec8row3_col0\" class=\"data row3 col0\" >3</td>\n",
       "                        <td id=\"T_80a07a67_22d0_11eb_9b07_194e6ae80ec8row3_col1\" class=\"data row3 col1\" >D</td>\n",
       "                        <td id=\"T_80a07a67_22d0_11eb_9b07_194e6ae80ec8row3_col2\" class=\"data row3 col2\" >1.500000</td>\n",
       "                        <td id=\"T_80a07a67_22d0_11eb_9b07_194e6ae80ec8row3_col3\" class=\"data row3 col3\" >0.107143</td>\n",
       "                        <td id=\"T_80a07a67_22d0_11eb_9b07_194e6ae80ec8row3_col4\" class=\"data row3 col4\" >1</td>\n",
       "            </tr>\n",
       "    </tbody></table>"
      ],
      "text/plain": [
       "<pandas.io.formats.style.Styler at 0x7fc03fef0bd0>"
      ]
     },
     "execution_count": 20,
     "metadata": {},
     "output_type": "execute_result"
    }
   ],
   "source": [
    "okn.info(net, target='microstate')"
   ]
  },
  {
   "cell_type": "code",
   "execution_count": 21,
   "metadata": {},
   "outputs": [
    {
     "data": {
      "text/html": [
       "<style  type=\"text/css\" >\n",
       "</style><table id=\"T_81bf0f8e_22d0_11eb_9b07_194e6ae80ec8\" ><thead>    <tr>        <th class=\"col_heading level0 col0\" >index</th>        <th class=\"col_heading level0 col1\" >origin</th>        <th class=\"col_heading level0 col2\" >end</th>        <th class=\"col_heading level0 col3\" >weight</th>        <th class=\"col_heading level0 col4\" >probability</th>        <th class=\"col_heading level0 col5\" >symmetrized</th>    </tr></thead><tbody>\n",
       "                <tr>\n",
       "                                <td id=\"T_81bf0f8e_22d0_11eb_9b07_194e6ae80ec8row0_col0\" class=\"data row0 col0\" >0</td>\n",
       "                        <td id=\"T_81bf0f8e_22d0_11eb_9b07_194e6ae80ec8row0_col1\" class=\"data row0 col1\" >A</td>\n",
       "                        <td id=\"T_81bf0f8e_22d0_11eb_9b07_194e6ae80ec8row0_col2\" class=\"data row0 col2\" >A</td>\n",
       "                        <td id=\"T_81bf0f8e_22d0_11eb_9b07_194e6ae80ec8row0_col3\" class=\"data row0 col3\" >1.000000</td>\n",
       "                        <td id=\"T_81bf0f8e_22d0_11eb_9b07_194e6ae80ec8row0_col4\" class=\"data row0 col4\" >0.181818</td>\n",
       "                        <td id=\"T_81bf0f8e_22d0_11eb_9b07_194e6ae80ec8row0_col5\" class=\"data row0 col5\" >True</td>\n",
       "            </tr>\n",
       "            <tr>\n",
       "                                <td id=\"T_81bf0f8e_22d0_11eb_9b07_194e6ae80ec8row1_col0\" class=\"data row1 col0\" >1</td>\n",
       "                        <td id=\"T_81bf0f8e_22d0_11eb_9b07_194e6ae80ec8row1_col1\" class=\"data row1 col1\" >A</td>\n",
       "                        <td id=\"T_81bf0f8e_22d0_11eb_9b07_194e6ae80ec8row1_col2\" class=\"data row1 col2\" >B</td>\n",
       "                        <td id=\"T_81bf0f8e_22d0_11eb_9b07_194e6ae80ec8row1_col3\" class=\"data row1 col3\" >0.500000</td>\n",
       "                        <td id=\"T_81bf0f8e_22d0_11eb_9b07_194e6ae80ec8row1_col4\" class=\"data row1 col4\" >0.090909</td>\n",
       "                        <td id=\"T_81bf0f8e_22d0_11eb_9b07_194e6ae80ec8row1_col5\" class=\"data row1 col5\" >True</td>\n",
       "            </tr>\n",
       "            <tr>\n",
       "                                <td id=\"T_81bf0f8e_22d0_11eb_9b07_194e6ae80ec8row2_col0\" class=\"data row2 col0\" >2</td>\n",
       "                        <td id=\"T_81bf0f8e_22d0_11eb_9b07_194e6ae80ec8row2_col1\" class=\"data row2 col1\" >B</td>\n",
       "                        <td id=\"T_81bf0f8e_22d0_11eb_9b07_194e6ae80ec8row2_col2\" class=\"data row2 col2\" >C</td>\n",
       "                        <td id=\"T_81bf0f8e_22d0_11eb_9b07_194e6ae80ec8row2_col3\" class=\"data row2 col3\" >1.500000</td>\n",
       "                        <td id=\"T_81bf0f8e_22d0_11eb_9b07_194e6ae80ec8row2_col4\" class=\"data row2 col4\" >0.750000</td>\n",
       "                        <td id=\"T_81bf0f8e_22d0_11eb_9b07_194e6ae80ec8row2_col5\" class=\"data row2 col5\" >True</td>\n",
       "            </tr>\n",
       "            <tr>\n",
       "                                <td id=\"T_81bf0f8e_22d0_11eb_9b07_194e6ae80ec8row3_col0\" class=\"data row3 col0\" >3</td>\n",
       "                        <td id=\"T_81bf0f8e_22d0_11eb_9b07_194e6ae80ec8row3_col1\" class=\"data row3 col1\" >C</td>\n",
       "                        <td id=\"T_81bf0f8e_22d0_11eb_9b07_194e6ae80ec8row3_col2\" class=\"data row3 col2\" >C</td>\n",
       "                        <td id=\"T_81bf0f8e_22d0_11eb_9b07_194e6ae80ec8row3_col3\" class=\"data row3 col3\" >2.000000</td>\n",
       "                        <td id=\"T_81bf0f8e_22d0_11eb_9b07_194e6ae80ec8row3_col4\" class=\"data row3 col4\" >0.400000</td>\n",
       "                        <td id=\"T_81bf0f8e_22d0_11eb_9b07_194e6ae80ec8row3_col5\" class=\"data row3 col5\" >True</td>\n",
       "            </tr>\n",
       "            <tr>\n",
       "                                <td id=\"T_81bf0f8e_22d0_11eb_9b07_194e6ae80ec8row4_col0\" class=\"data row4 col0\" >4</td>\n",
       "                        <td id=\"T_81bf0f8e_22d0_11eb_9b07_194e6ae80ec8row4_col1\" class=\"data row4 col1\" >C</td>\n",
       "                        <td id=\"T_81bf0f8e_22d0_11eb_9b07_194e6ae80ec8row4_col2\" class=\"data row4 col2\" >A</td>\n",
       "                        <td id=\"T_81bf0f8e_22d0_11eb_9b07_194e6ae80ec8row4_col3\" class=\"data row4 col3\" >1.500000</td>\n",
       "                        <td id=\"T_81bf0f8e_22d0_11eb_9b07_194e6ae80ec8row4_col4\" class=\"data row4 col4\" >0.300000</td>\n",
       "                        <td id=\"T_81bf0f8e_22d0_11eb_9b07_194e6ae80ec8row4_col5\" class=\"data row4 col5\" >True</td>\n",
       "            </tr>\n",
       "            <tr>\n",
       "                                <td id=\"T_81bf0f8e_22d0_11eb_9b07_194e6ae80ec8row5_col0\" class=\"data row5 col0\" >5</td>\n",
       "                        <td id=\"T_81bf0f8e_22d0_11eb_9b07_194e6ae80ec8row5_col1\" class=\"data row5 col1\" >A</td>\n",
       "                        <td id=\"T_81bf0f8e_22d0_11eb_9b07_194e6ae80ec8row5_col2\" class=\"data row5 col2\" >D</td>\n",
       "                        <td id=\"T_81bf0f8e_22d0_11eb_9b07_194e6ae80ec8row5_col3\" class=\"data row5 col3\" >1.500000</td>\n",
       "                        <td id=\"T_81bf0f8e_22d0_11eb_9b07_194e6ae80ec8row5_col4\" class=\"data row5 col4\" >0.272727</td>\n",
       "                        <td id=\"T_81bf0f8e_22d0_11eb_9b07_194e6ae80ec8row5_col5\" class=\"data row5 col5\" >True</td>\n",
       "            </tr>\n",
       "            <tr>\n",
       "                                <td id=\"T_81bf0f8e_22d0_11eb_9b07_194e6ae80ec8row6_col0\" class=\"data row6 col0\" >6</td>\n",
       "                        <td id=\"T_81bf0f8e_22d0_11eb_9b07_194e6ae80ec8row6_col1\" class=\"data row6 col1\" >D</td>\n",
       "                        <td id=\"T_81bf0f8e_22d0_11eb_9b07_194e6ae80ec8row6_col2\" class=\"data row6 col2\" >A</td>\n",
       "                        <td id=\"T_81bf0f8e_22d0_11eb_9b07_194e6ae80ec8row6_col3\" class=\"data row6 col3\" >1.500000</td>\n",
       "                        <td id=\"T_81bf0f8e_22d0_11eb_9b07_194e6ae80ec8row6_col4\" class=\"data row6 col4\" >1.000000</td>\n",
       "                        <td id=\"T_81bf0f8e_22d0_11eb_9b07_194e6ae80ec8row6_col5\" class=\"data row6 col5\" >True</td>\n",
       "            </tr>\n",
       "            <tr>\n",
       "                                <td id=\"T_81bf0f8e_22d0_11eb_9b07_194e6ae80ec8row7_col0\" class=\"data row7 col0\" >7</td>\n",
       "                        <td id=\"T_81bf0f8e_22d0_11eb_9b07_194e6ae80ec8row7_col1\" class=\"data row7 col1\" >A</td>\n",
       "                        <td id=\"T_81bf0f8e_22d0_11eb_9b07_194e6ae80ec8row7_col2\" class=\"data row7 col2\" >C</td>\n",
       "                        <td id=\"T_81bf0f8e_22d0_11eb_9b07_194e6ae80ec8row7_col3\" class=\"data row7 col3\" >1.500000</td>\n",
       "                        <td id=\"T_81bf0f8e_22d0_11eb_9b07_194e6ae80ec8row7_col4\" class=\"data row7 col4\" >0.272727</td>\n",
       "                        <td id=\"T_81bf0f8e_22d0_11eb_9b07_194e6ae80ec8row7_col5\" class=\"data row7 col5\" >True</td>\n",
       "            </tr>\n",
       "            <tr>\n",
       "                                <td id=\"T_81bf0f8e_22d0_11eb_9b07_194e6ae80ec8row8_col0\" class=\"data row8 col0\" >8</td>\n",
       "                        <td id=\"T_81bf0f8e_22d0_11eb_9b07_194e6ae80ec8row8_col1\" class=\"data row8 col1\" >C</td>\n",
       "                        <td id=\"T_81bf0f8e_22d0_11eb_9b07_194e6ae80ec8row8_col2\" class=\"data row8 col2\" >B</td>\n",
       "                        <td id=\"T_81bf0f8e_22d0_11eb_9b07_194e6ae80ec8row8_col3\" class=\"data row8 col3\" >1.500000</td>\n",
       "                        <td id=\"T_81bf0f8e_22d0_11eb_9b07_194e6ae80ec8row8_col4\" class=\"data row8 col4\" >0.300000</td>\n",
       "                        <td id=\"T_81bf0f8e_22d0_11eb_9b07_194e6ae80ec8row8_col5\" class=\"data row8 col5\" >True</td>\n",
       "            </tr>\n",
       "            <tr>\n",
       "                                <td id=\"T_81bf0f8e_22d0_11eb_9b07_194e6ae80ec8row9_col0\" class=\"data row9 col0\" >9</td>\n",
       "                        <td id=\"T_81bf0f8e_22d0_11eb_9b07_194e6ae80ec8row9_col1\" class=\"data row9 col1\" >A</td>\n",
       "                        <td id=\"T_81bf0f8e_22d0_11eb_9b07_194e6ae80ec8row9_col2\" class=\"data row9 col2\" >A</td>\n",
       "                        <td id=\"T_81bf0f8e_22d0_11eb_9b07_194e6ae80ec8row9_col3\" class=\"data row9 col3\" >1.000000</td>\n",
       "                        <td id=\"T_81bf0f8e_22d0_11eb_9b07_194e6ae80ec8row9_col4\" class=\"data row9 col4\" >0.181818</td>\n",
       "                        <td id=\"T_81bf0f8e_22d0_11eb_9b07_194e6ae80ec8row9_col5\" class=\"data row9 col5\" >True</td>\n",
       "            </tr>\n",
       "            <tr>\n",
       "                                <td id=\"T_81bf0f8e_22d0_11eb_9b07_194e6ae80ec8row10_col0\" class=\"data row10 col0\" >10</td>\n",
       "                        <td id=\"T_81bf0f8e_22d0_11eb_9b07_194e6ae80ec8row10_col1\" class=\"data row10 col1\" >B</td>\n",
       "                        <td id=\"T_81bf0f8e_22d0_11eb_9b07_194e6ae80ec8row10_col2\" class=\"data row10 col2\" >A</td>\n",
       "                        <td id=\"T_81bf0f8e_22d0_11eb_9b07_194e6ae80ec8row10_col3\" class=\"data row10 col3\" >0.500000</td>\n",
       "                        <td id=\"T_81bf0f8e_22d0_11eb_9b07_194e6ae80ec8row10_col4\" class=\"data row10 col4\" >0.250000</td>\n",
       "                        <td id=\"T_81bf0f8e_22d0_11eb_9b07_194e6ae80ec8row10_col5\" class=\"data row10 col5\" >True</td>\n",
       "            </tr>\n",
       "    </tbody></table>"
      ],
      "text/plain": [
       "<pandas.io.formats.style.Styler at 0x7fc03fa15e50>"
      ]
     },
     "execution_count": 21,
     "metadata": {},
     "output_type": "execute_result"
    }
   ],
   "source": [
    "okn.info(net, target='transition')"
   ]
  },
  {
   "cell_type": "markdown",
   "metadata": {},
   "source": [
    "Check that with good enough statistics, with the symmetric network, the out-degree (number of out-going neighbor nodes) and the in-degree (number of in-going neighbor nodes) are equal."
   ]
  },
  {
   "cell_type": "markdown",
   "metadata": {},
   "source": [
    "At last, a KTN can be built from more than a single series of events. Lets' take two markov chains with no common events: "
   ]
  },
  {
   "cell_type": "code",
   "execution_count": 22,
   "metadata": {},
   "outputs": [],
   "source": [
    "series1=['A','A','B','C','C','A','D','A','C','B','C','C','A','A','D']\n",
    "series2=['E','F','F','G','F','F','E','E','J','E','J','E','F','G','F']"
   ]
  },
  {
   "cell_type": "code",
   "execution_count": 23,
   "metadata": {},
   "outputs": [],
   "source": [
    "net = okn.series_to_ktn([series1, series2])"
   ]
  },
  {
   "cell_type": "code",
   "execution_count": 24,
   "metadata": {},
   "outputs": [
    {
     "data": {
      "text/html": [
       "<style  type=\"text/css\" >\n",
       "</style><table id=\"T_84e7d128_22d0_11eb_9b07_194e6ae80ec8\" ><thead>    <tr>        <th class=\"col_heading level0 col0\" >form</th>        <th class=\"col_heading level0 col1\" >n_microstates</th>        <th class=\"col_heading level0 col2\" >n_transitions</th>        <th class=\"col_heading level0 col3\" >weight</th>        <th class=\"col_heading level0 col4\" >symmetrized</th>        <th class=\"col_heading level0 col5\" >temperature</th>        <th class=\"col_heading level0 col6\" >time_step</th>    </tr></thead><tbody>\n",
       "                <tr>\n",
       "                                <td id=\"T_84e7d128_22d0_11eb_9b07_194e6ae80ec8row0_col0\" class=\"data row0 col0\" >pandas.KineticTransitionNetwork</td>\n",
       "                        <td id=\"T_84e7d128_22d0_11eb_9b07_194e6ae80ec8row0_col1\" class=\"data row0 col1\" >8</td>\n",
       "                        <td id=\"T_84e7d128_22d0_11eb_9b07_194e6ae80ec8row0_col2\" class=\"data row0 col2\" >17</td>\n",
       "                        <td id=\"T_84e7d128_22d0_11eb_9b07_194e6ae80ec8row0_col3\" class=\"data row0 col3\" >28.000000</td>\n",
       "                        <td id=\"T_84e7d128_22d0_11eb_9b07_194e6ae80ec8row0_col4\" class=\"data row0 col4\" >False</td>\n",
       "                        <td id=\"T_84e7d128_22d0_11eb_9b07_194e6ae80ec8row0_col5\" class=\"data row0 col5\" >None</td>\n",
       "                        <td id=\"T_84e7d128_22d0_11eb_9b07_194e6ae80ec8row0_col6\" class=\"data row0 col6\" >None</td>\n",
       "            </tr>\n",
       "    </tbody></table>"
      ],
      "text/plain": [
       "<pandas.io.formats.style.Styler at 0x7fc07ab50a90>"
      ]
     },
     "execution_count": 24,
     "metadata": {},
     "output_type": "execute_result"
    }
   ],
   "source": [
    "okn.info(net)"
   ]
  },
  {
   "cell_type": "markdown",
   "metadata": {},
   "source": [
    "In this last case, in graphs theory it is said that the network has two disconnected components:"
   ]
  },
  {
   "cell_type": "code",
   "execution_count": 25,
   "metadata": {},
   "outputs": [],
   "source": [
    "components = okn.components(net)"
   ]
  },
  {
   "cell_type": "code",
   "execution_count": 26,
   "metadata": {},
   "outputs": [
    {
     "data": {
      "text/plain": [
       "[{'A', 'B', 'C', 'D'}, {'E', 'F', 'G', 'J'}]"
      ]
     },
     "execution_count": 26,
     "metadata": {},
     "output_type": "execute_result"
    }
   ],
   "source": [
    "components"
   ]
  },
  {
   "cell_type": "code",
   "execution_count": 27,
   "metadata": {},
   "outputs": [
    {
     "data": {
      "text/html": [
       "<style  type=\"text/css\" >\n",
       "</style><table id=\"T_876a33aa_22d0_11eb_9b07_194e6ae80ec8\" ><thead>    <tr>        <th class=\"col_heading level0 col0\" >form</th>        <th class=\"col_heading level0 col1\" >n_microstates</th>        <th class=\"col_heading level0 col2\" >n_transitions</th>        <th class=\"col_heading level0 col3\" >n_components</th>        <th class=\"col_heading level0 col4\" >weight</th>        <th class=\"col_heading level0 col5\" >symmetrized</th>        <th class=\"col_heading level0 col6\" >temperature</th>        <th class=\"col_heading level0 col7\" >time_step</th>    </tr></thead><tbody>\n",
       "                <tr>\n",
       "                                <td id=\"T_876a33aa_22d0_11eb_9b07_194e6ae80ec8row0_col0\" class=\"data row0 col0\" >pandas.KineticTransitionNetwork</td>\n",
       "                        <td id=\"T_876a33aa_22d0_11eb_9b07_194e6ae80ec8row0_col1\" class=\"data row0 col1\" >8</td>\n",
       "                        <td id=\"T_876a33aa_22d0_11eb_9b07_194e6ae80ec8row0_col2\" class=\"data row0 col2\" >17</td>\n",
       "                        <td id=\"T_876a33aa_22d0_11eb_9b07_194e6ae80ec8row0_col3\" class=\"data row0 col3\" >2</td>\n",
       "                        <td id=\"T_876a33aa_22d0_11eb_9b07_194e6ae80ec8row0_col4\" class=\"data row0 col4\" >28.000000</td>\n",
       "                        <td id=\"T_876a33aa_22d0_11eb_9b07_194e6ae80ec8row0_col5\" class=\"data row0 col5\" >False</td>\n",
       "                        <td id=\"T_876a33aa_22d0_11eb_9b07_194e6ae80ec8row0_col6\" class=\"data row0 col6\" >None</td>\n",
       "                        <td id=\"T_876a33aa_22d0_11eb_9b07_194e6ae80ec8row0_col7\" class=\"data row0 col7\" >None</td>\n",
       "            </tr>\n",
       "    </tbody></table>"
      ],
      "text/plain": [
       "<pandas.io.formats.style.Styler at 0x7fc03fa26610>"
      ]
     },
     "execution_count": 27,
     "metadata": {},
     "output_type": "execute_result"
    }
   ],
   "source": [
    "okn.info(net)"
   ]
  },
  {
   "cell_type": "code",
   "execution_count": 28,
   "metadata": {},
   "outputs": [
    {
     "data": {
      "text/html": [
       "<style  type=\"text/css\" >\n",
       "</style><table id=\"T_89731fe0_22d0_11eb_9b07_194e6ae80ec8\" ><thead>    <tr>        <th class=\"col_heading level0 col0\" >index</th>        <th class=\"col_heading level0 col1\" >name</th>        <th class=\"col_heading level0 col2\" >weight</th>        <th class=\"col_heading level0 col3\" >probability</th>        <th class=\"col_heading level0 col4\" >out_degree</th>        <th class=\"col_heading level0 col5\" >in_degree</th>        <th class=\"col_heading level0 col6\" >component</th>    </tr></thead><tbody>\n",
       "                <tr>\n",
       "                                <td id=\"T_89731fe0_22d0_11eb_9b07_194e6ae80ec8row0_col0\" class=\"data row0 col0\" >0</td>\n",
       "                        <td id=\"T_89731fe0_22d0_11eb_9b07_194e6ae80ec8row0_col1\" class=\"data row0 col1\" >A</td>\n",
       "                        <td id=\"T_89731fe0_22d0_11eb_9b07_194e6ae80ec8row0_col2\" class=\"data row0 col2\" >6.000000</td>\n",
       "                        <td id=\"T_89731fe0_22d0_11eb_9b07_194e6ae80ec8row0_col3\" class=\"data row0 col3\" >0.214286</td>\n",
       "                        <td id=\"T_89731fe0_22d0_11eb_9b07_194e6ae80ec8row0_col4\" class=\"data row0 col4\" >4</td>\n",
       "                        <td id=\"T_89731fe0_22d0_11eb_9b07_194e6ae80ec8row0_col5\" class=\"data row0 col5\" >3</td>\n",
       "                        <td id=\"T_89731fe0_22d0_11eb_9b07_194e6ae80ec8row0_col6\" class=\"data row0 col6\" >A</td>\n",
       "            </tr>\n",
       "            <tr>\n",
       "                                <td id=\"T_89731fe0_22d0_11eb_9b07_194e6ae80ec8row1_col0\" class=\"data row1 col0\" >1</td>\n",
       "                        <td id=\"T_89731fe0_22d0_11eb_9b07_194e6ae80ec8row1_col1\" class=\"data row1 col1\" >B</td>\n",
       "                        <td id=\"T_89731fe0_22d0_11eb_9b07_194e6ae80ec8row1_col2\" class=\"data row1 col2\" >2.000000</td>\n",
       "                        <td id=\"T_89731fe0_22d0_11eb_9b07_194e6ae80ec8row1_col3\" class=\"data row1 col3\" >0.071429</td>\n",
       "                        <td id=\"T_89731fe0_22d0_11eb_9b07_194e6ae80ec8row1_col4\" class=\"data row1 col4\" >1</td>\n",
       "                        <td id=\"T_89731fe0_22d0_11eb_9b07_194e6ae80ec8row1_col5\" class=\"data row1 col5\" >2</td>\n",
       "                        <td id=\"T_89731fe0_22d0_11eb_9b07_194e6ae80ec8row1_col6\" class=\"data row1 col6\" >A</td>\n",
       "            </tr>\n",
       "            <tr>\n",
       "                                <td id=\"T_89731fe0_22d0_11eb_9b07_194e6ae80ec8row2_col0\" class=\"data row2 col0\" >2</td>\n",
       "                        <td id=\"T_89731fe0_22d0_11eb_9b07_194e6ae80ec8row2_col1\" class=\"data row2 col1\" >C</td>\n",
       "                        <td id=\"T_89731fe0_22d0_11eb_9b07_194e6ae80ec8row2_col2\" class=\"data row2 col2\" >5.000000</td>\n",
       "                        <td id=\"T_89731fe0_22d0_11eb_9b07_194e6ae80ec8row2_col3\" class=\"data row2 col3\" >0.178571</td>\n",
       "                        <td id=\"T_89731fe0_22d0_11eb_9b07_194e6ae80ec8row2_col4\" class=\"data row2 col4\" >3</td>\n",
       "                        <td id=\"T_89731fe0_22d0_11eb_9b07_194e6ae80ec8row2_col5\" class=\"data row2 col5\" >3</td>\n",
       "                        <td id=\"T_89731fe0_22d0_11eb_9b07_194e6ae80ec8row2_col6\" class=\"data row2 col6\" >A</td>\n",
       "            </tr>\n",
       "            <tr>\n",
       "                                <td id=\"T_89731fe0_22d0_11eb_9b07_194e6ae80ec8row3_col0\" class=\"data row3 col0\" >3</td>\n",
       "                        <td id=\"T_89731fe0_22d0_11eb_9b07_194e6ae80ec8row3_col1\" class=\"data row3 col1\" >D</td>\n",
       "                        <td id=\"T_89731fe0_22d0_11eb_9b07_194e6ae80ec8row3_col2\" class=\"data row3 col2\" >1.000000</td>\n",
       "                        <td id=\"T_89731fe0_22d0_11eb_9b07_194e6ae80ec8row3_col3\" class=\"data row3 col3\" >0.035714</td>\n",
       "                        <td id=\"T_89731fe0_22d0_11eb_9b07_194e6ae80ec8row3_col4\" class=\"data row3 col4\" >1</td>\n",
       "                        <td id=\"T_89731fe0_22d0_11eb_9b07_194e6ae80ec8row3_col5\" class=\"data row3 col5\" >1</td>\n",
       "                        <td id=\"T_89731fe0_22d0_11eb_9b07_194e6ae80ec8row3_col6\" class=\"data row3 col6\" >A</td>\n",
       "            </tr>\n",
       "            <tr>\n",
       "                                <td id=\"T_89731fe0_22d0_11eb_9b07_194e6ae80ec8row4_col0\" class=\"data row4 col0\" >4</td>\n",
       "                        <td id=\"T_89731fe0_22d0_11eb_9b07_194e6ae80ec8row4_col1\" class=\"data row4 col1\" >E</td>\n",
       "                        <td id=\"T_89731fe0_22d0_11eb_9b07_194e6ae80ec8row4_col2\" class=\"data row4 col2\" >5.000000</td>\n",
       "                        <td id=\"T_89731fe0_22d0_11eb_9b07_194e6ae80ec8row4_col3\" class=\"data row4 col3\" >0.178571</td>\n",
       "                        <td id=\"T_89731fe0_22d0_11eb_9b07_194e6ae80ec8row4_col4\" class=\"data row4 col4\" >3</td>\n",
       "                        <td id=\"T_89731fe0_22d0_11eb_9b07_194e6ae80ec8row4_col5\" class=\"data row4 col5\" >3</td>\n",
       "                        <td id=\"T_89731fe0_22d0_11eb_9b07_194e6ae80ec8row4_col6\" class=\"data row4 col6\" >E</td>\n",
       "            </tr>\n",
       "            <tr>\n",
       "                                <td id=\"T_89731fe0_22d0_11eb_9b07_194e6ae80ec8row5_col0\" class=\"data row5 col0\" >5</td>\n",
       "                        <td id=\"T_89731fe0_22d0_11eb_9b07_194e6ae80ec8row5_col1\" class=\"data row5 col1\" >F</td>\n",
       "                        <td id=\"T_89731fe0_22d0_11eb_9b07_194e6ae80ec8row5_col2\" class=\"data row5 col2\" >5.000000</td>\n",
       "                        <td id=\"T_89731fe0_22d0_11eb_9b07_194e6ae80ec8row5_col3\" class=\"data row5 col3\" >0.178571</td>\n",
       "                        <td id=\"T_89731fe0_22d0_11eb_9b07_194e6ae80ec8row5_col4\" class=\"data row5 col4\" >3</td>\n",
       "                        <td id=\"T_89731fe0_22d0_11eb_9b07_194e6ae80ec8row5_col5\" class=\"data row5 col5\" >3</td>\n",
       "                        <td id=\"T_89731fe0_22d0_11eb_9b07_194e6ae80ec8row5_col6\" class=\"data row5 col6\" >E</td>\n",
       "            </tr>\n",
       "            <tr>\n",
       "                                <td id=\"T_89731fe0_22d0_11eb_9b07_194e6ae80ec8row6_col0\" class=\"data row6 col0\" >6</td>\n",
       "                        <td id=\"T_89731fe0_22d0_11eb_9b07_194e6ae80ec8row6_col1\" class=\"data row6 col1\" >G</td>\n",
       "                        <td id=\"T_89731fe0_22d0_11eb_9b07_194e6ae80ec8row6_col2\" class=\"data row6 col2\" >2.000000</td>\n",
       "                        <td id=\"T_89731fe0_22d0_11eb_9b07_194e6ae80ec8row6_col3\" class=\"data row6 col3\" >0.071429</td>\n",
       "                        <td id=\"T_89731fe0_22d0_11eb_9b07_194e6ae80ec8row6_col4\" class=\"data row6 col4\" >1</td>\n",
       "                        <td id=\"T_89731fe0_22d0_11eb_9b07_194e6ae80ec8row6_col5\" class=\"data row6 col5\" >1</td>\n",
       "                        <td id=\"T_89731fe0_22d0_11eb_9b07_194e6ae80ec8row6_col6\" class=\"data row6 col6\" >E</td>\n",
       "            </tr>\n",
       "            <tr>\n",
       "                                <td id=\"T_89731fe0_22d0_11eb_9b07_194e6ae80ec8row7_col0\" class=\"data row7 col0\" >7</td>\n",
       "                        <td id=\"T_89731fe0_22d0_11eb_9b07_194e6ae80ec8row7_col1\" class=\"data row7 col1\" >J</td>\n",
       "                        <td id=\"T_89731fe0_22d0_11eb_9b07_194e6ae80ec8row7_col2\" class=\"data row7 col2\" >2.000000</td>\n",
       "                        <td id=\"T_89731fe0_22d0_11eb_9b07_194e6ae80ec8row7_col3\" class=\"data row7 col3\" >0.071429</td>\n",
       "                        <td id=\"T_89731fe0_22d0_11eb_9b07_194e6ae80ec8row7_col4\" class=\"data row7 col4\" >1</td>\n",
       "                        <td id=\"T_89731fe0_22d0_11eb_9b07_194e6ae80ec8row7_col5\" class=\"data row7 col5\" >1</td>\n",
       "                        <td id=\"T_89731fe0_22d0_11eb_9b07_194e6ae80ec8row7_col6\" class=\"data row7 col6\" >E</td>\n",
       "            </tr>\n",
       "    </tbody></table>"
      ],
      "text/plain": [
       "<pandas.io.formats.style.Styler at 0x7fc03ff6fc50>"
      ]
     },
     "execution_count": 28,
     "metadata": {},
     "output_type": "execute_result"
    }
   ],
   "source": [
    "okn.info(net, target='microstate')"
   ]
  },
  {
   "cell_type": "markdown",
   "metadata": {},
   "source": [
    "As you can see in the above table, the name of each component is taken from its weightest node."
   ]
  }
 ],
 "metadata": {
  "kernelspec": {
   "display_name": "Python 3",
   "language": "python",
   "name": "python3"
  },
  "language_info": {
   "codemirror_mode": {
    "name": "ipython",
    "version": 3
   },
   "file_extension": ".py",
   "mimetype": "text/x-python",
   "name": "python",
   "nbconvert_exporter": "python",
   "pygments_lexer": "ipython3",
   "version": "3.7.8"
  }
 },
 "nbformat": 4,
 "nbformat_minor": 4
}
