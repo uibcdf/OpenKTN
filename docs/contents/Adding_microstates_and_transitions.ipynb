{
 "cells": [
  {
   "cell_type": "code",
   "execution_count": 1,
   "metadata": {},
   "outputs": [],
   "source": [
    "%load_ext autoreload\n",
    "%autoreload 2"
   ]
  },
  {
   "cell_type": "code",
   "execution_count": 2,
   "metadata": {},
   "outputs": [],
   "source": [
    "import openktn as okn\n",
    "from simtk.unit import kelvin, picoseconds"
   ]
  },
  {
   "cell_type": "markdown",
   "metadata": {},
   "source": [
    "# Adding microstates and transitions"
   ]
  },
  {
   "cell_type": "code",
   "execution_count": 3,
   "metadata": {},
   "outputs": [],
   "source": [
    "net = okn.kinetic_transition_network(form='networkx.DiGraph', temperature=300*kelvin,\n",
    "                                     time_step=10*picoseconds)"
   ]
  },
  {
   "cell_type": "code",
   "execution_count": null,
   "metadata": {},
   "outputs": [],
   "source": []
  },
  {
   "cell_type": "code",
   "execution_count": 4,
   "metadata": {},
   "outputs": [
    {
     "data": {
      "text/html": [
       "<style  type=\"text/css\" >\n",
       "</style><table id=\"T_53b2240a_1c04_11eb_9eec_13df02a35920\" ><thead>    <tr>        <th class=\"col_heading level0 col0\" >form</th>        <th class=\"col_heading level0 col1\" >n_microstates</th>        <th class=\"col_heading level0 col2\" >n_transitions</th>        <th class=\"col_heading level0 col3\" >weight</th>        <th class=\"col_heading level0 col4\" >symmetrized</th>        <th class=\"col_heading level0 col5\" >temperature</th>        <th class=\"col_heading level0 col6\" >time_step</th>    </tr></thead><tbody>\n",
       "                <tr>\n",
       "                                <td id=\"T_53b2240a_1c04_11eb_9eec_13df02a35920row0_col0\" class=\"data row0 col0\" >networkx.DiGraph</td>\n",
       "                        <td id=\"T_53b2240a_1c04_11eb_9eec_13df02a35920row0_col1\" class=\"data row0 col1\" >0</td>\n",
       "                        <td id=\"T_53b2240a_1c04_11eb_9eec_13df02a35920row0_col2\" class=\"data row0 col2\" >0</td>\n",
       "                        <td id=\"T_53b2240a_1c04_11eb_9eec_13df02a35920row0_col3\" class=\"data row0 col3\" >0</td>\n",
       "                        <td id=\"T_53b2240a_1c04_11eb_9eec_13df02a35920row0_col4\" class=\"data row0 col4\" >True</td>\n",
       "                        <td id=\"T_53b2240a_1c04_11eb_9eec_13df02a35920row0_col5\" class=\"data row0 col5\" >300 K</td>\n",
       "                        <td id=\"T_53b2240a_1c04_11eb_9eec_13df02a35920row0_col6\" class=\"data row0 col6\" >0.01 ns</td>\n",
       "            </tr>\n",
       "    </tbody></table>"
      ],
      "text/plain": [
       "<pandas.io.formats.style.Styler at 0x7f0116d51b50>"
      ]
     },
     "execution_count": 4,
     "metadata": {},
     "output_type": "execute_result"
    }
   ],
   "source": [
    "okn.info(net)"
   ]
  },
  {
   "cell_type": "code",
   "execution_count": 5,
   "metadata": {},
   "outputs": [
    {
     "data": {
      "text/plain": [
       "{'temperature': Quantity(value=300, unit=kelvin),\n",
       " 'time_step': Quantity(value=0.01, unit=nanosecond)}"
      ]
     },
     "execution_count": 5,
     "metadata": {},
     "output_type": "execute_result"
    }
   ],
   "source": [
    "net.graph"
   ]
  },
  {
   "cell_type": "markdown",
   "metadata": {},
   "source": [
    "## Adding microstates"
   ]
  },
  {
   "cell_type": "code",
   "execution_count": 6,
   "metadata": {},
   "outputs": [],
   "source": [
    "okn.add_microstate(net)"
   ]
  },
  {
   "cell_type": "code",
   "execution_count": 7,
   "metadata": {},
   "outputs": [
    {
     "data": {
      "text/html": [
       "<style  type=\"text/css\" >\n",
       "</style><table id=\"T_54b5faac_1c04_11eb_9eec_13df02a35920\" ><thead>    <tr>        <th class=\"col_heading level0 col0\" >index</th>        <th class=\"col_heading level0 col1\" >name</th>        <th class=\"col_heading level0 col2\" >weight</th>        <th class=\"col_heading level0 col3\" >probability</th>        <th class=\"col_heading level0 col4\" >degree</th>    </tr></thead><tbody>\n",
       "                <tr>\n",
       "                                <td id=\"T_54b5faac_1c04_11eb_9eec_13df02a35920row0_col0\" class=\"data row0 col0\" >0</td>\n",
       "                        <td id=\"T_54b5faac_1c04_11eb_9eec_13df02a35920row0_col1\" class=\"data row0 col1\" >0</td>\n",
       "                        <td id=\"T_54b5faac_1c04_11eb_9eec_13df02a35920row0_col2\" class=\"data row0 col2\" >0.000000</td>\n",
       "                        <td id=\"T_54b5faac_1c04_11eb_9eec_13df02a35920row0_col3\" class=\"data row0 col3\" >0.000000</td>\n",
       "                        <td id=\"T_54b5faac_1c04_11eb_9eec_13df02a35920row0_col4\" class=\"data row0 col4\" >0</td>\n",
       "            </tr>\n",
       "    </tbody></table>"
      ],
      "text/plain": [
       "<pandas.io.formats.style.Styler at 0x7f0116a66050>"
      ]
     },
     "execution_count": 7,
     "metadata": {},
     "output_type": "execute_result"
    }
   ],
   "source": [
    "okn.info(net, target='microstate')"
   ]
  },
  {
   "cell_type": "code",
   "execution_count": 8,
   "metadata": {},
   "outputs": [],
   "source": [
    "okn.add_microstate(net, name='A')"
   ]
  },
  {
   "cell_type": "code",
   "execution_count": 9,
   "metadata": {},
   "outputs": [
    {
     "data": {
      "text/html": [
       "<style  type=\"text/css\" >\n",
       "</style><table id=\"T_54b5faad_1c04_11eb_9eec_13df02a35920\" ><thead>    <tr>        <th class=\"col_heading level0 col0\" >index</th>        <th class=\"col_heading level0 col1\" >name</th>        <th class=\"col_heading level0 col2\" >weight</th>        <th class=\"col_heading level0 col3\" >probability</th>        <th class=\"col_heading level0 col4\" >degree</th>    </tr></thead><tbody>\n",
       "                <tr>\n",
       "                                <td id=\"T_54b5faad_1c04_11eb_9eec_13df02a35920row0_col0\" class=\"data row0 col0\" >0</td>\n",
       "                        <td id=\"T_54b5faad_1c04_11eb_9eec_13df02a35920row0_col1\" class=\"data row0 col1\" >0</td>\n",
       "                        <td id=\"T_54b5faad_1c04_11eb_9eec_13df02a35920row0_col2\" class=\"data row0 col2\" >0.000000</td>\n",
       "                        <td id=\"T_54b5faad_1c04_11eb_9eec_13df02a35920row0_col3\" class=\"data row0 col3\" >0.000000</td>\n",
       "                        <td id=\"T_54b5faad_1c04_11eb_9eec_13df02a35920row0_col4\" class=\"data row0 col4\" >0</td>\n",
       "            </tr>\n",
       "            <tr>\n",
       "                                <td id=\"T_54b5faad_1c04_11eb_9eec_13df02a35920row1_col0\" class=\"data row1 col0\" >1</td>\n",
       "                        <td id=\"T_54b5faad_1c04_11eb_9eec_13df02a35920row1_col1\" class=\"data row1 col1\" >A</td>\n",
       "                        <td id=\"T_54b5faad_1c04_11eb_9eec_13df02a35920row1_col2\" class=\"data row1 col2\" >0.000000</td>\n",
       "                        <td id=\"T_54b5faad_1c04_11eb_9eec_13df02a35920row1_col3\" class=\"data row1 col3\" >0.000000</td>\n",
       "                        <td id=\"T_54b5faad_1c04_11eb_9eec_13df02a35920row1_col4\" class=\"data row1 col4\" >0</td>\n",
       "            </tr>\n",
       "    </tbody></table>"
      ],
      "text/plain": [
       "<pandas.io.formats.style.Styler at 0x7f01166c3790>"
      ]
     },
     "execution_count": 9,
     "metadata": {},
     "output_type": "execute_result"
    }
   ],
   "source": [
    "okn.info(net, target='microstate')"
   ]
  },
  {
   "cell_type": "code",
   "execution_count": 10,
   "metadata": {},
   "outputs": [],
   "source": [
    "okn.add_microstate(net, index=4)"
   ]
  },
  {
   "cell_type": "code",
   "execution_count": 11,
   "metadata": {},
   "outputs": [
    {
     "data": {
      "text/html": [
       "<style  type=\"text/css\" >\n",
       "</style><table id=\"T_54b5faae_1c04_11eb_9eec_13df02a35920\" ><thead>    <tr>        <th class=\"col_heading level0 col0\" >index</th>        <th class=\"col_heading level0 col1\" >name</th>        <th class=\"col_heading level0 col2\" >weight</th>        <th class=\"col_heading level0 col3\" >probability</th>        <th class=\"col_heading level0 col4\" >degree</th>    </tr></thead><tbody>\n",
       "                <tr>\n",
       "                                <td id=\"T_54b5faae_1c04_11eb_9eec_13df02a35920row0_col0\" class=\"data row0 col0\" >0</td>\n",
       "                        <td id=\"T_54b5faae_1c04_11eb_9eec_13df02a35920row0_col1\" class=\"data row0 col1\" >0</td>\n",
       "                        <td id=\"T_54b5faae_1c04_11eb_9eec_13df02a35920row0_col2\" class=\"data row0 col2\" >0.000000</td>\n",
       "                        <td id=\"T_54b5faae_1c04_11eb_9eec_13df02a35920row0_col3\" class=\"data row0 col3\" >0.000000</td>\n",
       "                        <td id=\"T_54b5faae_1c04_11eb_9eec_13df02a35920row0_col4\" class=\"data row0 col4\" >0</td>\n",
       "            </tr>\n",
       "            <tr>\n",
       "                                <td id=\"T_54b5faae_1c04_11eb_9eec_13df02a35920row1_col0\" class=\"data row1 col0\" >1</td>\n",
       "                        <td id=\"T_54b5faae_1c04_11eb_9eec_13df02a35920row1_col1\" class=\"data row1 col1\" >A</td>\n",
       "                        <td id=\"T_54b5faae_1c04_11eb_9eec_13df02a35920row1_col2\" class=\"data row1 col2\" >0.000000</td>\n",
       "                        <td id=\"T_54b5faae_1c04_11eb_9eec_13df02a35920row1_col3\" class=\"data row1 col3\" >0.000000</td>\n",
       "                        <td id=\"T_54b5faae_1c04_11eb_9eec_13df02a35920row1_col4\" class=\"data row1 col4\" >0</td>\n",
       "            </tr>\n",
       "            <tr>\n",
       "                                <td id=\"T_54b5faae_1c04_11eb_9eec_13df02a35920row2_col0\" class=\"data row2 col0\" >2</td>\n",
       "                        <td id=\"T_54b5faae_1c04_11eb_9eec_13df02a35920row2_col1\" class=\"data row2 col1\" >2</td>\n",
       "                        <td id=\"T_54b5faae_1c04_11eb_9eec_13df02a35920row2_col2\" class=\"data row2 col2\" >0.000000</td>\n",
       "                        <td id=\"T_54b5faae_1c04_11eb_9eec_13df02a35920row2_col3\" class=\"data row2 col3\" >0.000000</td>\n",
       "                        <td id=\"T_54b5faae_1c04_11eb_9eec_13df02a35920row2_col4\" class=\"data row2 col4\" >0</td>\n",
       "            </tr>\n",
       "            <tr>\n",
       "                                <td id=\"T_54b5faae_1c04_11eb_9eec_13df02a35920row3_col0\" class=\"data row3 col0\" >3</td>\n",
       "                        <td id=\"T_54b5faae_1c04_11eb_9eec_13df02a35920row3_col1\" class=\"data row3 col1\" >3</td>\n",
       "                        <td id=\"T_54b5faae_1c04_11eb_9eec_13df02a35920row3_col2\" class=\"data row3 col2\" >0.000000</td>\n",
       "                        <td id=\"T_54b5faae_1c04_11eb_9eec_13df02a35920row3_col3\" class=\"data row3 col3\" >0.000000</td>\n",
       "                        <td id=\"T_54b5faae_1c04_11eb_9eec_13df02a35920row3_col4\" class=\"data row3 col4\" >0</td>\n",
       "            </tr>\n",
       "    </tbody></table>"
      ],
      "text/plain": [
       "<pandas.io.formats.style.Styler at 0x7f01497ca850>"
      ]
     },
     "execution_count": 11,
     "metadata": {},
     "output_type": "execute_result"
    }
   ],
   "source": [
    "okn.info(net, target='microstate')"
   ]
  },
  {
   "cell_type": "markdown",
   "metadata": {},
   "source": [
    "## Adding transitions"
   ]
  },
  {
   "cell_type": "code",
   "execution_count": 12,
   "metadata": {},
   "outputs": [],
   "source": [
    "okn.add_transition(net, origin='A', end=3, weight=1.0)"
   ]
  },
  {
   "cell_type": "code",
   "execution_count": 13,
   "metadata": {},
   "outputs": [
    {
     "data": {
      "text/html": [
       "<style  type=\"text/css\" >\n",
       "</style><table id=\"T_56559c0a_1c04_11eb_9eec_13df02a35920\" ><thead>    <tr>        <th class=\"col_heading level0 col0\" >form</th>        <th class=\"col_heading level0 col1\" >n_microstates</th>        <th class=\"col_heading level0 col2\" >n_transitions</th>        <th class=\"col_heading level0 col3\" >weight</th>        <th class=\"col_heading level0 col4\" >symmetrized</th>        <th class=\"col_heading level0 col5\" >temperature</th>        <th class=\"col_heading level0 col6\" >time_step</th>    </tr></thead><tbody>\n",
       "                <tr>\n",
       "                                <td id=\"T_56559c0a_1c04_11eb_9eec_13df02a35920row0_col0\" class=\"data row0 col0\" >networkx.DiGraph</td>\n",
       "                        <td id=\"T_56559c0a_1c04_11eb_9eec_13df02a35920row0_col1\" class=\"data row0 col1\" >4</td>\n",
       "                        <td id=\"T_56559c0a_1c04_11eb_9eec_13df02a35920row0_col2\" class=\"data row0 col2\" >1</td>\n",
       "                        <td id=\"T_56559c0a_1c04_11eb_9eec_13df02a35920row0_col3\" class=\"data row0 col3\" >1.000000</td>\n",
       "                        <td id=\"T_56559c0a_1c04_11eb_9eec_13df02a35920row0_col4\" class=\"data row0 col4\" >False</td>\n",
       "                        <td id=\"T_56559c0a_1c04_11eb_9eec_13df02a35920row0_col5\" class=\"data row0 col5\" >300 K</td>\n",
       "                        <td id=\"T_56559c0a_1c04_11eb_9eec_13df02a35920row0_col6\" class=\"data row0 col6\" >0.01 ns</td>\n",
       "            </tr>\n",
       "    </tbody></table>"
      ],
      "text/plain": [
       "<pandas.io.formats.style.Styler at 0x7f01166bb550>"
      ]
     },
     "execution_count": 13,
     "metadata": {},
     "output_type": "execute_result"
    }
   ],
   "source": [
    "okn.info(net)"
   ]
  },
  {
   "cell_type": "code",
   "execution_count": 14,
   "metadata": {},
   "outputs": [
    {
     "data": {
      "text/html": [
       "<style  type=\"text/css\" >\n",
       "</style><table id=\"T_56559c0b_1c04_11eb_9eec_13df02a35920\" ><thead>    <tr>        <th class=\"col_heading level0 col0\" >index</th>        <th class=\"col_heading level0 col1\" >name</th>        <th class=\"col_heading level0 col2\" >weight</th>        <th class=\"col_heading level0 col3\" >probability</th>        <th class=\"col_heading level0 col4\" >out_degree</th>        <th class=\"col_heading level0 col5\" >in_degree</th>    </tr></thead><tbody>\n",
       "                <tr>\n",
       "                                <td id=\"T_56559c0b_1c04_11eb_9eec_13df02a35920row0_col0\" class=\"data row0 col0\" >0</td>\n",
       "                        <td id=\"T_56559c0b_1c04_11eb_9eec_13df02a35920row0_col1\" class=\"data row0 col1\" >0</td>\n",
       "                        <td id=\"T_56559c0b_1c04_11eb_9eec_13df02a35920row0_col2\" class=\"data row0 col2\" >0.000000</td>\n",
       "                        <td id=\"T_56559c0b_1c04_11eb_9eec_13df02a35920row0_col3\" class=\"data row0 col3\" >0.000000</td>\n",
       "                        <td id=\"T_56559c0b_1c04_11eb_9eec_13df02a35920row0_col4\" class=\"data row0 col4\" >0</td>\n",
       "                        <td id=\"T_56559c0b_1c04_11eb_9eec_13df02a35920row0_col5\" class=\"data row0 col5\" >0</td>\n",
       "            </tr>\n",
       "            <tr>\n",
       "                                <td id=\"T_56559c0b_1c04_11eb_9eec_13df02a35920row1_col0\" class=\"data row1 col0\" >1</td>\n",
       "                        <td id=\"T_56559c0b_1c04_11eb_9eec_13df02a35920row1_col1\" class=\"data row1 col1\" >A</td>\n",
       "                        <td id=\"T_56559c0b_1c04_11eb_9eec_13df02a35920row1_col2\" class=\"data row1 col2\" >1.000000</td>\n",
       "                        <td id=\"T_56559c0b_1c04_11eb_9eec_13df02a35920row1_col3\" class=\"data row1 col3\" >0.000000</td>\n",
       "                        <td id=\"T_56559c0b_1c04_11eb_9eec_13df02a35920row1_col4\" class=\"data row1 col4\" >1</td>\n",
       "                        <td id=\"T_56559c0b_1c04_11eb_9eec_13df02a35920row1_col5\" class=\"data row1 col5\" >0</td>\n",
       "            </tr>\n",
       "            <tr>\n",
       "                                <td id=\"T_56559c0b_1c04_11eb_9eec_13df02a35920row2_col0\" class=\"data row2 col0\" >2</td>\n",
       "                        <td id=\"T_56559c0b_1c04_11eb_9eec_13df02a35920row2_col1\" class=\"data row2 col1\" >2</td>\n",
       "                        <td id=\"T_56559c0b_1c04_11eb_9eec_13df02a35920row2_col2\" class=\"data row2 col2\" >0.000000</td>\n",
       "                        <td id=\"T_56559c0b_1c04_11eb_9eec_13df02a35920row2_col3\" class=\"data row2 col3\" >0.000000</td>\n",
       "                        <td id=\"T_56559c0b_1c04_11eb_9eec_13df02a35920row2_col4\" class=\"data row2 col4\" >0</td>\n",
       "                        <td id=\"T_56559c0b_1c04_11eb_9eec_13df02a35920row2_col5\" class=\"data row2 col5\" >0</td>\n",
       "            </tr>\n",
       "            <tr>\n",
       "                                <td id=\"T_56559c0b_1c04_11eb_9eec_13df02a35920row3_col0\" class=\"data row3 col0\" >3</td>\n",
       "                        <td id=\"T_56559c0b_1c04_11eb_9eec_13df02a35920row3_col1\" class=\"data row3 col1\" >3</td>\n",
       "                        <td id=\"T_56559c0b_1c04_11eb_9eec_13df02a35920row3_col2\" class=\"data row3 col2\" >0.000000</td>\n",
       "                        <td id=\"T_56559c0b_1c04_11eb_9eec_13df02a35920row3_col3\" class=\"data row3 col3\" >0.000000</td>\n",
       "                        <td id=\"T_56559c0b_1c04_11eb_9eec_13df02a35920row3_col4\" class=\"data row3 col4\" >0</td>\n",
       "                        <td id=\"T_56559c0b_1c04_11eb_9eec_13df02a35920row3_col5\" class=\"data row3 col5\" >1</td>\n",
       "            </tr>\n",
       "    </tbody></table>"
      ],
      "text/plain": [
       "<pandas.io.formats.style.Styler at 0x7f01500579d0>"
      ]
     },
     "execution_count": 14,
     "metadata": {},
     "output_type": "execute_result"
    }
   ],
   "source": [
    "okn.info(net, target='microstate')"
   ]
  },
  {
   "cell_type": "code",
   "execution_count": 15,
   "metadata": {},
   "outputs": [
    {
     "data": {
      "text/html": [
       "<style  type=\"text/css\" >\n",
       "</style><table id=\"T_56559c0c_1c04_11eb_9eec_13df02a35920\" ><thead>    <tr>        <th class=\"col_heading level0 col0\" >index</th>        <th class=\"col_heading level0 col1\" >origin_index</th>        <th class=\"col_heading level0 col2\" >end_index</th>        <th class=\"col_heading level0 col3\" >weight</th>        <th class=\"col_heading level0 col4\" >probability</th>        <th class=\"col_heading level0 col5\" >symmetrized</th>    </tr></thead><tbody>\n",
       "                <tr>\n",
       "                                <td id=\"T_56559c0c_1c04_11eb_9eec_13df02a35920row0_col0\" class=\"data row0 col0\" >0</td>\n",
       "                        <td id=\"T_56559c0c_1c04_11eb_9eec_13df02a35920row0_col1\" class=\"data row0 col1\" >1</td>\n",
       "                        <td id=\"T_56559c0c_1c04_11eb_9eec_13df02a35920row0_col2\" class=\"data row0 col2\" >3</td>\n",
       "                        <td id=\"T_56559c0c_1c04_11eb_9eec_13df02a35920row0_col3\" class=\"data row0 col3\" >1.000000</td>\n",
       "                        <td id=\"T_56559c0c_1c04_11eb_9eec_13df02a35920row0_col4\" class=\"data row0 col4\" >0.000000</td>\n",
       "                        <td id=\"T_56559c0c_1c04_11eb_9eec_13df02a35920row0_col5\" class=\"data row0 col5\" >False</td>\n",
       "            </tr>\n",
       "    </tbody></table>"
      ],
      "text/plain": [
       "<pandas.io.formats.style.Styler at 0x7f0116bae310>"
      ]
     },
     "execution_count": 15,
     "metadata": {},
     "output_type": "execute_result"
    }
   ],
   "source": [
    "okn.info(net, target='transition')"
   ]
  },
  {
   "cell_type": "code",
   "execution_count": 16,
   "metadata": {},
   "outputs": [],
   "source": [
    "okn.add_transition(net, origin=0, end=2, weight=4.0, origin_index=True, end_index=True)"
   ]
  },
  {
   "cell_type": "code",
   "execution_count": 17,
   "metadata": {},
   "outputs": [
    {
     "data": {
      "text/html": [
       "<style  type=\"text/css\" >\n",
       "</style><table id=\"T_5711ca6a_1c04_11eb_9eec_13df02a35920\" ><thead>    <tr>        <th class=\"col_heading level0 col0\" >index</th>        <th class=\"col_heading level0 col1\" >origin_index</th>        <th class=\"col_heading level0 col2\" >end_index</th>        <th class=\"col_heading level0 col3\" >weight</th>        <th class=\"col_heading level0 col4\" >probability</th>        <th class=\"col_heading level0 col5\" >symmetrized</th>    </tr></thead><tbody>\n",
       "                <tr>\n",
       "                                <td id=\"T_5711ca6a_1c04_11eb_9eec_13df02a35920row0_col0\" class=\"data row0 col0\" >0</td>\n",
       "                        <td id=\"T_5711ca6a_1c04_11eb_9eec_13df02a35920row0_col1\" class=\"data row0 col1\" >1</td>\n",
       "                        <td id=\"T_5711ca6a_1c04_11eb_9eec_13df02a35920row0_col2\" class=\"data row0 col2\" >3</td>\n",
       "                        <td id=\"T_5711ca6a_1c04_11eb_9eec_13df02a35920row0_col3\" class=\"data row0 col3\" >1.000000</td>\n",
       "                        <td id=\"T_5711ca6a_1c04_11eb_9eec_13df02a35920row0_col4\" class=\"data row0 col4\" >0.000000</td>\n",
       "                        <td id=\"T_5711ca6a_1c04_11eb_9eec_13df02a35920row0_col5\" class=\"data row0 col5\" >False</td>\n",
       "            </tr>\n",
       "            <tr>\n",
       "                                <td id=\"T_5711ca6a_1c04_11eb_9eec_13df02a35920row1_col0\" class=\"data row1 col0\" >1</td>\n",
       "                        <td id=\"T_5711ca6a_1c04_11eb_9eec_13df02a35920row1_col1\" class=\"data row1 col1\" >0</td>\n",
       "                        <td id=\"T_5711ca6a_1c04_11eb_9eec_13df02a35920row1_col2\" class=\"data row1 col2\" >2</td>\n",
       "                        <td id=\"T_5711ca6a_1c04_11eb_9eec_13df02a35920row1_col3\" class=\"data row1 col3\" >4.000000</td>\n",
       "                        <td id=\"T_5711ca6a_1c04_11eb_9eec_13df02a35920row1_col4\" class=\"data row1 col4\" >0.000000</td>\n",
       "                        <td id=\"T_5711ca6a_1c04_11eb_9eec_13df02a35920row1_col5\" class=\"data row1 col5\" >False</td>\n",
       "            </tr>\n",
       "    </tbody></table>"
      ],
      "text/plain": [
       "<pandas.io.formats.style.Styler at 0x7f01166b69d0>"
      ]
     },
     "execution_count": 17,
     "metadata": {},
     "output_type": "execute_result"
    }
   ],
   "source": [
    "okn.info(net, target='transition')"
   ]
  },
  {
   "cell_type": "markdown",
   "metadata": {},
   "source": [
    "Ya tenemos pesos"
   ]
  },
  {
   "cell_type": "code",
   "execution_count": 18,
   "metadata": {},
   "outputs": [
    {
     "data": {
      "text/html": [
       "<style  type=\"text/css\" >\n",
       "</style><table id=\"T_5711ca6b_1c04_11eb_9eec_13df02a35920\" ><thead>    <tr>        <th class=\"col_heading level0 col0\" >form</th>        <th class=\"col_heading level0 col1\" >n_microstates</th>        <th class=\"col_heading level0 col2\" >n_transitions</th>        <th class=\"col_heading level0 col3\" >weight</th>        <th class=\"col_heading level0 col4\" >symmetrized</th>        <th class=\"col_heading level0 col5\" >temperature</th>        <th class=\"col_heading level0 col6\" >time_step</th>    </tr></thead><tbody>\n",
       "                <tr>\n",
       "                                <td id=\"T_5711ca6b_1c04_11eb_9eec_13df02a35920row0_col0\" class=\"data row0 col0\" >networkx.DiGraph</td>\n",
       "                        <td id=\"T_5711ca6b_1c04_11eb_9eec_13df02a35920row0_col1\" class=\"data row0 col1\" >4</td>\n",
       "                        <td id=\"T_5711ca6b_1c04_11eb_9eec_13df02a35920row0_col2\" class=\"data row0 col2\" >2</td>\n",
       "                        <td id=\"T_5711ca6b_1c04_11eb_9eec_13df02a35920row0_col3\" class=\"data row0 col3\" >5.000000</td>\n",
       "                        <td id=\"T_5711ca6b_1c04_11eb_9eec_13df02a35920row0_col4\" class=\"data row0 col4\" >False</td>\n",
       "                        <td id=\"T_5711ca6b_1c04_11eb_9eec_13df02a35920row0_col5\" class=\"data row0 col5\" >300 K</td>\n",
       "                        <td id=\"T_5711ca6b_1c04_11eb_9eec_13df02a35920row0_col6\" class=\"data row0 col6\" >0.01 ns</td>\n",
       "            </tr>\n",
       "    </tbody></table>"
      ],
      "text/plain": [
       "<pandas.io.formats.style.Styler at 0x7f01166b6910>"
      ]
     },
     "execution_count": 18,
     "metadata": {},
     "output_type": "execute_result"
    }
   ],
   "source": [
    "okn.info(net)"
   ]
  },
  {
   "cell_type": "code",
   "execution_count": 19,
   "metadata": {},
   "outputs": [
    {
     "data": {
      "text/html": [
       "<style  type=\"text/css\" >\n",
       "</style><table id=\"T_5711ca6c_1c04_11eb_9eec_13df02a35920\" ><thead>    <tr>        <th class=\"col_heading level0 col0\" >index</th>        <th class=\"col_heading level0 col1\" >name</th>        <th class=\"col_heading level0 col2\" >weight</th>        <th class=\"col_heading level0 col3\" >probability</th>        <th class=\"col_heading level0 col4\" >out_degree</th>        <th class=\"col_heading level0 col5\" >in_degree</th>    </tr></thead><tbody>\n",
       "                <tr>\n",
       "                                <td id=\"T_5711ca6c_1c04_11eb_9eec_13df02a35920row0_col0\" class=\"data row0 col0\" >0</td>\n",
       "                        <td id=\"T_5711ca6c_1c04_11eb_9eec_13df02a35920row0_col1\" class=\"data row0 col1\" >0</td>\n",
       "                        <td id=\"T_5711ca6c_1c04_11eb_9eec_13df02a35920row0_col2\" class=\"data row0 col2\" >4.000000</td>\n",
       "                        <td id=\"T_5711ca6c_1c04_11eb_9eec_13df02a35920row0_col3\" class=\"data row0 col3\" >0.000000</td>\n",
       "                        <td id=\"T_5711ca6c_1c04_11eb_9eec_13df02a35920row0_col4\" class=\"data row0 col4\" >1</td>\n",
       "                        <td id=\"T_5711ca6c_1c04_11eb_9eec_13df02a35920row0_col5\" class=\"data row0 col5\" >0</td>\n",
       "            </tr>\n",
       "            <tr>\n",
       "                                <td id=\"T_5711ca6c_1c04_11eb_9eec_13df02a35920row1_col0\" class=\"data row1 col0\" >1</td>\n",
       "                        <td id=\"T_5711ca6c_1c04_11eb_9eec_13df02a35920row1_col1\" class=\"data row1 col1\" >A</td>\n",
       "                        <td id=\"T_5711ca6c_1c04_11eb_9eec_13df02a35920row1_col2\" class=\"data row1 col2\" >1.000000</td>\n",
       "                        <td id=\"T_5711ca6c_1c04_11eb_9eec_13df02a35920row1_col3\" class=\"data row1 col3\" >0.000000</td>\n",
       "                        <td id=\"T_5711ca6c_1c04_11eb_9eec_13df02a35920row1_col4\" class=\"data row1 col4\" >1</td>\n",
       "                        <td id=\"T_5711ca6c_1c04_11eb_9eec_13df02a35920row1_col5\" class=\"data row1 col5\" >0</td>\n",
       "            </tr>\n",
       "            <tr>\n",
       "                                <td id=\"T_5711ca6c_1c04_11eb_9eec_13df02a35920row2_col0\" class=\"data row2 col0\" >2</td>\n",
       "                        <td id=\"T_5711ca6c_1c04_11eb_9eec_13df02a35920row2_col1\" class=\"data row2 col1\" >2</td>\n",
       "                        <td id=\"T_5711ca6c_1c04_11eb_9eec_13df02a35920row2_col2\" class=\"data row2 col2\" >0.000000</td>\n",
       "                        <td id=\"T_5711ca6c_1c04_11eb_9eec_13df02a35920row2_col3\" class=\"data row2 col3\" >0.000000</td>\n",
       "                        <td id=\"T_5711ca6c_1c04_11eb_9eec_13df02a35920row2_col4\" class=\"data row2 col4\" >0</td>\n",
       "                        <td id=\"T_5711ca6c_1c04_11eb_9eec_13df02a35920row2_col5\" class=\"data row2 col5\" >1</td>\n",
       "            </tr>\n",
       "            <tr>\n",
       "                                <td id=\"T_5711ca6c_1c04_11eb_9eec_13df02a35920row3_col0\" class=\"data row3 col0\" >3</td>\n",
       "                        <td id=\"T_5711ca6c_1c04_11eb_9eec_13df02a35920row3_col1\" class=\"data row3 col1\" >3</td>\n",
       "                        <td id=\"T_5711ca6c_1c04_11eb_9eec_13df02a35920row3_col2\" class=\"data row3 col2\" >0.000000</td>\n",
       "                        <td id=\"T_5711ca6c_1c04_11eb_9eec_13df02a35920row3_col3\" class=\"data row3 col3\" >0.000000</td>\n",
       "                        <td id=\"T_5711ca6c_1c04_11eb_9eec_13df02a35920row3_col4\" class=\"data row3 col4\" >0</td>\n",
       "                        <td id=\"T_5711ca6c_1c04_11eb_9eec_13df02a35920row3_col5\" class=\"data row3 col5\" >1</td>\n",
       "            </tr>\n",
       "    </tbody></table>"
      ],
      "text/plain": [
       "<pandas.io.formats.style.Styler at 0x7f01166a5790>"
      ]
     },
     "execution_count": 19,
     "metadata": {},
     "output_type": "execute_result"
    }
   ],
   "source": [
    "okn.info(net, target='microstate')"
   ]
  },
  {
   "cell_type": "code",
   "execution_count": 20,
   "metadata": {},
   "outputs": [],
   "source": [
    "okn.update_probabilities(net)"
   ]
  },
  {
   "cell_type": "code",
   "execution_count": 21,
   "metadata": {},
   "outputs": [
    {
     "data": {
      "text/html": [
       "<style  type=\"text/css\" >\n",
       "</style><table id=\"T_583ef840_1c04_11eb_9eec_13df02a35920\" ><thead>    <tr>        <th class=\"col_heading level0 col0\" >index</th>        <th class=\"col_heading level0 col1\" >name</th>        <th class=\"col_heading level0 col2\" >weight</th>        <th class=\"col_heading level0 col3\" >probability</th>        <th class=\"col_heading level0 col4\" >out_degree</th>        <th class=\"col_heading level0 col5\" >in_degree</th>    </tr></thead><tbody>\n",
       "                <tr>\n",
       "                                <td id=\"T_583ef840_1c04_11eb_9eec_13df02a35920row0_col0\" class=\"data row0 col0\" >0</td>\n",
       "                        <td id=\"T_583ef840_1c04_11eb_9eec_13df02a35920row0_col1\" class=\"data row0 col1\" >0</td>\n",
       "                        <td id=\"T_583ef840_1c04_11eb_9eec_13df02a35920row0_col2\" class=\"data row0 col2\" >4.000000</td>\n",
       "                        <td id=\"T_583ef840_1c04_11eb_9eec_13df02a35920row0_col3\" class=\"data row0 col3\" >0.800000</td>\n",
       "                        <td id=\"T_583ef840_1c04_11eb_9eec_13df02a35920row0_col4\" class=\"data row0 col4\" >1</td>\n",
       "                        <td id=\"T_583ef840_1c04_11eb_9eec_13df02a35920row0_col5\" class=\"data row0 col5\" >0</td>\n",
       "            </tr>\n",
       "            <tr>\n",
       "                                <td id=\"T_583ef840_1c04_11eb_9eec_13df02a35920row1_col0\" class=\"data row1 col0\" >1</td>\n",
       "                        <td id=\"T_583ef840_1c04_11eb_9eec_13df02a35920row1_col1\" class=\"data row1 col1\" >A</td>\n",
       "                        <td id=\"T_583ef840_1c04_11eb_9eec_13df02a35920row1_col2\" class=\"data row1 col2\" >1.000000</td>\n",
       "                        <td id=\"T_583ef840_1c04_11eb_9eec_13df02a35920row1_col3\" class=\"data row1 col3\" >0.200000</td>\n",
       "                        <td id=\"T_583ef840_1c04_11eb_9eec_13df02a35920row1_col4\" class=\"data row1 col4\" >1</td>\n",
       "                        <td id=\"T_583ef840_1c04_11eb_9eec_13df02a35920row1_col5\" class=\"data row1 col5\" >0</td>\n",
       "            </tr>\n",
       "            <tr>\n",
       "                                <td id=\"T_583ef840_1c04_11eb_9eec_13df02a35920row2_col0\" class=\"data row2 col0\" >2</td>\n",
       "                        <td id=\"T_583ef840_1c04_11eb_9eec_13df02a35920row2_col1\" class=\"data row2 col1\" >2</td>\n",
       "                        <td id=\"T_583ef840_1c04_11eb_9eec_13df02a35920row2_col2\" class=\"data row2 col2\" >0.000000</td>\n",
       "                        <td id=\"T_583ef840_1c04_11eb_9eec_13df02a35920row2_col3\" class=\"data row2 col3\" >0.000000</td>\n",
       "                        <td id=\"T_583ef840_1c04_11eb_9eec_13df02a35920row2_col4\" class=\"data row2 col4\" >0</td>\n",
       "                        <td id=\"T_583ef840_1c04_11eb_9eec_13df02a35920row2_col5\" class=\"data row2 col5\" >1</td>\n",
       "            </tr>\n",
       "            <tr>\n",
       "                                <td id=\"T_583ef840_1c04_11eb_9eec_13df02a35920row3_col0\" class=\"data row3 col0\" >3</td>\n",
       "                        <td id=\"T_583ef840_1c04_11eb_9eec_13df02a35920row3_col1\" class=\"data row3 col1\" >3</td>\n",
       "                        <td id=\"T_583ef840_1c04_11eb_9eec_13df02a35920row3_col2\" class=\"data row3 col2\" >0.000000</td>\n",
       "                        <td id=\"T_583ef840_1c04_11eb_9eec_13df02a35920row3_col3\" class=\"data row3 col3\" >0.000000</td>\n",
       "                        <td id=\"T_583ef840_1c04_11eb_9eec_13df02a35920row3_col4\" class=\"data row3 col4\" >0</td>\n",
       "                        <td id=\"T_583ef840_1c04_11eb_9eec_13df02a35920row3_col5\" class=\"data row3 col5\" >1</td>\n",
       "            </tr>\n",
       "    </tbody></table>"
      ],
      "text/plain": [
       "<pandas.io.formats.style.Styler at 0x7f01166a5710>"
      ]
     },
     "execution_count": 21,
     "metadata": {},
     "output_type": "execute_result"
    }
   ],
   "source": [
    "okn.info(net, target='microstate')"
   ]
  },
  {
   "cell_type": "code",
   "execution_count": 22,
   "metadata": {},
   "outputs": [
    {
     "data": {
      "text/html": [
       "<style  type=\"text/css\" >\n",
       "</style><table id=\"T_583ef841_1c04_11eb_9eec_13df02a35920\" ><thead>    <tr>        <th class=\"col_heading level0 col0\" >index</th>        <th class=\"col_heading level0 col1\" >origin_index</th>        <th class=\"col_heading level0 col2\" >end_index</th>        <th class=\"col_heading level0 col3\" >weight</th>        <th class=\"col_heading level0 col4\" >probability</th>        <th class=\"col_heading level0 col5\" >symmetrized</th>    </tr></thead><tbody>\n",
       "                <tr>\n",
       "                                <td id=\"T_583ef841_1c04_11eb_9eec_13df02a35920row0_col0\" class=\"data row0 col0\" >0</td>\n",
       "                        <td id=\"T_583ef841_1c04_11eb_9eec_13df02a35920row0_col1\" class=\"data row0 col1\" >1</td>\n",
       "                        <td id=\"T_583ef841_1c04_11eb_9eec_13df02a35920row0_col2\" class=\"data row0 col2\" >3</td>\n",
       "                        <td id=\"T_583ef841_1c04_11eb_9eec_13df02a35920row0_col3\" class=\"data row0 col3\" >1.000000</td>\n",
       "                        <td id=\"T_583ef841_1c04_11eb_9eec_13df02a35920row0_col4\" class=\"data row0 col4\" >1.000000</td>\n",
       "                        <td id=\"T_583ef841_1c04_11eb_9eec_13df02a35920row0_col5\" class=\"data row0 col5\" >False</td>\n",
       "            </tr>\n",
       "            <tr>\n",
       "                                <td id=\"T_583ef841_1c04_11eb_9eec_13df02a35920row1_col0\" class=\"data row1 col0\" >1</td>\n",
       "                        <td id=\"T_583ef841_1c04_11eb_9eec_13df02a35920row1_col1\" class=\"data row1 col1\" >0</td>\n",
       "                        <td id=\"T_583ef841_1c04_11eb_9eec_13df02a35920row1_col2\" class=\"data row1 col2\" >2</td>\n",
       "                        <td id=\"T_583ef841_1c04_11eb_9eec_13df02a35920row1_col3\" class=\"data row1 col3\" >4.000000</td>\n",
       "                        <td id=\"T_583ef841_1c04_11eb_9eec_13df02a35920row1_col4\" class=\"data row1 col4\" >1.000000</td>\n",
       "                        <td id=\"T_583ef841_1c04_11eb_9eec_13df02a35920row1_col5\" class=\"data row1 col5\" >False</td>\n",
       "            </tr>\n",
       "    </tbody></table>"
      ],
      "text/plain": [
       "<pandas.io.formats.style.Styler at 0x7f0151069550>"
      ]
     },
     "execution_count": 22,
     "metadata": {},
     "output_type": "execute_result"
    }
   ],
   "source": [
    "okn.info(net, target='transition')"
   ]
  },
  {
   "cell_type": "code",
   "execution_count": 23,
   "metadata": {},
   "outputs": [
    {
     "data": {
      "text/plain": [
       "{'temperature': Quantity(value=300, unit=kelvin),\n",
       " 'time_step': Quantity(value=0.01, unit=nanosecond)}"
      ]
     },
     "execution_count": 23,
     "metadata": {},
     "output_type": "execute_result"
    }
   ],
   "source": [
    "net.graph"
   ]
  },
  {
   "cell_type": "markdown",
   "metadata": {},
   "source": [
    "## Network Symmetrization"
   ]
  },
  {
   "cell_type": "code",
   "execution_count": 24,
   "metadata": {},
   "outputs": [],
   "source": [
    "okn.symmetrize(net)"
   ]
  },
  {
   "cell_type": "code",
   "execution_count": 25,
   "metadata": {},
   "outputs": [
    {
     "data": {
      "text/html": [
       "<style  type=\"text/css\" >\n",
       "</style><table id=\"T_5a68cb82_1c04_11eb_9eec_13df02a35920\" ><thead>    <tr>        <th class=\"col_heading level0 col0\" >index</th>        <th class=\"col_heading level0 col1\" >name</th>        <th class=\"col_heading level0 col2\" >weight</th>        <th class=\"col_heading level0 col3\" >probability</th>        <th class=\"col_heading level0 col4\" >degree</th>    </tr></thead><tbody>\n",
       "                <tr>\n",
       "                                <td id=\"T_5a68cb82_1c04_11eb_9eec_13df02a35920row0_col0\" class=\"data row0 col0\" >0</td>\n",
       "                        <td id=\"T_5a68cb82_1c04_11eb_9eec_13df02a35920row0_col1\" class=\"data row0 col1\" >0</td>\n",
       "                        <td id=\"T_5a68cb82_1c04_11eb_9eec_13df02a35920row0_col2\" class=\"data row0 col2\" >2.000000</td>\n",
       "                        <td id=\"T_5a68cb82_1c04_11eb_9eec_13df02a35920row0_col3\" class=\"data row0 col3\" >0.400000</td>\n",
       "                        <td id=\"T_5a68cb82_1c04_11eb_9eec_13df02a35920row0_col4\" class=\"data row0 col4\" >1</td>\n",
       "            </tr>\n",
       "            <tr>\n",
       "                                <td id=\"T_5a68cb82_1c04_11eb_9eec_13df02a35920row1_col0\" class=\"data row1 col0\" >1</td>\n",
       "                        <td id=\"T_5a68cb82_1c04_11eb_9eec_13df02a35920row1_col1\" class=\"data row1 col1\" >A</td>\n",
       "                        <td id=\"T_5a68cb82_1c04_11eb_9eec_13df02a35920row1_col2\" class=\"data row1 col2\" >0.500000</td>\n",
       "                        <td id=\"T_5a68cb82_1c04_11eb_9eec_13df02a35920row1_col3\" class=\"data row1 col3\" >0.100000</td>\n",
       "                        <td id=\"T_5a68cb82_1c04_11eb_9eec_13df02a35920row1_col4\" class=\"data row1 col4\" >1</td>\n",
       "            </tr>\n",
       "            <tr>\n",
       "                                <td id=\"T_5a68cb82_1c04_11eb_9eec_13df02a35920row2_col0\" class=\"data row2 col0\" >2</td>\n",
       "                        <td id=\"T_5a68cb82_1c04_11eb_9eec_13df02a35920row2_col1\" class=\"data row2 col1\" >2</td>\n",
       "                        <td id=\"T_5a68cb82_1c04_11eb_9eec_13df02a35920row2_col2\" class=\"data row2 col2\" >2.000000</td>\n",
       "                        <td id=\"T_5a68cb82_1c04_11eb_9eec_13df02a35920row2_col3\" class=\"data row2 col3\" >0.400000</td>\n",
       "                        <td id=\"T_5a68cb82_1c04_11eb_9eec_13df02a35920row2_col4\" class=\"data row2 col4\" >1</td>\n",
       "            </tr>\n",
       "            <tr>\n",
       "                                <td id=\"T_5a68cb82_1c04_11eb_9eec_13df02a35920row3_col0\" class=\"data row3 col0\" >3</td>\n",
       "                        <td id=\"T_5a68cb82_1c04_11eb_9eec_13df02a35920row3_col1\" class=\"data row3 col1\" >3</td>\n",
       "                        <td id=\"T_5a68cb82_1c04_11eb_9eec_13df02a35920row3_col2\" class=\"data row3 col2\" >0.500000</td>\n",
       "                        <td id=\"T_5a68cb82_1c04_11eb_9eec_13df02a35920row3_col3\" class=\"data row3 col3\" >0.100000</td>\n",
       "                        <td id=\"T_5a68cb82_1c04_11eb_9eec_13df02a35920row3_col4\" class=\"data row3 col4\" >1</td>\n",
       "            </tr>\n",
       "    </tbody></table>"
      ],
      "text/plain": [
       "<pandas.io.formats.style.Styler at 0x7f0117b00f50>"
      ]
     },
     "execution_count": 25,
     "metadata": {},
     "output_type": "execute_result"
    }
   ],
   "source": [
    "okn.info(net, target='microstate')"
   ]
  },
  {
   "cell_type": "code",
   "execution_count": 26,
   "metadata": {},
   "outputs": [
    {
     "data": {
      "text/html": [
       "<style  type=\"text/css\" >\n",
       "</style><table id=\"T_5a68cb83_1c04_11eb_9eec_13df02a35920\" ><thead>    <tr>        <th class=\"col_heading level0 col0\" >index</th>        <th class=\"col_heading level0 col1\" >origin_index</th>        <th class=\"col_heading level0 col2\" >end_index</th>        <th class=\"col_heading level0 col3\" >weight</th>        <th class=\"col_heading level0 col4\" >probability</th>        <th class=\"col_heading level0 col5\" >symmetrized</th>    </tr></thead><tbody>\n",
       "                <tr>\n",
       "                                <td id=\"T_5a68cb83_1c04_11eb_9eec_13df02a35920row0_col0\" class=\"data row0 col0\" >0</td>\n",
       "                        <td id=\"T_5a68cb83_1c04_11eb_9eec_13df02a35920row0_col1\" class=\"data row0 col1\" >1</td>\n",
       "                        <td id=\"T_5a68cb83_1c04_11eb_9eec_13df02a35920row0_col2\" class=\"data row0 col2\" >3</td>\n",
       "                        <td id=\"T_5a68cb83_1c04_11eb_9eec_13df02a35920row0_col3\" class=\"data row0 col3\" >0.500000</td>\n",
       "                        <td id=\"T_5a68cb83_1c04_11eb_9eec_13df02a35920row0_col4\" class=\"data row0 col4\" >1.000000</td>\n",
       "                        <td id=\"T_5a68cb83_1c04_11eb_9eec_13df02a35920row0_col5\" class=\"data row0 col5\" >True</td>\n",
       "            </tr>\n",
       "            <tr>\n",
       "                                <td id=\"T_5a68cb83_1c04_11eb_9eec_13df02a35920row1_col0\" class=\"data row1 col0\" >1</td>\n",
       "                        <td id=\"T_5a68cb83_1c04_11eb_9eec_13df02a35920row1_col1\" class=\"data row1 col1\" >0</td>\n",
       "                        <td id=\"T_5a68cb83_1c04_11eb_9eec_13df02a35920row1_col2\" class=\"data row1 col2\" >2</td>\n",
       "                        <td id=\"T_5a68cb83_1c04_11eb_9eec_13df02a35920row1_col3\" class=\"data row1 col3\" >2.000000</td>\n",
       "                        <td id=\"T_5a68cb83_1c04_11eb_9eec_13df02a35920row1_col4\" class=\"data row1 col4\" >1.000000</td>\n",
       "                        <td id=\"T_5a68cb83_1c04_11eb_9eec_13df02a35920row1_col5\" class=\"data row1 col5\" >True</td>\n",
       "            </tr>\n",
       "            <tr>\n",
       "                                <td id=\"T_5a68cb83_1c04_11eb_9eec_13df02a35920row2_col0\" class=\"data row2 col0\" >2</td>\n",
       "                        <td id=\"T_5a68cb83_1c04_11eb_9eec_13df02a35920row2_col1\" class=\"data row2 col1\" >2</td>\n",
       "                        <td id=\"T_5a68cb83_1c04_11eb_9eec_13df02a35920row2_col2\" class=\"data row2 col2\" >0</td>\n",
       "                        <td id=\"T_5a68cb83_1c04_11eb_9eec_13df02a35920row2_col3\" class=\"data row2 col3\" >2.000000</td>\n",
       "                        <td id=\"T_5a68cb83_1c04_11eb_9eec_13df02a35920row2_col4\" class=\"data row2 col4\" >1.000000</td>\n",
       "                        <td id=\"T_5a68cb83_1c04_11eb_9eec_13df02a35920row2_col5\" class=\"data row2 col5\" >True</td>\n",
       "            </tr>\n",
       "            <tr>\n",
       "                                <td id=\"T_5a68cb83_1c04_11eb_9eec_13df02a35920row3_col0\" class=\"data row3 col0\" >3</td>\n",
       "                        <td id=\"T_5a68cb83_1c04_11eb_9eec_13df02a35920row3_col1\" class=\"data row3 col1\" >3</td>\n",
       "                        <td id=\"T_5a68cb83_1c04_11eb_9eec_13df02a35920row3_col2\" class=\"data row3 col2\" >1</td>\n",
       "                        <td id=\"T_5a68cb83_1c04_11eb_9eec_13df02a35920row3_col3\" class=\"data row3 col3\" >0.500000</td>\n",
       "                        <td id=\"T_5a68cb83_1c04_11eb_9eec_13df02a35920row3_col4\" class=\"data row3 col4\" >1.000000</td>\n",
       "                        <td id=\"T_5a68cb83_1c04_11eb_9eec_13df02a35920row3_col5\" class=\"data row3 col5\" >True</td>\n",
       "            </tr>\n",
       "    </tbody></table>"
      ],
      "text/plain": [
       "<pandas.io.formats.style.Styler at 0x7f01166c0e50>"
      ]
     },
     "execution_count": 26,
     "metadata": {},
     "output_type": "execute_result"
    }
   ],
   "source": [
    "okn.info(net, target='transition')"
   ]
  },
  {
   "cell_type": "markdown",
   "metadata": {},
   "source": [
    "### The resultant object"
   ]
  },
  {
   "cell_type": "code",
   "execution_count": 27,
   "metadata": {},
   "outputs": [
    {
     "data": {
      "text/plain": [
       "{'temperature': Quantity(value=300, unit=kelvin),\n",
       " 'time_step': Quantity(value=0.01, unit=nanosecond)}"
      ]
     },
     "execution_count": 27,
     "metadata": {},
     "output_type": "execute_result"
    }
   ],
   "source": [
    "net.graph"
   ]
  },
  {
   "cell_type": "code",
   "execution_count": 28,
   "metadata": {},
   "outputs": [
    {
     "data": {
      "text/plain": [
       "NodeDataView({0: {'index': 0, 'name': 0, 'weight': 2.0, 'probability': 0.4, 'component_index': None, 'basin_index': None, 'coordinates': None, 'color': None, 'size': None}, 'A': {'index': 1, 'name': 'A', 'weight': 0.5, 'probability': 0.1, 'component_index': None, 'basin_index': None, 'coordinates': None, 'color': None, 'size': None}, 2: {'index': 2, 'name': 2, 'weight': 2.0, 'probability': 0.4, 'component_index': None, 'basin_index': None, 'coordinates': None, 'color': None, 'size': None}, 3: {'index': 3, 'name': 3, 'weight': 0.5, 'probability': 0.1, 'component_index': None, 'basin_index': None, 'coordinates': None, 'color': None, 'size': None}})"
      ]
     },
     "execution_count": 28,
     "metadata": {},
     "output_type": "execute_result"
    }
   ],
   "source": [
    "net.nodes(data=True)"
   ]
  },
  {
   "cell_type": "code",
   "execution_count": 29,
   "metadata": {},
   "outputs": [
    {
     "data": {
      "text/plain": [
       "OutEdgeDataView([(0, 2, {'index': 1, 'origin_index': None, 'end_index': None, 'weight': 2.0, 'probability': 1.0, 'symmetrized': True}), ('A', 3, {'index': 0, 'origin_index': None, 'end_index': None, 'weight': 0.5, 'probability': 1.0, 'symmetrized': True}), (2, 0, {'index': 2, 'origin_index': None, 'end_index': None, 'weight': 2.0, 'probability': 1.0, 'symmetrized': True}), (3, 'A', {'index': 3, 'origin_index': None, 'end_index': None, 'weight': 0.5, 'probability': 1.0, 'symmetrized': True})])"
      ]
     },
     "execution_count": 29,
     "metadata": {},
     "output_type": "execute_result"
    }
   ],
   "source": [
    "net.edges(data=True)"
   ]
  },
  {
   "cell_type": "code",
   "execution_count": null,
   "metadata": {},
   "outputs": [],
   "source": []
  }
 ],
 "metadata": {
  "kernelspec": {
   "display_name": "Python 3",
   "language": "python",
   "name": "python3"
  },
  "language_info": {
   "codemirror_mode": {
    "name": "ipython",
    "version": 3
   },
   "file_extension": ".py",
   "mimetype": "text/x-python",
   "name": "python",
   "nbconvert_exporter": "python",
   "pygments_lexer": "ipython3",
   "version": "3.7.7"
  }
 },
 "nbformat": 4,
 "nbformat_minor": 4
}
