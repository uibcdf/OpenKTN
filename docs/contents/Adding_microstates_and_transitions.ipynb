{
 "cells": [
  {
   "cell_type": "code",
   "execution_count": 1,
   "metadata": {},
   "outputs": [],
   "source": [
    "%load_ext autoreload\n",
    "%autoreload 2"
   ]
  },
  {
   "cell_type": "code",
   "execution_count": 2,
   "metadata": {},
   "outputs": [],
   "source": [
    "import openktn as okn\n",
    "from simtk.unit import kelvin, picoseconds"
   ]
  },
  {
   "cell_type": "markdown",
   "metadata": {},
   "source": [
    "# Adding microstates and transitions"
   ]
  },
  {
   "cell_type": "code",
   "execution_count": 3,
   "metadata": {},
   "outputs": [],
   "source": [
    "net = okn.kinetic_transition_network(form='networkx.DiGraph', temperature=300*kelvin,\n",
    "                                     time_step=10*picoseconds)"
   ]
  },
  {
   "cell_type": "code",
   "execution_count": 4,
   "metadata": {},
   "outputs": [
    {
     "data": {
      "text/html": [
       "<style  type=\"text/css\" >\n",
       "</style><table id=\"T_0e4dbaec_19f1_11eb_b3ec_2d87b8906fb8\" ><thead>    <tr>        <th class=\"col_heading level0 col0\" >form</th>        <th class=\"col_heading level0 col1\" >n_microstates</th>        <th class=\"col_heading level0 col2\" >n_transitions</th>        <th class=\"col_heading level0 col3\" >weight</th>        <th class=\"col_heading level0 col4\" >symmetrized</th>        <th class=\"col_heading level0 col5\" >temperature</th>        <th class=\"col_heading level0 col6\" >time_step</th>    </tr></thead><tbody>\n",
       "                <tr>\n",
       "                                <td id=\"T_0e4dbaec_19f1_11eb_b3ec_2d87b8906fb8row0_col0\" class=\"data row0 col0\" >networkx.DiGraph</td>\n",
       "                        <td id=\"T_0e4dbaec_19f1_11eb_b3ec_2d87b8906fb8row0_col1\" class=\"data row0 col1\" >0</td>\n",
       "                        <td id=\"T_0e4dbaec_19f1_11eb_b3ec_2d87b8906fb8row0_col2\" class=\"data row0 col2\" >0</td>\n",
       "                        <td id=\"T_0e4dbaec_19f1_11eb_b3ec_2d87b8906fb8row0_col3\" class=\"data row0 col3\" >0.000000</td>\n",
       "                        <td id=\"T_0e4dbaec_19f1_11eb_b3ec_2d87b8906fb8row0_col4\" class=\"data row0 col4\" >True</td>\n",
       "                        <td id=\"T_0e4dbaec_19f1_11eb_b3ec_2d87b8906fb8row0_col5\" class=\"data row0 col5\" >300 K</td>\n",
       "                        <td id=\"T_0e4dbaec_19f1_11eb_b3ec_2d87b8906fb8row0_col6\" class=\"data row0 col6\" >0.01 ns</td>\n",
       "            </tr>\n",
       "    </tbody></table>"
      ],
      "text/plain": [
       "<pandas.io.formats.style.Styler at 0x7f043177b810>"
      ]
     },
     "execution_count": 4,
     "metadata": {},
     "output_type": "execute_result"
    }
   ],
   "source": [
    "okn.info(net)"
   ]
  },
  {
   "cell_type": "markdown",
   "metadata": {},
   "source": [
    "## Adding microstates"
   ]
  },
  {
   "cell_type": "code",
   "execution_count": 5,
   "metadata": {},
   "outputs": [],
   "source": [
    "okn.add_microstate(net)"
   ]
  },
  {
   "cell_type": "code",
   "execution_count": 6,
   "metadata": {},
   "outputs": [
    {
     "data": {
      "text/html": [
       "<style  type=\"text/css\" >\n",
       "</style><table id=\"T_0e4dbaed_19f1_11eb_b3ec_2d87b8906fb8\" ><thead>    <tr>        <th class=\"col_heading level0 col0\" >index</th>        <th class=\"col_heading level0 col1\" >name</th>        <th class=\"col_heading level0 col2\" >weight</th>        <th class=\"col_heading level0 col3\" >probability</th>        <th class=\"col_heading level0 col4\" >degree</th>    </tr></thead><tbody>\n",
       "                <tr>\n",
       "                                <td id=\"T_0e4dbaed_19f1_11eb_b3ec_2d87b8906fb8row0_col0\" class=\"data row0 col0\" >0</td>\n",
       "                        <td id=\"T_0e4dbaed_19f1_11eb_b3ec_2d87b8906fb8row0_col1\" class=\"data row0 col1\" >0</td>\n",
       "                        <td id=\"T_0e4dbaed_19f1_11eb_b3ec_2d87b8906fb8row0_col2\" class=\"data row0 col2\" >0.000000</td>\n",
       "                        <td id=\"T_0e4dbaed_19f1_11eb_b3ec_2d87b8906fb8row0_col3\" class=\"data row0 col3\" >0.000000</td>\n",
       "                        <td id=\"T_0e4dbaed_19f1_11eb_b3ec_2d87b8906fb8row0_col4\" class=\"data row0 col4\" >0</td>\n",
       "            </tr>\n",
       "    </tbody></table>"
      ],
      "text/plain": [
       "<pandas.io.formats.style.Styler at 0x7f0431acba90>"
      ]
     },
     "execution_count": 6,
     "metadata": {},
     "output_type": "execute_result"
    }
   ],
   "source": [
    "okn.info(net, target='microstate')"
   ]
  },
  {
   "cell_type": "code",
   "execution_count": 7,
   "metadata": {},
   "outputs": [],
   "source": [
    "okn.add_microstate(net, name='A')"
   ]
  },
  {
   "cell_type": "code",
   "execution_count": 8,
   "metadata": {},
   "outputs": [
    {
     "data": {
      "text/html": [
       "<style  type=\"text/css\" >\n",
       "</style><table id=\"T_1033dc1a_19f1_11eb_b3ec_2d87b8906fb8\" ><thead>    <tr>        <th class=\"col_heading level0 col0\" >index</th>        <th class=\"col_heading level0 col1\" >name</th>        <th class=\"col_heading level0 col2\" >weight</th>        <th class=\"col_heading level0 col3\" >probability</th>        <th class=\"col_heading level0 col4\" >degree</th>    </tr></thead><tbody>\n",
       "                <tr>\n",
       "                                <td id=\"T_1033dc1a_19f1_11eb_b3ec_2d87b8906fb8row0_col0\" class=\"data row0 col0\" >0</td>\n",
       "                        <td id=\"T_1033dc1a_19f1_11eb_b3ec_2d87b8906fb8row0_col1\" class=\"data row0 col1\" >0</td>\n",
       "                        <td id=\"T_1033dc1a_19f1_11eb_b3ec_2d87b8906fb8row0_col2\" class=\"data row0 col2\" >0.000000</td>\n",
       "                        <td id=\"T_1033dc1a_19f1_11eb_b3ec_2d87b8906fb8row0_col3\" class=\"data row0 col3\" >0.000000</td>\n",
       "                        <td id=\"T_1033dc1a_19f1_11eb_b3ec_2d87b8906fb8row0_col4\" class=\"data row0 col4\" >0</td>\n",
       "            </tr>\n",
       "            <tr>\n",
       "                                <td id=\"T_1033dc1a_19f1_11eb_b3ec_2d87b8906fb8row1_col0\" class=\"data row1 col0\" >1</td>\n",
       "                        <td id=\"T_1033dc1a_19f1_11eb_b3ec_2d87b8906fb8row1_col1\" class=\"data row1 col1\" >A</td>\n",
       "                        <td id=\"T_1033dc1a_19f1_11eb_b3ec_2d87b8906fb8row1_col2\" class=\"data row1 col2\" >0.000000</td>\n",
       "                        <td id=\"T_1033dc1a_19f1_11eb_b3ec_2d87b8906fb8row1_col3\" class=\"data row1 col3\" >0.000000</td>\n",
       "                        <td id=\"T_1033dc1a_19f1_11eb_b3ec_2d87b8906fb8row1_col4\" class=\"data row1 col4\" >0</td>\n",
       "            </tr>\n",
       "    </tbody></table>"
      ],
      "text/plain": [
       "<pandas.io.formats.style.Styler at 0x7f03f72a9f50>"
      ]
     },
     "execution_count": 8,
     "metadata": {},
     "output_type": "execute_result"
    }
   ],
   "source": [
    "okn.info(net, target='microstate')"
   ]
  },
  {
   "cell_type": "code",
   "execution_count": 9,
   "metadata": {},
   "outputs": [],
   "source": [
    "okn.add_microstate(net, index=4)"
   ]
  },
  {
   "cell_type": "code",
   "execution_count": 10,
   "metadata": {},
   "outputs": [
    {
     "data": {
      "text/html": [
       "<style  type=\"text/css\" >\n",
       "</style><table id=\"T_1033dc1b_19f1_11eb_b3ec_2d87b8906fb8\" ><thead>    <tr>        <th class=\"col_heading level0 col0\" >index</th>        <th class=\"col_heading level0 col1\" >name</th>        <th class=\"col_heading level0 col2\" >weight</th>        <th class=\"col_heading level0 col3\" >probability</th>        <th class=\"col_heading level0 col4\" >degree</th>    </tr></thead><tbody>\n",
       "                <tr>\n",
       "                                <td id=\"T_1033dc1b_19f1_11eb_b3ec_2d87b8906fb8row0_col0\" class=\"data row0 col0\" >0</td>\n",
       "                        <td id=\"T_1033dc1b_19f1_11eb_b3ec_2d87b8906fb8row0_col1\" class=\"data row0 col1\" >0</td>\n",
       "                        <td id=\"T_1033dc1b_19f1_11eb_b3ec_2d87b8906fb8row0_col2\" class=\"data row0 col2\" >0.000000</td>\n",
       "                        <td id=\"T_1033dc1b_19f1_11eb_b3ec_2d87b8906fb8row0_col3\" class=\"data row0 col3\" >0.000000</td>\n",
       "                        <td id=\"T_1033dc1b_19f1_11eb_b3ec_2d87b8906fb8row0_col4\" class=\"data row0 col4\" >0</td>\n",
       "            </tr>\n",
       "            <tr>\n",
       "                                <td id=\"T_1033dc1b_19f1_11eb_b3ec_2d87b8906fb8row1_col0\" class=\"data row1 col0\" >1</td>\n",
       "                        <td id=\"T_1033dc1b_19f1_11eb_b3ec_2d87b8906fb8row1_col1\" class=\"data row1 col1\" >A</td>\n",
       "                        <td id=\"T_1033dc1b_19f1_11eb_b3ec_2d87b8906fb8row1_col2\" class=\"data row1 col2\" >0.000000</td>\n",
       "                        <td id=\"T_1033dc1b_19f1_11eb_b3ec_2d87b8906fb8row1_col3\" class=\"data row1 col3\" >0.000000</td>\n",
       "                        <td id=\"T_1033dc1b_19f1_11eb_b3ec_2d87b8906fb8row1_col4\" class=\"data row1 col4\" >0</td>\n",
       "            </tr>\n",
       "            <tr>\n",
       "                                <td id=\"T_1033dc1b_19f1_11eb_b3ec_2d87b8906fb8row2_col0\" class=\"data row2 col0\" >2</td>\n",
       "                        <td id=\"T_1033dc1b_19f1_11eb_b3ec_2d87b8906fb8row2_col1\" class=\"data row2 col1\" >2</td>\n",
       "                        <td id=\"T_1033dc1b_19f1_11eb_b3ec_2d87b8906fb8row2_col2\" class=\"data row2 col2\" >0.000000</td>\n",
       "                        <td id=\"T_1033dc1b_19f1_11eb_b3ec_2d87b8906fb8row2_col3\" class=\"data row2 col3\" >0.000000</td>\n",
       "                        <td id=\"T_1033dc1b_19f1_11eb_b3ec_2d87b8906fb8row2_col4\" class=\"data row2 col4\" >0</td>\n",
       "            </tr>\n",
       "            <tr>\n",
       "                                <td id=\"T_1033dc1b_19f1_11eb_b3ec_2d87b8906fb8row3_col0\" class=\"data row3 col0\" >3</td>\n",
       "                        <td id=\"T_1033dc1b_19f1_11eb_b3ec_2d87b8906fb8row3_col1\" class=\"data row3 col1\" >3</td>\n",
       "                        <td id=\"T_1033dc1b_19f1_11eb_b3ec_2d87b8906fb8row3_col2\" class=\"data row3 col2\" >0.000000</td>\n",
       "                        <td id=\"T_1033dc1b_19f1_11eb_b3ec_2d87b8906fb8row3_col3\" class=\"data row3 col3\" >0.000000</td>\n",
       "                        <td id=\"T_1033dc1b_19f1_11eb_b3ec_2d87b8906fb8row3_col4\" class=\"data row3 col4\" >0</td>\n",
       "            </tr>\n",
       "    </tbody></table>"
      ],
      "text/plain": [
       "<pandas.io.formats.style.Styler at 0x7f03f6d4cb50>"
      ]
     },
     "execution_count": 10,
     "metadata": {},
     "output_type": "execute_result"
    }
   ],
   "source": [
    "okn.info(net, target='microstate')"
   ]
  },
  {
   "cell_type": "markdown",
   "metadata": {},
   "source": [
    "## Adding transitions"
   ]
  },
  {
   "cell_type": "code",
   "execution_count": 11,
   "metadata": {},
   "outputs": [
    {
     "name": "stdout",
     "output_type": "stream",
     "text": [
      "A\n"
     ]
    }
   ],
   "source": [
    "okn.add_transition(net, origin='A', end=3, weight=1.0)"
   ]
  },
  {
   "cell_type": "code",
   "execution_count": 12,
   "metadata": {},
   "outputs": [
    {
     "data": {
      "text/html": [
       "<style  type=\"text/css\" >\n",
       "</style><table id=\"T_13e47ef0_19f1_11eb_b3ec_2d87b8906fb8\" ><thead>    <tr>        <th class=\"col_heading level0 col0\" >form</th>        <th class=\"col_heading level0 col1\" >n_microstates</th>        <th class=\"col_heading level0 col2\" >n_transitions</th>        <th class=\"col_heading level0 col3\" >weight</th>        <th class=\"col_heading level0 col4\" >symmetrized</th>        <th class=\"col_heading level0 col5\" >temperature</th>        <th class=\"col_heading level0 col6\" >time_step</th>    </tr></thead><tbody>\n",
       "                <tr>\n",
       "                                <td id=\"T_13e47ef0_19f1_11eb_b3ec_2d87b8906fb8row0_col0\" class=\"data row0 col0\" >networkx.DiGraph</td>\n",
       "                        <td id=\"T_13e47ef0_19f1_11eb_b3ec_2d87b8906fb8row0_col1\" class=\"data row0 col1\" >4</td>\n",
       "                        <td id=\"T_13e47ef0_19f1_11eb_b3ec_2d87b8906fb8row0_col2\" class=\"data row0 col2\" >1</td>\n",
       "                        <td id=\"T_13e47ef0_19f1_11eb_b3ec_2d87b8906fb8row0_col3\" class=\"data row0 col3\" >1.000000</td>\n",
       "                        <td id=\"T_13e47ef0_19f1_11eb_b3ec_2d87b8906fb8row0_col4\" class=\"data row0 col4\" >False</td>\n",
       "                        <td id=\"T_13e47ef0_19f1_11eb_b3ec_2d87b8906fb8row0_col5\" class=\"data row0 col5\" >300 K</td>\n",
       "                        <td id=\"T_13e47ef0_19f1_11eb_b3ec_2d87b8906fb8row0_col6\" class=\"data row0 col6\" >0.01 ns</td>\n",
       "            </tr>\n",
       "    </tbody></table>"
      ],
      "text/plain": [
       "<pandas.io.formats.style.Styler at 0x7f03f6d9cc50>"
      ]
     },
     "execution_count": 12,
     "metadata": {},
     "output_type": "execute_result"
    }
   ],
   "source": [
    "okn.info(net)"
   ]
  },
  {
   "cell_type": "code",
   "execution_count": 13,
   "metadata": {},
   "outputs": [
    {
     "data": {
      "text/html": [
       "<style  type=\"text/css\" >\n",
       "</style><table id=\"T_13e47ef1_19f1_11eb_b3ec_2d87b8906fb8\" ><thead>    <tr>        <th class=\"col_heading level0 col0\" >index</th>        <th class=\"col_heading level0 col1\" >name</th>        <th class=\"col_heading level0 col2\" >weight</th>        <th class=\"col_heading level0 col3\" >probability</th>        <th class=\"col_heading level0 col4\" >out_degree</th>        <th class=\"col_heading level0 col5\" >in_degree</th>    </tr></thead><tbody>\n",
       "                <tr>\n",
       "                                <td id=\"T_13e47ef1_19f1_11eb_b3ec_2d87b8906fb8row0_col0\" class=\"data row0 col0\" >0</td>\n",
       "                        <td id=\"T_13e47ef1_19f1_11eb_b3ec_2d87b8906fb8row0_col1\" class=\"data row0 col1\" >0</td>\n",
       "                        <td id=\"T_13e47ef1_19f1_11eb_b3ec_2d87b8906fb8row0_col2\" class=\"data row0 col2\" >0.000000</td>\n",
       "                        <td id=\"T_13e47ef1_19f1_11eb_b3ec_2d87b8906fb8row0_col3\" class=\"data row0 col3\" >0.000000</td>\n",
       "                        <td id=\"T_13e47ef1_19f1_11eb_b3ec_2d87b8906fb8row0_col4\" class=\"data row0 col4\" >0</td>\n",
       "                        <td id=\"T_13e47ef1_19f1_11eb_b3ec_2d87b8906fb8row0_col5\" class=\"data row0 col5\" >0</td>\n",
       "            </tr>\n",
       "            <tr>\n",
       "                                <td id=\"T_13e47ef1_19f1_11eb_b3ec_2d87b8906fb8row1_col0\" class=\"data row1 col0\" >1</td>\n",
       "                        <td id=\"T_13e47ef1_19f1_11eb_b3ec_2d87b8906fb8row1_col1\" class=\"data row1 col1\" >A</td>\n",
       "                        <td id=\"T_13e47ef1_19f1_11eb_b3ec_2d87b8906fb8row1_col2\" class=\"data row1 col2\" >1.000000</td>\n",
       "                        <td id=\"T_13e47ef1_19f1_11eb_b3ec_2d87b8906fb8row1_col3\" class=\"data row1 col3\" >0.000000</td>\n",
       "                        <td id=\"T_13e47ef1_19f1_11eb_b3ec_2d87b8906fb8row1_col4\" class=\"data row1 col4\" >1</td>\n",
       "                        <td id=\"T_13e47ef1_19f1_11eb_b3ec_2d87b8906fb8row1_col5\" class=\"data row1 col5\" >0</td>\n",
       "            </tr>\n",
       "            <tr>\n",
       "                                <td id=\"T_13e47ef1_19f1_11eb_b3ec_2d87b8906fb8row2_col0\" class=\"data row2 col0\" >2</td>\n",
       "                        <td id=\"T_13e47ef1_19f1_11eb_b3ec_2d87b8906fb8row2_col1\" class=\"data row2 col1\" >2</td>\n",
       "                        <td id=\"T_13e47ef1_19f1_11eb_b3ec_2d87b8906fb8row2_col2\" class=\"data row2 col2\" >0.000000</td>\n",
       "                        <td id=\"T_13e47ef1_19f1_11eb_b3ec_2d87b8906fb8row2_col3\" class=\"data row2 col3\" >0.000000</td>\n",
       "                        <td id=\"T_13e47ef1_19f1_11eb_b3ec_2d87b8906fb8row2_col4\" class=\"data row2 col4\" >0</td>\n",
       "                        <td id=\"T_13e47ef1_19f1_11eb_b3ec_2d87b8906fb8row2_col5\" class=\"data row2 col5\" >0</td>\n",
       "            </tr>\n",
       "            <tr>\n",
       "                                <td id=\"T_13e47ef1_19f1_11eb_b3ec_2d87b8906fb8row3_col0\" class=\"data row3 col0\" >3</td>\n",
       "                        <td id=\"T_13e47ef1_19f1_11eb_b3ec_2d87b8906fb8row3_col1\" class=\"data row3 col1\" >3</td>\n",
       "                        <td id=\"T_13e47ef1_19f1_11eb_b3ec_2d87b8906fb8row3_col2\" class=\"data row3 col2\" >0.000000</td>\n",
       "                        <td id=\"T_13e47ef1_19f1_11eb_b3ec_2d87b8906fb8row3_col3\" class=\"data row3 col3\" >0.000000</td>\n",
       "                        <td id=\"T_13e47ef1_19f1_11eb_b3ec_2d87b8906fb8row3_col4\" class=\"data row3 col4\" >0</td>\n",
       "                        <td id=\"T_13e47ef1_19f1_11eb_b3ec_2d87b8906fb8row3_col5\" class=\"data row3 col5\" >1</td>\n",
       "            </tr>\n",
       "    </tbody></table>"
      ],
      "text/plain": [
       "<pandas.io.formats.style.Styler at 0x7f03f6d2e290>"
      ]
     },
     "execution_count": 13,
     "metadata": {},
     "output_type": "execute_result"
    }
   ],
   "source": [
    "okn.info(net, target='microstate')"
   ]
  },
  {
   "cell_type": "code",
   "execution_count": 14,
   "metadata": {},
   "outputs": [
    {
     "data": {
      "text/html": [
       "<style  type=\"text/css\" >\n",
       "</style><table id=\"T_16dc2e96_19f1_11eb_b3ec_2d87b8906fb8\" ><thead>    <tr>        <th class=\"col_heading level0 col0\" >index</th>        <th class=\"col_heading level0 col1\" >origin_index</th>        <th class=\"col_heading level0 col2\" >end_index</th>        <th class=\"col_heading level0 col3\" >weight</th>        <th class=\"col_heading level0 col4\" >probability</th>        <th class=\"col_heading level0 col5\" >symmetrized</th>    </tr></thead><tbody>\n",
       "                <tr>\n",
       "                                <td id=\"T_16dc2e96_19f1_11eb_b3ec_2d87b8906fb8row0_col0\" class=\"data row0 col0\" >0</td>\n",
       "                        <td id=\"T_16dc2e96_19f1_11eb_b3ec_2d87b8906fb8row0_col1\" class=\"data row0 col1\" >1</td>\n",
       "                        <td id=\"T_16dc2e96_19f1_11eb_b3ec_2d87b8906fb8row0_col2\" class=\"data row0 col2\" >3</td>\n",
       "                        <td id=\"T_16dc2e96_19f1_11eb_b3ec_2d87b8906fb8row0_col3\" class=\"data row0 col3\" >1.000000</td>\n",
       "                        <td id=\"T_16dc2e96_19f1_11eb_b3ec_2d87b8906fb8row0_col4\" class=\"data row0 col4\" >0.000000</td>\n",
       "                        <td id=\"T_16dc2e96_19f1_11eb_b3ec_2d87b8906fb8row0_col5\" class=\"data row0 col5\" >False</td>\n",
       "            </tr>\n",
       "    </tbody></table>"
      ],
      "text/plain": [
       "<pandas.io.formats.style.Styler at 0x7f03f6d4c410>"
      ]
     },
     "execution_count": 14,
     "metadata": {},
     "output_type": "execute_result"
    }
   ],
   "source": [
    "okn.info(net, target='transition')"
   ]
  },
  {
   "cell_type": "code",
   "execution_count": 15,
   "metadata": {},
   "outputs": [
    {
     "name": "stdout",
     "output_type": "stream",
     "text": [
      "0\n"
     ]
    },
    {
     "ename": "KeyError",
     "evalue": "'weight'",
     "output_type": "error",
     "traceback": [
      "\u001b[0;31m---------------------------------------------------------------------------\u001b[0m",
      "\u001b[0;31mKeyError\u001b[0m                                  Traceback (most recent call last)",
      "\u001b[0;32m<ipython-input-15-61a84948245e>\u001b[0m in \u001b[0;36m<module>\u001b[0;34m()\u001b[0m\n\u001b[0;32m----> 1\u001b[0;31m \u001b[0mokn\u001b[0m\u001b[0;34m.\u001b[0m\u001b[0madd_transition\u001b[0m\u001b[0;34m(\u001b[0m\u001b[0mnet\u001b[0m\u001b[0;34m,\u001b[0m \u001b[0morigin\u001b[0m\u001b[0;34m=\u001b[0m\u001b[0;36m0\u001b[0m\u001b[0;34m,\u001b[0m \u001b[0mend\u001b[0m\u001b[0;34m=\u001b[0m\u001b[0;36m1\u001b[0m\u001b[0;34m,\u001b[0m \u001b[0mweight\u001b[0m\u001b[0;34m=\u001b[0m\u001b[0;36m4.0\u001b[0m\u001b[0;34m,\u001b[0m \u001b[0morigin_index\u001b[0m\u001b[0;34m=\u001b[0m\u001b[0;32mTrue\u001b[0m\u001b[0;34m,\u001b[0m \u001b[0mend_index\u001b[0m\u001b[0;34m=\u001b[0m\u001b[0;32mTrue\u001b[0m\u001b[0;34m)\u001b[0m\u001b[0;34m\u001b[0m\u001b[0;34m\u001b[0m\u001b[0m\n\u001b[0m",
      "\u001b[0;32m/home/diego/Proyectos/OpenKTN/openktn/multitool.py\u001b[0m in \u001b[0;36madd_transition\u001b[0;34m(ktn, origin, end, weight, origin_index, end_index)\u001b[0m\n\u001b[1;32m     70\u001b[0m     \u001b[0mform\u001b[0m \u001b[0;34m=\u001b[0m \u001b[0mget_form\u001b[0m\u001b[0;34m(\u001b[0m\u001b[0mktn\u001b[0m\u001b[0;34m)\u001b[0m\u001b[0;34m\u001b[0m\u001b[0;34m\u001b[0m\u001b[0m\n\u001b[1;32m     71\u001b[0m \u001b[0;34m\u001b[0m\u001b[0m\n\u001b[0;32m---> 72\u001b[0;31m     \u001b[0;32mreturn\u001b[0m \u001b[0mdict_add_transition\u001b[0m\u001b[0;34m[\u001b[0m\u001b[0mform\u001b[0m\u001b[0;34m]\u001b[0m\u001b[0;34m(\u001b[0m\u001b[0mktn\u001b[0m\u001b[0;34m,\u001b[0m \u001b[0morigin\u001b[0m\u001b[0;34m,\u001b[0m \u001b[0mend\u001b[0m\u001b[0;34m,\u001b[0m \u001b[0mweight\u001b[0m\u001b[0;34m=\u001b[0m\u001b[0mweight\u001b[0m\u001b[0;34m,\u001b[0m \u001b[0morigin_index\u001b[0m\u001b[0;34m=\u001b[0m\u001b[0morigin_index\u001b[0m\u001b[0;34m,\u001b[0m \u001b[0mend_index\u001b[0m\u001b[0;34m=\u001b[0m\u001b[0mend_index\u001b[0m\u001b[0;34m)\u001b[0m\u001b[0;34m\u001b[0m\u001b[0;34m\u001b[0m\u001b[0m\n\u001b[0m\u001b[1;32m     73\u001b[0m \u001b[0;34m\u001b[0m\u001b[0m\n\u001b[1;32m     74\u001b[0m \u001b[0;32mdef\u001b[0m \u001b[0mmicrostate_in_ktn\u001b[0m\u001b[0;34m(\u001b[0m\u001b[0mktn\u001b[0m\u001b[0;34m,\u001b[0m \u001b[0mname\u001b[0m\u001b[0;34m)\u001b[0m\u001b[0;34m:\u001b[0m\u001b[0;34m\u001b[0m\u001b[0;34m\u001b[0m\u001b[0m\n",
      "\u001b[0;32m/home/diego/Proyectos/OpenKTN/openktn/forms/classes/api_networkx_DiGraph.py\u001b[0m in \u001b[0;36madd_transition\u001b[0;34m(ktn, origin, end, weight, origin_index, end_index)\u001b[0m\n\u001b[1;32m     91\u001b[0m         \u001b[0mktn\u001b[0m\u001b[0;34m.\u001b[0m\u001b[0madd_edge\u001b[0m\u001b[0;34m(\u001b[0m\u001b[0morigin\u001b[0m\u001b[0;34m,\u001b[0m \u001b[0mend\u001b[0m\u001b[0;34m,\u001b[0m \u001b[0;34m**\u001b[0m\u001b[0mtransition_attributes\u001b[0m\u001b[0;34m)\u001b[0m\u001b[0;34m\u001b[0m\u001b[0;34m\u001b[0m\u001b[0m\n\u001b[1;32m     92\u001b[0m         \u001b[0mprint\u001b[0m\u001b[0;34m(\u001b[0m\u001b[0morigin\u001b[0m\u001b[0;34m)\u001b[0m\u001b[0;34m\u001b[0m\u001b[0;34m\u001b[0m\u001b[0m\n\u001b[0;32m---> 93\u001b[0;31m         \u001b[0mktn\u001b[0m\u001b[0;34m.\u001b[0m\u001b[0mnodes\u001b[0m\u001b[0;34m[\u001b[0m\u001b[0morigin\u001b[0m\u001b[0;34m]\u001b[0m\u001b[0;34m[\u001b[0m\u001b[0;34m'weight'\u001b[0m\u001b[0;34m]\u001b[0m\u001b[0;34m+=\u001b[0m\u001b[0mweight\u001b[0m\u001b[0;34m\u001b[0m\u001b[0;34m\u001b[0m\u001b[0m\n\u001b[0m\u001b[1;32m     94\u001b[0m         \u001b[0mktn\u001b[0m\u001b[0;34m.\u001b[0m\u001b[0mgraph\u001b[0m\u001b[0;34m[\u001b[0m\u001b[0;34m'weight'\u001b[0m\u001b[0;34m]\u001b[0m\u001b[0;34m+=\u001b[0m\u001b[0mweight\u001b[0m\u001b[0;34m\u001b[0m\u001b[0;34m\u001b[0m\u001b[0m\n\u001b[1;32m     95\u001b[0m         \u001b[0mktn\u001b[0m\u001b[0;34m.\u001b[0m\u001b[0mindex_to_origin_end\u001b[0m\u001b[0;34m.\u001b[0m\u001b[0mappend\u001b[0m\u001b[0;34m(\u001b[0m\u001b[0;34m[\u001b[0m\u001b[0morigin\u001b[0m\u001b[0;34m,\u001b[0m\u001b[0mend\u001b[0m\u001b[0;34m]\u001b[0m\u001b[0;34m)\u001b[0m\u001b[0;34m\u001b[0m\u001b[0;34m\u001b[0m\u001b[0m\n",
      "\u001b[0;31mKeyError\u001b[0m: 'weight'"
     ]
    }
   ],
   "source": [
    "okn.add_transition(net, origin=0, end=1, weight=4.0, origin_index=True, end_index=True)"
   ]
  },
  {
   "cell_type": "markdown",
   "metadata": {},
   "source": [
    "### The resultant object"
   ]
  },
  {
   "cell_type": "code",
   "execution_count": null,
   "metadata": {},
   "outputs": [],
   "source": [
    "net.graph"
   ]
  },
  {
   "cell_type": "code",
   "execution_count": null,
   "metadata": {},
   "outputs": [],
   "source": [
    "net.nodes(data=True)"
   ]
  },
  {
   "cell_type": "code",
   "execution_count": null,
   "metadata": {},
   "outputs": [],
   "source": [
    "list(net.edges.keys())[0]"
   ]
  },
  {
   "cell_type": "code",
   "execution_count": null,
   "metadata": {},
   "outputs": [],
   "source": [
    "import itertools"
   ]
  },
  {
   "cell_type": "code",
   "execution_count": null,
   "metadata": {},
   "outputs": [],
   "source": [
    "(range(100),8))"
   ]
  },
  {
   "cell_type": "code",
   "execution_count": null,
   "metadata": {},
   "outputs": [],
   "source": []
  }
 ],
 "metadata": {
  "kernelspec": {
   "display_name": "Python 3",
   "language": "python",
   "name": "python3"
  },
  "language_info": {
   "codemirror_mode": {
    "name": "ipython",
    "version": 3
   },
   "file_extension": ".py",
   "mimetype": "text/x-python",
   "name": "python",
   "nbconvert_exporter": "python",
   "pygments_lexer": "ipython3",
   "version": "3.7.8"
  }
 },
 "nbformat": 4,
 "nbformat_minor": 4
}
