{
 "cells": [
  {
   "cell_type": "code",
   "execution_count": 1,
   "metadata": {},
   "outputs": [],
   "source": [
    "%load_ext autoreload\n",
    "%autoreload 2"
   ]
  },
  {
   "cell_type": "code",
   "execution_count": 2,
   "metadata": {},
   "outputs": [],
   "source": [
    "import openktn as okn\n",
    "from simtk.unit import kelvin, picoseconds"
   ]
  },
  {
   "cell_type": "markdown",
   "metadata": {},
   "source": [
    "# Adding microstates and transitions"
   ]
  },
  {
   "cell_type": "code",
   "execution_count": 3,
   "metadata": {},
   "outputs": [],
   "source": [
    "net = okn.kinetic_transition_network(form='networkx.DiGraph', temperature=300*kelvin,\n",
    "                                     time_step=10*picoseconds)"
   ]
  },
  {
   "cell_type": "code",
   "execution_count": 5,
   "metadata": {},
   "outputs": [
    {
     "data": {
      "text/html": [
       "<style  type=\"text/css\" >\n",
       "</style><table id=\"T_7da8c310_1996_11eb_a81e_591c7578217d\" ><thead>    <tr>        <th class=\"col_heading level0 col0\" >form</th>        <th class=\"col_heading level0 col1\" >n_microstates</th>        <th class=\"col_heading level0 col2\" >n_transitions</th>        <th class=\"col_heading level0 col3\" >weight</th>        <th class=\"col_heading level0 col4\" >symmetrized</th>        <th class=\"col_heading level0 col5\" >temperature</th>        <th class=\"col_heading level0 col6\" >time_step</th>    </tr></thead><tbody>\n",
       "                <tr>\n",
       "                                <td id=\"T_7da8c310_1996_11eb_a81e_591c7578217drow0_col0\" class=\"data row0 col0\" >networkx.DiGraph</td>\n",
       "                        <td id=\"T_7da8c310_1996_11eb_a81e_591c7578217drow0_col1\" class=\"data row0 col1\" >0</td>\n",
       "                        <td id=\"T_7da8c310_1996_11eb_a81e_591c7578217drow0_col2\" class=\"data row0 col2\" >0</td>\n",
       "                        <td id=\"T_7da8c310_1996_11eb_a81e_591c7578217drow0_col3\" class=\"data row0 col3\" >0.000000</td>\n",
       "                        <td id=\"T_7da8c310_1996_11eb_a81e_591c7578217drow0_col4\" class=\"data row0 col4\" >True</td>\n",
       "                        <td id=\"T_7da8c310_1996_11eb_a81e_591c7578217drow0_col5\" class=\"data row0 col5\" >300 K</td>\n",
       "                        <td id=\"T_7da8c310_1996_11eb_a81e_591c7578217drow0_col6\" class=\"data row0 col6\" >0.01 ns</td>\n",
       "            </tr>\n",
       "    </tbody></table>"
      ],
      "text/plain": [
       "<pandas.io.formats.style.Styler at 0x7f9a89e942d0>"
      ]
     },
     "execution_count": 5,
     "metadata": {},
     "output_type": "execute_result"
    }
   ],
   "source": [
    "okn.info(net)"
   ]
  },
  {
   "cell_type": "markdown",
   "metadata": {},
   "source": [
    "## Adding microstates"
   ]
  },
  {
   "cell_type": "code",
   "execution_count": 6,
   "metadata": {},
   "outputs": [],
   "source": [
    "okn.add_microstate(net)"
   ]
  },
  {
   "cell_type": "code",
   "execution_count": 8,
   "metadata": {},
   "outputs": [
    {
     "data": {
      "text/html": [
       "<style  type=\"text/css\" >\n",
       "</style><table id=\"T_ab8e27f2_1996_11eb_a81e_591c7578217d\" ><thead>    <tr>        <th class=\"col_heading level0 col0\" >index</th>        <th class=\"col_heading level0 col1\" >name</th>        <th class=\"col_heading level0 col2\" >weight</th>        <th class=\"col_heading level0 col3\" >probability</th>        <th class=\"col_heading level0 col4\" >degree</th>    </tr></thead><tbody>\n",
       "                <tr>\n",
       "                                <td id=\"T_ab8e27f2_1996_11eb_a81e_591c7578217drow0_col0\" class=\"data row0 col0\" >0</td>\n",
       "                        <td id=\"T_ab8e27f2_1996_11eb_a81e_591c7578217drow0_col1\" class=\"data row0 col1\" >0</td>\n",
       "                        <td id=\"T_ab8e27f2_1996_11eb_a81e_591c7578217drow0_col2\" class=\"data row0 col2\" >0.000000</td>\n",
       "                        <td id=\"T_ab8e27f2_1996_11eb_a81e_591c7578217drow0_col3\" class=\"data row0 col3\" >0.000000</td>\n",
       "                        <td id=\"T_ab8e27f2_1996_11eb_a81e_591c7578217drow0_col4\" class=\"data row0 col4\" >0</td>\n",
       "            </tr>\n",
       "    </tbody></table>"
      ],
      "text/plain": [
       "<pandas.io.formats.style.Styler at 0x7f9a886075d0>"
      ]
     },
     "execution_count": 8,
     "metadata": {},
     "output_type": "execute_result"
    }
   ],
   "source": [
    "okn.info(net, target='microstate')"
   ]
  },
  {
   "cell_type": "code",
   "execution_count": 9,
   "metadata": {},
   "outputs": [],
   "source": [
    "okn.add_microstate(net, name='A')"
   ]
  },
  {
   "cell_type": "code",
   "execution_count": 10,
   "metadata": {},
   "outputs": [
    {
     "data": {
      "text/html": [
       "<style  type=\"text/css\" >\n",
       "</style><table id=\"T_b0e34ade_1996_11eb_a81e_591c7578217d\" ><thead>    <tr>        <th class=\"col_heading level0 col0\" >index</th>        <th class=\"col_heading level0 col1\" >name</th>        <th class=\"col_heading level0 col2\" >weight</th>        <th class=\"col_heading level0 col3\" >probability</th>        <th class=\"col_heading level0 col4\" >degree</th>    </tr></thead><tbody>\n",
       "                <tr>\n",
       "                                <td id=\"T_b0e34ade_1996_11eb_a81e_591c7578217drow0_col0\" class=\"data row0 col0\" >0</td>\n",
       "                        <td id=\"T_b0e34ade_1996_11eb_a81e_591c7578217drow0_col1\" class=\"data row0 col1\" >0</td>\n",
       "                        <td id=\"T_b0e34ade_1996_11eb_a81e_591c7578217drow0_col2\" class=\"data row0 col2\" >0.000000</td>\n",
       "                        <td id=\"T_b0e34ade_1996_11eb_a81e_591c7578217drow0_col3\" class=\"data row0 col3\" >0.000000</td>\n",
       "                        <td id=\"T_b0e34ade_1996_11eb_a81e_591c7578217drow0_col4\" class=\"data row0 col4\" >0</td>\n",
       "            </tr>\n",
       "            <tr>\n",
       "                                <td id=\"T_b0e34ade_1996_11eb_a81e_591c7578217drow1_col0\" class=\"data row1 col0\" >1</td>\n",
       "                        <td id=\"T_b0e34ade_1996_11eb_a81e_591c7578217drow1_col1\" class=\"data row1 col1\" >A</td>\n",
       "                        <td id=\"T_b0e34ade_1996_11eb_a81e_591c7578217drow1_col2\" class=\"data row1 col2\" >0.000000</td>\n",
       "                        <td id=\"T_b0e34ade_1996_11eb_a81e_591c7578217drow1_col3\" class=\"data row1 col3\" >0.000000</td>\n",
       "                        <td id=\"T_b0e34ade_1996_11eb_a81e_591c7578217drow1_col4\" class=\"data row1 col4\" >0</td>\n",
       "            </tr>\n",
       "    </tbody></table>"
      ],
      "text/plain": [
       "<pandas.io.formats.style.Styler at 0x7f9ab4183dd0>"
      ]
     },
     "execution_count": 10,
     "metadata": {},
     "output_type": "execute_result"
    }
   ],
   "source": [
    "okn.info(net, target='microstate')"
   ]
  },
  {
   "cell_type": "code",
   "execution_count": 11,
   "metadata": {},
   "outputs": [],
   "source": [
    "okn.add_microstate(net, index=4)"
   ]
  },
  {
   "cell_type": "code",
   "execution_count": 12,
   "metadata": {},
   "outputs": [
    {
     "data": {
      "text/html": [
       "<style  type=\"text/css\" >\n",
       "</style><table id=\"T_b2871f6e_1996_11eb_a81e_591c7578217d\" ><thead>    <tr>        <th class=\"col_heading level0 col0\" >index</th>        <th class=\"col_heading level0 col1\" >name</th>        <th class=\"col_heading level0 col2\" >weight</th>        <th class=\"col_heading level0 col3\" >probability</th>        <th class=\"col_heading level0 col4\" >degree</th>    </tr></thead><tbody>\n",
       "                <tr>\n",
       "                                <td id=\"T_b2871f6e_1996_11eb_a81e_591c7578217drow0_col0\" class=\"data row0 col0\" >0</td>\n",
       "                        <td id=\"T_b2871f6e_1996_11eb_a81e_591c7578217drow0_col1\" class=\"data row0 col1\" >0</td>\n",
       "                        <td id=\"T_b2871f6e_1996_11eb_a81e_591c7578217drow0_col2\" class=\"data row0 col2\" >0.000000</td>\n",
       "                        <td id=\"T_b2871f6e_1996_11eb_a81e_591c7578217drow0_col3\" class=\"data row0 col3\" >0.000000</td>\n",
       "                        <td id=\"T_b2871f6e_1996_11eb_a81e_591c7578217drow0_col4\" class=\"data row0 col4\" >0</td>\n",
       "            </tr>\n",
       "            <tr>\n",
       "                                <td id=\"T_b2871f6e_1996_11eb_a81e_591c7578217drow1_col0\" class=\"data row1 col0\" >1</td>\n",
       "                        <td id=\"T_b2871f6e_1996_11eb_a81e_591c7578217drow1_col1\" class=\"data row1 col1\" >A</td>\n",
       "                        <td id=\"T_b2871f6e_1996_11eb_a81e_591c7578217drow1_col2\" class=\"data row1 col2\" >0.000000</td>\n",
       "                        <td id=\"T_b2871f6e_1996_11eb_a81e_591c7578217drow1_col3\" class=\"data row1 col3\" >0.000000</td>\n",
       "                        <td id=\"T_b2871f6e_1996_11eb_a81e_591c7578217drow1_col4\" class=\"data row1 col4\" >0</td>\n",
       "            </tr>\n",
       "            <tr>\n",
       "                                <td id=\"T_b2871f6e_1996_11eb_a81e_591c7578217drow2_col0\" class=\"data row2 col0\" >2</td>\n",
       "                        <td id=\"T_b2871f6e_1996_11eb_a81e_591c7578217drow2_col1\" class=\"data row2 col1\" >2</td>\n",
       "                        <td id=\"T_b2871f6e_1996_11eb_a81e_591c7578217drow2_col2\" class=\"data row2 col2\" >0.000000</td>\n",
       "                        <td id=\"T_b2871f6e_1996_11eb_a81e_591c7578217drow2_col3\" class=\"data row2 col3\" >0.000000</td>\n",
       "                        <td id=\"T_b2871f6e_1996_11eb_a81e_591c7578217drow2_col4\" class=\"data row2 col4\" >0</td>\n",
       "            </tr>\n",
       "            <tr>\n",
       "                                <td id=\"T_b2871f6e_1996_11eb_a81e_591c7578217drow3_col0\" class=\"data row3 col0\" >3</td>\n",
       "                        <td id=\"T_b2871f6e_1996_11eb_a81e_591c7578217drow3_col1\" class=\"data row3 col1\" >3</td>\n",
       "                        <td id=\"T_b2871f6e_1996_11eb_a81e_591c7578217drow3_col2\" class=\"data row3 col2\" >0.000000</td>\n",
       "                        <td id=\"T_b2871f6e_1996_11eb_a81e_591c7578217drow3_col3\" class=\"data row3 col3\" >0.000000</td>\n",
       "                        <td id=\"T_b2871f6e_1996_11eb_a81e_591c7578217drow3_col4\" class=\"data row3 col4\" >0</td>\n",
       "            </tr>\n",
       "    </tbody></table>"
      ],
      "text/plain": [
       "<pandas.io.formats.style.Styler at 0x7f9a88144c90>"
      ]
     },
     "execution_count": 12,
     "metadata": {},
     "output_type": "execute_result"
    }
   ],
   "source": [
    "okn.info(net, target='microstate')"
   ]
  },
  {
   "cell_type": "markdown",
   "metadata": {},
   "source": [
    "## Adding transitions"
   ]
  },
  {
   "cell_type": "code",
   "execution_count": 13,
   "metadata": {},
   "outputs": [],
   "source": [
    "okn.add_transition(net, origin='A', end=3, weight=1.0)"
   ]
  },
  {
   "cell_type": "code",
   "execution_count": 14,
   "metadata": {},
   "outputs": [
    {
     "data": {
      "text/html": [
       "<style  type=\"text/css\" >\n",
       "</style><table id=\"T_c46acb40_1996_11eb_a81e_591c7578217d\" ><thead>    <tr>        <th class=\"col_heading level0 col0\" >form</th>        <th class=\"col_heading level0 col1\" >n_microstates</th>        <th class=\"col_heading level0 col2\" >n_transitions</th>        <th class=\"col_heading level0 col3\" >weight</th>        <th class=\"col_heading level0 col4\" >symmetrized</th>        <th class=\"col_heading level0 col5\" >temperature</th>        <th class=\"col_heading level0 col6\" >time_step</th>    </tr></thead><tbody>\n",
       "                <tr>\n",
       "                                <td id=\"T_c46acb40_1996_11eb_a81e_591c7578217drow0_col0\" class=\"data row0 col0\" >networkx.DiGraph</td>\n",
       "                        <td id=\"T_c46acb40_1996_11eb_a81e_591c7578217drow0_col1\" class=\"data row0 col1\" >4</td>\n",
       "                        <td id=\"T_c46acb40_1996_11eb_a81e_591c7578217drow0_col2\" class=\"data row0 col2\" >1</td>\n",
       "                        <td id=\"T_c46acb40_1996_11eb_a81e_591c7578217drow0_col3\" class=\"data row0 col3\" >1.000000</td>\n",
       "                        <td id=\"T_c46acb40_1996_11eb_a81e_591c7578217drow0_col4\" class=\"data row0 col4\" >False</td>\n",
       "                        <td id=\"T_c46acb40_1996_11eb_a81e_591c7578217drow0_col5\" class=\"data row0 col5\" >300 K</td>\n",
       "                        <td id=\"T_c46acb40_1996_11eb_a81e_591c7578217drow0_col6\" class=\"data row0 col6\" >0.01 ns</td>\n",
       "            </tr>\n",
       "    </tbody></table>"
      ],
      "text/plain": [
       "<pandas.io.formats.style.Styler at 0x7f9ab414ef50>"
      ]
     },
     "execution_count": 14,
     "metadata": {},
     "output_type": "execute_result"
    }
   ],
   "source": [
    "okn.info(net)"
   ]
  },
  {
   "cell_type": "code",
   "execution_count": 15,
   "metadata": {},
   "outputs": [
    {
     "data": {
      "text/html": [
       "<style  type=\"text/css\" >\n",
       "</style><table id=\"T_d0274148_1996_11eb_a81e_591c7578217d\" ><thead>    <tr>        <th class=\"col_heading level0 col0\" >index</th>        <th class=\"col_heading level0 col1\" >name</th>        <th class=\"col_heading level0 col2\" >weight</th>        <th class=\"col_heading level0 col3\" >probability</th>        <th class=\"col_heading level0 col4\" >out_degree</th>        <th class=\"col_heading level0 col5\" >in_degree</th>    </tr></thead><tbody>\n",
       "                <tr>\n",
       "                                <td id=\"T_d0274148_1996_11eb_a81e_591c7578217drow0_col0\" class=\"data row0 col0\" >0</td>\n",
       "                        <td id=\"T_d0274148_1996_11eb_a81e_591c7578217drow0_col1\" class=\"data row0 col1\" >0</td>\n",
       "                        <td id=\"T_d0274148_1996_11eb_a81e_591c7578217drow0_col2\" class=\"data row0 col2\" >0.000000</td>\n",
       "                        <td id=\"T_d0274148_1996_11eb_a81e_591c7578217drow0_col3\" class=\"data row0 col3\" >0.000000</td>\n",
       "                        <td id=\"T_d0274148_1996_11eb_a81e_591c7578217drow0_col4\" class=\"data row0 col4\" >0</td>\n",
       "                        <td id=\"T_d0274148_1996_11eb_a81e_591c7578217drow0_col5\" class=\"data row0 col5\" >0</td>\n",
       "            </tr>\n",
       "            <tr>\n",
       "                                <td id=\"T_d0274148_1996_11eb_a81e_591c7578217drow1_col0\" class=\"data row1 col0\" >1</td>\n",
       "                        <td id=\"T_d0274148_1996_11eb_a81e_591c7578217drow1_col1\" class=\"data row1 col1\" >A</td>\n",
       "                        <td id=\"T_d0274148_1996_11eb_a81e_591c7578217drow1_col2\" class=\"data row1 col2\" >1.000000</td>\n",
       "                        <td id=\"T_d0274148_1996_11eb_a81e_591c7578217drow1_col3\" class=\"data row1 col3\" >0.000000</td>\n",
       "                        <td id=\"T_d0274148_1996_11eb_a81e_591c7578217drow1_col4\" class=\"data row1 col4\" >1</td>\n",
       "                        <td id=\"T_d0274148_1996_11eb_a81e_591c7578217drow1_col5\" class=\"data row1 col5\" >0</td>\n",
       "            </tr>\n",
       "            <tr>\n",
       "                                <td id=\"T_d0274148_1996_11eb_a81e_591c7578217drow2_col0\" class=\"data row2 col0\" >2</td>\n",
       "                        <td id=\"T_d0274148_1996_11eb_a81e_591c7578217drow2_col1\" class=\"data row2 col1\" >2</td>\n",
       "                        <td id=\"T_d0274148_1996_11eb_a81e_591c7578217drow2_col2\" class=\"data row2 col2\" >0.000000</td>\n",
       "                        <td id=\"T_d0274148_1996_11eb_a81e_591c7578217drow2_col3\" class=\"data row2 col3\" >0.000000</td>\n",
       "                        <td id=\"T_d0274148_1996_11eb_a81e_591c7578217drow2_col4\" class=\"data row2 col4\" >0</td>\n",
       "                        <td id=\"T_d0274148_1996_11eb_a81e_591c7578217drow2_col5\" class=\"data row2 col5\" >0</td>\n",
       "            </tr>\n",
       "            <tr>\n",
       "                                <td id=\"T_d0274148_1996_11eb_a81e_591c7578217drow3_col0\" class=\"data row3 col0\" >3</td>\n",
       "                        <td id=\"T_d0274148_1996_11eb_a81e_591c7578217drow3_col1\" class=\"data row3 col1\" >3</td>\n",
       "                        <td id=\"T_d0274148_1996_11eb_a81e_591c7578217drow3_col2\" class=\"data row3 col2\" >0.000000</td>\n",
       "                        <td id=\"T_d0274148_1996_11eb_a81e_591c7578217drow3_col3\" class=\"data row3 col3\" >0.000000</td>\n",
       "                        <td id=\"T_d0274148_1996_11eb_a81e_591c7578217drow3_col4\" class=\"data row3 col4\" >0</td>\n",
       "                        <td id=\"T_d0274148_1996_11eb_a81e_591c7578217drow3_col5\" class=\"data row3 col5\" >1</td>\n",
       "            </tr>\n",
       "    </tbody></table>"
      ],
      "text/plain": [
       "<pandas.io.formats.style.Styler at 0x7f9ab416ba10>"
      ]
     },
     "execution_count": 15,
     "metadata": {},
     "output_type": "execute_result"
    }
   ],
   "source": [
    "okn.info(net, target='microstate')"
   ]
  },
  {
   "cell_type": "code",
   "execution_count": 16,
   "metadata": {},
   "outputs": [
    {
     "ename": "KeyError",
     "evalue": "'transition_index'",
     "output_type": "error",
     "traceback": [
      "\u001b[0;31m---------------------------------------------------------------------------\u001b[0m",
      "\u001b[0;31mKeyError\u001b[0m                                  Traceback (most recent call last)",
      "\u001b[0;32m<ipython-input-16-e6ba6db41273>\u001b[0m in \u001b[0;36m<module>\u001b[0;34m\u001b[0m\n\u001b[0;32m----> 1\u001b[0;31m \u001b[0mokn\u001b[0m\u001b[0;34m.\u001b[0m\u001b[0minfo\u001b[0m\u001b[0;34m(\u001b[0m\u001b[0mnet\u001b[0m\u001b[0;34m,\u001b[0m \u001b[0mtarget\u001b[0m\u001b[0;34m=\u001b[0m\u001b[0;34m'transition'\u001b[0m\u001b[0;34m)\u001b[0m\u001b[0;34m\u001b[0m\u001b[0;34m\u001b[0m\u001b[0m\n\u001b[0m",
      "\u001b[0;32m~/Projects/OpenKTN/openktn/multitool.py\u001b[0m in \u001b[0;36minfo\u001b[0;34m(ktn, target, indices, selection, output)\u001b[0m\n\u001b[1;32m    216\u001b[0m             index, origen_index, end_index, weight, probability, symmetrized = get(ktn, target=target,\n\u001b[1;32m    217\u001b[0m                     \u001b[0mtransition_index\u001b[0m\u001b[0;34m=\u001b[0m\u001b[0;32mTrue\u001b[0m\u001b[0;34m,\u001b[0m \u001b[0morigin_index\u001b[0m\u001b[0;34m=\u001b[0m\u001b[0;32mTrue\u001b[0m\u001b[0;34m,\u001b[0m \u001b[0mend_index\u001b[0m\u001b[0;34m=\u001b[0m\u001b[0;32mTrue\u001b[0m\u001b[0;34m,\u001b[0m\u001b[0;34m\u001b[0m\u001b[0;34m\u001b[0m\u001b[0m\n\u001b[0;32m--> 218\u001b[0;31m                     transition_weight=True, transition_probability=True, symmetrized=True)\n\u001b[0m\u001b[1;32m    219\u001b[0m \u001b[0;34m\u001b[0m\u001b[0m\n\u001b[1;32m    220\u001b[0m             tmp_df = df({'index':index, 'origin_index':origin_index, 'end_index':end_index, 'weight':weight,\n",
      "\u001b[0;32m~/Projects/OpenKTN/openktn/multitool.py\u001b[0m in \u001b[0;36mget\u001b[0;34m(ktn, target, indices, selection, **kwargs)\u001b[0m\n\u001b[1;32m    163\u001b[0m     \u001b[0mresults\u001b[0m \u001b[0;34m=\u001b[0m \u001b[0;34m[\u001b[0m\u001b[0;34m]\u001b[0m\u001b[0;34m\u001b[0m\u001b[0;34m\u001b[0m\u001b[0m\n\u001b[1;32m    164\u001b[0m     \u001b[0;32mfor\u001b[0m \u001b[0mattribute\u001b[0m \u001b[0;32min\u001b[0m \u001b[0mattributes\u001b[0m\u001b[0;34m:\u001b[0m\u001b[0;34m\u001b[0m\u001b[0;34m\u001b[0m\u001b[0m\n\u001b[0;32m--> 165\u001b[0;31m         \u001b[0mresult\u001b[0m \u001b[0;34m=\u001b[0m \u001b[0mdict_get\u001b[0m\u001b[0;34m[\u001b[0m\u001b[0mform\u001b[0m\u001b[0;34m]\u001b[0m\u001b[0;34m[\u001b[0m\u001b[0mtarget\u001b[0m\u001b[0;34m]\u001b[0m\u001b[0;34m[\u001b[0m\u001b[0mattribute\u001b[0m\u001b[0;34m]\u001b[0m\u001b[0;34m(\u001b[0m\u001b[0mktn\u001b[0m\u001b[0;34m,\u001b[0m \u001b[0mindices\u001b[0m\u001b[0;34m=\u001b[0m\u001b[0mindices\u001b[0m\u001b[0;34m)\u001b[0m\u001b[0;34m\u001b[0m\u001b[0;34m\u001b[0m\u001b[0m\n\u001b[0m\u001b[1;32m    166\u001b[0m         \u001b[0mresults\u001b[0m\u001b[0;34m.\u001b[0m\u001b[0mappend\u001b[0m\u001b[0;34m(\u001b[0m\u001b[0mresult\u001b[0m\u001b[0;34m)\u001b[0m\u001b[0;34m\u001b[0m\u001b[0;34m\u001b[0m\u001b[0m\n\u001b[1;32m    167\u001b[0m \u001b[0;34m\u001b[0m\u001b[0m\n",
      "\u001b[0;31mKeyError\u001b[0m: 'transition_index'"
     ]
    }
   ],
   "source": [
    "okn.info(net, target='transition')"
   ]
  },
  {
   "cell_type": "markdown",
   "metadata": {},
   "source": [
    "### The resultant object"
   ]
  },
  {
   "cell_type": "code",
   "execution_count": 17,
   "metadata": {},
   "outputs": [
    {
     "data": {
      "text/plain": [
       "{'temperature': Quantity(value=300, unit=kelvin),\n",
       " 'time_step': Quantity(value=0.01, unit=nanosecond),\n",
       " 'weight': 1.0}"
      ]
     },
     "execution_count": 17,
     "metadata": {},
     "output_type": "execute_result"
    }
   ],
   "source": [
    "net.graph"
   ]
  },
  {
   "cell_type": "code",
   "execution_count": 18,
   "metadata": {},
   "outputs": [
    {
     "data": {
      "text/plain": [
       "NodeDataView({0: {'index': 0, 'name': 0, 'weight': 0.0, 'probability': 0.0, 'component_index': None, 'basin_index': None, 'coordinates': None, 'color': None, 'size': None}, 'A': {'index': 1, 'name': 'A', 'weight': 1.0, 'probability': 0.0, 'component_index': None, 'basin_index': None, 'coordinates': None, 'color': None, 'size': None}, 2: {'index': 2, 'name': 2, 'weight': 0.0, 'probability': 0.0, 'component_index': None, 'basin_index': None, 'coordinates': None, 'color': None, 'size': None}, 3: {'index': 3, 'name': 3, 'weight': 0.0, 'probability': 0.0, 'component_index': None, 'basin_index': None, 'coordinates': None, 'color': None, 'size': None}})"
      ]
     },
     "execution_count": 18,
     "metadata": {},
     "output_type": "execute_result"
    }
   ],
   "source": [
    "net.nodes(data=True)"
   ]
  },
  {
   "cell_type": "code",
   "execution_count": 24,
   "metadata": {},
   "outputs": [
    {
     "data": {
      "text/plain": [
       "('A', 3)"
      ]
     },
     "execution_count": 24,
     "metadata": {},
     "output_type": "execute_result"
    }
   ],
   "source": [
    "list(net.edges.keys())[0]"
   ]
  },
  {
   "cell_type": "code",
   "execution_count": 25,
   "metadata": {},
   "outputs": [],
   "source": [
    "import itertools"
   ]
  },
  {
   "cell_type": "code",
   "execution_count": 27,
   "metadata": {},
   "outputs": [
    {
     "data": {
      "text/plain": [
       "[0, 1, 2, 3, 4, 5, 6, 7]"
      ]
     },
     "execution_count": 27,
     "metadata": {},
     "output_type": "execute_result"
    }
   ],
   "source": [
    "(range(100),8))"
   ]
  },
  {
   "cell_type": "code",
   "execution_count": null,
   "metadata": {},
   "outputs": [],
   "source": []
  }
 ],
 "metadata": {
  "kernelspec": {
   "display_name": "Python 3",
   "language": "python",
   "name": "python3"
  },
  "language_info": {
   "codemirror_mode": {
    "name": "ipython",
    "version": 3
   },
   "file_extension": ".py",
   "mimetype": "text/x-python",
   "name": "python",
   "nbconvert_exporter": "python",
   "pygments_lexer": "ipython3",
   "version": "3.7.7"
  }
 },
 "nbformat": 4,
 "nbformat_minor": 4
}
