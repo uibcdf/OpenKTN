{
 "cells": [
  {
   "cell_type": "code",
   "execution_count": 1,
   "metadata": {},
   "outputs": [],
   "source": [
    "%load_ext autoreload\n",
    "%autoreload 2"
   ]
  },
  {
   "cell_type": "code",
   "execution_count": 2,
   "metadata": {},
   "outputs": [],
   "source": [
    "import openktn as okn\n",
    "from simtk.unit import kelvin, picoseconds"
   ]
  },
  {
   "cell_type": "markdown",
   "metadata": {},
   "source": [
    "# Networkx Kinetic Transition Network"
   ]
  },
  {
   "cell_type": "code",
   "execution_count": 3,
   "metadata": {},
   "outputs": [],
   "source": [
    "net = okn.kinetic_transition_network(form='pandas.KineticTransitionNetwork',\n",
    "                                    temperature=300.0*kelvin, time_step=10*picoseconds)"
   ]
  },
  {
   "cell_type": "code",
   "execution_count": 4,
   "metadata": {},
   "outputs": [
    {
     "data": {
      "text/html": [
       "<style  type=\"text/css\" >\n",
       "</style><table id=\"T_63464e00_1c04_11eb_9eec_13df02a35920\" ><thead>    <tr>        <th class=\"col_heading level0 col0\" >form</th>        <th class=\"col_heading level0 col1\" >n_microstates</th>        <th class=\"col_heading level0 col2\" >n_transitions</th>        <th class=\"col_heading level0 col3\" >weight</th>        <th class=\"col_heading level0 col4\" >symmetrized</th>        <th class=\"col_heading level0 col5\" >temperature</th>        <th class=\"col_heading level0 col6\" >time_step</th>    </tr></thead><tbody>\n",
       "                <tr>\n",
       "                                <td id=\"T_63464e00_1c04_11eb_9eec_13df02a35920row0_col0\" class=\"data row0 col0\" >pandas.KineticTransitionNetwork</td>\n",
       "                        <td id=\"T_63464e00_1c04_11eb_9eec_13df02a35920row0_col1\" class=\"data row0 col1\" >0</td>\n",
       "                        <td id=\"T_63464e00_1c04_11eb_9eec_13df02a35920row0_col2\" class=\"data row0 col2\" >0</td>\n",
       "                        <td id=\"T_63464e00_1c04_11eb_9eec_13df02a35920row0_col3\" class=\"data row0 col3\" >0</td>\n",
       "                        <td id=\"T_63464e00_1c04_11eb_9eec_13df02a35920row0_col4\" class=\"data row0 col4\" >True</td>\n",
       "                        <td id=\"T_63464e00_1c04_11eb_9eec_13df02a35920row0_col5\" class=\"data row0 col5\" >300.0 K</td>\n",
       "                        <td id=\"T_63464e00_1c04_11eb_9eec_13df02a35920row0_col6\" class=\"data row0 col6\" >10 ps</td>\n",
       "            </tr>\n",
       "    </tbody></table>"
      ],
      "text/plain": [
       "<pandas.io.formats.style.Styler at 0x7ffa1c762e90>"
      ]
     },
     "execution_count": 4,
     "metadata": {},
     "output_type": "execute_result"
    }
   ],
   "source": [
    "okn.info(net)"
   ]
  },
  {
   "cell_type": "code",
   "execution_count": 5,
   "metadata": {},
   "outputs": [],
   "source": [
    "okn.add_microstate(net)"
   ]
  },
  {
   "cell_type": "code",
   "execution_count": 6,
   "metadata": {},
   "outputs": [
    {
     "data": {
      "text/html": [
       "<style  type=\"text/css\" >\n",
       "</style><table id=\"T_63464e01_1c04_11eb_9eec_13df02a35920\" ><thead>    <tr>        <th class=\"col_heading level0 col0\" >index</th>        <th class=\"col_heading level0 col1\" >name</th>        <th class=\"col_heading level0 col2\" >weight</th>        <th class=\"col_heading level0 col3\" >probability</th>        <th class=\"col_heading level0 col4\" >degree</th>    </tr></thead><tbody>\n",
       "                <tr>\n",
       "                                <td id=\"T_63464e01_1c04_11eb_9eec_13df02a35920row0_col0\" class=\"data row0 col0\" >0</td>\n",
       "                        <td id=\"T_63464e01_1c04_11eb_9eec_13df02a35920row0_col1\" class=\"data row0 col1\" >0</td>\n",
       "                        <td id=\"T_63464e01_1c04_11eb_9eec_13df02a35920row0_col2\" class=\"data row0 col2\" >0.000000</td>\n",
       "                        <td id=\"T_63464e01_1c04_11eb_9eec_13df02a35920row0_col3\" class=\"data row0 col3\" >0.000000</td>\n",
       "                        <td id=\"T_63464e01_1c04_11eb_9eec_13df02a35920row0_col4\" class=\"data row0 col4\" >0</td>\n",
       "            </tr>\n",
       "    </tbody></table>"
      ],
      "text/plain": [
       "<pandas.io.formats.style.Styler at 0x7ffa1c749910>"
      ]
     },
     "execution_count": 6,
     "metadata": {},
     "output_type": "execute_result"
    }
   ],
   "source": [
    "okn.info(net, target='microstate')"
   ]
  },
  {
   "cell_type": "code",
   "execution_count": 7,
   "metadata": {},
   "outputs": [],
   "source": [
    "okn.add_microstate(net, name='A')"
   ]
  },
  {
   "cell_type": "code",
   "execution_count": 8,
   "metadata": {},
   "outputs": [
    {
     "data": {
      "text/html": [
       "<style  type=\"text/css\" >\n",
       "</style><table id=\"T_64771c1e_1c04_11eb_9eec_13df02a35920\" ><thead>    <tr>        <th class=\"col_heading level0 col0\" >index</th>        <th class=\"col_heading level0 col1\" >name</th>        <th class=\"col_heading level0 col2\" >weight</th>        <th class=\"col_heading level0 col3\" >probability</th>        <th class=\"col_heading level0 col4\" >degree</th>    </tr></thead><tbody>\n",
       "                <tr>\n",
       "                                <td id=\"T_64771c1e_1c04_11eb_9eec_13df02a35920row0_col0\" class=\"data row0 col0\" >0</td>\n",
       "                        <td id=\"T_64771c1e_1c04_11eb_9eec_13df02a35920row0_col1\" class=\"data row0 col1\" >0</td>\n",
       "                        <td id=\"T_64771c1e_1c04_11eb_9eec_13df02a35920row0_col2\" class=\"data row0 col2\" >0.000000</td>\n",
       "                        <td id=\"T_64771c1e_1c04_11eb_9eec_13df02a35920row0_col3\" class=\"data row0 col3\" >0.000000</td>\n",
       "                        <td id=\"T_64771c1e_1c04_11eb_9eec_13df02a35920row0_col4\" class=\"data row0 col4\" >0</td>\n",
       "            </tr>\n",
       "            <tr>\n",
       "                                <td id=\"T_64771c1e_1c04_11eb_9eec_13df02a35920row1_col0\" class=\"data row1 col0\" >1</td>\n",
       "                        <td id=\"T_64771c1e_1c04_11eb_9eec_13df02a35920row1_col1\" class=\"data row1 col1\" >A</td>\n",
       "                        <td id=\"T_64771c1e_1c04_11eb_9eec_13df02a35920row1_col2\" class=\"data row1 col2\" >0.000000</td>\n",
       "                        <td id=\"T_64771c1e_1c04_11eb_9eec_13df02a35920row1_col3\" class=\"data row1 col3\" >0.000000</td>\n",
       "                        <td id=\"T_64771c1e_1c04_11eb_9eec_13df02a35920row1_col4\" class=\"data row1 col4\" >0</td>\n",
       "            </tr>\n",
       "    </tbody></table>"
      ],
      "text/plain": [
       "<pandas.io.formats.style.Styler at 0x7ff9e561e590>"
      ]
     },
     "execution_count": 8,
     "metadata": {},
     "output_type": "execute_result"
    }
   ],
   "source": [
    "okn.info(net, target='microstate')"
   ]
  },
  {
   "cell_type": "code",
   "execution_count": 9,
   "metadata": {},
   "outputs": [],
   "source": [
    "okn.add_microstate(net, index=4)"
   ]
  },
  {
   "cell_type": "code",
   "execution_count": 10,
   "metadata": {},
   "outputs": [
    {
     "data": {
      "text/html": [
       "<style  type=\"text/css\" >\n",
       "</style><table id=\"T_64771c1f_1c04_11eb_9eec_13df02a35920\" ><thead>    <tr>        <th class=\"col_heading level0 col0\" >index</th>        <th class=\"col_heading level0 col1\" >name</th>        <th class=\"col_heading level0 col2\" >weight</th>        <th class=\"col_heading level0 col3\" >probability</th>        <th class=\"col_heading level0 col4\" >degree</th>    </tr></thead><tbody>\n",
       "                <tr>\n",
       "                                <td id=\"T_64771c1f_1c04_11eb_9eec_13df02a35920row0_col0\" class=\"data row0 col0\" >0</td>\n",
       "                        <td id=\"T_64771c1f_1c04_11eb_9eec_13df02a35920row0_col1\" class=\"data row0 col1\" >0</td>\n",
       "                        <td id=\"T_64771c1f_1c04_11eb_9eec_13df02a35920row0_col2\" class=\"data row0 col2\" >0.000000</td>\n",
       "                        <td id=\"T_64771c1f_1c04_11eb_9eec_13df02a35920row0_col3\" class=\"data row0 col3\" >0.000000</td>\n",
       "                        <td id=\"T_64771c1f_1c04_11eb_9eec_13df02a35920row0_col4\" class=\"data row0 col4\" >0</td>\n",
       "            </tr>\n",
       "            <tr>\n",
       "                                <td id=\"T_64771c1f_1c04_11eb_9eec_13df02a35920row1_col0\" class=\"data row1 col0\" >1</td>\n",
       "                        <td id=\"T_64771c1f_1c04_11eb_9eec_13df02a35920row1_col1\" class=\"data row1 col1\" >A</td>\n",
       "                        <td id=\"T_64771c1f_1c04_11eb_9eec_13df02a35920row1_col2\" class=\"data row1 col2\" >0.000000</td>\n",
       "                        <td id=\"T_64771c1f_1c04_11eb_9eec_13df02a35920row1_col3\" class=\"data row1 col3\" >0.000000</td>\n",
       "                        <td id=\"T_64771c1f_1c04_11eb_9eec_13df02a35920row1_col4\" class=\"data row1 col4\" >0</td>\n",
       "            </tr>\n",
       "            <tr>\n",
       "                                <td id=\"T_64771c1f_1c04_11eb_9eec_13df02a35920row2_col0\" class=\"data row2 col0\" >2</td>\n",
       "                        <td id=\"T_64771c1f_1c04_11eb_9eec_13df02a35920row2_col1\" class=\"data row2 col1\" >2</td>\n",
       "                        <td id=\"T_64771c1f_1c04_11eb_9eec_13df02a35920row2_col2\" class=\"data row2 col2\" >0.000000</td>\n",
       "                        <td id=\"T_64771c1f_1c04_11eb_9eec_13df02a35920row2_col3\" class=\"data row2 col3\" >0.000000</td>\n",
       "                        <td id=\"T_64771c1f_1c04_11eb_9eec_13df02a35920row2_col4\" class=\"data row2 col4\" >0</td>\n",
       "            </tr>\n",
       "            <tr>\n",
       "                                <td id=\"T_64771c1f_1c04_11eb_9eec_13df02a35920row3_col0\" class=\"data row3 col0\" >3</td>\n",
       "                        <td id=\"T_64771c1f_1c04_11eb_9eec_13df02a35920row3_col1\" class=\"data row3 col1\" >3</td>\n",
       "                        <td id=\"T_64771c1f_1c04_11eb_9eec_13df02a35920row3_col2\" class=\"data row3 col2\" >0.000000</td>\n",
       "                        <td id=\"T_64771c1f_1c04_11eb_9eec_13df02a35920row3_col3\" class=\"data row3 col3\" >0.000000</td>\n",
       "                        <td id=\"T_64771c1f_1c04_11eb_9eec_13df02a35920row3_col4\" class=\"data row3 col4\" >0</td>\n",
       "            </tr>\n",
       "            <tr>\n",
       "                                <td id=\"T_64771c1f_1c04_11eb_9eec_13df02a35920row4_col0\" class=\"data row4 col0\" >4</td>\n",
       "                        <td id=\"T_64771c1f_1c04_11eb_9eec_13df02a35920row4_col1\" class=\"data row4 col1\" >4</td>\n",
       "                        <td id=\"T_64771c1f_1c04_11eb_9eec_13df02a35920row4_col2\" class=\"data row4 col2\" >0.000000</td>\n",
       "                        <td id=\"T_64771c1f_1c04_11eb_9eec_13df02a35920row4_col3\" class=\"data row4 col3\" >0.000000</td>\n",
       "                        <td id=\"T_64771c1f_1c04_11eb_9eec_13df02a35920row4_col4\" class=\"data row4 col4\" >0</td>\n",
       "            </tr>\n",
       "    </tbody></table>"
      ],
      "text/plain": [
       "<pandas.io.formats.style.Styler at 0x7ff9e561e3d0>"
      ]
     },
     "execution_count": 10,
     "metadata": {},
     "output_type": "execute_result"
    }
   ],
   "source": [
    "okn.info(net, target='microstate')"
   ]
  },
  {
   "cell_type": "code",
   "execution_count": 11,
   "metadata": {},
   "outputs": [],
   "source": [
    "okn.add_transition(net, origin='A', end=3, weight=1.0)"
   ]
  },
  {
   "cell_type": "code",
   "execution_count": 12,
   "metadata": {},
   "outputs": [
    {
     "data": {
      "text/html": [
       "<div>\n",
       "<style scoped>\n",
       "    .dataframe tbody tr th:only-of-type {\n",
       "        vertical-align: middle;\n",
       "    }\n",
       "\n",
       "    .dataframe tbody tr th {\n",
       "        vertical-align: top;\n",
       "    }\n",
       "\n",
       "    .dataframe thead th {\n",
       "        text-align: right;\n",
       "    }\n",
       "</style>\n",
       "<table border=\"1\" class=\"dataframe\">\n",
       "  <thead>\n",
       "    <tr style=\"text-align: right;\">\n",
       "      <th></th>\n",
       "      <th>index</th>\n",
       "      <th>origin_index</th>\n",
       "      <th>end_index</th>\n",
       "      <th>weight</th>\n",
       "      <th>probability</th>\n",
       "      <th>symmetrized</th>\n",
       "    </tr>\n",
       "  </thead>\n",
       "  <tbody>\n",
       "    <tr>\n",
       "      <th>0</th>\n",
       "      <td>0</td>\n",
       "      <td>1</td>\n",
       "      <td>3</td>\n",
       "      <td>1</td>\n",
       "      <td>0</td>\n",
       "      <td>False</td>\n",
       "    </tr>\n",
       "  </tbody>\n",
       "</table>\n",
       "</div>"
      ],
      "text/plain": [
       "  index origin_index end_index weight probability symmetrized\n",
       "0     0            1         3      1           0       False"
      ]
     },
     "execution_count": 12,
     "metadata": {},
     "output_type": "execute_result"
    }
   ],
   "source": [
    "net.transitions"
   ]
  },
  {
   "cell_type": "code",
   "execution_count": 13,
   "metadata": {},
   "outputs": [
    {
     "data": {
      "text/html": [
       "<style  type=\"text/css\" >\n",
       "</style><table id=\"T_660900ce_1c04_11eb_9eec_13df02a35920\" ><thead>    <tr>        <th class=\"col_heading level0 col0\" >form</th>        <th class=\"col_heading level0 col1\" >n_microstates</th>        <th class=\"col_heading level0 col2\" >n_transitions</th>        <th class=\"col_heading level0 col3\" >weight</th>        <th class=\"col_heading level0 col4\" >symmetrized</th>        <th class=\"col_heading level0 col5\" >temperature</th>        <th class=\"col_heading level0 col6\" >time_step</th>    </tr></thead><tbody>\n",
       "                <tr>\n",
       "                                <td id=\"T_660900ce_1c04_11eb_9eec_13df02a35920row0_col0\" class=\"data row0 col0\" >pandas.KineticTransitionNetwork</td>\n",
       "                        <td id=\"T_660900ce_1c04_11eb_9eec_13df02a35920row0_col1\" class=\"data row0 col1\" >5</td>\n",
       "                        <td id=\"T_660900ce_1c04_11eb_9eec_13df02a35920row0_col2\" class=\"data row0 col2\" >1</td>\n",
       "                        <td id=\"T_660900ce_1c04_11eb_9eec_13df02a35920row0_col3\" class=\"data row0 col3\" >1.000000</td>\n",
       "                        <td id=\"T_660900ce_1c04_11eb_9eec_13df02a35920row0_col4\" class=\"data row0 col4\" >False</td>\n",
       "                        <td id=\"T_660900ce_1c04_11eb_9eec_13df02a35920row0_col5\" class=\"data row0 col5\" >300.0 K</td>\n",
       "                        <td id=\"T_660900ce_1c04_11eb_9eec_13df02a35920row0_col6\" class=\"data row0 col6\" >10 ps</td>\n",
       "            </tr>\n",
       "    </tbody></table>"
      ],
      "text/plain": [
       "<pandas.io.formats.style.Styler at 0x7ff9e75a19d0>"
      ]
     },
     "execution_count": 13,
     "metadata": {},
     "output_type": "execute_result"
    }
   ],
   "source": [
    "okn.info(net)"
   ]
  },
  {
   "cell_type": "code",
   "execution_count": 14,
   "metadata": {},
   "outputs": [
    {
     "data": {
      "text/html": [
       "<style  type=\"text/css\" >\n",
       "</style><table id=\"T_660900cf_1c04_11eb_9eec_13df02a35920\" ><thead>    <tr>        <th class=\"col_heading level0 col0\" >index</th>        <th class=\"col_heading level0 col1\" >name</th>        <th class=\"col_heading level0 col2\" >weight</th>        <th class=\"col_heading level0 col3\" >probability</th>        <th class=\"col_heading level0 col4\" >out_degree</th>        <th class=\"col_heading level0 col5\" >in_degree</th>    </tr></thead><tbody>\n",
       "                <tr>\n",
       "                                <td id=\"T_660900cf_1c04_11eb_9eec_13df02a35920row0_col0\" class=\"data row0 col0\" >0</td>\n",
       "                        <td id=\"T_660900cf_1c04_11eb_9eec_13df02a35920row0_col1\" class=\"data row0 col1\" >0</td>\n",
       "                        <td id=\"T_660900cf_1c04_11eb_9eec_13df02a35920row0_col2\" class=\"data row0 col2\" >0.000000</td>\n",
       "                        <td id=\"T_660900cf_1c04_11eb_9eec_13df02a35920row0_col3\" class=\"data row0 col3\" >0.000000</td>\n",
       "                        <td id=\"T_660900cf_1c04_11eb_9eec_13df02a35920row0_col4\" class=\"data row0 col4\" >0</td>\n",
       "                        <td id=\"T_660900cf_1c04_11eb_9eec_13df02a35920row0_col5\" class=\"data row0 col5\" >0</td>\n",
       "            </tr>\n",
       "            <tr>\n",
       "                                <td id=\"T_660900cf_1c04_11eb_9eec_13df02a35920row1_col0\" class=\"data row1 col0\" >1</td>\n",
       "                        <td id=\"T_660900cf_1c04_11eb_9eec_13df02a35920row1_col1\" class=\"data row1 col1\" >A</td>\n",
       "                        <td id=\"T_660900cf_1c04_11eb_9eec_13df02a35920row1_col2\" class=\"data row1 col2\" >1.000000</td>\n",
       "                        <td id=\"T_660900cf_1c04_11eb_9eec_13df02a35920row1_col3\" class=\"data row1 col3\" >0.000000</td>\n",
       "                        <td id=\"T_660900cf_1c04_11eb_9eec_13df02a35920row1_col4\" class=\"data row1 col4\" >1</td>\n",
       "                        <td id=\"T_660900cf_1c04_11eb_9eec_13df02a35920row1_col5\" class=\"data row1 col5\" >0</td>\n",
       "            </tr>\n",
       "            <tr>\n",
       "                                <td id=\"T_660900cf_1c04_11eb_9eec_13df02a35920row2_col0\" class=\"data row2 col0\" >2</td>\n",
       "                        <td id=\"T_660900cf_1c04_11eb_9eec_13df02a35920row2_col1\" class=\"data row2 col1\" >2</td>\n",
       "                        <td id=\"T_660900cf_1c04_11eb_9eec_13df02a35920row2_col2\" class=\"data row2 col2\" >0.000000</td>\n",
       "                        <td id=\"T_660900cf_1c04_11eb_9eec_13df02a35920row2_col3\" class=\"data row2 col3\" >0.000000</td>\n",
       "                        <td id=\"T_660900cf_1c04_11eb_9eec_13df02a35920row2_col4\" class=\"data row2 col4\" >0</td>\n",
       "                        <td id=\"T_660900cf_1c04_11eb_9eec_13df02a35920row2_col5\" class=\"data row2 col5\" >0</td>\n",
       "            </tr>\n",
       "            <tr>\n",
       "                                <td id=\"T_660900cf_1c04_11eb_9eec_13df02a35920row3_col0\" class=\"data row3 col0\" >3</td>\n",
       "                        <td id=\"T_660900cf_1c04_11eb_9eec_13df02a35920row3_col1\" class=\"data row3 col1\" >3</td>\n",
       "                        <td id=\"T_660900cf_1c04_11eb_9eec_13df02a35920row3_col2\" class=\"data row3 col2\" >0.000000</td>\n",
       "                        <td id=\"T_660900cf_1c04_11eb_9eec_13df02a35920row3_col3\" class=\"data row3 col3\" >0.000000</td>\n",
       "                        <td id=\"T_660900cf_1c04_11eb_9eec_13df02a35920row3_col4\" class=\"data row3 col4\" >0</td>\n",
       "                        <td id=\"T_660900cf_1c04_11eb_9eec_13df02a35920row3_col5\" class=\"data row3 col5\" >1</td>\n",
       "            </tr>\n",
       "            <tr>\n",
       "                                <td id=\"T_660900cf_1c04_11eb_9eec_13df02a35920row4_col0\" class=\"data row4 col0\" >4</td>\n",
       "                        <td id=\"T_660900cf_1c04_11eb_9eec_13df02a35920row4_col1\" class=\"data row4 col1\" >4</td>\n",
       "                        <td id=\"T_660900cf_1c04_11eb_9eec_13df02a35920row4_col2\" class=\"data row4 col2\" >0.000000</td>\n",
       "                        <td id=\"T_660900cf_1c04_11eb_9eec_13df02a35920row4_col3\" class=\"data row4 col3\" >0.000000</td>\n",
       "                        <td id=\"T_660900cf_1c04_11eb_9eec_13df02a35920row4_col4\" class=\"data row4 col4\" >0</td>\n",
       "                        <td id=\"T_660900cf_1c04_11eb_9eec_13df02a35920row4_col5\" class=\"data row4 col5\" >0</td>\n",
       "            </tr>\n",
       "    </tbody></table>"
      ],
      "text/plain": [
       "<pandas.io.formats.style.Styler at 0x7ff9e560be50>"
      ]
     },
     "execution_count": 14,
     "metadata": {},
     "output_type": "execute_result"
    }
   ],
   "source": [
    "okn.info(net, target='microstate')"
   ]
  },
  {
   "cell_type": "code",
   "execution_count": 15,
   "metadata": {},
   "outputs": [
    {
     "data": {
      "text/html": [
       "<style  type=\"text/css\" >\n",
       "</style><table id=\"T_69b01564_1c04_11eb_9eec_13df02a35920\" ><thead>    <tr>        <th class=\"col_heading level0 col0\" >index</th>        <th class=\"col_heading level0 col1\" >origin_index</th>        <th class=\"col_heading level0 col2\" >end_index</th>        <th class=\"col_heading level0 col3\" >weight</th>        <th class=\"col_heading level0 col4\" >probability</th>        <th class=\"col_heading level0 col5\" >symmetrized</th>    </tr></thead><tbody>\n",
       "                <tr>\n",
       "                                <td id=\"T_69b01564_1c04_11eb_9eec_13df02a35920row0_col0\" class=\"data row0 col0\" >0</td>\n",
       "                        <td id=\"T_69b01564_1c04_11eb_9eec_13df02a35920row0_col1\" class=\"data row0 col1\" >1</td>\n",
       "                        <td id=\"T_69b01564_1c04_11eb_9eec_13df02a35920row0_col2\" class=\"data row0 col2\" >3</td>\n",
       "                        <td id=\"T_69b01564_1c04_11eb_9eec_13df02a35920row0_col3\" class=\"data row0 col3\" >1.000000</td>\n",
       "                        <td id=\"T_69b01564_1c04_11eb_9eec_13df02a35920row0_col4\" class=\"data row0 col4\" >0.000000</td>\n",
       "                        <td id=\"T_69b01564_1c04_11eb_9eec_13df02a35920row0_col5\" class=\"data row0 col5\" >False</td>\n",
       "            </tr>\n",
       "    </tbody></table>"
      ],
      "text/plain": [
       "<pandas.io.formats.style.Styler at 0x7ff9e560bcd0>"
      ]
     },
     "execution_count": 15,
     "metadata": {},
     "output_type": "execute_result"
    }
   ],
   "source": [
    "okn.info(net, target='transition')"
   ]
  },
  {
   "cell_type": "code",
   "execution_count": 16,
   "metadata": {},
   "outputs": [],
   "source": [
    "okn.add_transition(net, origin=0, end=2, weight=4.0, origin_index=True, end_index=True)"
   ]
  },
  {
   "cell_type": "code",
   "execution_count": 17,
   "metadata": {},
   "outputs": [
    {
     "data": {
      "text/html": [
       "<style  type=\"text/css\" >\n",
       "</style><table id=\"T_69b01565_1c04_11eb_9eec_13df02a35920\" ><thead>    <tr>        <th class=\"col_heading level0 col0\" >index</th>        <th class=\"col_heading level0 col1\" >origin_index</th>        <th class=\"col_heading level0 col2\" >end_index</th>        <th class=\"col_heading level0 col3\" >weight</th>        <th class=\"col_heading level0 col4\" >probability</th>        <th class=\"col_heading level0 col5\" >symmetrized</th>    </tr></thead><tbody>\n",
       "                <tr>\n",
       "                                <td id=\"T_69b01565_1c04_11eb_9eec_13df02a35920row0_col0\" class=\"data row0 col0\" >0</td>\n",
       "                        <td id=\"T_69b01565_1c04_11eb_9eec_13df02a35920row0_col1\" class=\"data row0 col1\" >1</td>\n",
       "                        <td id=\"T_69b01565_1c04_11eb_9eec_13df02a35920row0_col2\" class=\"data row0 col2\" >3</td>\n",
       "                        <td id=\"T_69b01565_1c04_11eb_9eec_13df02a35920row0_col3\" class=\"data row0 col3\" >1.000000</td>\n",
       "                        <td id=\"T_69b01565_1c04_11eb_9eec_13df02a35920row0_col4\" class=\"data row0 col4\" >0.000000</td>\n",
       "                        <td id=\"T_69b01565_1c04_11eb_9eec_13df02a35920row0_col5\" class=\"data row0 col5\" >False</td>\n",
       "            </tr>\n",
       "            <tr>\n",
       "                                <td id=\"T_69b01565_1c04_11eb_9eec_13df02a35920row1_col0\" class=\"data row1 col0\" >1</td>\n",
       "                        <td id=\"T_69b01565_1c04_11eb_9eec_13df02a35920row1_col1\" class=\"data row1 col1\" >0</td>\n",
       "                        <td id=\"T_69b01565_1c04_11eb_9eec_13df02a35920row1_col2\" class=\"data row1 col2\" >2</td>\n",
       "                        <td id=\"T_69b01565_1c04_11eb_9eec_13df02a35920row1_col3\" class=\"data row1 col3\" >4.000000</td>\n",
       "                        <td id=\"T_69b01565_1c04_11eb_9eec_13df02a35920row1_col4\" class=\"data row1 col4\" >0.000000</td>\n",
       "                        <td id=\"T_69b01565_1c04_11eb_9eec_13df02a35920row1_col5\" class=\"data row1 col5\" >False</td>\n",
       "            </tr>\n",
       "    </tbody></table>"
      ],
      "text/plain": [
       "<pandas.io.formats.style.Styler at 0x7ff9e5602ed0>"
      ]
     },
     "execution_count": 17,
     "metadata": {},
     "output_type": "execute_result"
    }
   ],
   "source": [
    "okn.info(net, target='transition')"
   ]
  },
  {
   "cell_type": "code",
   "execution_count": 18,
   "metadata": {},
   "outputs": [
    {
     "data": {
      "text/html": [
       "<div>\n",
       "<style scoped>\n",
       "    .dataframe tbody tr th:only-of-type {\n",
       "        vertical-align: middle;\n",
       "    }\n",
       "\n",
       "    .dataframe tbody tr th {\n",
       "        vertical-align: top;\n",
       "    }\n",
       "\n",
       "    .dataframe thead th {\n",
       "        text-align: right;\n",
       "    }\n",
       "</style>\n",
       "<table border=\"1\" class=\"dataframe\">\n",
       "  <thead>\n",
       "    <tr style=\"text-align: right;\">\n",
       "      <th></th>\n",
       "      <th>index</th>\n",
       "      <th>origin_index</th>\n",
       "      <th>end_index</th>\n",
       "      <th>weight</th>\n",
       "      <th>probability</th>\n",
       "      <th>symmetrized</th>\n",
       "    </tr>\n",
       "  </thead>\n",
       "  <tbody>\n",
       "    <tr>\n",
       "      <th>0</th>\n",
       "      <td>0</td>\n",
       "      <td>1</td>\n",
       "      <td>3</td>\n",
       "      <td>1</td>\n",
       "      <td>0</td>\n",
       "      <td>False</td>\n",
       "    </tr>\n",
       "    <tr>\n",
       "      <th>1</th>\n",
       "      <td>1</td>\n",
       "      <td>0</td>\n",
       "      <td>2</td>\n",
       "      <td>4</td>\n",
       "      <td>0</td>\n",
       "      <td>False</td>\n",
       "    </tr>\n",
       "  </tbody>\n",
       "</table>\n",
       "</div>"
      ],
      "text/plain": [
       "  index origin_index end_index weight probability symmetrized\n",
       "0     0            1         3      1           0       False\n",
       "1     1            0         2      4           0       False"
      ]
     },
     "execution_count": 18,
     "metadata": {},
     "output_type": "execute_result"
    }
   ],
   "source": [
    "net.transitions"
   ]
  },
  {
   "cell_type": "code",
   "execution_count": 19,
   "metadata": {},
   "outputs": [
    {
     "data": {
      "text/html": [
       "<style  type=\"text/css\" >\n",
       "</style><table id=\"T_6b461cac_1c04_11eb_9eec_13df02a35920\" ><thead>    <tr>        <th class=\"col_heading level0 col0\" >form</th>        <th class=\"col_heading level0 col1\" >n_microstates</th>        <th class=\"col_heading level0 col2\" >n_transitions</th>        <th class=\"col_heading level0 col3\" >weight</th>        <th class=\"col_heading level0 col4\" >symmetrized</th>        <th class=\"col_heading level0 col5\" >temperature</th>        <th class=\"col_heading level0 col6\" >time_step</th>    </tr></thead><tbody>\n",
       "                <tr>\n",
       "                                <td id=\"T_6b461cac_1c04_11eb_9eec_13df02a35920row0_col0\" class=\"data row0 col0\" >pandas.KineticTransitionNetwork</td>\n",
       "                        <td id=\"T_6b461cac_1c04_11eb_9eec_13df02a35920row0_col1\" class=\"data row0 col1\" >5</td>\n",
       "                        <td id=\"T_6b461cac_1c04_11eb_9eec_13df02a35920row0_col2\" class=\"data row0 col2\" >2</td>\n",
       "                        <td id=\"T_6b461cac_1c04_11eb_9eec_13df02a35920row0_col3\" class=\"data row0 col3\" >5.000000</td>\n",
       "                        <td id=\"T_6b461cac_1c04_11eb_9eec_13df02a35920row0_col4\" class=\"data row0 col4\" >False</td>\n",
       "                        <td id=\"T_6b461cac_1c04_11eb_9eec_13df02a35920row0_col5\" class=\"data row0 col5\" >300.0 K</td>\n",
       "                        <td id=\"T_6b461cac_1c04_11eb_9eec_13df02a35920row0_col6\" class=\"data row0 col6\" >10 ps</td>\n",
       "            </tr>\n",
       "    </tbody></table>"
      ],
      "text/plain": [
       "<pandas.io.formats.style.Styler at 0x7ff9e554e990>"
      ]
     },
     "execution_count": 19,
     "metadata": {},
     "output_type": "execute_result"
    }
   ],
   "source": [
    "okn.info(net)"
   ]
  },
  {
   "cell_type": "code",
   "execution_count": 20,
   "metadata": {},
   "outputs": [
    {
     "data": {
      "text/html": [
       "<style  type=\"text/css\" >\n",
       "</style><table id=\"T_6b461cad_1c04_11eb_9eec_13df02a35920\" ><thead>    <tr>        <th class=\"col_heading level0 col0\" >index</th>        <th class=\"col_heading level0 col1\" >name</th>        <th class=\"col_heading level0 col2\" >weight</th>        <th class=\"col_heading level0 col3\" >probability</th>        <th class=\"col_heading level0 col4\" >out_degree</th>        <th class=\"col_heading level0 col5\" >in_degree</th>    </tr></thead><tbody>\n",
       "                <tr>\n",
       "                                <td id=\"T_6b461cad_1c04_11eb_9eec_13df02a35920row0_col0\" class=\"data row0 col0\" >0</td>\n",
       "                        <td id=\"T_6b461cad_1c04_11eb_9eec_13df02a35920row0_col1\" class=\"data row0 col1\" >0</td>\n",
       "                        <td id=\"T_6b461cad_1c04_11eb_9eec_13df02a35920row0_col2\" class=\"data row0 col2\" >4.000000</td>\n",
       "                        <td id=\"T_6b461cad_1c04_11eb_9eec_13df02a35920row0_col3\" class=\"data row0 col3\" >0.000000</td>\n",
       "                        <td id=\"T_6b461cad_1c04_11eb_9eec_13df02a35920row0_col4\" class=\"data row0 col4\" >1</td>\n",
       "                        <td id=\"T_6b461cad_1c04_11eb_9eec_13df02a35920row0_col5\" class=\"data row0 col5\" >0</td>\n",
       "            </tr>\n",
       "            <tr>\n",
       "                                <td id=\"T_6b461cad_1c04_11eb_9eec_13df02a35920row1_col0\" class=\"data row1 col0\" >1</td>\n",
       "                        <td id=\"T_6b461cad_1c04_11eb_9eec_13df02a35920row1_col1\" class=\"data row1 col1\" >A</td>\n",
       "                        <td id=\"T_6b461cad_1c04_11eb_9eec_13df02a35920row1_col2\" class=\"data row1 col2\" >1.000000</td>\n",
       "                        <td id=\"T_6b461cad_1c04_11eb_9eec_13df02a35920row1_col3\" class=\"data row1 col3\" >0.000000</td>\n",
       "                        <td id=\"T_6b461cad_1c04_11eb_9eec_13df02a35920row1_col4\" class=\"data row1 col4\" >1</td>\n",
       "                        <td id=\"T_6b461cad_1c04_11eb_9eec_13df02a35920row1_col5\" class=\"data row1 col5\" >0</td>\n",
       "            </tr>\n",
       "            <tr>\n",
       "                                <td id=\"T_6b461cad_1c04_11eb_9eec_13df02a35920row2_col0\" class=\"data row2 col0\" >2</td>\n",
       "                        <td id=\"T_6b461cad_1c04_11eb_9eec_13df02a35920row2_col1\" class=\"data row2 col1\" >2</td>\n",
       "                        <td id=\"T_6b461cad_1c04_11eb_9eec_13df02a35920row2_col2\" class=\"data row2 col2\" >0.000000</td>\n",
       "                        <td id=\"T_6b461cad_1c04_11eb_9eec_13df02a35920row2_col3\" class=\"data row2 col3\" >0.000000</td>\n",
       "                        <td id=\"T_6b461cad_1c04_11eb_9eec_13df02a35920row2_col4\" class=\"data row2 col4\" >0</td>\n",
       "                        <td id=\"T_6b461cad_1c04_11eb_9eec_13df02a35920row2_col5\" class=\"data row2 col5\" >1</td>\n",
       "            </tr>\n",
       "            <tr>\n",
       "                                <td id=\"T_6b461cad_1c04_11eb_9eec_13df02a35920row3_col0\" class=\"data row3 col0\" >3</td>\n",
       "                        <td id=\"T_6b461cad_1c04_11eb_9eec_13df02a35920row3_col1\" class=\"data row3 col1\" >3</td>\n",
       "                        <td id=\"T_6b461cad_1c04_11eb_9eec_13df02a35920row3_col2\" class=\"data row3 col2\" >0.000000</td>\n",
       "                        <td id=\"T_6b461cad_1c04_11eb_9eec_13df02a35920row3_col3\" class=\"data row3 col3\" >0.000000</td>\n",
       "                        <td id=\"T_6b461cad_1c04_11eb_9eec_13df02a35920row3_col4\" class=\"data row3 col4\" >0</td>\n",
       "                        <td id=\"T_6b461cad_1c04_11eb_9eec_13df02a35920row3_col5\" class=\"data row3 col5\" >1</td>\n",
       "            </tr>\n",
       "            <tr>\n",
       "                                <td id=\"T_6b461cad_1c04_11eb_9eec_13df02a35920row4_col0\" class=\"data row4 col0\" >4</td>\n",
       "                        <td id=\"T_6b461cad_1c04_11eb_9eec_13df02a35920row4_col1\" class=\"data row4 col1\" >4</td>\n",
       "                        <td id=\"T_6b461cad_1c04_11eb_9eec_13df02a35920row4_col2\" class=\"data row4 col2\" >0.000000</td>\n",
       "                        <td id=\"T_6b461cad_1c04_11eb_9eec_13df02a35920row4_col3\" class=\"data row4 col3\" >0.000000</td>\n",
       "                        <td id=\"T_6b461cad_1c04_11eb_9eec_13df02a35920row4_col4\" class=\"data row4 col4\" >0</td>\n",
       "                        <td id=\"T_6b461cad_1c04_11eb_9eec_13df02a35920row4_col5\" class=\"data row4 col5\" >0</td>\n",
       "            </tr>\n",
       "    </tbody></table>"
      ],
      "text/plain": [
       "<pandas.io.formats.style.Styler at 0x7ff9e5557350>"
      ]
     },
     "execution_count": 20,
     "metadata": {},
     "output_type": "execute_result"
    }
   ],
   "source": [
    "okn.info(net, target='microstate')"
   ]
  },
  {
   "cell_type": "code",
   "execution_count": 21,
   "metadata": {},
   "outputs": [],
   "source": [
    "okn.update_probabilities(net)"
   ]
  },
  {
   "cell_type": "code",
   "execution_count": 22,
   "metadata": {},
   "outputs": [
    {
     "data": {
      "text/html": [
       "<style  type=\"text/css\" >\n",
       "</style><table id=\"T_6b461cae_1c04_11eb_9eec_13df02a35920\" ><thead>    <tr>        <th class=\"col_heading level0 col0\" >index</th>        <th class=\"col_heading level0 col1\" >name</th>        <th class=\"col_heading level0 col2\" >weight</th>        <th class=\"col_heading level0 col3\" >probability</th>        <th class=\"col_heading level0 col4\" >out_degree</th>        <th class=\"col_heading level0 col5\" >in_degree</th>    </tr></thead><tbody>\n",
       "                <tr>\n",
       "                                <td id=\"T_6b461cae_1c04_11eb_9eec_13df02a35920row0_col0\" class=\"data row0 col0\" >0</td>\n",
       "                        <td id=\"T_6b461cae_1c04_11eb_9eec_13df02a35920row0_col1\" class=\"data row0 col1\" >0</td>\n",
       "                        <td id=\"T_6b461cae_1c04_11eb_9eec_13df02a35920row0_col2\" class=\"data row0 col2\" >4.000000</td>\n",
       "                        <td id=\"T_6b461cae_1c04_11eb_9eec_13df02a35920row0_col3\" class=\"data row0 col3\" >0.800000</td>\n",
       "                        <td id=\"T_6b461cae_1c04_11eb_9eec_13df02a35920row0_col4\" class=\"data row0 col4\" >1</td>\n",
       "                        <td id=\"T_6b461cae_1c04_11eb_9eec_13df02a35920row0_col5\" class=\"data row0 col5\" >0</td>\n",
       "            </tr>\n",
       "            <tr>\n",
       "                                <td id=\"T_6b461cae_1c04_11eb_9eec_13df02a35920row1_col0\" class=\"data row1 col0\" >1</td>\n",
       "                        <td id=\"T_6b461cae_1c04_11eb_9eec_13df02a35920row1_col1\" class=\"data row1 col1\" >A</td>\n",
       "                        <td id=\"T_6b461cae_1c04_11eb_9eec_13df02a35920row1_col2\" class=\"data row1 col2\" >1.000000</td>\n",
       "                        <td id=\"T_6b461cae_1c04_11eb_9eec_13df02a35920row1_col3\" class=\"data row1 col3\" >0.200000</td>\n",
       "                        <td id=\"T_6b461cae_1c04_11eb_9eec_13df02a35920row1_col4\" class=\"data row1 col4\" >1</td>\n",
       "                        <td id=\"T_6b461cae_1c04_11eb_9eec_13df02a35920row1_col5\" class=\"data row1 col5\" >0</td>\n",
       "            </tr>\n",
       "            <tr>\n",
       "                                <td id=\"T_6b461cae_1c04_11eb_9eec_13df02a35920row2_col0\" class=\"data row2 col0\" >2</td>\n",
       "                        <td id=\"T_6b461cae_1c04_11eb_9eec_13df02a35920row2_col1\" class=\"data row2 col1\" >2</td>\n",
       "                        <td id=\"T_6b461cae_1c04_11eb_9eec_13df02a35920row2_col2\" class=\"data row2 col2\" >0.000000</td>\n",
       "                        <td id=\"T_6b461cae_1c04_11eb_9eec_13df02a35920row2_col3\" class=\"data row2 col3\" >0.000000</td>\n",
       "                        <td id=\"T_6b461cae_1c04_11eb_9eec_13df02a35920row2_col4\" class=\"data row2 col4\" >0</td>\n",
       "                        <td id=\"T_6b461cae_1c04_11eb_9eec_13df02a35920row2_col5\" class=\"data row2 col5\" >1</td>\n",
       "            </tr>\n",
       "            <tr>\n",
       "                                <td id=\"T_6b461cae_1c04_11eb_9eec_13df02a35920row3_col0\" class=\"data row3 col0\" >3</td>\n",
       "                        <td id=\"T_6b461cae_1c04_11eb_9eec_13df02a35920row3_col1\" class=\"data row3 col1\" >3</td>\n",
       "                        <td id=\"T_6b461cae_1c04_11eb_9eec_13df02a35920row3_col2\" class=\"data row3 col2\" >0.000000</td>\n",
       "                        <td id=\"T_6b461cae_1c04_11eb_9eec_13df02a35920row3_col3\" class=\"data row3 col3\" >0.000000</td>\n",
       "                        <td id=\"T_6b461cae_1c04_11eb_9eec_13df02a35920row3_col4\" class=\"data row3 col4\" >0</td>\n",
       "                        <td id=\"T_6b461cae_1c04_11eb_9eec_13df02a35920row3_col5\" class=\"data row3 col5\" >1</td>\n",
       "            </tr>\n",
       "            <tr>\n",
       "                                <td id=\"T_6b461cae_1c04_11eb_9eec_13df02a35920row4_col0\" class=\"data row4 col0\" >4</td>\n",
       "                        <td id=\"T_6b461cae_1c04_11eb_9eec_13df02a35920row4_col1\" class=\"data row4 col1\" >4</td>\n",
       "                        <td id=\"T_6b461cae_1c04_11eb_9eec_13df02a35920row4_col2\" class=\"data row4 col2\" >0.000000</td>\n",
       "                        <td id=\"T_6b461cae_1c04_11eb_9eec_13df02a35920row4_col3\" class=\"data row4 col3\" >0.000000</td>\n",
       "                        <td id=\"T_6b461cae_1c04_11eb_9eec_13df02a35920row4_col4\" class=\"data row4 col4\" >0</td>\n",
       "                        <td id=\"T_6b461cae_1c04_11eb_9eec_13df02a35920row4_col5\" class=\"data row4 col5\" >0</td>\n",
       "            </tr>\n",
       "    </tbody></table>"
      ],
      "text/plain": [
       "<pandas.io.formats.style.Styler at 0x7ff9e5557b50>"
      ]
     },
     "execution_count": 22,
     "metadata": {},
     "output_type": "execute_result"
    }
   ],
   "source": [
    "okn.info(net, target='microstate')"
   ]
  },
  {
   "cell_type": "code",
   "execution_count": 23,
   "metadata": {},
   "outputs": [
    {
     "data": {
      "text/html": [
       "<style  type=\"text/css\" >\n",
       "</style><table id=\"T_6b461caf_1c04_11eb_9eec_13df02a35920\" ><thead>    <tr>        <th class=\"col_heading level0 col0\" >index</th>        <th class=\"col_heading level0 col1\" >origin_index</th>        <th class=\"col_heading level0 col2\" >end_index</th>        <th class=\"col_heading level0 col3\" >weight</th>        <th class=\"col_heading level0 col4\" >probability</th>        <th class=\"col_heading level0 col5\" >symmetrized</th>    </tr></thead><tbody>\n",
       "                <tr>\n",
       "                                <td id=\"T_6b461caf_1c04_11eb_9eec_13df02a35920row0_col0\" class=\"data row0 col0\" >0</td>\n",
       "                        <td id=\"T_6b461caf_1c04_11eb_9eec_13df02a35920row0_col1\" class=\"data row0 col1\" >1</td>\n",
       "                        <td id=\"T_6b461caf_1c04_11eb_9eec_13df02a35920row0_col2\" class=\"data row0 col2\" >3</td>\n",
       "                        <td id=\"T_6b461caf_1c04_11eb_9eec_13df02a35920row0_col3\" class=\"data row0 col3\" >1.000000</td>\n",
       "                        <td id=\"T_6b461caf_1c04_11eb_9eec_13df02a35920row0_col4\" class=\"data row0 col4\" >1.000000</td>\n",
       "                        <td id=\"T_6b461caf_1c04_11eb_9eec_13df02a35920row0_col5\" class=\"data row0 col5\" >False</td>\n",
       "            </tr>\n",
       "            <tr>\n",
       "                                <td id=\"T_6b461caf_1c04_11eb_9eec_13df02a35920row1_col0\" class=\"data row1 col0\" >1</td>\n",
       "                        <td id=\"T_6b461caf_1c04_11eb_9eec_13df02a35920row1_col1\" class=\"data row1 col1\" >0</td>\n",
       "                        <td id=\"T_6b461caf_1c04_11eb_9eec_13df02a35920row1_col2\" class=\"data row1 col2\" >2</td>\n",
       "                        <td id=\"T_6b461caf_1c04_11eb_9eec_13df02a35920row1_col3\" class=\"data row1 col3\" >4.000000</td>\n",
       "                        <td id=\"T_6b461caf_1c04_11eb_9eec_13df02a35920row1_col4\" class=\"data row1 col4\" >1.000000</td>\n",
       "                        <td id=\"T_6b461caf_1c04_11eb_9eec_13df02a35920row1_col5\" class=\"data row1 col5\" >False</td>\n",
       "            </tr>\n",
       "    </tbody></table>"
      ],
      "text/plain": [
       "<pandas.io.formats.style.Styler at 0x7ffa1c70b250>"
      ]
     },
     "execution_count": 23,
     "metadata": {},
     "output_type": "execute_result"
    }
   ],
   "source": [
    "okn.info(net, target='transition')"
   ]
  },
  {
   "cell_type": "code",
   "execution_count": 24,
   "metadata": {},
   "outputs": [],
   "source": [
    "okn.symmetrize(net)"
   ]
  },
  {
   "cell_type": "code",
   "execution_count": 25,
   "metadata": {},
   "outputs": [
    {
     "data": {
      "text/html": [
       "<style  type=\"text/css\" >\n",
       "</style><table id=\"T_6d694f40_1c04_11eb_9eec_13df02a35920\" ><thead>    <tr>        <th class=\"col_heading level0 col0\" >index</th>        <th class=\"col_heading level0 col1\" >name</th>        <th class=\"col_heading level0 col2\" >weight</th>        <th class=\"col_heading level0 col3\" >probability</th>        <th class=\"col_heading level0 col4\" >degree</th>    </tr></thead><tbody>\n",
       "                <tr>\n",
       "                                <td id=\"T_6d694f40_1c04_11eb_9eec_13df02a35920row0_col0\" class=\"data row0 col0\" >0</td>\n",
       "                        <td id=\"T_6d694f40_1c04_11eb_9eec_13df02a35920row0_col1\" class=\"data row0 col1\" >0</td>\n",
       "                        <td id=\"T_6d694f40_1c04_11eb_9eec_13df02a35920row0_col2\" class=\"data row0 col2\" >2.000000</td>\n",
       "                        <td id=\"T_6d694f40_1c04_11eb_9eec_13df02a35920row0_col3\" class=\"data row0 col3\" >0.400000</td>\n",
       "                        <td id=\"T_6d694f40_1c04_11eb_9eec_13df02a35920row0_col4\" class=\"data row0 col4\" >1</td>\n",
       "            </tr>\n",
       "            <tr>\n",
       "                                <td id=\"T_6d694f40_1c04_11eb_9eec_13df02a35920row1_col0\" class=\"data row1 col0\" >1</td>\n",
       "                        <td id=\"T_6d694f40_1c04_11eb_9eec_13df02a35920row1_col1\" class=\"data row1 col1\" >A</td>\n",
       "                        <td id=\"T_6d694f40_1c04_11eb_9eec_13df02a35920row1_col2\" class=\"data row1 col2\" >0.500000</td>\n",
       "                        <td id=\"T_6d694f40_1c04_11eb_9eec_13df02a35920row1_col3\" class=\"data row1 col3\" >0.100000</td>\n",
       "                        <td id=\"T_6d694f40_1c04_11eb_9eec_13df02a35920row1_col4\" class=\"data row1 col4\" >1</td>\n",
       "            </tr>\n",
       "            <tr>\n",
       "                                <td id=\"T_6d694f40_1c04_11eb_9eec_13df02a35920row2_col0\" class=\"data row2 col0\" >2</td>\n",
       "                        <td id=\"T_6d694f40_1c04_11eb_9eec_13df02a35920row2_col1\" class=\"data row2 col1\" >2</td>\n",
       "                        <td id=\"T_6d694f40_1c04_11eb_9eec_13df02a35920row2_col2\" class=\"data row2 col2\" >0.500000</td>\n",
       "                        <td id=\"T_6d694f40_1c04_11eb_9eec_13df02a35920row2_col3\" class=\"data row2 col3\" >0.100000</td>\n",
       "                        <td id=\"T_6d694f40_1c04_11eb_9eec_13df02a35920row2_col4\" class=\"data row2 col4\" >1</td>\n",
       "            </tr>\n",
       "            <tr>\n",
       "                                <td id=\"T_6d694f40_1c04_11eb_9eec_13df02a35920row3_col0\" class=\"data row3 col0\" >3</td>\n",
       "                        <td id=\"T_6d694f40_1c04_11eb_9eec_13df02a35920row3_col1\" class=\"data row3 col1\" >3</td>\n",
       "                        <td id=\"T_6d694f40_1c04_11eb_9eec_13df02a35920row3_col2\" class=\"data row3 col2\" >2.000000</td>\n",
       "                        <td id=\"T_6d694f40_1c04_11eb_9eec_13df02a35920row3_col3\" class=\"data row3 col3\" >0.400000</td>\n",
       "                        <td id=\"T_6d694f40_1c04_11eb_9eec_13df02a35920row3_col4\" class=\"data row3 col4\" >1</td>\n",
       "            </tr>\n",
       "            <tr>\n",
       "                                <td id=\"T_6d694f40_1c04_11eb_9eec_13df02a35920row4_col0\" class=\"data row4 col0\" >4</td>\n",
       "                        <td id=\"T_6d694f40_1c04_11eb_9eec_13df02a35920row4_col1\" class=\"data row4 col1\" >4</td>\n",
       "                        <td id=\"T_6d694f40_1c04_11eb_9eec_13df02a35920row4_col2\" class=\"data row4 col2\" >0.000000</td>\n",
       "                        <td id=\"T_6d694f40_1c04_11eb_9eec_13df02a35920row4_col3\" class=\"data row4 col3\" >0.000000</td>\n",
       "                        <td id=\"T_6d694f40_1c04_11eb_9eec_13df02a35920row4_col4\" class=\"data row4 col4\" >0</td>\n",
       "            </tr>\n",
       "    </tbody></table>"
      ],
      "text/plain": [
       "<pandas.io.formats.style.Styler at 0x7ff9e5602c90>"
      ]
     },
     "execution_count": 25,
     "metadata": {},
     "output_type": "execute_result"
    }
   ],
   "source": [
    "okn.info(net, target='microstate')"
   ]
  },
  {
   "cell_type": "code",
   "execution_count": 26,
   "metadata": {},
   "outputs": [
    {
     "data": {
      "text/html": [
       "<style  type=\"text/css\" >\n",
       "</style><table id=\"T_6d694f41_1c04_11eb_9eec_13df02a35920\" ><thead>    <tr>        <th class=\"col_heading level0 col0\" >index</th>        <th class=\"col_heading level0 col1\" >origin_index</th>        <th class=\"col_heading level0 col2\" >end_index</th>        <th class=\"col_heading level0 col3\" >weight</th>        <th class=\"col_heading level0 col4\" >probability</th>        <th class=\"col_heading level0 col5\" >symmetrized</th>    </tr></thead><tbody>\n",
       "                <tr>\n",
       "                                <td id=\"T_6d694f41_1c04_11eb_9eec_13df02a35920row0_col0\" class=\"data row0 col0\" >0</td>\n",
       "                        <td id=\"T_6d694f41_1c04_11eb_9eec_13df02a35920row0_col1\" class=\"data row0 col1\" >1</td>\n",
       "                        <td id=\"T_6d694f41_1c04_11eb_9eec_13df02a35920row0_col2\" class=\"data row0 col2\" >3</td>\n",
       "                        <td id=\"T_6d694f41_1c04_11eb_9eec_13df02a35920row0_col3\" class=\"data row0 col3\" >0.500000</td>\n",
       "                        <td id=\"T_6d694f41_1c04_11eb_9eec_13df02a35920row0_col4\" class=\"data row0 col4\" >1.000000</td>\n",
       "                        <td id=\"T_6d694f41_1c04_11eb_9eec_13df02a35920row0_col5\" class=\"data row0 col5\" >True</td>\n",
       "            </tr>\n",
       "            <tr>\n",
       "                                <td id=\"T_6d694f41_1c04_11eb_9eec_13df02a35920row1_col0\" class=\"data row1 col0\" >1</td>\n",
       "                        <td id=\"T_6d694f41_1c04_11eb_9eec_13df02a35920row1_col1\" class=\"data row1 col1\" >0</td>\n",
       "                        <td id=\"T_6d694f41_1c04_11eb_9eec_13df02a35920row1_col2\" class=\"data row1 col2\" >2</td>\n",
       "                        <td id=\"T_6d694f41_1c04_11eb_9eec_13df02a35920row1_col3\" class=\"data row1 col3\" >2.000000</td>\n",
       "                        <td id=\"T_6d694f41_1c04_11eb_9eec_13df02a35920row1_col4\" class=\"data row1 col4\" >1.000000</td>\n",
       "                        <td id=\"T_6d694f41_1c04_11eb_9eec_13df02a35920row1_col5\" class=\"data row1 col5\" >True</td>\n",
       "            </tr>\n",
       "            <tr>\n",
       "                                <td id=\"T_6d694f41_1c04_11eb_9eec_13df02a35920row2_col0\" class=\"data row2 col0\" >2</td>\n",
       "                        <td id=\"T_6d694f41_1c04_11eb_9eec_13df02a35920row2_col1\" class=\"data row2 col1\" >2</td>\n",
       "                        <td id=\"T_6d694f41_1c04_11eb_9eec_13df02a35920row2_col2\" class=\"data row2 col2\" >0</td>\n",
       "                        <td id=\"T_6d694f41_1c04_11eb_9eec_13df02a35920row2_col3\" class=\"data row2 col3\" >0.500000</td>\n",
       "                        <td id=\"T_6d694f41_1c04_11eb_9eec_13df02a35920row2_col4\" class=\"data row2 col4\" >1.000000</td>\n",
       "                        <td id=\"T_6d694f41_1c04_11eb_9eec_13df02a35920row2_col5\" class=\"data row2 col5\" >True</td>\n",
       "            </tr>\n",
       "            <tr>\n",
       "                                <td id=\"T_6d694f41_1c04_11eb_9eec_13df02a35920row3_col0\" class=\"data row3 col0\" >3</td>\n",
       "                        <td id=\"T_6d694f41_1c04_11eb_9eec_13df02a35920row3_col1\" class=\"data row3 col1\" >3</td>\n",
       "                        <td id=\"T_6d694f41_1c04_11eb_9eec_13df02a35920row3_col2\" class=\"data row3 col2\" >1</td>\n",
       "                        <td id=\"T_6d694f41_1c04_11eb_9eec_13df02a35920row3_col3\" class=\"data row3 col3\" >2.000000</td>\n",
       "                        <td id=\"T_6d694f41_1c04_11eb_9eec_13df02a35920row3_col4\" class=\"data row3 col4\" >1.000000</td>\n",
       "                        <td id=\"T_6d694f41_1c04_11eb_9eec_13df02a35920row3_col5\" class=\"data row3 col5\" >True</td>\n",
       "            </tr>\n",
       "    </tbody></table>"
      ],
      "text/plain": [
       "<pandas.io.formats.style.Styler at 0x7ff9e554e3d0>"
      ]
     },
     "execution_count": 26,
     "metadata": {},
     "output_type": "execute_result"
    }
   ],
   "source": [
    "okn.info(net, target='transition')"
   ]
  },
  {
   "cell_type": "code",
   "execution_count": 1,
   "metadata": {},
   "outputs": [],
   "source": [
    "import numpy as np"
   ]
  },
  {
   "cell_type": "code",
   "execution_count": 2,
   "metadata": {},
   "outputs": [
    {
     "data": {
      "text/plain": [
       "False"
      ]
     },
     "execution_count": 2,
     "metadata": {},
     "output_type": "execute_result"
    }
   ],
   "source": [
    "np.array([]).any()"
   ]
  },
  {
   "cell_type": "code",
   "execution_count": 3,
   "metadata": {},
   "outputs": [],
   "source": [
    "from pandas import DataFrame"
   ]
  },
  {
   "cell_type": "code",
   "execution_count": 4,
   "metadata": {},
   "outputs": [],
   "source": [
    "df = DataFrame(columns=['A','B'])"
   ]
  },
  {
   "cell_type": "code",
   "execution_count": 5,
   "metadata": {},
   "outputs": [
    {
     "data": {
      "text/html": [
       "<div>\n",
       "<style scoped>\n",
       "    .dataframe tbody tr th:only-of-type {\n",
       "        vertical-align: middle;\n",
       "    }\n",
       "\n",
       "    .dataframe tbody tr th {\n",
       "        vertical-align: top;\n",
       "    }\n",
       "\n",
       "    .dataframe thead th {\n",
       "        text-align: right;\n",
       "    }\n",
       "</style>\n",
       "<table border=\"1\" class=\"dataframe\">\n",
       "  <thead>\n",
       "    <tr style=\"text-align: right;\">\n",
       "      <th></th>\n",
       "      <th>A</th>\n",
       "      <th>B</th>\n",
       "    </tr>\n",
       "  </thead>\n",
       "  <tbody>\n",
       "  </tbody>\n",
       "</table>\n",
       "</div>"
      ],
      "text/plain": [
       "Empty DataFrame\n",
       "Columns: [A, B]\n",
       "Index: []"
      ]
     },
     "execution_count": 5,
     "metadata": {},
     "output_type": "execute_result"
    }
   ],
   "source": [
    "df"
   ]
  },
  {
   "cell_type": "code",
   "execution_count": 10,
   "metadata": {},
   "outputs": [],
   "source": [
    "df.at[2,'B']='chas'"
   ]
  },
  {
   "cell_type": "code",
   "execution_count": 24,
   "metadata": {},
   "outputs": [
    {
     "data": {
      "text/plain": [
       "False"
      ]
     },
     "execution_count": 24,
     "metadata": {},
     "output_type": "execute_result"
    }
   ],
   "source": [
    "((df.A.to_numpy()=='hola') * (df.A.to_numpy()=='chas')).any()"
   ]
  },
  {
   "cell_type": "code",
   "execution_count": 25,
   "metadata": {},
   "outputs": [
    {
     "data": {
      "text/plain": [
       "array([ True, False])"
      ]
     },
     "execution_count": 25,
     "metadata": {},
     "output_type": "execute_result"
    }
   ],
   "source": [
    "df.A.to_numpy()=='hola'"
   ]
  },
  {
   "cell_type": "code",
   "execution_count": 26,
   "metadata": {},
   "outputs": [
    {
     "data": {
      "text/plain": [
       "array([ True, False])"
      ]
     },
     "execution_count": 26,
     "metadata": {},
     "output_type": "execute_result"
    }
   ],
   "source": [
    "(df.A=='hola').to_numpy()"
   ]
  },
  {
   "cell_type": "code",
   "execution_count": 32,
   "metadata": {},
   "outputs": [
    {
     "ename": "KeyError",
     "evalue": "0",
     "output_type": "error",
     "traceback": [
      "\u001b[0;31m---------------------------------------------------------------------------\u001b[0m",
      "\u001b[0;31mKeyError\u001b[0m                                  Traceback (most recent call last)",
      "\u001b[0;32m~/Myopt/miniconda3/envs/UIBCDF_lab_dev/lib/python3.7/site-packages/pandas/core/indexes/base.py\u001b[0m in \u001b[0;36mget_loc\u001b[0;34m(self, key, method, tolerance)\u001b[0m\n\u001b[1;32m   2645\u001b[0m             \u001b[0;32mtry\u001b[0m\u001b[0;34m:\u001b[0m\u001b[0;34m\u001b[0m\u001b[0;34m\u001b[0m\u001b[0m\n\u001b[0;32m-> 2646\u001b[0;31m                 \u001b[0;32mreturn\u001b[0m \u001b[0mself\u001b[0m\u001b[0;34m.\u001b[0m\u001b[0m_engine\u001b[0m\u001b[0;34m.\u001b[0m\u001b[0mget_loc\u001b[0m\u001b[0;34m(\u001b[0m\u001b[0mkey\u001b[0m\u001b[0;34m)\u001b[0m\u001b[0;34m\u001b[0m\u001b[0;34m\u001b[0m\u001b[0m\n\u001b[0m\u001b[1;32m   2647\u001b[0m             \u001b[0;32mexcept\u001b[0m \u001b[0mKeyError\u001b[0m\u001b[0;34m:\u001b[0m\u001b[0;34m\u001b[0m\u001b[0;34m\u001b[0m\u001b[0m\n",
      "\u001b[0;32mpandas/_libs/index.pyx\u001b[0m in \u001b[0;36mpandas._libs.index.IndexEngine.get_loc\u001b[0;34m()\u001b[0m\n",
      "\u001b[0;32mpandas/_libs/index.pyx\u001b[0m in \u001b[0;36mpandas._libs.index.IndexEngine.get_loc\u001b[0;34m()\u001b[0m\n",
      "\u001b[0;32mpandas/_libs/hashtable_class_helper.pxi\u001b[0m in \u001b[0;36mpandas._libs.hashtable.Int64HashTable.get_item\u001b[0;34m()\u001b[0m\n",
      "\u001b[0;32mpandas/_libs/hashtable_class_helper.pxi\u001b[0m in \u001b[0;36mpandas._libs.hashtable.Int64HashTable.get_item\u001b[0;34m()\u001b[0m\n",
      "\u001b[0;31mKeyError\u001b[0m: 0",
      "\nDuring handling of the above exception, another exception occurred:\n",
      "\u001b[0;31mKeyError\u001b[0m                                  Traceback (most recent call last)",
      "\u001b[0;32m<ipython-input-32-4ddf062769c5>\u001b[0m in \u001b[0;36m<module>\u001b[0;34m\u001b[0m\n\u001b[0;32m----> 1\u001b[0;31m \u001b[0mdf\u001b[0m\u001b[0;34m.\u001b[0m\u001b[0mloc\u001b[0m\u001b[0;34m[\u001b[0m\u001b[0;36m0\u001b[0m\u001b[0;34m]\u001b[0m\u001b[0;34m.\u001b[0m\u001b[0mindex\u001b[0m\u001b[0;34m\u001b[0m\u001b[0;34m\u001b[0m\u001b[0m\n\u001b[0m",
      "\u001b[0;32m~/Myopt/miniconda3/envs/UIBCDF_lab_dev/lib/python3.7/site-packages/pandas/core/indexing.py\u001b[0m in \u001b[0;36m__getitem__\u001b[0;34m(self, key)\u001b[0m\n\u001b[1;32m   1766\u001b[0m \u001b[0;34m\u001b[0m\u001b[0m\n\u001b[1;32m   1767\u001b[0m             \u001b[0mmaybe_callable\u001b[0m \u001b[0;34m=\u001b[0m \u001b[0mcom\u001b[0m\u001b[0;34m.\u001b[0m\u001b[0mapply_if_callable\u001b[0m\u001b[0;34m(\u001b[0m\u001b[0mkey\u001b[0m\u001b[0;34m,\u001b[0m \u001b[0mself\u001b[0m\u001b[0;34m.\u001b[0m\u001b[0mobj\u001b[0m\u001b[0;34m)\u001b[0m\u001b[0;34m\u001b[0m\u001b[0;34m\u001b[0m\u001b[0m\n\u001b[0;32m-> 1768\u001b[0;31m             \u001b[0;32mreturn\u001b[0m \u001b[0mself\u001b[0m\u001b[0;34m.\u001b[0m\u001b[0m_getitem_axis\u001b[0m\u001b[0;34m(\u001b[0m\u001b[0mmaybe_callable\u001b[0m\u001b[0;34m,\u001b[0m \u001b[0maxis\u001b[0m\u001b[0;34m=\u001b[0m\u001b[0maxis\u001b[0m\u001b[0;34m)\u001b[0m\u001b[0;34m\u001b[0m\u001b[0;34m\u001b[0m\u001b[0m\n\u001b[0m\u001b[1;32m   1769\u001b[0m \u001b[0;34m\u001b[0m\u001b[0m\n\u001b[1;32m   1770\u001b[0m     \u001b[0;32mdef\u001b[0m \u001b[0m_is_scalar_access\u001b[0m\u001b[0;34m(\u001b[0m\u001b[0mself\u001b[0m\u001b[0;34m,\u001b[0m \u001b[0mkey\u001b[0m\u001b[0;34m:\u001b[0m \u001b[0mTuple\u001b[0m\u001b[0;34m)\u001b[0m\u001b[0;34m:\u001b[0m\u001b[0;34m\u001b[0m\u001b[0;34m\u001b[0m\u001b[0m\n",
      "\u001b[0;32m~/Myopt/miniconda3/envs/UIBCDF_lab_dev/lib/python3.7/site-packages/pandas/core/indexing.py\u001b[0m in \u001b[0;36m_getitem_axis\u001b[0;34m(self, key, axis)\u001b[0m\n\u001b[1;32m   1963\u001b[0m         \u001b[0;31m# fall thru to straight lookup\u001b[0m\u001b[0;34m\u001b[0m\u001b[0;34m\u001b[0m\u001b[0;34m\u001b[0m\u001b[0m\n\u001b[1;32m   1964\u001b[0m         \u001b[0mself\u001b[0m\u001b[0;34m.\u001b[0m\u001b[0m_validate_key\u001b[0m\u001b[0;34m(\u001b[0m\u001b[0mkey\u001b[0m\u001b[0;34m,\u001b[0m \u001b[0maxis\u001b[0m\u001b[0;34m)\u001b[0m\u001b[0;34m\u001b[0m\u001b[0;34m\u001b[0m\u001b[0m\n\u001b[0;32m-> 1965\u001b[0;31m         \u001b[0;32mreturn\u001b[0m \u001b[0mself\u001b[0m\u001b[0;34m.\u001b[0m\u001b[0m_get_label\u001b[0m\u001b[0;34m(\u001b[0m\u001b[0mkey\u001b[0m\u001b[0;34m,\u001b[0m \u001b[0maxis\u001b[0m\u001b[0;34m=\u001b[0m\u001b[0maxis\u001b[0m\u001b[0;34m)\u001b[0m\u001b[0;34m\u001b[0m\u001b[0;34m\u001b[0m\u001b[0m\n\u001b[0m\u001b[1;32m   1966\u001b[0m \u001b[0;34m\u001b[0m\u001b[0m\n\u001b[1;32m   1967\u001b[0m \u001b[0;34m\u001b[0m\u001b[0m\n",
      "\u001b[0;32m~/Myopt/miniconda3/envs/UIBCDF_lab_dev/lib/python3.7/site-packages/pandas/core/indexing.py\u001b[0m in \u001b[0;36m_get_label\u001b[0;34m(self, label, axis)\u001b[0m\n\u001b[1;32m    623\u001b[0m             \u001b[0;32mraise\u001b[0m \u001b[0mIndexingError\u001b[0m\u001b[0;34m(\u001b[0m\u001b[0;34m\"no slices here, handle elsewhere\"\u001b[0m\u001b[0;34m)\u001b[0m\u001b[0;34m\u001b[0m\u001b[0;34m\u001b[0m\u001b[0m\n\u001b[1;32m    624\u001b[0m \u001b[0;34m\u001b[0m\u001b[0m\n\u001b[0;32m--> 625\u001b[0;31m         \u001b[0;32mreturn\u001b[0m \u001b[0mself\u001b[0m\u001b[0;34m.\u001b[0m\u001b[0mobj\u001b[0m\u001b[0;34m.\u001b[0m\u001b[0m_xs\u001b[0m\u001b[0;34m(\u001b[0m\u001b[0mlabel\u001b[0m\u001b[0;34m,\u001b[0m \u001b[0maxis\u001b[0m\u001b[0;34m=\u001b[0m\u001b[0maxis\u001b[0m\u001b[0;34m)\u001b[0m\u001b[0;34m\u001b[0m\u001b[0;34m\u001b[0m\u001b[0m\n\u001b[0m\u001b[1;32m    626\u001b[0m \u001b[0;34m\u001b[0m\u001b[0m\n\u001b[1;32m    627\u001b[0m     \u001b[0;32mdef\u001b[0m \u001b[0m_get_loc\u001b[0m\u001b[0;34m(\u001b[0m\u001b[0mself\u001b[0m\u001b[0;34m,\u001b[0m \u001b[0mkey\u001b[0m\u001b[0;34m:\u001b[0m \u001b[0mint\u001b[0m\u001b[0;34m,\u001b[0m \u001b[0maxis\u001b[0m\u001b[0;34m:\u001b[0m \u001b[0mint\u001b[0m\u001b[0;34m)\u001b[0m\u001b[0;34m:\u001b[0m\u001b[0;34m\u001b[0m\u001b[0;34m\u001b[0m\u001b[0m\n",
      "\u001b[0;32m~/Myopt/miniconda3/envs/UIBCDF_lab_dev/lib/python3.7/site-packages/pandas/core/generic.py\u001b[0m in \u001b[0;36mxs\u001b[0;34m(self, key, axis, level, drop_level)\u001b[0m\n\u001b[1;32m   3535\u001b[0m             \u001b[0mloc\u001b[0m\u001b[0;34m,\u001b[0m \u001b[0mnew_index\u001b[0m \u001b[0;34m=\u001b[0m \u001b[0mself\u001b[0m\u001b[0;34m.\u001b[0m\u001b[0mindex\u001b[0m\u001b[0;34m.\u001b[0m\u001b[0mget_loc_level\u001b[0m\u001b[0;34m(\u001b[0m\u001b[0mkey\u001b[0m\u001b[0;34m,\u001b[0m \u001b[0mdrop_level\u001b[0m\u001b[0;34m=\u001b[0m\u001b[0mdrop_level\u001b[0m\u001b[0;34m)\u001b[0m\u001b[0;34m\u001b[0m\u001b[0;34m\u001b[0m\u001b[0m\n\u001b[1;32m   3536\u001b[0m         \u001b[0;32melse\u001b[0m\u001b[0;34m:\u001b[0m\u001b[0;34m\u001b[0m\u001b[0;34m\u001b[0m\u001b[0m\n\u001b[0;32m-> 3537\u001b[0;31m             \u001b[0mloc\u001b[0m \u001b[0;34m=\u001b[0m \u001b[0mself\u001b[0m\u001b[0;34m.\u001b[0m\u001b[0mindex\u001b[0m\u001b[0;34m.\u001b[0m\u001b[0mget_loc\u001b[0m\u001b[0;34m(\u001b[0m\u001b[0mkey\u001b[0m\u001b[0;34m)\u001b[0m\u001b[0;34m\u001b[0m\u001b[0;34m\u001b[0m\u001b[0m\n\u001b[0m\u001b[1;32m   3538\u001b[0m \u001b[0;34m\u001b[0m\u001b[0m\n\u001b[1;32m   3539\u001b[0m             \u001b[0;32mif\u001b[0m \u001b[0misinstance\u001b[0m\u001b[0;34m(\u001b[0m\u001b[0mloc\u001b[0m\u001b[0;34m,\u001b[0m \u001b[0mnp\u001b[0m\u001b[0;34m.\u001b[0m\u001b[0mndarray\u001b[0m\u001b[0;34m)\u001b[0m\u001b[0;34m:\u001b[0m\u001b[0;34m\u001b[0m\u001b[0;34m\u001b[0m\u001b[0m\n",
      "\u001b[0;32m~/Myopt/miniconda3/envs/UIBCDF_lab_dev/lib/python3.7/site-packages/pandas/core/indexes/base.py\u001b[0m in \u001b[0;36mget_loc\u001b[0;34m(self, key, method, tolerance)\u001b[0m\n\u001b[1;32m   2646\u001b[0m                 \u001b[0;32mreturn\u001b[0m \u001b[0mself\u001b[0m\u001b[0;34m.\u001b[0m\u001b[0m_engine\u001b[0m\u001b[0;34m.\u001b[0m\u001b[0mget_loc\u001b[0m\u001b[0;34m(\u001b[0m\u001b[0mkey\u001b[0m\u001b[0;34m)\u001b[0m\u001b[0;34m\u001b[0m\u001b[0;34m\u001b[0m\u001b[0m\n\u001b[1;32m   2647\u001b[0m             \u001b[0;32mexcept\u001b[0m \u001b[0mKeyError\u001b[0m\u001b[0;34m:\u001b[0m\u001b[0;34m\u001b[0m\u001b[0;34m\u001b[0m\u001b[0m\n\u001b[0;32m-> 2648\u001b[0;31m                 \u001b[0;32mreturn\u001b[0m \u001b[0mself\u001b[0m\u001b[0;34m.\u001b[0m\u001b[0m_engine\u001b[0m\u001b[0;34m.\u001b[0m\u001b[0mget_loc\u001b[0m\u001b[0;34m(\u001b[0m\u001b[0mself\u001b[0m\u001b[0;34m.\u001b[0m\u001b[0m_maybe_cast_indexer\u001b[0m\u001b[0;34m(\u001b[0m\u001b[0mkey\u001b[0m\u001b[0;34m)\u001b[0m\u001b[0;34m)\u001b[0m\u001b[0;34m\u001b[0m\u001b[0;34m\u001b[0m\u001b[0m\n\u001b[0m\u001b[1;32m   2649\u001b[0m         \u001b[0mindexer\u001b[0m \u001b[0;34m=\u001b[0m \u001b[0mself\u001b[0m\u001b[0;34m.\u001b[0m\u001b[0mget_indexer\u001b[0m\u001b[0;34m(\u001b[0m\u001b[0;34m[\u001b[0m\u001b[0mkey\u001b[0m\u001b[0;34m]\u001b[0m\u001b[0;34m,\u001b[0m \u001b[0mmethod\u001b[0m\u001b[0;34m=\u001b[0m\u001b[0mmethod\u001b[0m\u001b[0;34m,\u001b[0m \u001b[0mtolerance\u001b[0m\u001b[0;34m=\u001b[0m\u001b[0mtolerance\u001b[0m\u001b[0;34m)\u001b[0m\u001b[0;34m\u001b[0m\u001b[0;34m\u001b[0m\u001b[0m\n\u001b[1;32m   2650\u001b[0m         \u001b[0;32mif\u001b[0m \u001b[0mindexer\u001b[0m\u001b[0;34m.\u001b[0m\u001b[0mndim\u001b[0m \u001b[0;34m>\u001b[0m \u001b[0;36m1\u001b[0m \u001b[0;32mor\u001b[0m \u001b[0mindexer\u001b[0m\u001b[0;34m.\u001b[0m\u001b[0msize\u001b[0m \u001b[0;34m>\u001b[0m \u001b[0;36m1\u001b[0m\u001b[0;34m:\u001b[0m\u001b[0;34m\u001b[0m\u001b[0;34m\u001b[0m\u001b[0m\n",
      "\u001b[0;32mpandas/_libs/index.pyx\u001b[0m in \u001b[0;36mpandas._libs.index.IndexEngine.get_loc\u001b[0;34m()\u001b[0m\n",
      "\u001b[0;32mpandas/_libs/index.pyx\u001b[0m in \u001b[0;36mpandas._libs.index.IndexEngine.get_loc\u001b[0;34m()\u001b[0m\n",
      "\u001b[0;32mpandas/_libs/hashtable_class_helper.pxi\u001b[0m in \u001b[0;36mpandas._libs.hashtable.Int64HashTable.get_item\u001b[0;34m()\u001b[0m\n",
      "\u001b[0;32mpandas/_libs/hashtable_class_helper.pxi\u001b[0m in \u001b[0;36mpandas._libs.hashtable.Int64HashTable.get_item\u001b[0;34m()\u001b[0m\n",
      "\u001b[0;31mKeyError\u001b[0m: 0"
     ]
    }
   ],
   "source": [
    "df.loc[0].index"
   ]
  },
  {
   "cell_type": "code",
   "execution_count": 35,
   "metadata": {},
   "outputs": [],
   "source": [
    "aa=df.A.to_numpy()"
   ]
  },
  {
   "cell_type": "code",
   "execution_count": 36,
   "metadata": {},
   "outputs": [
    {
     "data": {
      "text/plain": [
       "array(['hola', 'holo'], dtype=object)"
      ]
     },
     "execution_count": 36,
     "metadata": {},
     "output_type": "execute_result"
    }
   ],
   "source": [
    "aa"
   ]
  },
  {
   "cell_type": "code",
   "execution_count": 37,
   "metadata": {},
   "outputs": [
    {
     "ename": "ValueError",
     "evalue": "either both or neither of x and y should be given",
     "output_type": "error",
     "traceback": [
      "\u001b[0;31m---------------------------------------------------------------------------\u001b[0m",
      "\u001b[0;31mValueError\u001b[0m                                Traceback (most recent call last)",
      "\u001b[0;32m<ipython-input-37-4949ec44bbe6>\u001b[0m in \u001b[0;36m<module>\u001b[0;34m\u001b[0m\n\u001b[0;32m----> 1\u001b[0;31m \u001b[0mnp\u001b[0m\u001b[0;34m.\u001b[0m\u001b[0mwhere\u001b[0m\u001b[0;34m(\u001b[0m\u001b[0maa\u001b[0m\u001b[0;34m,\u001b[0m\u001b[0;34m'hola'\u001b[0m\u001b[0;34m)\u001b[0m\u001b[0;34m\u001b[0m\u001b[0;34m\u001b[0m\u001b[0m\n\u001b[0m",
      "\u001b[0;32m<__array_function__ internals>\u001b[0m in \u001b[0;36mwhere\u001b[0;34m(*args, **kwargs)\u001b[0m\n",
      "\u001b[0;31mValueError\u001b[0m: either both or neither of x and y should be given"
     ]
    }
   ],
   "source": [
    "np.where(aa,'hola')"
   ]
  },
  {
   "cell_type": "code",
   "execution_count": 50,
   "metadata": {},
   "outputs": [],
   "source": [
    "aa=np.array([3,6,8,2,1,0,9])"
   ]
  },
  {
   "cell_type": "code",
   "execution_count": 39,
   "metadata": {},
   "outputs": [],
   "source": [
    "bb=[8,3,0]"
   ]
  },
  {
   "cell_type": "code",
   "execution_count": 40,
   "metadata": {},
   "outputs": [],
   "source": [
    "np.argwhere(aa,ii)"
   ]
  },
  {
   "cell_type": "code",
   "execution_count": 59,
   "metadata": {},
   "outputs": [
    {
     "data": {
      "text/plain": [
       "(array([2]),)"
      ]
     },
     "execution_count": 59,
     "metadata": {},
     "output_type": "execute_result"
    }
   ],
   "source": [
    "np.where(aa==8)"
   ]
  },
  {
   "cell_type": "code",
   "execution_count": 64,
   "metadata": {},
   "outputs": [
    {
     "data": {
      "text/plain": [
       "2"
      ]
     },
     "execution_count": 64,
     "metadata": {},
     "output_type": "execute_result"
    }
   ],
   "source": [
    "np.asarray(aa==8).nonzero()[0][0]"
   ]
  },
  {
   "cell_type": "code",
   "execution_count": 54,
   "metadata": {},
   "outputs": [
    {
     "data": {
      "text/plain": [
       "array([2])"
      ]
     },
     "execution_count": 54,
     "metadata": {},
     "output_type": "execute_result"
    }
   ],
   "source": [
    "np.argwhere(aa==8)[0]"
   ]
  },
  {
   "cell_type": "code",
   "execution_count": 48,
   "metadata": {},
   "outputs": [
    {
     "name": "stderr",
     "output_type": "stream",
     "text": [
      "/home/diego/Myopt/miniconda3/envs/UIBCDF_lab_dev/lib/python3.7/site-packages/ipykernel_launcher.py:1: DeprecationWarning: Calling nonzero on 0d arrays is deprecated, as it behaves surprisingly. Use `atleast_1d(cond).nonzero()` if the old behavior was intended. If the context of this warning is of the form `arr[nonzero(cond)]`, just use `arr[cond]`.\n",
      "  \"\"\"Entry point for launching an IPython kernel.\n"
     ]
    },
    {
     "data": {
      "text/plain": [
       "(array([], dtype=int64),)"
      ]
     },
     "execution_count": 48,
     "metadata": {},
     "output_type": "execute_result"
    }
   ],
   "source": [
    "np.asarray((aa==8)).nonzero()"
   ]
  },
  {
   "cell_type": "code",
   "execution_count": 49,
   "metadata": {},
   "outputs": [
    {
     "data": {
      "text/plain": [
       "False"
      ]
     },
     "execution_count": 49,
     "metadata": {},
     "output_type": "execute_result"
    }
   ],
   "source": [
    "aa==8"
   ]
  },
  {
   "cell_type": "code",
   "execution_count": 67,
   "metadata": {},
   "outputs": [],
   "source": [
    "def buh(aa,bb):\n",
    "    output=np.argwhere(aa==bb)[0][0]\n",
    "    return output"
   ]
  },
  {
   "cell_type": "code",
   "execution_count": 68,
   "metadata": {},
   "outputs": [
    {
     "data": {
      "text/plain": [
       "2"
      ]
     },
     "execution_count": 68,
     "metadata": {},
     "output_type": "execute_result"
    }
   ],
   "source": [
    "buh(aa,8)"
   ]
  },
  {
   "cell_type": "code",
   "execution_count": 74,
   "metadata": {},
   "outputs": [],
   "source": [
    "vf=np.vectorize(buh, excluded=[0])"
   ]
  },
  {
   "cell_type": "code",
   "execution_count": 75,
   "metadata": {},
   "outputs": [
    {
     "data": {
      "text/plain": [
       "array([2, 0, 5])"
      ]
     },
     "execution_count": 75,
     "metadata": {},
     "output_type": "execute_result"
    }
   ],
   "source": [
    "vf(aa,bb)"
   ]
  },
  {
   "cell_type": "code",
   "execution_count": null,
   "metadata": {},
   "outputs": [],
   "source": []
  }
 ],
 "metadata": {
  "kernelspec": {
   "display_name": "Python 3",
   "language": "python",
   "name": "python3"
  },
  "language_info": {
   "codemirror_mode": {
    "name": "ipython",
    "version": 3
   },
   "file_extension": ".py",
   "mimetype": "text/x-python",
   "name": "python",
   "nbconvert_exporter": "python",
   "pygments_lexer": "ipython3",
   "version": "3.7.7"
  }
 },
 "nbformat": 4,
 "nbformat_minor": 4
}
