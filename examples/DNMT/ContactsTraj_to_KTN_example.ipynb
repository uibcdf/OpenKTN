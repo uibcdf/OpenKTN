{
 "cells": [
  {
   "cell_type": "code",
   "execution_count": 1,
   "metadata": {},
   "outputs": [],
   "source": [
    "import numpy as np\n",
    "import openktn as okn\n",
    "import simtk.unit as unit"
   ]
  },
  {
   "cell_type": "markdown",
   "metadata": {},
   "source": [
    "# How to build the KTN from the Yasara HB and Hyd interaction files."
   ]
  },
  {
   "cell_type": "code",
   "execution_count": 2,
   "metadata": {},
   "outputs": [],
   "source": [
    "def Hyd_file_parser(filename):\n",
    "    init=False\n",
    "    contacts_traj = []\n",
    "    contacts_dict = {}\n",
    "    n_contacts = 0\n",
    "    with open(filename, 'r') as fff:\n",
    "        for line in fff.readlines():\n",
    "            if line.startswith('==='):\n",
    "                if init:\n",
    "                    contacts_traj.append(contacts_frame)\n",
    "                contacts_frame = []\n",
    "                init=True\n",
    "            if line.startswith('  to'):\n",
    "                words = line.split()\n",
    "                resid = words[2]+'-'+words[4]+'/'+words[3]\n",
    "                n_interactions = int(words[6])\n",
    "                strength = float(words[-1])\n",
    "                contact_label = 'GBC-985/A||'+resid\n",
    "                try:\n",
    "                    contact_index = contacts_dict[contact_label]\n",
    "                except:\n",
    "                    contact_index = n_contacts\n",
    "                    contacts_dict[contact_label] = contact_index\n",
    "                    n_contacts += 1\n",
    "                contacts_frame.append([contact_index, n_interactions, strength])\n",
    "    return contacts_traj, contacts_dict"
   ]
  },
  {
   "cell_type": "code",
   "execution_count": 3,
   "metadata": {},
   "outputs": [],
   "source": [
    "def HB_file_parser(filename):\n",
    "    init=False\n",
    "    contacts_traj = []\n",
    "    contacts_dict = {}\n",
    "    n_contacts = 0\n",
    "    with open(filename, 'r') as fff:\n",
    "        for line in fff.readlines():\n",
    "            if line.startswith('==='):\n",
    "                if init:\n",
    "                    contacts_traj.append(contacts_frame)\n",
    "                contacts_frame = []\n",
    "                init=True\n",
    "            if line.startswith('Atom'):\n",
    "                words = line.split()\n",
    "                donor = words[1]+'/'+words[2]+'-'+words[3]+'/'+words[4]\n",
    "                acceptor = words[9]+'/'+words[10]+'-'+words[11]+'/'+words[12][0]\n",
    "                contact_label = donor+'||'+acceptor\n",
    "                try:\n",
    "                    contact_index = contacts_dict[contact_label]\n",
    "                except:\n",
    "                    contact_index = n_contacts\n",
    "                    contacts_dict[contact_label] = contact_index\n",
    "                    n_contacts += 1\n",
    "                distance = float(words[17])*unit.angstroms\n",
    "                energy = float(words[22])*unit.kilojoules_per_mole\n",
    "                contacts_frame.append([contact_index, distance, energy])\n",
    "    return contacts_traj, contacts_dict"
   ]
  },
  {
   "cell_type": "code",
   "execution_count": 4,
   "metadata": {},
   "outputs": [],
   "source": [
    "file_HB=\"contactos/HB_pose5.txt\" # This file was writen by you\n",
    "file_Hyd=\"contactos/Hyd_pose5.txt\" # This file was also writen by you\n",
    "\n",
    "traj_HB, dict_HB = HB_file_parser(file_HB)\n",
    "traj_Hyd, dict_Hyd = Hyd_file_parser(file_Hyd)\n",
    "\n",
    "mss_traj = [] # 'mss' stands for microstates\n",
    "\n",
    "# building here a new trajectory array with the new microstates' labels.\n",
    "for frame_HB, frame_Hyd in zip(traj_HB, traj_Hyd):\n",
    "    contact_indices_HB = np.sort([ii[0] for ii in frame_HB])\n",
    "    contact_indices_Hyd = np.sort([ii[0] for ii in frame_Hyd])\n",
    "    mss_HB = ','.join([str(ii) for ii in contact_indices_HB])\n",
    "    mss_Hyd = ','.join([str(ii) for ii in contact_indices_Hyd])\n",
    "    mss = mss_HB+'-'+mss_Hyd # Watch out here! this is the microstate label\n",
    "    mss_traj.append(mss)"
   ]
  },
  {
   "cell_type": "code",
   "execution_count": 5,
   "metadata": {},
   "outputs": [],
   "source": [
    "# Writting out the trajectory and the auxiliar dictionaries.\n",
    "\n",
    "fff = open('dict_HB_pose5.txt','w')\n",
    "for key, value in dict_HB.items():\n",
    "    fff.write(\"{}\\t{}\\n\".format(value,key))\n",
    "fff.close()\n",
    "\n",
    "fff = open('dict_Hyd_pose5.txt','w')\n",
    "for key, value in dict_HB.items():\n",
    "    fff.write(\"{}\\t{}\\n\".format(value,key))\n",
    "fff.close()\n",
    "\n",
    "fff = open('traj_pose2.txt','w')\n",
    "for mss in mss_traj:\n",
    "    fff.write(\"{}\\n\".format(mss))\n",
    "fff.close()"
   ]
  },
  {
   "cell_type": "code",
   "execution_count": 6,
   "metadata": {},
   "outputs": [],
   "source": [
    "net = okn.KTN()\n",
    "\n",
    "for current_state, next_state in zip(mss_traj[:-1],mss_traj[1:]):\n",
    "    okn.add_transition(net, origin=current_state, end=next_state, weight=1)"
   ]
  },
  {
   "cell_type": "code",
   "execution_count": 7,
   "metadata": {},
   "outputs": [],
   "source": [
    "okn.update_microstates_weights(net)"
   ]
  },
  {
   "cell_type": "code",
   "execution_count": 8,
   "metadata": {},
   "outputs": [],
   "source": [
    "okn.update_probabilities(net)"
   ]
  },
  {
   "cell_type": "code",
   "execution_count": 9,
   "metadata": {},
   "outputs": [
    {
     "data": {
      "text/html": [
       "<style  type=\"text/css\" >\n",
       "</style><table id=\"T_2f90ef4a_248b_11eb_b84e_1c1b0d075c26\" ><thead>    <tr>        <th class=\"col_heading level0 col0\" >form</th>        <th class=\"col_heading level0 col1\" >n_microstates</th>        <th class=\"col_heading level0 col2\" >n_transitions</th>        <th class=\"col_heading level0 col3\" >weight</th>        <th class=\"col_heading level0 col4\" >symmetrized</th>        <th class=\"col_heading level0 col5\" >temperature</th>        <th class=\"col_heading level0 col6\" >time_step</th>    </tr></thead><tbody>\n",
       "                <tr>\n",
       "                                <td id=\"T_2f90ef4a_248b_11eb_b84e_1c1b0d075c26row0_col0\" class=\"data row0 col0\" >pandas.KineticTransitionNetwork</td>\n",
       "                        <td id=\"T_2f90ef4a_248b_11eb_b84e_1c1b0d075c26row0_col1\" class=\"data row0 col1\" >770</td>\n",
       "                        <td id=\"T_2f90ef4a_248b_11eb_b84e_1c1b0d075c26row0_col2\" class=\"data row0 col2\" >981</td>\n",
       "                        <td id=\"T_2f90ef4a_248b_11eb_b84e_1c1b0d075c26row0_col3\" class=\"data row0 col3\" >998</td>\n",
       "                        <td id=\"T_2f90ef4a_248b_11eb_b84e_1c1b0d075c26row0_col4\" class=\"data row0 col4\" >False</td>\n",
       "                        <td id=\"T_2f90ef4a_248b_11eb_b84e_1c1b0d075c26row0_col5\" class=\"data row0 col5\" >0.0 K</td>\n",
       "                        <td id=\"T_2f90ef4a_248b_11eb_b84e_1c1b0d075c26row0_col6\" class=\"data row0 col6\" >0.0 ns</td>\n",
       "            </tr>\n",
       "    </tbody></table>"
      ],
      "text/plain": [
       "<pandas.io.formats.style.Styler at 0x7f18daef8950>"
      ]
     },
     "execution_count": 9,
     "metadata": {},
     "output_type": "execute_result"
    }
   ],
   "source": [
    "okn.info(net)"
   ]
  },
  {
   "cell_type": "code",
   "execution_count": null,
   "metadata": {},
   "outputs": [],
   "source": [
    "okn.info(net, target='microstate')"
   ]
  },
  {
   "cell_type": "code",
   "execution_count": null,
   "metadata": {},
   "outputs": [],
   "source": [
    "okn.info(net, target='transition')"
   ]
  },
  {
   "cell_type": "markdown",
   "metadata": {},
   "source": [
    "Note: Remember! The microstate name is made of two sequences of integer numbers separated by the character '-'. The first sequence accounts for the HB contacts present in the ligand-receptor conformation (see the file dict_HB_pose1.txt). The second sequence lists the hydrophobic contacts according to the list found in dict_Hyd_pose1.txt."
   ]
  },
  {
   "cell_type": "code",
   "execution_count": null,
   "metadata": {},
   "outputs": [],
   "source": []
  }
 ],
 "metadata": {
  "kernelspec": {
   "display_name": "Python 3",
   "language": "python",
   "name": "python3"
  },
  "language_info": {
   "codemirror_mode": {
    "name": "ipython",
    "version": 3
   },
   "file_extension": ".py",
   "mimetype": "text/x-python",
   "name": "python",
   "nbconvert_exporter": "python",
   "pygments_lexer": "ipython3",
   "version": "3.7.9"
  }
 },
 "nbformat": 4,
 "nbformat_minor": 4
}
