{
 "cells": [
  {
   "cell_type": "code",
   "execution_count": 1,
   "metadata": {},
   "outputs": [],
   "source": [
    "%load_ext autoreload\n",
    "%autoreload 2"
   ]
  },
  {
   "cell_type": "code",
   "execution_count": 2,
   "metadata": {},
   "outputs": [],
   "source": [
    "import openktn as okn\n",
    "import simtk.unit as unit"
   ]
  },
  {
   "cell_type": "code",
   "execution_count": 3,
   "metadata": {},
   "outputs": [],
   "source": [
    "files=['DNMT/traj_pose'+str(ii)+'.txt' for ii in range(1,2)]\n",
    "nets=[]"
   ]
  },
  {
   "cell_type": "code",
   "execution_count": 5,
   "metadata": {},
   "outputs": [
    {
     "name": "stdout",
     "output_type": "stream",
     "text": [
      ">>> DNMT/traj_pose1.txt\n"
     ]
    },
    {
     "data": {
      "text/html": [
       "<style  type=\"text/css\" >\n",
       "</style><table id=\"T_714cfbde_2050_11eb_94dd_657dd821dd26\" ><thead>    <tr>        <th class=\"col_heading level0 col0\" >form</th>        <th class=\"col_heading level0 col1\" >n_microstates</th>        <th class=\"col_heading level0 col2\" >n_transitions</th>        <th class=\"col_heading level0 col3\" >weight</th>        <th class=\"col_heading level0 col4\" >symmetrized</th>        <th class=\"col_heading level0 col5\" >temperature</th>        <th class=\"col_heading level0 col6\" >time_step</th>    </tr></thead><tbody>\n",
       "                <tr>\n",
       "                                <td id=\"T_714cfbde_2050_11eb_94dd_657dd821dd26row0_col0\" class=\"data row0 col0\" >pandas.KineticTransitionNetwork</td>\n",
       "                        <td id=\"T_714cfbde_2050_11eb_94dd_657dd821dd26row0_col1\" class=\"data row0 col1\" >602</td>\n",
       "                        <td id=\"T_714cfbde_2050_11eb_94dd_657dd821dd26row0_col2\" class=\"data row0 col2\" >1686</td>\n",
       "                        <td id=\"T_714cfbde_2050_11eb_94dd_657dd821dd26row0_col3\" class=\"data row0 col3\" >998.000000</td>\n",
       "                        <td id=\"T_714cfbde_2050_11eb_94dd_657dd821dd26row0_col4\" class=\"data row0 col4\" >True</td>\n",
       "                        <td id=\"T_714cfbde_2050_11eb_94dd_657dd821dd26row0_col5\" class=\"data row0 col5\" >300.0 K</td>\n",
       "                        <td id=\"T_714cfbde_2050_11eb_94dd_657dd821dd26row0_col6\" class=\"data row0 col6\" >10.0 ps</td>\n",
       "            </tr>\n",
       "    </tbody></table>"
      ],
      "text/plain": [
       "<pandas.io.formats.style.Styler at 0x7f9d6339f050>"
      ]
     },
     "metadata": {},
     "output_type": "display_data"
    }
   ],
   "source": [
    "for file in files:\n",
    "\n",
    "    aux_net = okn.KTN(form='pandas.KineticTransitionNetwork', time_step=10.0*unit.picoseconds,\n",
    "                      temperature=300.0*unit.kelvin)\n",
    "    \n",
    "    fff = open(file,'r')\n",
    "    mss_1 = fff.readline()[:-1]\n",
    "    for line in fff:\n",
    "        mss_2 = line[:-1]\n",
    "        okn.add_transition(aux_net, mss_1, mss_2)\n",
    "        mss_1 = mss_2\n",
    "    fff.close()\n",
    "    \n",
    "    okn.update_microstates_weights(aux_net)\n",
    "    okn.update_probabilities(aux_net)\n",
    "    okn.symmetrize(aux_net)\n",
    "    print('>>>',file)\n",
    "    display(okn.info(aux_net))\n",
    "    nets.append(aux_net)"
   ]
  },
  {
   "cell_type": "code",
   "execution_count": 18,
   "metadata": {},
   "outputs": [],
   "source": [
    "net=nets[0]"
   ]
  },
  {
   "cell_type": "code",
   "execution_count": 19,
   "metadata": {},
   "outputs": [],
   "source": [
    "components = okn.components(net)"
   ]
  },
  {
   "cell_type": "code",
   "execution_count": 21,
   "metadata": {},
   "outputs": [],
   "source": [
    "traj1=['A','A','B','C','C','A','D','A','C','B','C','C','A','A','D']\n",
    "traj2=['E','F','F','G','F','F','E','E','J','E','J','E','F','G','F']"
   ]
  },
  {
   "cell_type": "code",
   "execution_count": 22,
   "metadata": {},
   "outputs": [],
   "source": [
    "net=okn.series_to_ktn([traj1, traj2])"
   ]
  },
  {
   "cell_type": "code",
   "execution_count": 23,
   "metadata": {},
   "outputs": [
    {
     "data": {
      "text/html": [
       "<style  type=\"text/css\" >\n",
       "</style><table id=\"T_fede6a3c_2050_11eb_94dd_657dd821dd26\" ><thead>    <tr>        <th class=\"col_heading level0 col0\" >form</th>        <th class=\"col_heading level0 col1\" >n_microstates</th>        <th class=\"col_heading level0 col2\" >n_transitions</th>        <th class=\"col_heading level0 col3\" >weight</th>        <th class=\"col_heading level0 col4\" >symmetrized</th>        <th class=\"col_heading level0 col5\" >temperature</th>        <th class=\"col_heading level0 col6\" >time_step</th>    </tr></thead><tbody>\n",
       "                <tr>\n",
       "                                <td id=\"T_fede6a3c_2050_11eb_94dd_657dd821dd26row0_col0\" class=\"data row0 col0\" >pandas.KineticTransitionNetwork</td>\n",
       "                        <td id=\"T_fede6a3c_2050_11eb_94dd_657dd821dd26row0_col1\" class=\"data row0 col1\" >8</td>\n",
       "                        <td id=\"T_fede6a3c_2050_11eb_94dd_657dd821dd26row0_col2\" class=\"data row0 col2\" >17</td>\n",
       "                        <td id=\"T_fede6a3c_2050_11eb_94dd_657dd821dd26row0_col3\" class=\"data row0 col3\" >27.000000</td>\n",
       "                        <td id=\"T_fede6a3c_2050_11eb_94dd_657dd821dd26row0_col4\" class=\"data row0 col4\" >False</td>\n",
       "                        <td id=\"T_fede6a3c_2050_11eb_94dd_657dd821dd26row0_col5\" class=\"data row0 col5\" >None</td>\n",
       "                        <td id=\"T_fede6a3c_2050_11eb_94dd_657dd821dd26row0_col6\" class=\"data row0 col6\" >None</td>\n",
       "            </tr>\n",
       "    </tbody></table>"
      ],
      "text/plain": [
       "<pandas.io.formats.style.Styler at 0x7f9d5dd63b90>"
      ]
     },
     "execution_count": 23,
     "metadata": {},
     "output_type": "execute_result"
    }
   ],
   "source": [
    "okn.info(net)"
   ]
  },
  {
   "cell_type": "code",
   "execution_count": 24,
   "metadata": {},
   "outputs": [
    {
     "data": {
      "text/html": [
       "<style  type=\"text/css\" >\n",
       "</style><table id=\"T_000855e4_2051_11eb_94dd_657dd821dd26\" ><thead>    <tr>        <th class=\"col_heading level0 col0\" >index</th>        <th class=\"col_heading level0 col1\" >name</th>        <th class=\"col_heading level0 col2\" >weight</th>        <th class=\"col_heading level0 col3\" >probability</th>        <th class=\"col_heading level0 col4\" >out_degree</th>        <th class=\"col_heading level0 col5\" >in_degree</th>    </tr></thead><tbody>\n",
       "                <tr>\n",
       "                                <td id=\"T_000855e4_2051_11eb_94dd_657dd821dd26row0_col0\" class=\"data row0 col0\" >0</td>\n",
       "                        <td id=\"T_000855e4_2051_11eb_94dd_657dd821dd26row0_col1\" class=\"data row0 col1\" >A</td>\n",
       "                        <td id=\"T_000855e4_2051_11eb_94dd_657dd821dd26row0_col2\" class=\"data row0 col2\" >5.000000</td>\n",
       "                        <td id=\"T_000855e4_2051_11eb_94dd_657dd821dd26row0_col3\" class=\"data row0 col3\" >0.185185</td>\n",
       "                        <td id=\"T_000855e4_2051_11eb_94dd_657dd821dd26row0_col4\" class=\"data row0 col4\" >4</td>\n",
       "                        <td id=\"T_000855e4_2051_11eb_94dd_657dd821dd26row0_col5\" class=\"data row0 col5\" >3</td>\n",
       "            </tr>\n",
       "            <tr>\n",
       "                                <td id=\"T_000855e4_2051_11eb_94dd_657dd821dd26row1_col0\" class=\"data row1 col0\" >1</td>\n",
       "                        <td id=\"T_000855e4_2051_11eb_94dd_657dd821dd26row1_col1\" class=\"data row1 col1\" >B</td>\n",
       "                        <td id=\"T_000855e4_2051_11eb_94dd_657dd821dd26row1_col2\" class=\"data row1 col2\" >2.000000</td>\n",
       "                        <td id=\"T_000855e4_2051_11eb_94dd_657dd821dd26row1_col3\" class=\"data row1 col3\" >0.074074</td>\n",
       "                        <td id=\"T_000855e4_2051_11eb_94dd_657dd821dd26row1_col4\" class=\"data row1 col4\" >1</td>\n",
       "                        <td id=\"T_000855e4_2051_11eb_94dd_657dd821dd26row1_col5\" class=\"data row1 col5\" >2</td>\n",
       "            </tr>\n",
       "            <tr>\n",
       "                                <td id=\"T_000855e4_2051_11eb_94dd_657dd821dd26row2_col0\" class=\"data row2 col0\" >2</td>\n",
       "                        <td id=\"T_000855e4_2051_11eb_94dd_657dd821dd26row2_col1\" class=\"data row2 col1\" >C</td>\n",
       "                        <td id=\"T_000855e4_2051_11eb_94dd_657dd821dd26row2_col2\" class=\"data row2 col2\" >5.000000</td>\n",
       "                        <td id=\"T_000855e4_2051_11eb_94dd_657dd821dd26row2_col3\" class=\"data row2 col3\" >0.185185</td>\n",
       "                        <td id=\"T_000855e4_2051_11eb_94dd_657dd821dd26row2_col4\" class=\"data row2 col4\" >3</td>\n",
       "                        <td id=\"T_000855e4_2051_11eb_94dd_657dd821dd26row2_col5\" class=\"data row2 col5\" >3</td>\n",
       "            </tr>\n",
       "            <tr>\n",
       "                                <td id=\"T_000855e4_2051_11eb_94dd_657dd821dd26row3_col0\" class=\"data row3 col0\" >3</td>\n",
       "                        <td id=\"T_000855e4_2051_11eb_94dd_657dd821dd26row3_col1\" class=\"data row3 col1\" >D</td>\n",
       "                        <td id=\"T_000855e4_2051_11eb_94dd_657dd821dd26row3_col2\" class=\"data row3 col2\" >1.000000</td>\n",
       "                        <td id=\"T_000855e4_2051_11eb_94dd_657dd821dd26row3_col3\" class=\"data row3 col3\" >0.037037</td>\n",
       "                        <td id=\"T_000855e4_2051_11eb_94dd_657dd821dd26row3_col4\" class=\"data row3 col4\" >1</td>\n",
       "                        <td id=\"T_000855e4_2051_11eb_94dd_657dd821dd26row3_col5\" class=\"data row3 col5\" >1</td>\n",
       "            </tr>\n",
       "            <tr>\n",
       "                                <td id=\"T_000855e4_2051_11eb_94dd_657dd821dd26row4_col0\" class=\"data row4 col0\" >4</td>\n",
       "                        <td id=\"T_000855e4_2051_11eb_94dd_657dd821dd26row4_col1\" class=\"data row4 col1\" >E</td>\n",
       "                        <td id=\"T_000855e4_2051_11eb_94dd_657dd821dd26row4_col2\" class=\"data row4 col2\" >5.000000</td>\n",
       "                        <td id=\"T_000855e4_2051_11eb_94dd_657dd821dd26row4_col3\" class=\"data row4 col3\" >0.185185</td>\n",
       "                        <td id=\"T_000855e4_2051_11eb_94dd_657dd821dd26row4_col4\" class=\"data row4 col4\" >3</td>\n",
       "                        <td id=\"T_000855e4_2051_11eb_94dd_657dd821dd26row4_col5\" class=\"data row4 col5\" >3</td>\n",
       "            </tr>\n",
       "            <tr>\n",
       "                                <td id=\"T_000855e4_2051_11eb_94dd_657dd821dd26row5_col0\" class=\"data row5 col0\" >5</td>\n",
       "                        <td id=\"T_000855e4_2051_11eb_94dd_657dd821dd26row5_col1\" class=\"data row5 col1\" >F</td>\n",
       "                        <td id=\"T_000855e4_2051_11eb_94dd_657dd821dd26row5_col2\" class=\"data row5 col2\" >5.000000</td>\n",
       "                        <td id=\"T_000855e4_2051_11eb_94dd_657dd821dd26row5_col3\" class=\"data row5 col3\" >0.185185</td>\n",
       "                        <td id=\"T_000855e4_2051_11eb_94dd_657dd821dd26row5_col4\" class=\"data row5 col4\" >3</td>\n",
       "                        <td id=\"T_000855e4_2051_11eb_94dd_657dd821dd26row5_col5\" class=\"data row5 col5\" >3</td>\n",
       "            </tr>\n",
       "            <tr>\n",
       "                                <td id=\"T_000855e4_2051_11eb_94dd_657dd821dd26row6_col0\" class=\"data row6 col0\" >6</td>\n",
       "                        <td id=\"T_000855e4_2051_11eb_94dd_657dd821dd26row6_col1\" class=\"data row6 col1\" >G</td>\n",
       "                        <td id=\"T_000855e4_2051_11eb_94dd_657dd821dd26row6_col2\" class=\"data row6 col2\" >2.000000</td>\n",
       "                        <td id=\"T_000855e4_2051_11eb_94dd_657dd821dd26row6_col3\" class=\"data row6 col3\" >0.074074</td>\n",
       "                        <td id=\"T_000855e4_2051_11eb_94dd_657dd821dd26row6_col4\" class=\"data row6 col4\" >1</td>\n",
       "                        <td id=\"T_000855e4_2051_11eb_94dd_657dd821dd26row6_col5\" class=\"data row6 col5\" >1</td>\n",
       "            </tr>\n",
       "            <tr>\n",
       "                                <td id=\"T_000855e4_2051_11eb_94dd_657dd821dd26row7_col0\" class=\"data row7 col0\" >7</td>\n",
       "                        <td id=\"T_000855e4_2051_11eb_94dd_657dd821dd26row7_col1\" class=\"data row7 col1\" >J</td>\n",
       "                        <td id=\"T_000855e4_2051_11eb_94dd_657dd821dd26row7_col2\" class=\"data row7 col2\" >2.000000</td>\n",
       "                        <td id=\"T_000855e4_2051_11eb_94dd_657dd821dd26row7_col3\" class=\"data row7 col3\" >0.074074</td>\n",
       "                        <td id=\"T_000855e4_2051_11eb_94dd_657dd821dd26row7_col4\" class=\"data row7 col4\" >1</td>\n",
       "                        <td id=\"T_000855e4_2051_11eb_94dd_657dd821dd26row7_col5\" class=\"data row7 col5\" >1</td>\n",
       "            </tr>\n",
       "    </tbody></table>"
      ],
      "text/plain": [
       "<pandas.io.formats.style.Styler at 0x7f9d5e5ede50>"
      ]
     },
     "execution_count": 24,
     "metadata": {},
     "output_type": "execute_result"
    }
   ],
   "source": [
    "okn.info(net, target='microstates')"
   ]
  },
  {
   "cell_type": "code",
   "execution_count": 25,
   "metadata": {},
   "outputs": [
    {
     "data": {
      "text/html": [
       "<style  type=\"text/css\" >\n",
       "</style><table id=\"T_007eeb5a_2051_11eb_94dd_657dd821dd26\" ><thead>    <tr>        <th class=\"col_heading level0 col0\" >index</th>        <th class=\"col_heading level0 col1\" >origin</th>        <th class=\"col_heading level0 col2\" >end</th>        <th class=\"col_heading level0 col3\" >weight</th>        <th class=\"col_heading level0 col4\" >probability</th>        <th class=\"col_heading level0 col5\" >symmetrized</th>    </tr></thead><tbody>\n",
       "                <tr>\n",
       "                                <td id=\"T_007eeb5a_2051_11eb_94dd_657dd821dd26row0_col0\" class=\"data row0 col0\" >0</td>\n",
       "                        <td id=\"T_007eeb5a_2051_11eb_94dd_657dd821dd26row0_col1\" class=\"data row0 col1\" >A</td>\n",
       "                        <td id=\"T_007eeb5a_2051_11eb_94dd_657dd821dd26row0_col2\" class=\"data row0 col2\" >A</td>\n",
       "                        <td id=\"T_007eeb5a_2051_11eb_94dd_657dd821dd26row0_col3\" class=\"data row0 col3\" >2.000000</td>\n",
       "                        <td id=\"T_007eeb5a_2051_11eb_94dd_657dd821dd26row0_col4\" class=\"data row0 col4\" >0.400000</td>\n",
       "                        <td id=\"T_007eeb5a_2051_11eb_94dd_657dd821dd26row0_col5\" class=\"data row0 col5\" >False</td>\n",
       "            </tr>\n",
       "            <tr>\n",
       "                                <td id=\"T_007eeb5a_2051_11eb_94dd_657dd821dd26row1_col0\" class=\"data row1 col0\" >1</td>\n",
       "                        <td id=\"T_007eeb5a_2051_11eb_94dd_657dd821dd26row1_col1\" class=\"data row1 col1\" >A</td>\n",
       "                        <td id=\"T_007eeb5a_2051_11eb_94dd_657dd821dd26row1_col2\" class=\"data row1 col2\" >B</td>\n",
       "                        <td id=\"T_007eeb5a_2051_11eb_94dd_657dd821dd26row1_col3\" class=\"data row1 col3\" >1.000000</td>\n",
       "                        <td id=\"T_007eeb5a_2051_11eb_94dd_657dd821dd26row1_col4\" class=\"data row1 col4\" >0.200000</td>\n",
       "                        <td id=\"T_007eeb5a_2051_11eb_94dd_657dd821dd26row1_col5\" class=\"data row1 col5\" >False</td>\n",
       "            </tr>\n",
       "            <tr>\n",
       "                                <td id=\"T_007eeb5a_2051_11eb_94dd_657dd821dd26row2_col0\" class=\"data row2 col0\" >2</td>\n",
       "                        <td id=\"T_007eeb5a_2051_11eb_94dd_657dd821dd26row2_col1\" class=\"data row2 col1\" >B</td>\n",
       "                        <td id=\"T_007eeb5a_2051_11eb_94dd_657dd821dd26row2_col2\" class=\"data row2 col2\" >C</td>\n",
       "                        <td id=\"T_007eeb5a_2051_11eb_94dd_657dd821dd26row2_col3\" class=\"data row2 col3\" >2.000000</td>\n",
       "                        <td id=\"T_007eeb5a_2051_11eb_94dd_657dd821dd26row2_col4\" class=\"data row2 col4\" >1.000000</td>\n",
       "                        <td id=\"T_007eeb5a_2051_11eb_94dd_657dd821dd26row2_col5\" class=\"data row2 col5\" >False</td>\n",
       "            </tr>\n",
       "            <tr>\n",
       "                                <td id=\"T_007eeb5a_2051_11eb_94dd_657dd821dd26row3_col0\" class=\"data row3 col0\" >3</td>\n",
       "                        <td id=\"T_007eeb5a_2051_11eb_94dd_657dd821dd26row3_col1\" class=\"data row3 col1\" >C</td>\n",
       "                        <td id=\"T_007eeb5a_2051_11eb_94dd_657dd821dd26row3_col2\" class=\"data row3 col2\" >C</td>\n",
       "                        <td id=\"T_007eeb5a_2051_11eb_94dd_657dd821dd26row3_col3\" class=\"data row3 col3\" >2.000000</td>\n",
       "                        <td id=\"T_007eeb5a_2051_11eb_94dd_657dd821dd26row3_col4\" class=\"data row3 col4\" >0.400000</td>\n",
       "                        <td id=\"T_007eeb5a_2051_11eb_94dd_657dd821dd26row3_col5\" class=\"data row3 col5\" >False</td>\n",
       "            </tr>\n",
       "            <tr>\n",
       "                                <td id=\"T_007eeb5a_2051_11eb_94dd_657dd821dd26row4_col0\" class=\"data row4 col0\" >4</td>\n",
       "                        <td id=\"T_007eeb5a_2051_11eb_94dd_657dd821dd26row4_col1\" class=\"data row4 col1\" >C</td>\n",
       "                        <td id=\"T_007eeb5a_2051_11eb_94dd_657dd821dd26row4_col2\" class=\"data row4 col2\" >A</td>\n",
       "                        <td id=\"T_007eeb5a_2051_11eb_94dd_657dd821dd26row4_col3\" class=\"data row4 col3\" >2.000000</td>\n",
       "                        <td id=\"T_007eeb5a_2051_11eb_94dd_657dd821dd26row4_col4\" class=\"data row4 col4\" >0.400000</td>\n",
       "                        <td id=\"T_007eeb5a_2051_11eb_94dd_657dd821dd26row4_col5\" class=\"data row4 col5\" >False</td>\n",
       "            </tr>\n",
       "            <tr>\n",
       "                                <td id=\"T_007eeb5a_2051_11eb_94dd_657dd821dd26row5_col0\" class=\"data row5 col0\" >5</td>\n",
       "                        <td id=\"T_007eeb5a_2051_11eb_94dd_657dd821dd26row5_col1\" class=\"data row5 col1\" >A</td>\n",
       "                        <td id=\"T_007eeb5a_2051_11eb_94dd_657dd821dd26row5_col2\" class=\"data row5 col2\" >D</td>\n",
       "                        <td id=\"T_007eeb5a_2051_11eb_94dd_657dd821dd26row5_col3\" class=\"data row5 col3\" >1.000000</td>\n",
       "                        <td id=\"T_007eeb5a_2051_11eb_94dd_657dd821dd26row5_col4\" class=\"data row5 col4\" >0.200000</td>\n",
       "                        <td id=\"T_007eeb5a_2051_11eb_94dd_657dd821dd26row5_col5\" class=\"data row5 col5\" >False</td>\n",
       "            </tr>\n",
       "            <tr>\n",
       "                                <td id=\"T_007eeb5a_2051_11eb_94dd_657dd821dd26row6_col0\" class=\"data row6 col0\" >6</td>\n",
       "                        <td id=\"T_007eeb5a_2051_11eb_94dd_657dd821dd26row6_col1\" class=\"data row6 col1\" >D</td>\n",
       "                        <td id=\"T_007eeb5a_2051_11eb_94dd_657dd821dd26row6_col2\" class=\"data row6 col2\" >A</td>\n",
       "                        <td id=\"T_007eeb5a_2051_11eb_94dd_657dd821dd26row6_col3\" class=\"data row6 col3\" >1.000000</td>\n",
       "                        <td id=\"T_007eeb5a_2051_11eb_94dd_657dd821dd26row6_col4\" class=\"data row6 col4\" >1.000000</td>\n",
       "                        <td id=\"T_007eeb5a_2051_11eb_94dd_657dd821dd26row6_col5\" class=\"data row6 col5\" >False</td>\n",
       "            </tr>\n",
       "            <tr>\n",
       "                                <td id=\"T_007eeb5a_2051_11eb_94dd_657dd821dd26row7_col0\" class=\"data row7 col0\" >7</td>\n",
       "                        <td id=\"T_007eeb5a_2051_11eb_94dd_657dd821dd26row7_col1\" class=\"data row7 col1\" >A</td>\n",
       "                        <td id=\"T_007eeb5a_2051_11eb_94dd_657dd821dd26row7_col2\" class=\"data row7 col2\" >C</td>\n",
       "                        <td id=\"T_007eeb5a_2051_11eb_94dd_657dd821dd26row7_col3\" class=\"data row7 col3\" >1.000000</td>\n",
       "                        <td id=\"T_007eeb5a_2051_11eb_94dd_657dd821dd26row7_col4\" class=\"data row7 col4\" >0.200000</td>\n",
       "                        <td id=\"T_007eeb5a_2051_11eb_94dd_657dd821dd26row7_col5\" class=\"data row7 col5\" >False</td>\n",
       "            </tr>\n",
       "            <tr>\n",
       "                                <td id=\"T_007eeb5a_2051_11eb_94dd_657dd821dd26row8_col0\" class=\"data row8 col0\" >8</td>\n",
       "                        <td id=\"T_007eeb5a_2051_11eb_94dd_657dd821dd26row8_col1\" class=\"data row8 col1\" >C</td>\n",
       "                        <td id=\"T_007eeb5a_2051_11eb_94dd_657dd821dd26row8_col2\" class=\"data row8 col2\" >B</td>\n",
       "                        <td id=\"T_007eeb5a_2051_11eb_94dd_657dd821dd26row8_col3\" class=\"data row8 col3\" >1.000000</td>\n",
       "                        <td id=\"T_007eeb5a_2051_11eb_94dd_657dd821dd26row8_col4\" class=\"data row8 col4\" >0.200000</td>\n",
       "                        <td id=\"T_007eeb5a_2051_11eb_94dd_657dd821dd26row8_col5\" class=\"data row8 col5\" >False</td>\n",
       "            </tr>\n",
       "            <tr>\n",
       "                                <td id=\"T_007eeb5a_2051_11eb_94dd_657dd821dd26row9_col0\" class=\"data row9 col0\" >9</td>\n",
       "                        <td id=\"T_007eeb5a_2051_11eb_94dd_657dd821dd26row9_col1\" class=\"data row9 col1\" >E</td>\n",
       "                        <td id=\"T_007eeb5a_2051_11eb_94dd_657dd821dd26row9_col2\" class=\"data row9 col2\" >F</td>\n",
       "                        <td id=\"T_007eeb5a_2051_11eb_94dd_657dd821dd26row9_col3\" class=\"data row9 col3\" >2.000000</td>\n",
       "                        <td id=\"T_007eeb5a_2051_11eb_94dd_657dd821dd26row9_col4\" class=\"data row9 col4\" >0.400000</td>\n",
       "                        <td id=\"T_007eeb5a_2051_11eb_94dd_657dd821dd26row9_col5\" class=\"data row9 col5\" >False</td>\n",
       "            </tr>\n",
       "            <tr>\n",
       "                                <td id=\"T_007eeb5a_2051_11eb_94dd_657dd821dd26row10_col0\" class=\"data row10 col0\" >10</td>\n",
       "                        <td id=\"T_007eeb5a_2051_11eb_94dd_657dd821dd26row10_col1\" class=\"data row10 col1\" >F</td>\n",
       "                        <td id=\"T_007eeb5a_2051_11eb_94dd_657dd821dd26row10_col2\" class=\"data row10 col2\" >F</td>\n",
       "                        <td id=\"T_007eeb5a_2051_11eb_94dd_657dd821dd26row10_col3\" class=\"data row10 col3\" >2.000000</td>\n",
       "                        <td id=\"T_007eeb5a_2051_11eb_94dd_657dd821dd26row10_col4\" class=\"data row10 col4\" >0.400000</td>\n",
       "                        <td id=\"T_007eeb5a_2051_11eb_94dd_657dd821dd26row10_col5\" class=\"data row10 col5\" >False</td>\n",
       "            </tr>\n",
       "            <tr>\n",
       "                                <td id=\"T_007eeb5a_2051_11eb_94dd_657dd821dd26row11_col0\" class=\"data row11 col0\" >11</td>\n",
       "                        <td id=\"T_007eeb5a_2051_11eb_94dd_657dd821dd26row11_col1\" class=\"data row11 col1\" >F</td>\n",
       "                        <td id=\"T_007eeb5a_2051_11eb_94dd_657dd821dd26row11_col2\" class=\"data row11 col2\" >G</td>\n",
       "                        <td id=\"T_007eeb5a_2051_11eb_94dd_657dd821dd26row11_col3\" class=\"data row11 col3\" >2.000000</td>\n",
       "                        <td id=\"T_007eeb5a_2051_11eb_94dd_657dd821dd26row11_col4\" class=\"data row11 col4\" >0.400000</td>\n",
       "                        <td id=\"T_007eeb5a_2051_11eb_94dd_657dd821dd26row11_col5\" class=\"data row11 col5\" >False</td>\n",
       "            </tr>\n",
       "            <tr>\n",
       "                                <td id=\"T_007eeb5a_2051_11eb_94dd_657dd821dd26row12_col0\" class=\"data row12 col0\" >12</td>\n",
       "                        <td id=\"T_007eeb5a_2051_11eb_94dd_657dd821dd26row12_col1\" class=\"data row12 col1\" >G</td>\n",
       "                        <td id=\"T_007eeb5a_2051_11eb_94dd_657dd821dd26row12_col2\" class=\"data row12 col2\" >F</td>\n",
       "                        <td id=\"T_007eeb5a_2051_11eb_94dd_657dd821dd26row12_col3\" class=\"data row12 col3\" >2.000000</td>\n",
       "                        <td id=\"T_007eeb5a_2051_11eb_94dd_657dd821dd26row12_col4\" class=\"data row12 col4\" >1.000000</td>\n",
       "                        <td id=\"T_007eeb5a_2051_11eb_94dd_657dd821dd26row12_col5\" class=\"data row12 col5\" >False</td>\n",
       "            </tr>\n",
       "            <tr>\n",
       "                                <td id=\"T_007eeb5a_2051_11eb_94dd_657dd821dd26row13_col0\" class=\"data row13 col0\" >13</td>\n",
       "                        <td id=\"T_007eeb5a_2051_11eb_94dd_657dd821dd26row13_col1\" class=\"data row13 col1\" >F</td>\n",
       "                        <td id=\"T_007eeb5a_2051_11eb_94dd_657dd821dd26row13_col2\" class=\"data row13 col2\" >E</td>\n",
       "                        <td id=\"T_007eeb5a_2051_11eb_94dd_657dd821dd26row13_col3\" class=\"data row13 col3\" >1.000000</td>\n",
       "                        <td id=\"T_007eeb5a_2051_11eb_94dd_657dd821dd26row13_col4\" class=\"data row13 col4\" >0.200000</td>\n",
       "                        <td id=\"T_007eeb5a_2051_11eb_94dd_657dd821dd26row13_col5\" class=\"data row13 col5\" >False</td>\n",
       "            </tr>\n",
       "            <tr>\n",
       "                                <td id=\"T_007eeb5a_2051_11eb_94dd_657dd821dd26row14_col0\" class=\"data row14 col0\" >14</td>\n",
       "                        <td id=\"T_007eeb5a_2051_11eb_94dd_657dd821dd26row14_col1\" class=\"data row14 col1\" >E</td>\n",
       "                        <td id=\"T_007eeb5a_2051_11eb_94dd_657dd821dd26row14_col2\" class=\"data row14 col2\" >E</td>\n",
       "                        <td id=\"T_007eeb5a_2051_11eb_94dd_657dd821dd26row14_col3\" class=\"data row14 col3\" >1.000000</td>\n",
       "                        <td id=\"T_007eeb5a_2051_11eb_94dd_657dd821dd26row14_col4\" class=\"data row14 col4\" >0.200000</td>\n",
       "                        <td id=\"T_007eeb5a_2051_11eb_94dd_657dd821dd26row14_col5\" class=\"data row14 col5\" >False</td>\n",
       "            </tr>\n",
       "            <tr>\n",
       "                                <td id=\"T_007eeb5a_2051_11eb_94dd_657dd821dd26row15_col0\" class=\"data row15 col0\" >15</td>\n",
       "                        <td id=\"T_007eeb5a_2051_11eb_94dd_657dd821dd26row15_col1\" class=\"data row15 col1\" >E</td>\n",
       "                        <td id=\"T_007eeb5a_2051_11eb_94dd_657dd821dd26row15_col2\" class=\"data row15 col2\" >J</td>\n",
       "                        <td id=\"T_007eeb5a_2051_11eb_94dd_657dd821dd26row15_col3\" class=\"data row15 col3\" >2.000000</td>\n",
       "                        <td id=\"T_007eeb5a_2051_11eb_94dd_657dd821dd26row15_col4\" class=\"data row15 col4\" >0.400000</td>\n",
       "                        <td id=\"T_007eeb5a_2051_11eb_94dd_657dd821dd26row15_col5\" class=\"data row15 col5\" >False</td>\n",
       "            </tr>\n",
       "            <tr>\n",
       "                                <td id=\"T_007eeb5a_2051_11eb_94dd_657dd821dd26row16_col0\" class=\"data row16 col0\" >16</td>\n",
       "                        <td id=\"T_007eeb5a_2051_11eb_94dd_657dd821dd26row16_col1\" class=\"data row16 col1\" >J</td>\n",
       "                        <td id=\"T_007eeb5a_2051_11eb_94dd_657dd821dd26row16_col2\" class=\"data row16 col2\" >E</td>\n",
       "                        <td id=\"T_007eeb5a_2051_11eb_94dd_657dd821dd26row16_col3\" class=\"data row16 col3\" >2.000000</td>\n",
       "                        <td id=\"T_007eeb5a_2051_11eb_94dd_657dd821dd26row16_col4\" class=\"data row16 col4\" >1.000000</td>\n",
       "                        <td id=\"T_007eeb5a_2051_11eb_94dd_657dd821dd26row16_col5\" class=\"data row16 col5\" >False</td>\n",
       "            </tr>\n",
       "    </tbody></table>"
      ],
      "text/plain": [
       "<pandas.io.formats.style.Styler at 0x7f9d5dd5bc90>"
      ]
     },
     "execution_count": 25,
     "metadata": {},
     "output_type": "execute_result"
    }
   ],
   "source": [
    "okn.info(net, target='transitions')"
   ]
  },
  {
   "cell_type": "code",
   "execution_count": 33,
   "metadata": {},
   "outputs": [],
   "source": [
    "components = okn.components(net)"
   ]
  },
  {
   "cell_type": "code",
   "execution_count": 34,
   "metadata": {},
   "outputs": [
    {
     "data": {
      "text/plain": [
       "[{'A', 'B', 'C', 'D'}, {'E', 'F', 'G', 'J'}]"
      ]
     },
     "execution_count": 34,
     "metadata": {},
     "output_type": "execute_result"
    }
   ],
   "source": [
    "components"
   ]
  },
  {
   "cell_type": "code",
   "execution_count": 36,
   "metadata": {},
   "outputs": [
    {
     "data": {
      "text/html": [
       "<div>\n",
       "<style scoped>\n",
       "    .dataframe tbody tr th:only-of-type {\n",
       "        vertical-align: middle;\n",
       "    }\n",
       "\n",
       "    .dataframe tbody tr th {\n",
       "        vertical-align: top;\n",
       "    }\n",
       "\n",
       "    .dataframe thead th {\n",
       "        text-align: right;\n",
       "    }\n",
       "</style>\n",
       "<table border=\"1\" class=\"dataframe\">\n",
       "  <thead>\n",
       "    <tr style=\"text-align: right;\">\n",
       "      <th></th>\n",
       "      <th>name</th>\n",
       "      <th>weight</th>\n",
       "      <th>probability</th>\n",
       "      <th>component</th>\n",
       "      <th>basin</th>\n",
       "      <th>coordinates</th>\n",
       "      <th>color</th>\n",
       "      <th>size</th>\n",
       "    </tr>\n",
       "  </thead>\n",
       "  <tbody>\n",
       "    <tr>\n",
       "      <th>0</th>\n",
       "      <td>A</td>\n",
       "      <td>5.0</td>\n",
       "      <td>0.185185</td>\n",
       "      <td>A</td>\n",
       "      <td>NaN</td>\n",
       "      <td>NaN</td>\n",
       "      <td>NaN</td>\n",
       "      <td>NaN</td>\n",
       "    </tr>\n",
       "    <tr>\n",
       "      <th>1</th>\n",
       "      <td>B</td>\n",
       "      <td>2.0</td>\n",
       "      <td>0.074074</td>\n",
       "      <td>A</td>\n",
       "      <td>NaN</td>\n",
       "      <td>NaN</td>\n",
       "      <td>NaN</td>\n",
       "      <td>NaN</td>\n",
       "    </tr>\n",
       "    <tr>\n",
       "      <th>2</th>\n",
       "      <td>C</td>\n",
       "      <td>5.0</td>\n",
       "      <td>0.185185</td>\n",
       "      <td>A</td>\n",
       "      <td>NaN</td>\n",
       "      <td>NaN</td>\n",
       "      <td>NaN</td>\n",
       "      <td>NaN</td>\n",
       "    </tr>\n",
       "    <tr>\n",
       "      <th>3</th>\n",
       "      <td>D</td>\n",
       "      <td>1.0</td>\n",
       "      <td>0.037037</td>\n",
       "      <td>A</td>\n",
       "      <td>NaN</td>\n",
       "      <td>NaN</td>\n",
       "      <td>NaN</td>\n",
       "      <td>NaN</td>\n",
       "    </tr>\n",
       "    <tr>\n",
       "      <th>4</th>\n",
       "      <td>E</td>\n",
       "      <td>5.0</td>\n",
       "      <td>0.185185</td>\n",
       "      <td>E</td>\n",
       "      <td>NaN</td>\n",
       "      <td>NaN</td>\n",
       "      <td>NaN</td>\n",
       "      <td>NaN</td>\n",
       "    </tr>\n",
       "    <tr>\n",
       "      <th>5</th>\n",
       "      <td>F</td>\n",
       "      <td>5.0</td>\n",
       "      <td>0.185185</td>\n",
       "      <td>E</td>\n",
       "      <td>NaN</td>\n",
       "      <td>NaN</td>\n",
       "      <td>NaN</td>\n",
       "      <td>NaN</td>\n",
       "    </tr>\n",
       "    <tr>\n",
       "      <th>6</th>\n",
       "      <td>G</td>\n",
       "      <td>2.0</td>\n",
       "      <td>0.074074</td>\n",
       "      <td>E</td>\n",
       "      <td>NaN</td>\n",
       "      <td>NaN</td>\n",
       "      <td>NaN</td>\n",
       "      <td>NaN</td>\n",
       "    </tr>\n",
       "    <tr>\n",
       "      <th>7</th>\n",
       "      <td>J</td>\n",
       "      <td>2.0</td>\n",
       "      <td>0.074074</td>\n",
       "      <td>E</td>\n",
       "      <td>NaN</td>\n",
       "      <td>NaN</td>\n",
       "      <td>NaN</td>\n",
       "      <td>NaN</td>\n",
       "    </tr>\n",
       "  </tbody>\n",
       "</table>\n",
       "</div>"
      ],
      "text/plain": [
       "  name  weight  probability component basin coordinates color size\n",
       "0    A     5.0     0.185185         A   NaN         NaN   NaN  NaN\n",
       "1    B     2.0     0.074074         A   NaN         NaN   NaN  NaN\n",
       "2    C     5.0     0.185185         A   NaN         NaN   NaN  NaN\n",
       "3    D     1.0     0.037037         A   NaN         NaN   NaN  NaN\n",
       "4    E     5.0     0.185185         E   NaN         NaN   NaN  NaN\n",
       "5    F     5.0     0.185185         E   NaN         NaN   NaN  NaN\n",
       "6    G     2.0     0.074074         E   NaN         NaN   NaN  NaN\n",
       "7    J     2.0     0.074074         E   NaN         NaN   NaN  NaN"
      ]
     },
     "execution_count": 36,
     "metadata": {},
     "output_type": "execute_result"
    }
   ],
   "source": [
    "net.microstates"
   ]
  },
  {
   "cell_type": "code",
   "execution_count": 37,
   "metadata": {},
   "outputs": [
    {
     "data": {
      "text/plain": [
       "2"
      ]
     },
     "execution_count": 37,
     "metadata": {},
     "output_type": "execute_result"
    }
   ],
   "source": [
    "okn.get(net, target='network', n_components=True)"
   ]
  }
 ],
 "metadata": {
  "kernelspec": {
   "display_name": "Python 3",
   "language": "python",
   "name": "python3"
  },
  "language_info": {
   "codemirror_mode": {
    "name": "ipython",
    "version": 3
   },
   "file_extension": ".py",
   "mimetype": "text/x-python",
   "name": "python",
   "nbconvert_exporter": "python",
   "pygments_lexer": "ipython3",
   "version": "3.7.7"
  }
 },
 "nbformat": 4,
 "nbformat_minor": 4
}
