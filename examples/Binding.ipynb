{
 "cells": [
  {
   "cell_type": "code",
   "execution_count": 1,
   "metadata": {},
   "outputs": [],
   "source": [
    "%load_ext autoreload\n",
    "%autoreload 2"
   ]
  },
  {
   "cell_type": "code",
   "execution_count": 2,
   "metadata": {},
   "outputs": [],
   "source": [
    "import openktn as okn\n",
    "import simtk.unit as unit"
   ]
  },
  {
   "cell_type": "code",
   "execution_count": 3,
   "metadata": {},
   "outputs": [],
   "source": [
    "net = okn.kinetic_transition_network(form='pandas.KineticTransitionNetwork',\n",
    "                                     time_step=10.0*unit.picoseconds, temperature=300.0*unit.kelvin)"
   ]
  },
  {
   "cell_type": "code",
   "execution_count": 4,
   "metadata": {},
   "outputs": [],
   "source": [
    "fff = open('DNMT/traj_pose1.txt','r')\n",
    "mss_1 = fff.readline()[:-1]\n",
    "for line in fff:\n",
    "    mss_2 = line[:-1]\n",
    "    okn.add_transition(net, mss_1, mss_2)\n",
    "    mss_1 = mss_2\n",
    "fff.close()"
   ]
  },
  {
   "cell_type": "code",
   "execution_count": 6,
   "metadata": {},
   "outputs": [
    {
     "data": {
      "text/html": [
       "<div>\n",
       "<style scoped>\n",
       "    .dataframe tbody tr th:only-of-type {\n",
       "        vertical-align: middle;\n",
       "    }\n",
       "\n",
       "    .dataframe tbody tr th {\n",
       "        vertical-align: top;\n",
       "    }\n",
       "\n",
       "    .dataframe thead th {\n",
       "        text-align: right;\n",
       "    }\n",
       "</style>\n",
       "<table border=\"1\" class=\"dataframe\">\n",
       "  <thead>\n",
       "    <tr style=\"text-align: right;\">\n",
       "      <th></th>\n",
       "      <th>origin</th>\n",
       "      <th>end</th>\n",
       "      <th>weight</th>\n",
       "      <th>probability</th>\n",
       "      <th>symmetrized</th>\n",
       "    </tr>\n",
       "  </thead>\n",
       "  <tbody>\n",
       "    <tr>\n",
       "      <th>0</th>\n",
       "      <td>0,1-0,1,2,3,4,5,6,7,8,9,10,11,12,13</td>\n",
       "      <td>0,2-1,2,3,4,5,6,7,8,9,10,12,13</td>\n",
       "      <td>1</td>\n",
       "      <td>0</td>\n",
       "      <td>False</td>\n",
       "    </tr>\n",
       "    <tr>\n",
       "      <th>1</th>\n",
       "      <td>0,2-1,2,3,4,5,6,7,8,9,10,12,13</td>\n",
       "      <td>0,1-1,2,3,4,5,6,7,8,9,10,12,13,14</td>\n",
       "      <td>1</td>\n",
       "      <td>0</td>\n",
       "      <td>False</td>\n",
       "    </tr>\n",
       "    <tr>\n",
       "      <th>2</th>\n",
       "      <td>0,1-1,2,3,4,5,6,7,8,9,10,12,13,14</td>\n",
       "      <td>0,1-1,2,3,4,5,6,7,8,9,10,12,13</td>\n",
       "      <td>1</td>\n",
       "      <td>0</td>\n",
       "      <td>False</td>\n",
       "    </tr>\n",
       "    <tr>\n",
       "      <th>3</th>\n",
       "      <td>0,1-1,2,3,4,5,6,7,8,9,10,12,13</td>\n",
       "      <td>0,1-0,1,2,3,4,5,6,7,8,9,11,12,13,15</td>\n",
       "      <td>1</td>\n",
       "      <td>0</td>\n",
       "      <td>False</td>\n",
       "    </tr>\n",
       "    <tr>\n",
       "      <th>4</th>\n",
       "      <td>0,1-0,1,2,3,4,5,6,7,8,9,11,12,13,15</td>\n",
       "      <td>0,1-0,1,3,4,5,6,7,8,9,10,12,13,14</td>\n",
       "      <td>1</td>\n",
       "      <td>0</td>\n",
       "      <td>False</td>\n",
       "    </tr>\n",
       "    <tr>\n",
       "      <th>...</th>\n",
       "      <td>...</td>\n",
       "      <td>...</td>\n",
       "      <td>...</td>\n",
       "      <td>...</td>\n",
       "      <td>...</td>\n",
       "    </tr>\n",
       "    <tr>\n",
       "      <th>925</th>\n",
       "      <td>23-2,7,12,23,27</td>\n",
       "      <td>23-1,2,7,12,17,23,25,27</td>\n",
       "      <td>1</td>\n",
       "      <td>0</td>\n",
       "      <td>False</td>\n",
       "    </tr>\n",
       "    <tr>\n",
       "      <th>926</th>\n",
       "      <td>23-1,2,7,12,17,23,25,27</td>\n",
       "      <td>23-2,7,12,17,23,27</td>\n",
       "      <td>1</td>\n",
       "      <td>0</td>\n",
       "      <td>False</td>\n",
       "    </tr>\n",
       "    <tr>\n",
       "      <th>927</th>\n",
       "      <td>23-2,7,12,17,23,27</td>\n",
       "      <td>23-2,7,12,17,23,24,25,27</td>\n",
       "      <td>1</td>\n",
       "      <td>0</td>\n",
       "      <td>False</td>\n",
       "    </tr>\n",
       "    <tr>\n",
       "      <th>928</th>\n",
       "      <td>23-2,7,12,17,23,24,25,27</td>\n",
       "      <td>-2,7,12,27</td>\n",
       "      <td>1</td>\n",
       "      <td>0</td>\n",
       "      <td>False</td>\n",
       "    </tr>\n",
       "    <tr>\n",
       "      <th>929</th>\n",
       "      <td>-2,7,12,27</td>\n",
       "      <td>23-2,7,12,17,23,27</td>\n",
       "      <td>1</td>\n",
       "      <td>0</td>\n",
       "      <td>False</td>\n",
       "    </tr>\n",
       "  </tbody>\n",
       "</table>\n",
       "<p>930 rows × 5 columns</p>\n",
       "</div>"
      ],
      "text/plain": [
       "                                  origin                                  end  \\\n",
       "0    0,1-0,1,2,3,4,5,6,7,8,9,10,11,12,13       0,2-1,2,3,4,5,6,7,8,9,10,12,13   \n",
       "1         0,2-1,2,3,4,5,6,7,8,9,10,12,13    0,1-1,2,3,4,5,6,7,8,9,10,12,13,14   \n",
       "2      0,1-1,2,3,4,5,6,7,8,9,10,12,13,14       0,1-1,2,3,4,5,6,7,8,9,10,12,13   \n",
       "3         0,1-1,2,3,4,5,6,7,8,9,10,12,13  0,1-0,1,2,3,4,5,6,7,8,9,11,12,13,15   \n",
       "4    0,1-0,1,2,3,4,5,6,7,8,9,11,12,13,15    0,1-0,1,3,4,5,6,7,8,9,10,12,13,14   \n",
       "..                                   ...                                  ...   \n",
       "925                      23-2,7,12,23,27              23-1,2,7,12,17,23,25,27   \n",
       "926              23-1,2,7,12,17,23,25,27                   23-2,7,12,17,23,27   \n",
       "927                   23-2,7,12,17,23,27             23-2,7,12,17,23,24,25,27   \n",
       "928             23-2,7,12,17,23,24,25,27                           -2,7,12,27   \n",
       "929                           -2,7,12,27                   23-2,7,12,17,23,27   \n",
       "\n",
       "    weight probability symmetrized  \n",
       "0        1           0       False  \n",
       "1        1           0       False  \n",
       "2        1           0       False  \n",
       "3        1           0       False  \n",
       "4        1           0       False  \n",
       "..     ...         ...         ...  \n",
       "925      1           0       False  \n",
       "926      1           0       False  \n",
       "927      1           0       False  \n",
       "928      1           0       False  \n",
       "929      1           0       False  \n",
       "\n",
       "[930 rows x 5 columns]"
      ]
     },
     "execution_count": 6,
     "metadata": {},
     "output_type": "execute_result"
    }
   ],
   "source": [
    "net.transitions"
   ]
  },
  {
   "cell_type": "code",
   "execution_count": null,
   "metadata": {},
   "outputs": [],
   "source": [
    "okn.symmetrize(net)"
   ]
  },
  {
   "cell_type": "code",
   "execution_count": null,
   "metadata": {},
   "outputs": [],
   "source": [
    "okn.most_likely(net, target='microstate', selection='all', top=4,\n",
    "                output_names=True, output_free_energies=True)"
   ]
  },
  {
   "cell_type": "code",
   "execution_count": null,
   "metadata": {},
   "outputs": [],
   "source": []
  },
  {
   "cell_type": "code",
   "execution_count": null,
   "metadata": {},
   "outputs": [],
   "source": [
    "okn.select(net, 'microstate_name=\"-2,5,7,11,12,17\"')"
   ]
  },
  {
   "cell_type": "code",
   "execution_count": null,
   "metadata": {},
   "outputs": [],
   "source": []
  }
 ],
 "metadata": {
  "kernelspec": {
   "display_name": "Python 3",
   "language": "python",
   "name": "python3"
  },
  "language_info": {
   "codemirror_mode": {
    "name": "ipython",
    "version": 3
   },
   "file_extension": ".py",
   "mimetype": "text/x-python",
   "name": "python",
   "nbconvert_exporter": "python",
   "pygments_lexer": "ipython3",
   "version": "3.7.7"
  }
 },
 "nbformat": 4,
 "nbformat_minor": 4
}
