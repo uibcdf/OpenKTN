{
 "cells": [
  {
   "cell_type": "code",
   "execution_count": 1,
   "metadata": {},
   "outputs": [],
   "source": [
    "%load_ext autoreload\n",
    "%autoreload 2"
   ]
  },
  {
   "cell_type": "code",
   "execution_count": 2,
   "metadata": {},
   "outputs": [],
   "source": [
    "import openktn as okn"
   ]
  },
  {
   "cell_type": "markdown",
   "metadata": {},
   "source": [
    "# 9 basins 1 D"
   ]
  },
  {
   "cell_type": "code",
   "execution_count": 3,
   "metadata": {},
   "outputs": [
    {
     "name": "stdout",
     "output_type": "stream",
     "text": [
      "# Kinetic Transition Network:\n",
      "203 nodes with microstates\n",
      "4343 edges\n",
      "79999992000.0 weight\n"
     ]
    }
   ],
   "source": [
    "microstates = {}\n",
    "\n",
    "with open('trad_aux.aux', 'r') as f:\n",
    "    for line in f:\n",
    "        fields=line.split()\n",
    "        microstates[float(fields[1])]=int(fields[0])-1\n",
    "\n",
    "net = okn.Network(microstate_names=microstates)\n",
    "\n",
    "with open('net.oup', 'r') as f:\n",
    "    for line in f:\n",
    "        fields=line.split()\n",
    "        origin = int(fields[0])-1\n",
    "        end = int(fields[1])-1\n",
    "        weight = float(fields[2])\n",
    "        net.add_transition(origin, end, weight=weight)\n",
    "        \n",
    "net.update_probabilities()\n",
    "net.info()"
   ]
  },
  {
   "cell_type": "code",
   "execution_count": 4,
   "metadata": {},
   "outputs": [
    {
     "name": "stdout",
     "output_type": "stream",
     "text": [
      "108 0.0 11807318546.0 0.14759149658414966\n",
      "107 -0.1 10723838786.0 0.13404799822979982\n",
      "109 0.1 10723762884.0 0.13404704945470494\n"
     ]
    }
   ],
   "source": [
    "mwns = okn.most_weighted_nodes(net, top=3)\n",
    "\n",
    "for node in mwns:\n",
    "    print(node.index, node.microstate.name, node.weight, node.probability)"
   ]
  },
  {
   "cell_type": "code",
   "execution_count": 5,
   "metadata": {},
   "outputs": [],
   "source": [
    "net.symmetrize()"
   ]
  },
  {
   "cell_type": "code",
   "execution_count": 6,
   "metadata": {},
   "outputs": [
    {
     "name": "stdout",
     "output_type": "stream",
     "text": [
      "108 0.0 11807318547.0 0.14759149659664966\n",
      "107 -0.1 10723838783.5 0.13404799819854982\n",
      "109 0.1 10723762882.5 0.13404704943595494\n"
     ]
    }
   ],
   "source": [
    "mwns = okn.most_weighted_nodes(net, top=3)\n",
    "\n",
    "for node in mwns:\n",
    "    print(node.index, node.microstate.name, node.weight, node.probability)"
   ]
  },
  {
   "cell_type": "code",
   "execution_count": 7,
   "metadata": {},
   "outputs": [
    {
     "name": "stdout",
     "output_type": "stream",
     "text": [
      "108 0.0 11807318547.0 0.14759149659664966\n"
     ]
    }
   ],
   "source": [
    "gm = okn.global_minimum(net)\n",
    "\n",
    "print(gm.index, gm.microstate.name, gm.weight, gm.probability)"
   ]
  },
  {
   "cell_type": "code",
   "execution_count": 8,
   "metadata": {},
   "outputs": [
    {
     "name": "stdout",
     "output_type": "stream",
     "text": [
      "108 0.0 11807318547.0 0.14759149659664966\n",
      "128 2.0 872212077.5 0.010902652059015206\n",
      "88 -2.0 591767778.0 0.0073970979647097965\n",
      "148 4.0 64427071.0 0.0008053384680338468\n",
      "168 6.0 4749411.0 5.936764343676434e-05\n",
      "48 -6.0 1496877.0 1.8710964371096436e-05\n",
      "188 8.0 344214.0 4.302675430267543e-06\n",
      "29 -7.9 74474.0 9.309250930925093e-07\n"
     ]
    }
   ],
   "source": [
    "lms = okn.local_minima(net)\n",
    "\n",
    "for node in lms:\n",
    "    print(node.index, node.microstate.name, node.weight, node.probability)"
   ]
  },
  {
   "cell_type": "code",
   "execution_count": 10,
   "metadata": {},
   "outputs": [],
   "source": [
    "net.update_T_arrays()"
   ]
  },
  {
   "cell_type": "code",
   "execution_count": 13,
   "metadata": {},
   "outputs": [],
   "source": [
    "veo=set([0,1,2,3])"
   ]
  },
  {
   "cell_type": "code",
   "execution_count": 16,
   "metadata": {},
   "outputs": [
    {
     "data": {
      "text/plain": [
       "7"
      ]
     },
     "execution_count": 16,
     "metadata": {},
     "output_type": "execute_result"
    }
   ],
   "source": [
    "len(veo.union(set([4,5,6])))"
   ]
  },
  {
   "cell_type": "code",
   "execution_count": null,
   "metadata": {},
   "outputs": [],
   "source": [
    "net.info()\n",
    "\n",
    "net.symmetrize(new=False)\n",
    "\n",
    "\n",
    "xx=numpy.zeros(shape=net.num_nodes,dtype=float)\n",
    "yy=numpy.zeros(shape=net.num_nodes,dtype=float)\n",
    "\n",
    "for ii in range(net.num_nodes):\n",
    "    xx[ii]=float(net.node[ii].label)\n",
    "    yy[ii]=float(net.node[ii].weight)\n",
    "\n",
    "\n",
    "net.gradient_clusters_2()\n",
    "\n",
    "#xx_yy_cluster=[]\n",
    "# \n",
    "#for ii in range(net.num_clusters):\n",
    "#    palcluster=[]\n",
    "#    for jj in net.cluster[ii].nodes:\n",
    "#        palcluster.append([float(net.node[jj].label),net.node[jj].weight])\n",
    "#    palcluster=numpy.array(palcluster)\n",
    "#    xx_yy_cluster.append(palcluster)\n",
    "\n",
    "net.dento_tiempo()\n",
    "\n",
    "net.dendo_bottom_up()\n"
   ]
  },
  {
   "cell_type": "code",
   "execution_count": null,
   "metadata": {},
   "outputs": [],
   "source": []
  }
 ],
 "metadata": {
  "kernelspec": {
   "display_name": "Python 3",
   "language": "python",
   "name": "python3"
  },
  "language_info": {
   "codemirror_mode": {
    "name": "ipython",
    "version": 3
   },
   "file_extension": ".py",
   "mimetype": "text/x-python",
   "name": "python",
   "nbconvert_exporter": "python",
   "pygments_lexer": "ipython3",
   "version": "3.7.7"
  }
 },
 "nbformat": 4,
 "nbformat_minor": 4
}
