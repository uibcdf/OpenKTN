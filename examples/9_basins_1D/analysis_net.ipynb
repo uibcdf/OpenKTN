{
 "cells": [
  {
   "cell_type": "code",
   "execution_count": 1,
   "metadata": {},
   "outputs": [],
   "source": [
    "%load_ext autoreload\n",
    "%autoreload 2"
   ]
  },
  {
   "cell_type": "code",
   "execution_count": 2,
   "metadata": {},
   "outputs": [],
   "source": [
    "import openkinnet as okn"
   ]
  },
  {
   "cell_type": "markdown",
   "metadata": {},
   "source": [
    "# 9 basins 1 D"
   ]
  },
  {
   "cell_type": "code",
   "execution_count": 15,
   "metadata": {},
   "outputs": [],
   "source": [
    "microstates = {}\n",
    "\n",
    "with open('trad_aux.aux', 'r') as f:\n",
    "    for line in f:\n",
    "        fields=line.split()\n",
    "        microstates[float(fields[1])]=int(fields[0])-1\n",
    "\n",
    "net = okn.Network(microstate_names=microstates)"
   ]
  },
  {
   "cell_type": "code",
   "execution_count": 19,
   "metadata": {},
   "outputs": [
    {
     "data": {
      "text/plain": [
       "<openkinnet.network.Network at 0x7f9474d96490>"
      ]
     },
     "execution_count": 19,
     "metadata": {},
     "output_type": "execute_result"
    }
   ],
   "source": []
  },
  {
   "cell_type": "code",
   "execution_count": null,
   "metadata": {},
   "outputs": [],
   "source": [
    "net = okn.Network(n_nodes=4)"
   ]
  },
  {
   "cell_type": "code",
   "execution_count": null,
   "metadata": {},
   "outputs": [],
   "source": [
    "test = {'patata':0, 'melón':2, 'manzana':1}"
   ]
  },
  {
   "cell_type": "code",
   "execution_count": null,
   "metadata": {},
   "outputs": [],
   "source": [
    "net = okn.Network(microstate_names=test)"
   ]
  },
  {
   "cell_type": "code",
   "execution_count": null,
   "metadata": {},
   "outputs": [],
   "source": [
    "net.info()"
   ]
  },
  {
   "cell_type": "code",
   "execution_count": null,
   "metadata": {},
   "outputs": [],
   "source": [
    "net.weight"
   ]
  },
  {
   "cell_type": "code",
   "execution_count": null,
   "metadata": {},
   "outputs": [],
   "source": [
    "from pynoramix import *\n",
    "import pylab\n",
    "\n",
    "net=network(directed=True, kinetic=True)\n",
    "\n",
    "fff=open('trad_aux.aux','r')\n",
    "for line in fff.readlines():\n",
    "    xx=line.split()\n",
    "    net.add_node(label=xx[1])\n",
    "\n",
    "fff.close()\n",
    "\n",
    "\n",
    "fff=open('net.oup','r')\n",
    "for line in fff.readlines():\n",
    "    xx=line.split()\n",
    "    net.add_link((int(xx[0])-1),(int(xx[1])-1),float(xx[2]),index_origin=True, index_final=True)\n",
    "\n",
    "fff.close()\n",
    "\n",
    "net.symmetrize(new=False)\n",
    "\n",
    "\n",
    "xx=numpy.zeros(shape=net.num_nodes,dtype=float)\n",
    "yy=numpy.zeros(shape=net.num_nodes,dtype=float)\n",
    "\n",
    "for ii in range(net.num_nodes):\n",
    "    xx[ii]=float(net.node[ii].label)\n",
    "    yy[ii]=float(net.node[ii].weight)\n",
    "\n",
    "\n",
    "net.gradient_clusters_2()\n",
    "\n",
    "#xx_yy_cluster=[]\n",
    "# \n",
    "#for ii in range(net.num_clusters):\n",
    "#    palcluster=[]\n",
    "#    for jj in net.cluster[ii].nodes:\n",
    "#        palcluster.append([float(net.node[jj].label),net.node[jj].weight])\n",
    "#    palcluster=numpy.array(palcluster)\n",
    "#    xx_yy_cluster.append(palcluster)\n",
    "\n",
    "net.dento_tiempo()\n",
    "\n",
    "net.dendo_bottom_up()\n"
   ]
  }
 ],
 "metadata": {
  "kernelspec": {
   "display_name": "Python 3",
   "language": "python",
   "name": "python3"
  },
  "language_info": {
   "codemirror_mode": {
    "name": "ipython",
    "version": 3
   },
   "file_extension": ".py",
   "mimetype": "text/x-python",
   "name": "python",
   "nbconvert_exporter": "python",
   "pygments_lexer": "ipython3",
   "version": "3.7.7"
  }
 },
 "nbformat": 4,
 "nbformat_minor": 4
}
