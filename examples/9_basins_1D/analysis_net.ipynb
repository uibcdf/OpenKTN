{
 "cells": [
  {
   "cell_type": "code",
   "execution_count": 1,
   "metadata": {},
   "outputs": [],
   "source": [
    "%load_ext autoreload\n",
    "%autoreload 2"
   ]
  },
  {
   "cell_type": "code",
   "execution_count": 2,
   "metadata": {},
   "outputs": [],
   "source": [
    "import openkinlab as okl"
   ]
  },
  {
   "cell_type": "markdown",
   "metadata": {},
   "source": [
    "# 9 basins 1 D"
   ]
  },
  {
   "cell_type": "code",
   "execution_count": 3,
   "metadata": {},
   "outputs": [],
   "source": [
    "microstates = {}\n",
    "\n",
    "with open('trad_aux.aux', 'r') as f:\n",
    "    for line in f:\n",
    "        fields=line.split()\n",
    "        microstates[float(fields[1])]=int(fields[0])-1\n",
    "\n",
    "net = okl.Network(microstate_names=microstates)"
   ]
  },
  {
   "cell_type": "code",
   "execution_count": 4,
   "metadata": {},
   "outputs": [
    {
     "name": "stdout",
     "output_type": "stream",
     "text": [
      "# OpenKinLab network:\n",
      "203 nodes with microstates\n",
      "0 edges\n",
      "0 weight\n"
     ]
    }
   ],
   "source": [
    "net()"
   ]
  },
  {
   "cell_type": "code",
   "execution_count": 5,
   "metadata": {},
   "outputs": [],
   "source": [
    "with open('net.oup', 'r') as f:\n",
    "    for line in f:\n",
    "        fields=line.split()\n",
    "        origin = int(fields[0])-1\n",
    "        end = int(fields[1])-1\n",
    "        weight = float(fields[2])\n",
    "        net.add_transition(origin, end, weight=weight)"
   ]
  },
  {
   "cell_type": "code",
   "execution_count": 6,
   "metadata": {},
   "outputs": [
    {
     "name": "stdout",
     "output_type": "stream",
     "text": [
      "# OpenKinLab network:\n",
      "203 nodes with microstates\n",
      "4343 edges\n",
      "79999992000.0 weight\n"
     ]
    }
   ],
   "source": [
    "net()"
   ]
  },
  {
   "cell_type": "code",
   "execution_count": 20,
   "metadata": {},
   "outputs": [
    {
     "data": {
      "text/plain": [
       "True"
      ]
     },
     "execution_count": 20,
     "metadata": {},
     "output_type": "execute_result"
    }
   ],
   "source": [
    "net.microstate"
   ]
  },
  {
   "cell_type": "code",
   "execution_count": null,
   "metadata": {},
   "outputs": [],
   "source": [
    "from pynoramix import *\n",
    "import pylab\n",
    "\n",
    "net=network(directed=True, kinetic=True)\n",
    "\n",
    "fff=open('trad_aux.aux','r')\n",
    "for line in fff.readlines():\n",
    "    xx=line.split()\n",
    "    net.add_node(label=xx[1])\n",
    "\n",
    "fff.close()\n",
    "\n",
    "\n",
    "fff=open('net.oup','r')\n",
    "for line in fff.readlines():\n",
    "    xx=line.split()\n",
    "    net.add_link((int(xx[0])-1),(int(xx[1])-1),float(xx[2]),index_origin=True, index_final=True)\n",
    "\n",
    "fff.close()\n",
    "\n",
    "net.symmetrize(new=False)\n",
    "\n",
    "\n",
    "xx=numpy.zeros(shape=net.num_nodes,dtype=float)\n",
    "yy=numpy.zeros(shape=net.num_nodes,dtype=float)\n",
    "\n",
    "for ii in range(net.num_nodes):\n",
    "    xx[ii]=float(net.node[ii].label)\n",
    "    yy[ii]=float(net.node[ii].weight)\n",
    "\n",
    "\n",
    "net.gradient_clusters_2()\n",
    "\n",
    "#xx_yy_cluster=[]\n",
    "# \n",
    "#for ii in range(net.num_clusters):\n",
    "#    palcluster=[]\n",
    "#    for jj in net.cluster[ii].nodes:\n",
    "#        palcluster.append([float(net.node[jj].label),net.node[jj].weight])\n",
    "#    palcluster=numpy.array(palcluster)\n",
    "#    xx_yy_cluster.append(palcluster)\n",
    "\n",
    "net.dento_tiempo()\n",
    "\n",
    "net.dendo_bottom_up()\n"
   ]
  }
 ],
 "metadata": {
  "kernelspec": {
   "display_name": "Python 3",
   "language": "python",
   "name": "python3"
  },
  "language_info": {
   "codemirror_mode": {
    "name": "ipython",
    "version": 3
   },
   "file_extension": ".py",
   "mimetype": "text/x-python",
   "name": "python",
   "nbconvert_exporter": "python",
   "pygments_lexer": "ipython3",
   "version": "3.7.7"
  }
 },
 "nbformat": 4,
 "nbformat_minor": 4
}
