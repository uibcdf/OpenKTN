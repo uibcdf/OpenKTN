{
 "cells": [
  {
   "cell_type": "code",
   "execution_count": 1,
   "metadata": {},
   "outputs": [],
   "source": [
    "%load_ext autoreload\n",
    "%autoreload 2"
   ]
  },
  {
   "cell_type": "code",
   "execution_count": 2,
   "metadata": {},
   "outputs": [],
   "source": [
    "import openktn as okn\n",
    "import simtk.unit as unit"
   ]
  },
  {
   "cell_type": "code",
   "execution_count": 3,
   "metadata": {},
   "outputs": [],
   "source": [
    "net = okn.kinetic_transition_network(time_step=10.0*unit.picoseconds, temperature=300.0*unit.kelvin)"
   ]
  },
  {
   "cell_type": "code",
   "execution_count": 4,
   "metadata": {},
   "outputs": [],
   "source": [
    "fff = open('DNMT/traj_pose1.txt','r')\n",
    "mss_1 = fff.readline()[:-1]\n",
    "for line in fff:\n",
    "    mss_2 = line[:-1]\n",
    "    okn.add_transition(net, mss_1, mss_2)\n",
    "    mss_1 = mss_2\n",
    "fff.close()"
   ]
  },
  {
   "cell_type": "code",
   "execution_count": 5,
   "metadata": {},
   "outputs": [],
   "source": [
    "okn.update_weights(net)"
   ]
  },
  {
   "cell_type": "code",
   "execution_count": 6,
   "metadata": {},
   "outputs": [],
   "source": [
    "okn.update_probabilities(net)"
   ]
  },
  {
   "cell_type": "code",
   "execution_count": 7,
   "metadata": {},
   "outputs": [],
   "source": [
    "okn.symmetrize(net)"
   ]
  },
  {
   "cell_type": "code",
   "execution_count": 8,
   "metadata": {},
   "outputs": [
    {
     "data": {
      "text/html": [
       "<style  type=\"text/css\" >\n",
       "</style><table id=\"T_d9d39744_1803_11eb_b3ec_2d87b8906fb8\" ><thead>    <tr>        <th class=\"col_heading level0 col0\" >form</th>        <th class=\"col_heading level0 col1\" >n_microstates</th>        <th class=\"col_heading level0 col2\" >n_transitions</th>        <th class=\"col_heading level0 col3\" >weight</th>        <th class=\"col_heading level0 col4\" >symmetrized</th>        <th class=\"col_heading level0 col5\" >temperature</th>        <th class=\"col_heading level0 col6\" >time_step</th>    </tr></thead><tbody>\n",
       "                <tr>\n",
       "                                <td id=\"T_d9d39744_1803_11eb_b3ec_2d87b8906fb8row0_col0\" class=\"data row0 col0\" >networkx.DiGraph</td>\n",
       "                        <td id=\"T_d9d39744_1803_11eb_b3ec_2d87b8906fb8row0_col1\" class=\"data row0 col1\" >602</td>\n",
       "                        <td id=\"T_d9d39744_1803_11eb_b3ec_2d87b8906fb8row0_col2\" class=\"data row0 col2\" >1686</td>\n",
       "                        <td id=\"T_d9d39744_1803_11eb_b3ec_2d87b8906fb8row0_col3\" class=\"data row0 col3\" >998.000000</td>\n",
       "                        <td id=\"T_d9d39744_1803_11eb_b3ec_2d87b8906fb8row0_col4\" class=\"data row0 col4\" >True</td>\n",
       "                        <td id=\"T_d9d39744_1803_11eb_b3ec_2d87b8906fb8row0_col5\" class=\"data row0 col5\" >300.0 K</td>\n",
       "                        <td id=\"T_d9d39744_1803_11eb_b3ec_2d87b8906fb8row0_col6\" class=\"data row0 col6\" >0.01 ns</td>\n",
       "            </tr>\n",
       "    </tbody></table>"
      ],
      "text/plain": [
       "<pandas.io.formats.style.Styler at 0x7f85100102d0>"
      ]
     },
     "execution_count": 8,
     "metadata": {},
     "output_type": "execute_result"
    }
   ],
   "source": [
    "okn.info(net)"
   ]
  },
  {
   "cell_type": "code",
   "execution_count": 10,
   "metadata": {},
   "outputs": [
    {
     "ename": "AttributeError",
     "evalue": "module 'openktn' has no attribute 'global_minimum'",
     "output_type": "error",
     "traceback": [
      "\u001b[0;31m---------------------------------------------------------------------------\u001b[0m",
      "\u001b[0;31mAttributeError\u001b[0m                            Traceback (most recent call last)",
      "\u001b[0;32m<ipython-input-10-b477c6c639fc>\u001b[0m in \u001b[0;36m<module>\u001b[0;34m()\u001b[0m\n\u001b[0;32m----> 1\u001b[0;31m \u001b[0mokn\u001b[0m\u001b[0;34m.\u001b[0m\u001b[0mglobal_minimum\u001b[0m\u001b[0;34m(\u001b[0m\u001b[0mnet\u001b[0m\u001b[0;34m)\u001b[0m\u001b[0;34m\u001b[0m\u001b[0;34m\u001b[0m\u001b[0m\n\u001b[0m",
      "\u001b[0;31mAttributeError\u001b[0m: module 'openktn' has no attribute 'global_minimum'"
     ]
    }
   ],
   "source": [
    "okn.global_minimum(net)"
   ]
  },
  {
   "cell_type": "code",
   "execution_count": null,
   "metadata": {},
   "outputs": [],
   "source": []
  }
 ],
 "metadata": {
  "kernelspec": {
   "display_name": "Python 3",
   "language": "python",
   "name": "python3"
  },
  "language_info": {
   "codemirror_mode": {
    "name": "ipython",
    "version": 3
   },
   "file_extension": ".py",
   "mimetype": "text/x-python",
   "name": "python",
   "nbconvert_exporter": "python",
   "pygments_lexer": "ipython3",
   "version": "3.7.8"
  }
 },
 "nbformat": 4,
 "nbformat_minor": 4
}
